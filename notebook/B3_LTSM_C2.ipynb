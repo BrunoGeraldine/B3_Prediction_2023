{
 "cells": [
  {
   "cell_type": "markdown",
   "metadata": {
    "colab_type": "text",
    "id": "view-in-github"
   },
   "source": [
    "<a href=\"https://colab.research.google.com/github/BrunoGeraldine/B3_Prediction_2023/blob/main/notebook/B3_LTSM.ipynb\" target=\"_parent\"><img src=\"https://colab.research.google.com/assets/colab-badge.svg\" alt=\"Open In Colab\"/></a>"
   ]
  },
  {
   "cell_type": "markdown",
   "metadata": {
    "id": "8vAZVsZuOLq2"
   },
   "source": [
    "# B3_Prediction_2023 → LTSM"
   ]
  },
  {
   "cell_type": "markdown",
   "metadata": {
    "id": "Zy5GB3Kub3Kb"
   },
   "source": [
    "## Bibliotecas e help functions"
   ]
  },
  {
   "cell_type": "code",
   "execution_count": 2,
   "metadata": {
    "ExecuteTime": {
     "end_time": "2023-05-08T19:10:25.949921Z",
     "start_time": "2023-05-08T19:10:25.944963Z"
    },
    "id": "rGD3jecvXOw9"
   },
   "outputs": [],
   "source": [
    "# Import\n",
    "import sidetable\n",
    "import numpy                 as np\n",
    "import pandas                as pd\n",
    "import seaborn               as sns\n",
    "import matplotlib.pyplot     as plt\n",
    "\n",
    "from tensorflow.keras.models import Sequential\n",
    "from sklearn.preprocessing   import StandardScaler\n",
    "from sklearn.model_selection import train_test_split\n",
    "from tensorflow.keras.layers import Dense, LSTM, Dropout\n"
   ]
  },
  {
   "cell_type": "code",
   "execution_count": 3,
   "metadata": {
    "ExecuteTime": {
     "end_time": "2023-05-08T19:10:27.446894Z",
     "start_time": "2023-05-08T19:10:27.442090Z"
    },
    "id": "Mcndf3xscIW-"
   },
   "outputs": [],
   "source": [
    "## Help Functions\n",
    "\n",
    "# Supress scientific Notation\n",
    "np.set_printoptions(suppress=True)\n",
    "pd.set_option('display.float_format', lambda x: '%.2f' % x)"
   ]
  },
  {
   "cell_type": "markdown",
   "metadata": {
    "id": "D-A8ZuT2fa29"
   },
   "source": [
    "# Read data"
   ]
  },
  {
   "cell_type": "code",
   "execution_count": 4,
   "metadata": {
    "ExecuteTime": {
     "end_time": "2023-05-08T19:10:28.936980Z",
     "start_time": "2023-05-08T19:10:28.763898Z"
    },
    "id": "WsNBm6asbQ2g"
   },
   "outputs": [],
   "source": [
    "df = pd.read_parquet('/home/bruno/repos/B3_Prediction_2023/dataset/all_bovespa_18_23.parquet')"
   ]
  },
  {
   "cell_type": "code",
   "execution_count": 5,
   "metadata": {
    "ExecuteTime": {
     "end_time": "2023-05-08T19:10:29.244496Z",
     "start_time": "2023-05-08T19:10:29.221779Z"
    },
    "id": "UBXL4dNTbQ5g"
   },
   "outputs": [
    {
     "data": {
      "text/html": [
       "<div>\n",
       "<style scoped>\n",
       "    .dataframe tbody tr th:only-of-type {\n",
       "        vertical-align: middle;\n",
       "    }\n",
       "\n",
       "    .dataframe tbody tr th {\n",
       "        vertical-align: top;\n",
       "    }\n",
       "\n",
       "    .dataframe thead th {\n",
       "        text-align: right;\n",
       "    }\n",
       "</style>\n",
       "<table border=\"1\" class=\"dataframe\">\n",
       "  <thead>\n",
       "    <tr style=\"text-align: right;\">\n",
       "      <th></th>\n",
       "      <th>data_pregao</th>\n",
       "      <th>sigla_acao</th>\n",
       "      <th>nome_acao</th>\n",
       "      <th>preco_abert</th>\n",
       "      <th>preco_max</th>\n",
       "      <th>preco_min</th>\n",
       "      <th>preco_fech</th>\n",
       "      <th>qtd_negocios</th>\n",
       "      <th>vol_negocios</th>\n",
       "    </tr>\n",
       "  </thead>\n",
       "  <tbody>\n",
       "    <tr>\n",
       "      <th>0</th>\n",
       "      <td>2018-01-02</td>\n",
       "      <td>AALR3</td>\n",
       "      <td>ALLIAR</td>\n",
       "      <td>14.94</td>\n",
       "      <td>15.16</td>\n",
       "      <td>14.70</td>\n",
       "      <td>14.89</td>\n",
       "      <td>94500.00</td>\n",
       "      <td>140299100.00</td>\n",
       "    </tr>\n",
       "    <tr>\n",
       "      <th>1</th>\n",
       "      <td>2018-01-02</td>\n",
       "      <td>AAPL34</td>\n",
       "      <td>APPLE</td>\n",
       "      <td>56.81</td>\n",
       "      <td>56.81</td>\n",
       "      <td>56.30</td>\n",
       "      <td>56.30</td>\n",
       "      <td>900.00</td>\n",
       "      <td>5074700.00</td>\n",
       "    </tr>\n",
       "    <tr>\n",
       "      <th>2</th>\n",
       "      <td>2018-01-02</td>\n",
       "      <td>ABCB4</td>\n",
       "      <td>ABC BRASIL</td>\n",
       "      <td>16.83</td>\n",
       "      <td>16.85</td>\n",
       "      <td>16.56</td>\n",
       "      <td>16.58</td>\n",
       "      <td>326300.00</td>\n",
       "      <td>543316000.00</td>\n",
       "    </tr>\n",
       "    <tr>\n",
       "      <th>3</th>\n",
       "      <td>2018-01-02</td>\n",
       "      <td>ABEV3</td>\n",
       "      <td>AMBEV S/A</td>\n",
       "      <td>21.33</td>\n",
       "      <td>21.75</td>\n",
       "      <td>21.17</td>\n",
       "      <td>21.69</td>\n",
       "      <td>12717900.00</td>\n",
       "      <td>27481342800.00</td>\n",
       "    </tr>\n",
       "    <tr>\n",
       "      <th>4</th>\n",
       "      <td>2018-01-02</td>\n",
       "      <td>ADHM3</td>\n",
       "      <td>ADVANCED-DH</td>\n",
       "      <td>2.00</td>\n",
       "      <td>2.00</td>\n",
       "      <td>1.98</td>\n",
       "      <td>1.99</td>\n",
       "      <td>4600.00</td>\n",
       "      <td>917600.00</td>\n",
       "    </tr>\n",
       "  </tbody>\n",
       "</table>\n",
       "</div>"
      ],
      "text/plain": [
       "  data_pregao sigla_acao    nome_acao  preco_abert  preco_max  preco_min   \n",
       "0  2018-01-02      AALR3       ALLIAR        14.94      15.16      14.70  \\\n",
       "1  2018-01-02     AAPL34        APPLE        56.81      56.81      56.30   \n",
       "2  2018-01-02      ABCB4   ABC BRASIL        16.83      16.85      16.56   \n",
       "3  2018-01-02      ABEV3    AMBEV S/A        21.33      21.75      21.17   \n",
       "4  2018-01-02      ADHM3  ADVANCED-DH         2.00       2.00       1.98   \n",
       "\n",
       "   preco_fech  qtd_negocios   vol_negocios  \n",
       "0       14.89      94500.00   140299100.00  \n",
       "1       56.30        900.00     5074700.00  \n",
       "2       16.58     326300.00   543316000.00  \n",
       "3       21.69   12717900.00 27481342800.00  \n",
       "4        1.99       4600.00      917600.00  "
      ]
     },
     "execution_count": 5,
     "metadata": {},
     "output_type": "execute_result"
    }
   ],
   "source": [
    "df.head()"
   ]
  },
  {
   "cell_type": "markdown",
   "metadata": {
    "id": "ZGtMu7bJfiQ-"
   },
   "source": [
    "# Action_Filter"
   ]
  },
  {
   "cell_type": "code",
   "execution_count": 6,
   "metadata": {
    "ExecuteTime": {
     "end_time": "2023-05-08T19:10:30.295973Z",
     "start_time": "2023-05-08T19:10:30.273136Z"
    },
    "id": "3lDwmNJVc3ss"
   },
   "outputs": [],
   "source": [
    "df_acao = df.copy()"
   ]
  },
  {
   "cell_type": "code",
   "execution_count": 7,
   "metadata": {
    "ExecuteTime": {
     "end_time": "2023-05-08T19:10:30.980277Z",
     "start_time": "2023-05-08T19:10:30.889294Z"
    },
    "id": "SH-iYQMkc37v"
   },
   "outputs": [],
   "source": [
    "sigla = 'PETR4'\n",
    "df_acao = df[df['sigla_acao'] == sigla ]"
   ]
  },
  {
   "cell_type": "code",
   "execution_count": 8,
   "metadata": {
    "ExecuteTime": {
     "end_time": "2023-05-08T19:10:31.315966Z",
     "start_time": "2023-05-08T19:10:31.301811Z"
    },
    "id": "cSaJPzbMdatr"
   },
   "outputs": [
    {
     "data": {
      "text/html": [
       "<div>\n",
       "<style scoped>\n",
       "    .dataframe tbody tr th:only-of-type {\n",
       "        vertical-align: middle;\n",
       "    }\n",
       "\n",
       "    .dataframe tbody tr th {\n",
       "        vertical-align: top;\n",
       "    }\n",
       "\n",
       "    .dataframe thead th {\n",
       "        text-align: right;\n",
       "    }\n",
       "</style>\n",
       "<table border=\"1\" class=\"dataframe\">\n",
       "  <thead>\n",
       "    <tr style=\"text-align: right;\">\n",
       "      <th></th>\n",
       "      <th>data_pregao</th>\n",
       "      <th>sigla_acao</th>\n",
       "      <th>nome_acao</th>\n",
       "      <th>preco_abert</th>\n",
       "      <th>preco_max</th>\n",
       "      <th>preco_min</th>\n",
       "      <th>preco_fech</th>\n",
       "      <th>qtd_negocios</th>\n",
       "      <th>vol_negocios</th>\n",
       "    </tr>\n",
       "  </thead>\n",
       "  <tbody>\n",
       "    <tr>\n",
       "      <th>229</th>\n",
       "      <td>2018-01-02</td>\n",
       "      <td>PETR4</td>\n",
       "      <td>PETROBRAS</td>\n",
       "      <td>16.19</td>\n",
       "      <td>16.55</td>\n",
       "      <td>16.19</td>\n",
       "      <td>16.55</td>\n",
       "      <td>33461800.00</td>\n",
       "      <td>54962814900.00</td>\n",
       "    </tr>\n",
       "    <tr>\n",
       "      <th>595</th>\n",
       "      <td>2018-01-03</td>\n",
       "      <td>PETR4</td>\n",
       "      <td>PETROBRAS</td>\n",
       "      <td>16.49</td>\n",
       "      <td>16.72</td>\n",
       "      <td>16.37</td>\n",
       "      <td>16.70</td>\n",
       "      <td>55940900.00</td>\n",
       "      <td>92761001600.00</td>\n",
       "    </tr>\n",
       "    <tr>\n",
       "      <th>1002</th>\n",
       "      <td>2018-01-04</td>\n",
       "      <td>PETR4</td>\n",
       "      <td>PETROBRAS</td>\n",
       "      <td>16.78</td>\n",
       "      <td>16.96</td>\n",
       "      <td>16.62</td>\n",
       "      <td>16.73</td>\n",
       "      <td>37064900.00</td>\n",
       "      <td>62409986400.00</td>\n",
       "    </tr>\n",
       "    <tr>\n",
       "      <th>1407</th>\n",
       "      <td>2018-01-05</td>\n",
       "      <td>PETR4</td>\n",
       "      <td>PETROBRAS</td>\n",
       "      <td>16.70</td>\n",
       "      <td>16.86</td>\n",
       "      <td>16.57</td>\n",
       "      <td>16.83</td>\n",
       "      <td>26958200.00</td>\n",
       "      <td>45200759800.00</td>\n",
       "    </tr>\n",
       "    <tr>\n",
       "      <th>1805</th>\n",
       "      <td>2018-01-08</td>\n",
       "      <td>PETR4</td>\n",
       "      <td>PETROBRAS</td>\n",
       "      <td>16.74</td>\n",
       "      <td>17.03</td>\n",
       "      <td>16.71</td>\n",
       "      <td>17.03</td>\n",
       "      <td>28400000.00</td>\n",
       "      <td>48057591400.00</td>\n",
       "    </tr>\n",
       "    <tr>\n",
       "      <th>...</th>\n",
       "      <td>...</td>\n",
       "      <td>...</td>\n",
       "      <td>...</td>\n",
       "      <td>...</td>\n",
       "      <td>...</td>\n",
       "      <td>...</td>\n",
       "      <td>...</td>\n",
       "      <td>...</td>\n",
       "      <td>...</td>\n",
       "    </tr>\n",
       "    <tr>\n",
       "      <th>524526</th>\n",
       "      <td>2023-04-28</td>\n",
       "      <td>PETR4</td>\n",
       "      <td>PETROBRAS</td>\n",
       "      <td>23.60</td>\n",
       "      <td>24.05</td>\n",
       "      <td>23.15</td>\n",
       "      <td>23.70</td>\n",
       "      <td>81138500.00</td>\n",
       "      <td>191864713300.00</td>\n",
       "    </tr>\n",
       "    <tr>\n",
       "      <th>524681</th>\n",
       "      <td>2023-05-02</td>\n",
       "      <td>PETR4</td>\n",
       "      <td>PETROBRAS</td>\n",
       "      <td>23.70</td>\n",
       "      <td>23.74</td>\n",
       "      <td>22.64</td>\n",
       "      <td>22.74</td>\n",
       "      <td>67911100.00</td>\n",
       "      <td>155726474500.00</td>\n",
       "    </tr>\n",
       "    <tr>\n",
       "      <th>524975</th>\n",
       "      <td>2023-05-03</td>\n",
       "      <td>PETR4</td>\n",
       "      <td>PETROBRAS</td>\n",
       "      <td>22.60</td>\n",
       "      <td>22.99</td>\n",
       "      <td>22.42</td>\n",
       "      <td>22.66</td>\n",
       "      <td>51133700.00</td>\n",
       "      <td>116212793500.00</td>\n",
       "    </tr>\n",
       "    <tr>\n",
       "      <th>525545</th>\n",
       "      <td>2023-05-04</td>\n",
       "      <td>PETR4</td>\n",
       "      <td>PETROBRAS</td>\n",
       "      <td>22.89</td>\n",
       "      <td>23.38</td>\n",
       "      <td>22.61</td>\n",
       "      <td>23.02</td>\n",
       "      <td>57854400.00</td>\n",
       "      <td>133065093100.00</td>\n",
       "    </tr>\n",
       "    <tr>\n",
       "      <th>525596</th>\n",
       "      <td>2023-05-05</td>\n",
       "      <td>PETR4</td>\n",
       "      <td>PETROBRAS</td>\n",
       "      <td>23.30</td>\n",
       "      <td>24.17</td>\n",
       "      <td>23.18</td>\n",
       "      <td>24.00</td>\n",
       "      <td>83365200.00</td>\n",
       "      <td>198033926700.00</td>\n",
       "    </tr>\n",
       "  </tbody>\n",
       "</table>\n",
       "<p>1074 rows × 9 columns</p>\n",
       "</div>"
      ],
      "text/plain": [
       "       data_pregao sigla_acao  nome_acao  preco_abert  preco_max  preco_min   \n",
       "229     2018-01-02      PETR4  PETROBRAS        16.19      16.55      16.19  \\\n",
       "595     2018-01-03      PETR4  PETROBRAS        16.49      16.72      16.37   \n",
       "1002    2018-01-04      PETR4  PETROBRAS        16.78      16.96      16.62   \n",
       "1407    2018-01-05      PETR4  PETROBRAS        16.70      16.86      16.57   \n",
       "1805    2018-01-08      PETR4  PETROBRAS        16.74      17.03      16.71   \n",
       "...            ...        ...        ...          ...        ...        ...   \n",
       "524526  2023-04-28      PETR4  PETROBRAS        23.60      24.05      23.15   \n",
       "524681  2023-05-02      PETR4  PETROBRAS        23.70      23.74      22.64   \n",
       "524975  2023-05-03      PETR4  PETROBRAS        22.60      22.99      22.42   \n",
       "525545  2023-05-04      PETR4  PETROBRAS        22.89      23.38      22.61   \n",
       "525596  2023-05-05      PETR4  PETROBRAS        23.30      24.17      23.18   \n",
       "\n",
       "        preco_fech  qtd_negocios    vol_negocios  \n",
       "229          16.55   33461800.00  54962814900.00  \n",
       "595          16.70   55940900.00  92761001600.00  \n",
       "1002         16.73   37064900.00  62409986400.00  \n",
       "1407         16.83   26958200.00  45200759800.00  \n",
       "1805         17.03   28400000.00  48057591400.00  \n",
       "...            ...           ...             ...  \n",
       "524526       23.70   81138500.00 191864713300.00  \n",
       "524681       22.74   67911100.00 155726474500.00  \n",
       "524975       22.66   51133700.00 116212793500.00  \n",
       "525545       23.02   57854400.00 133065093100.00  \n",
       "525596       24.00   83365200.00 198033926700.00  \n",
       "\n",
       "[1074 rows x 9 columns]"
      ]
     },
     "execution_count": 8,
     "metadata": {},
     "output_type": "execute_result"
    }
   ],
   "source": [
    "df_acao"
   ]
  },
  {
   "cell_type": "code",
   "execution_count": 9,
   "metadata": {
    "ExecuteTime": {
     "end_time": "2023-05-08T19:10:31.795653Z",
     "start_time": "2023-05-08T19:10:31.789405Z"
    },
    "id": "Oj2qkc2Vdxbo"
   },
   "outputs": [],
   "source": [
    "# Selecionando os campos que vamos análisar\n",
    "df_acao_fech = df_acao[['data_pregao', 'preco_fech']]\n"
   ]
  },
  {
   "cell_type": "code",
   "execution_count": 10,
   "metadata": {
    "ExecuteTime": {
     "end_time": "2023-05-08T19:10:32.236025Z",
     "start_time": "2023-05-08T19:10:32.230857Z"
    },
    "id": "O2qqb5xUeWHm"
   },
   "outputs": [],
   "source": [
    "# Ajustando o indice pela data\n",
    "df_acao_fech = df_acao_fech.set_index(pd.DatetimeIndex(df_acao_fech['data_pregao'].values))"
   ]
  },
  {
   "cell_type": "code",
   "execution_count": 11,
   "metadata": {
    "ExecuteTime": {
     "end_time": "2023-05-08T19:10:32.951483Z",
     "start_time": "2023-05-08T19:10:32.946309Z"
    },
    "id": "wE1ZPC21eWKK"
   },
   "outputs": [],
   "source": [
    "# Eliminano a coluna 'data_pregao'\n",
    "\n",
    "df_acao_fech.drop(columns=['data_pregao'], inplace=True)"
   ]
  },
  {
   "cell_type": "markdown",
   "metadata": {
    "id": "QtYzLGvXg6Yc"
   },
   "source": [
    "# EDA → Action"
   ]
  },
  {
   "cell_type": "markdown",
   "metadata": {
    "id": "V5UbytIaf7lG"
   },
   "source": [
    "## Verificar quantidade de linhas"
   ]
  },
  {
   "cell_type": "code",
   "execution_count": 12,
   "metadata": {
    "ExecuteTime": {
     "end_time": "2023-05-08T19:10:38.645494Z",
     "start_time": "2023-05-08T19:10:38.641193Z"
    },
    "id": "MXJYit5xjhAN"
   },
   "outputs": [
    {
     "name": "stdout",
     "output_type": "stream",
     "text": [
      "Number of Rows: 1074\n",
      "Number of Columns: 1\n"
     ]
    }
   ],
   "source": [
    "print( f'Number of Rows: {df_acao_fech.shape[0]}' )\n",
    "print( f'Number of Columns: {df_acao_fech.shape[1]}' ) "
   ]
  },
  {
   "cell_type": "markdown",
   "metadata": {
    "id": "_9QGN1hakEBR"
   },
   "source": [
    "## Data types"
   ]
  },
  {
   "cell_type": "code",
   "execution_count": 19,
   "metadata": {
    "ExecuteTime": {
     "end_time": "2023-05-08T19:04:02.675550Z",
     "start_time": "2023-05-08T19:04:02.669008Z"
    },
    "cell_style": "split",
    "id": "MR6ickhykDE-"
   },
   "outputs": [
    {
     "data": {
      "text/plain": [
       "preco_fech    float64\n",
       "dtype: object"
      ]
     },
     "execution_count": 19,
     "metadata": {},
     "output_type": "execute_result"
    }
   ],
   "source": [
    "df_acao_fech.dtypes"
   ]
  },
  {
   "cell_type": "code",
   "execution_count": 13,
   "metadata": {
    "ExecuteTime": {
     "end_time": "2023-05-08T19:11:13.133493Z",
     "start_time": "2023-05-08T19:11:13.124220Z"
    },
    "cell_style": "split"
   },
   "outputs": [
    {
     "data": {
      "text/plain": [
       "data_pregao     datetime64[ns]\n",
       "sigla_acao              object\n",
       "nome_acao               object\n",
       "preco_abert            float64\n",
       "preco_max              float64\n",
       "preco_min              float64\n",
       "preco_fech             float64\n",
       "qtd_negocios           float64\n",
       "vol_negocios           float64\n",
       "dtype: object"
      ]
     },
     "execution_count": 13,
     "metadata": {},
     "output_type": "execute_result"
    }
   ],
   "source": [
    "df_acao.dtypes"
   ]
  },
  {
   "cell_type": "markdown",
   "metadata": {
    "id": "NLpm1XP0kO7Z"
   },
   "source": [
    "## Check NA"
   ]
  },
  {
   "cell_type": "code",
   "execution_count": 14,
   "metadata": {
    "ExecuteTime": {
     "end_time": "2023-05-08T19:11:17.634174Z",
     "start_time": "2023-05-08T19:11:17.614476Z"
    },
    "id": "uLxc0yyAkDQu"
   },
   "outputs": [
    {
     "data": {
      "text/html": [
       "<div>\n",
       "<style scoped>\n",
       "    .dataframe tbody tr th:only-of-type {\n",
       "        vertical-align: middle;\n",
       "    }\n",
       "\n",
       "    .dataframe tbody tr th {\n",
       "        vertical-align: top;\n",
       "    }\n",
       "\n",
       "    .dataframe thead th {\n",
       "        text-align: right;\n",
       "    }\n",
       "</style>\n",
       "<table border=\"1\" class=\"dataframe\">\n",
       "  <thead>\n",
       "    <tr style=\"text-align: right;\">\n",
       "      <th></th>\n",
       "      <th>missing</th>\n",
       "      <th>total</th>\n",
       "      <th>percent</th>\n",
       "    </tr>\n",
       "  </thead>\n",
       "  <tbody>\n",
       "    <tr>\n",
       "      <th>preco_fech</th>\n",
       "      <td>0</td>\n",
       "      <td>1074</td>\n",
       "      <td>0.00</td>\n",
       "    </tr>\n",
       "  </tbody>\n",
       "</table>\n",
       "</div>"
      ],
      "text/plain": [
       "            missing  total  percent\n",
       "preco_fech        0   1074     0.00"
      ]
     },
     "execution_count": 14,
     "metadata": {},
     "output_type": "execute_result"
    }
   ],
   "source": [
    "df_acao_fech.stb.missing()"
   ]
  },
  {
   "cell_type": "markdown",
   "metadata": {
    "id": "Xc369oGokndg"
   },
   "source": [
    "## Data description"
   ]
  },
  {
   "cell_type": "code",
   "execution_count": 15,
   "metadata": {
    "ExecuteTime": {
     "end_time": "2023-05-08T19:11:19.046429Z",
     "start_time": "2023-05-08T19:11:19.030788Z"
    },
    "id": "Zuwlhl5Rkm5c"
   },
   "outputs": [
    {
     "data": {
      "text/html": [
       "<div>\n",
       "<style scoped>\n",
       "    .dataframe tbody tr th:only-of-type {\n",
       "        vertical-align: middle;\n",
       "    }\n",
       "\n",
       "    .dataframe tbody tr th {\n",
       "        vertical-align: top;\n",
       "    }\n",
       "\n",
       "    .dataframe thead th {\n",
       "        text-align: right;\n",
       "    }\n",
       "</style>\n",
       "<table border=\"1\" class=\"dataframe\">\n",
       "  <thead>\n",
       "    <tr style=\"text-align: right;\">\n",
       "      <th></th>\n",
       "      <th>preco_fech</th>\n",
       "    </tr>\n",
       "  </thead>\n",
       "  <tbody>\n",
       "    <tr>\n",
       "      <th>count</th>\n",
       "      <td>1074.00</td>\n",
       "    </tr>\n",
       "    <tr>\n",
       "      <th>mean</th>\n",
       "      <td>24.41</td>\n",
       "    </tr>\n",
       "    <tr>\n",
       "      <th>std</th>\n",
       "      <td>4.01</td>\n",
       "    </tr>\n",
       "    <tr>\n",
       "      <th>min</th>\n",
       "      <td>11.29</td>\n",
       "    </tr>\n",
       "    <tr>\n",
       "      <th>25%</th>\n",
       "      <td>21.68</td>\n",
       "    </tr>\n",
       "    <tr>\n",
       "      <th>50%</th>\n",
       "      <td>25.45</td>\n",
       "    </tr>\n",
       "    <tr>\n",
       "      <th>75%</th>\n",
       "      <td>27.45</td>\n",
       "    </tr>\n",
       "    <tr>\n",
       "      <th>max</th>\n",
       "      <td>31.12</td>\n",
       "    </tr>\n",
       "  </tbody>\n",
       "</table>\n",
       "</div>"
      ],
      "text/plain": [
       "       preco_fech\n",
       "count     1074.00\n",
       "mean        24.41\n",
       "std          4.01\n",
       "min         11.29\n",
       "25%         21.68\n",
       "50%         25.45\n",
       "75%         27.45\n",
       "max         31.12"
      ]
     },
     "execution_count": 15,
     "metadata": {},
     "output_type": "execute_result"
    }
   ],
   "source": [
    "df_acao_fech.describe()"
   ]
  },
  {
   "cell_type": "markdown",
   "metadata": {
    "id": "9XPXPZ7_kwoN"
   },
   "source": [
    "## Grafico dos valores de fechamento"
   ]
  },
  {
   "cell_type": "code",
   "execution_count": 16,
   "metadata": {
    "ExecuteTime": {
     "end_time": "2023-05-08T19:11:20.471907Z",
     "start_time": "2023-05-08T19:11:20.006297Z"
    },
    "id": "XnKfPU8Qdxhz"
   },
   "outputs": [
    {
     "data": {
      "image/png": "[encoded data removed]",
      "text/plain": [
       "<Figure size 2500x800 with 1 Axes>"
      ]
     },
     "metadata": {},
     "output_type": "display_data"
    }
   ],
   "source": [
    "# Plotando o comportamento da ação ao longo do periodo 2019 > 2023\n",
    "\n",
    "plt.figure(figsize=(25,8))\n",
    "plt.title('Preco de fechamento 2018 à 2023')\n",
    "plt.plot(df_acao_fech['preco_fech'], color='darkslateblue' )\n",
    "plt.xlabel('data');\n"
   ]
  },
  {
   "cell_type": "markdown",
   "metadata": {
    "id": "-JCEpj7LgKPI"
   },
   "source": [
    "# Train_Test_Split"
   ]
  },
  {
   "cell_type": "code",
   "execution_count": 17,
   "metadata": {
    "ExecuteTime": {
     "end_time": "2023-05-08T19:11:23.148868Z",
     "start_time": "2023-05-08T19:11:23.142193Z"
    },
    "id": "Pqlpz5B0Wqcg"
   },
   "outputs": [
    {
     "data": {
      "text/plain": [
       "'Linhas de treino = 0:752, linhas de teste = 752:1074'"
      ]
     },
     "execution_count": 17,
     "metadata": {},
     "output_type": "execute_result"
    }
   ],
   "source": [
    "# coletando a quantidade de linhas\n",
    "qtd_linhas = len(df_acao_fech)\n",
    "\n",
    "qtd_linhas_treino =round(.70 * qtd_linhas)\n",
    "\n",
    "qtd_linhas_test = qtd_linhas - qtd_linhas_treino\n",
    "\n",
    "info = (\n",
    "    f'Linhas de treino = 0:{qtd_linhas_treino}, '\n",
    "    f'linhas de teste = {qtd_linhas_treino}:{qtd_linhas_treino+qtd_linhas_test}'\n",
    ")\n",
    "\n",
    "info"
   ]
  },
  {
   "cell_type": "markdown",
   "metadata": {
    "id": "Ramh6-zLnIlx"
   },
   "source": [
    "# Data Modeling"
   ]
  },
  {
   "cell_type": "code",
   "execution_count": 18,
   "metadata": {
    "ExecuteTime": {
     "end_time": "2023-05-08T19:11:24.774258Z",
     "start_time": "2023-05-08T19:11:24.765889Z"
    },
    "id": "ON6xEWJallp0"
   },
   "outputs": [],
   "source": [
    "# Normalização dos dados\n",
    "\n",
    "scaler = StandardScaler()\n",
    "df_scaled = scaler.fit_transform(df_acao_fech)"
   ]
  },
  {
   "cell_type": "markdown",
   "metadata": {
    "id": "GiRow-qqodSh"
   },
   "source": [
    "## Select Train_data and Test_data"
   ]
  },
  {
   "cell_type": "code",
   "execution_count": 19,
   "metadata": {
    "ExecuteTime": {
     "end_time": "2023-05-08T19:11:25.745199Z",
     "start_time": "2023-05-08T19:11:25.741991Z"
    },
    "id": "VG2rGnPhoOzp"
   },
   "outputs": [
    {
     "name": "stdout",
     "output_type": "stream",
     "text": [
      "752 322\n"
     ]
    }
   ],
   "source": [
    "train = df_scaled[:qtd_linhas_treino]\n",
    "test = df_scaled[qtd_linhas_treino:qtd_linhas_treino+qtd_linhas_test]\n",
    "\n",
    "print(len(train), len(test))"
   ]
  },
  {
   "cell_type": "code",
   "execution_count": 20,
   "metadata": {
    "ExecuteTime": {
     "end_time": "2023-05-08T19:11:26.661239Z",
     "start_time": "2023-05-08T19:11:26.649799Z"
    },
    "id": "s0mXzwivooLw"
   },
   "outputs": [
    {
     "data": {
      "text/plain": [
       "' Formata os valores que a rede LSTM espera '"
      ]
     },
     "execution_count": 20,
     "metadata": {},
     "output_type": "execute_result"
    }
   ],
   "source": [
    "# Função que trasnforma os dados no tipo de dados que o LTSM requisita para o funcionamento\n",
    "def creat_df(df, steps=1):\n",
    "  dataX, dataY = [], []\n",
    "  for i in range(len(df)-steps-1):\n",
    "    a = df[i:(i+steps), 0]\n",
    "    dataX.append(a)\n",
    "    dataY.append(df[i + steps, 0])\n",
    "  \n",
    "  return np.array(dataX), np.array(dataY)\n",
    "\n",
    "\"\"\" Formata os valores que a rede LSTM espera \"\"\""
   ]
  },
  {
   "cell_type": "code",
   "execution_count": 21,
   "metadata": {
    "ExecuteTime": {
     "end_time": "2023-05-08T19:11:28.474242Z",
     "start_time": "2023-05-08T19:11:28.466093Z"
    },
    "id": "2hBmCk-jpS6d"
   },
   "outputs": [],
   "source": [
    "# Gerando os dados de treino e test\n",
    "steps = 15 #(dias a prever)\n",
    "X_train, Y_train = creat_df(train, steps)\n",
    "X_test, Y_test = creat_df(test, steps)\n"
   ]
  },
  {
   "cell_type": "code",
   "execution_count": 22,
   "metadata": {
    "ExecuteTime": {
     "end_time": "2023-05-08T19:11:29.519781Z",
     "start_time": "2023-05-08T19:11:29.514123Z"
    },
    "id": "scgNnF98q39_"
   },
   "outputs": [
    {
     "name": "stdout",
     "output_type": "stream",
     "text": [
      "(736, 15)\n",
      "(736,)\n",
      "(306, 15)\n",
      "(306,)\n"
     ]
    }
   ],
   "source": [
    "print(X_train.shape)\n",
    "print(Y_train.shape)\n",
    "print(X_test.shape)\n",
    "print(Y_test.shape)"
   ]
  },
  {
   "cell_type": "code",
   "execution_count": 23,
   "metadata": {
    "ExecuteTime": {
     "end_time": "2023-05-08T19:11:30.375239Z",
     "start_time": "2023-05-08T19:11:30.369526Z"
    },
    "id": "e9OLgyacq4A1"
   },
   "outputs": [],
   "source": [
    "# Gerando os dados que o modelo espera\n",
    "\n",
    "# O numero 1 no final do codigo refere-se a quantidade de features explicativos que o estamos passando\n",
    "X_train = X_train.reshape(X_train.shape[0], X_train.shape[1], 1)\n",
    "\n",
    "X_test = X_test.reshape(X_test.shape[0], X_test.shape[1], 1)"
   ]
  },
  {
   "cell_type": "code",
   "execution_count": 25,
   "metadata": {
    "ExecuteTime": {
     "end_time": "2023-05-08T19:11:38.133996Z",
     "start_time": "2023-05-08T19:11:37.555958Z"
    },
    "id": "e5MIRVjTooTv"
   },
   "outputs": [
    {
     "name": "stderr",
     "output_type": "stream",
     "text": [
      "2023-05-08 16:11:37.757725: I tensorflow/core/common_runtime/executor.cc:1197] [/device:CPU:0] (DEBUG INFO) Executor start aborting (this does not indicate an error and you can ignore this message): INVALID_ARGUMENT: You must feed a value for placeholder tensor 'gradients/split_2_grad/concat/split_2/split_dim' with dtype int32\n",
      "\t [[{{node gradients/split_2_grad/concat/split_2/split_dim}}]]\n",
      "2023-05-08 16:11:37.759094: I tensorflow/core/common_runtime/executor.cc:1197] [/device:CPU:0] (DEBUG INFO) Executor start aborting (this does not indicate an error and you can ignore this message): INVALID_ARGUMENT: You must feed a value for placeholder tensor 'gradients/split_grad/concat/split/split_dim' with dtype int32\n",
      "\t [[{{node gradients/split_grad/concat/split/split_dim}}]]\n",
      "2023-05-08 16:11:37.760412: I tensorflow/core/common_runtime/executor.cc:1197] [/device:CPU:0] (DEBUG INFO) Executor start aborting (this does not indicate an error and you can ignore this message): INVALID_ARGUMENT: You must feed a value for placeholder tensor 'gradients/split_1_grad/concat/split_1/split_dim' with dtype int32\n",
      "\t [[{{node gradients/split_1_grad/concat/split_1/split_dim}}]]\n",
      "2023-05-08 16:11:37.924978: I tensorflow/core/common_runtime/executor.cc:1197] [/device:CPU:0] (DEBUG INFO) Executor start aborting (this does not indicate an error and you can ignore this message): INVALID_ARGUMENT: You must feed a value for placeholder tensor 'gradients/split_2_grad/concat/split_2/split_dim' with dtype int32\n",
      "\t [[{{node gradients/split_2_grad/concat/split_2/split_dim}}]]\n",
      "2023-05-08 16:11:37.926983: I tensorflow/core/common_runtime/executor.cc:1197] [/device:CPU:0] (DEBUG INFO) Executor start aborting (this does not indicate an error and you can ignore this message): INVALID_ARGUMENT: You must feed a value for placeholder tensor 'gradients/split_grad/concat/split/split_dim' with dtype int32\n",
      "\t [[{{node gradients/split_grad/concat/split/split_dim}}]]\n",
      "2023-05-08 16:11:37.928190: I tensorflow/core/common_runtime/executor.cc:1197] [/device:CPU:0] (DEBUG INFO) Executor start aborting (this does not indicate an error and you can ignore this message): INVALID_ARGUMENT: You must feed a value for placeholder tensor 'gradients/split_1_grad/concat/split_1/split_dim' with dtype int32\n",
      "\t [[{{node gradients/split_1_grad/concat/split_1/split_dim}}]]\n",
      "2023-05-08 16:11:38.102029: I tensorflow/core/common_runtime/executor.cc:1197] [/device:CPU:0] (DEBUG INFO) Executor start aborting (this does not indicate an error and you can ignore this message): INVALID_ARGUMENT: You must feed a value for placeholder tensor 'gradients/split_2_grad/concat/split_2/split_dim' with dtype int32\n",
      "\t [[{{node gradients/split_2_grad/concat/split_2/split_dim}}]]\n",
      "2023-05-08 16:11:38.103511: I tensorflow/core/common_runtime/executor.cc:1197] [/device:CPU:0] (DEBUG INFO) Executor start aborting (this does not indicate an error and you can ignore this message): INVALID_ARGUMENT: You must feed a value for placeholder tensor 'gradients/split_grad/concat/split/split_dim' with dtype int32\n",
      "\t [[{{node gradients/split_grad/concat/split/split_dim}}]]\n",
      "2023-05-08 16:11:38.104526: I tensorflow/core/common_runtime/executor.cc:1197] [/device:CPU:0] (DEBUG INFO) Executor start aborting (this does not indicate an error and you can ignore this message): INVALID_ARGUMENT: You must feed a value for placeholder tensor 'gradients/split_1_grad/concat/split_1/split_dim' with dtype int32\n",
      "\t [[{{node gradients/split_1_grad/concat/split_1/split_dim}}]]\n"
     ]
    }
   ],
   "source": [
    "# Montando a rede LSTM\n",
    "model = Sequential()\n",
    "model.add(LSTM(35, return_sequences=True, input_shape=(steps, 1)))\n",
    "# return_sequences=True → retorna a informação selecionada acima e reaplica o modelo \n",
    "model.add(LSTM(35, return_sequences=True))\n",
    "model.add(LSTM(35))\n",
    "model.add(Dropout(0.2)) #→ organiza as features para evitar overfit\n",
    "model.add(Dense(1)) #→saida do modelo, no caso 1 (unica feature preco) \"resposta preco previsto\""
   ]
  },
  {
   "cell_type": "code",
   "execution_count": 26,
   "metadata": {
    "ExecuteTime": {
     "end_time": "2023-05-08T19:11:41.763726Z",
     "start_time": "2023-05-08T19:11:41.713574Z"
    },
    "id": "w3ikdDy9u3P5"
   },
   "outputs": [
    {
     "name": "stdout",
     "output_type": "stream",
     "text": [
      "Model: \"sequential_1\"\n",
      "_________________________________________________________________\n",
      " Layer (type)                Output Shape              Param #   \n",
      "=================================================================\n",
      " lstm_3 (LSTM)               (None, 15, 35)            5180      \n",
      "                                                                 \n",
      " lstm_4 (LSTM)               (None, 15, 35)            9940      \n",
      "                                                                 \n",
      " lstm_5 (LSTM)               (None, 35)                9940      \n",
      "                                                                 \n",
      " dropout_1 (Dropout)         (None, 35)                0         \n",
      "                                                                 \n",
      " dense_1 (Dense)             (None, 1)                 36        \n",
      "                                                                 \n",
      "=================================================================\n",
      "Total params: 25,096\n",
      "Trainable params: 25,096\n",
      "Non-trainable params: 0\n",
      "_________________________________________________________________\n"
     ]
    }
   ],
   "source": [
    "# Compilando os dados da saida\n",
    "model.compile(optimizer='adam', loss='mse')\n",
    "model.summary()"
   ]
  },
  {
   "cell_type": "code",
   "execution_count": null,
   "metadata": {
    "ExecuteTime": {
     "start_time": "2023-05-08T19:11:42.600Z"
    },
    "id": "bS5x2FeXvWT6"
   },
   "outputs": [
    {
     "name": "stdout",
     "output_type": "stream",
     "text": [
      "Epoch 1/100\n"
     ]
    },
    {
     "name": "stderr",
     "output_type": "stream",
     "text": [
      "2023-05-08 16:11:42.906568: I tensorflow/core/common_runtime/executor.cc:1197] [/device:CPU:0] (DEBUG INFO) Executor start aborting (this does not indicate an error and you can ignore this message): INVALID_ARGUMENT: You must feed a value for placeholder tensor 'gradients/split_2_grad/concat/split_2/split_dim' with dtype int32\n",
      "\t [[{{node gradients/split_2_grad/concat/split_2/split_dim}}]]\n",
      "2023-05-08 16:11:42.909329: I tensorflow/core/common_runtime/executor.cc:1197] [/device:CPU:0] (DEBUG INFO) Executor start aborting (this does not indicate an error and you can ignore this message): INVALID_ARGUMENT: You must feed a value for placeholder tensor 'gradients/split_grad/concat/split/split_dim' with dtype int32\n",
      "\t [[{{node gradients/split_grad/concat/split/split_dim}}]]\n",
      "2023-05-08 16:11:42.911494: I tensorflow/core/common_runtime/executor.cc:1197] [/device:CPU:0] (DEBUG INFO) Executor start aborting (this does not indicate an error and you can ignore this message): INVALID_ARGUMENT: You must feed a value for placeholder tensor 'gradients/split_1_grad/concat/split_1/split_dim' with dtype int32\n",
      "\t [[{{node gradients/split_1_grad/concat/split_1/split_dim}}]]\n"
     ]
    }
   ],
   "source": [
    "# Treinamento do Modelo\n",
    "validation = model.fit(X_train, Y_train, validation_data=(X_test, Y_test), epochs=100, batch_size=15, verbose=2);"
   ]
  },
  {
   "cell_type": "code",
   "execution_count": null,
   "metadata": {
    "id": "SYW1va4qwZQZ"
   },
   "outputs": [],
   "source": [
    "# grafico do comportamento do modelo\n",
    "plt.figure(figsize=(20,8))\n",
    "plt.plot(validation.history['loss'], label='Training loss')\n",
    "plt.plot(validation.history['val_loss'], label='Validation loss')\n",
    "plt.legend();"
   ]
  },
  {
   "cell_type": "code",
   "execution_count": null,
   "metadata": {
    "id": "3ZNaXMuY0RLZ"
   },
   "outputs": [],
   "source": [
    "# Fazendo a previsão\n",
    "prev = model.predict(X_test)\n",
    "prev = scaler.inverse_transform(prev)\n",
    "prev"
   ]
  },
  {
   "cell_type": "code",
   "execution_count": null,
   "metadata": {
    "id": "yd5ck8CQ1kTs"
   },
   "outputs": [],
   "source": [
    "# Prevendo os proximos 10 dias\n",
    "lenght_test = len(test)\n",
    "lenght_test"
   ]
  },
  {
   "cell_type": "code",
   "execution_count": null,
   "metadata": {
    "id": "cZ6CNV-32CR4"
   },
   "outputs": [],
   "source": [
    "# Pegar os ultimos dias que são o tamanho do steps declarado anteriormente\n",
    "days_input_steps = lenght_test - steps\n",
    "days_input_steps"
   ]
  },
  {
   "cell_type": "code",
   "execution_count": null,
   "metadata": {
    "id": "ugVzl3f12khe"
   },
   "outputs": [],
   "source": [
    "#Transforma em array\n",
    "input_steps = test[days_input_steps:]\n",
    "input_steps = np.array(input_steps).reshape(1, -1)\n",
    "input_steps"
   ]
  },
  {
   "cell_type": "code",
   "execution_count": null,
   "metadata": {
    "id": "X-hdlSnl2xLq"
   },
   "outputs": [],
   "source": [
    "# Transfoprmar um lista\n",
    "list_output_steps = list(input_steps)\n",
    "list_output_steps = list_output_steps[0].tolist()\n",
    "list_output_steps"
   ]
  },
  {
   "cell_type": "code",
   "execution_count": null,
   "metadata": {
    "id": "7bkzfmw6U9yi"
   },
   "outputs": [],
   "source": [
    "# Loop para prever os proximos 10 dias\n",
    "#Loop to preview the next 10 days\n",
    "pred_output = [] #→ recebe os dias a serem previstos\n",
    "i = 0\n",
    "n_future = 10\n",
    "while(i<n_future):\n",
    "  \n",
    "    if(len(list_output_steps) > steps):\n",
    "       input_steps = np.array(list_output_steps[1:])\n",
    "       print('Day {}. Value Entrance → {}'.format(i, input_steps))\n",
    "       input_steps = input_steps.reshape(1, -1)\n",
    "       input_steps = input_steps.reshape((1, steps, 1))\n",
    "       #print(input_steps)\n",
    "       pred = model.predict(input_steps, verbose=0)\n",
    "       print('Day {}. Value Predict → {}'.format(i, pred))\n",
    "       list_output_steps.extend(pred[0].tolist())\n",
    "       list_output_steps = list_output_steps[1:]\n",
    "       #print(list_output_steps)\n",
    "       pred_output.extend(pred.tolist())\n",
    "       i = i+1\n",
    "       \n",
    "    else:\n",
    "       input_steps = input_steps.reshape((1, steps, 1))\n",
    "       pred= model.predict(input_steps, verbose=0)\n",
    "       print(pred[0])\n",
    "       list_output_steps.extend(pred[0].tolist())\n",
    "       print(len(list_output_steps))\n",
    "       pred_output.extend(pred.tolist())\n",
    "       i = i+1\n",
    "       \n",
    "print(pred_output)\n",
    "       \n",
    "       \n"
   ]
  },
  {
   "cell_type": "code",
   "execution_count": null,
   "metadata": {
    "id": "PEZ21_5oU91N"
   },
   "outputs": [],
   "source": [
    "# transformando o output  para lermos \n",
    "prev = scaler.inverse_transform(pred_output)\n",
    "prev = np.array(prev).reshape(1,-1)\n",
    "list_output_prev = list(prev)\n",
    "list_output_prev = prev[0].tolist()\n",
    "list_output_prev\n",
    "\n"
   ]
  },
  {
   "cell_type": "code",
   "execution_count": null,
   "metadata": {
    "id": "__Zyenh-U93t"
   },
   "outputs": [],
   "source": [
    "# Colhendo as datas de previsão\n",
    "dates = pd.to_datetime(df_acao['data_pregao'])\n",
    "predict_dates = pd.date_range(list(dates)[-1] + pd.DateOffset(1), periods=10, freq='b').tolist()\n",
    "predict_dates\n"
   ]
  },
  {
   "cell_type": "code",
   "execution_count": null,
   "metadata": {
    "id": "P7xOl6MsU96l"
   },
   "outputs": [],
   "source": [
    "# Criando o DataFrame de previsão\n",
    "forecast_dates = []\n",
    "for i in predict_dates:\n",
    "  forecast_dates.append(i.date())\n",
    "\n",
    "df_forecast = pd.DataFrame({'data_pregao': np.array(forecast_dates), 'preco_fechamento': list_output_prev})\n",
    "df_forecast['data_pregao'] = pd.to_datetime(df_forecast['data_pregao'])\n",
    "\n",
    "# transformando o index pela data\n",
    "df_forecast = df_forecast.set_index(pd.DatetimeIndex(df_forecast['data_pregao'].values))\n",
    "df_forecast.drop(columns='data_pregao', inplace=True)\n",
    "df_forecast"
   ]
  },
  {
   "cell_type": "code",
   "execution_count": null,
   "metadata": {
    "id": "Ogrzk5BxfGgZ"
   },
   "outputs": [],
   "source": [
    "# Filtrando apenas os dias utilizados para previsão\n",
    "df_acao = df[(df['sigla_acao'] == sigla) & (df['data_pregao'] > '2023-04-01') ]\n",
    "df_acao_fech = df_acao[['data_pregao', 'preco_fech']]\n",
    "df_acao_fech = df_acao_fech.set_index(pd.DatetimeIndex(df_acao_fech['data_pregao'].values))\n",
    "df_acao_fech.drop(columns='data_pregao', inplace=True)"
   ]
  },
  {
   "cell_type": "code",
   "execution_count": null,
   "metadata": {
    "id": "K0SpWP3BU9_F"
   },
   "outputs": [],
   "source": [
    "#Plotar o grafico\n",
    "plt.figure(figsize=(16,8))\n",
    "plt.title('Price Share Value')\n",
    "plt.plot(df_acao_fech['preco_fech'])\n",
    "plt.plot(df_forecast['preco_fechamento'])\n",
    "plt.legend(['Price Closed', 'Price Predicted'])\n",
    "plt.show();"
   ]
  },
  {
   "cell_type": "code",
   "execution_count": null,
   "metadata": {
    "id": "GwRGrBg430_c"
   },
   "outputs": [],
   "source": [
    "# Fazer um novo ciclo acrescentando o ano de 2018"
   ]
  },
  {
   "cell_type": "code",
   "execution_count": null,
   "metadata": {
    "id": "v49mFBWA5nao"
   },
   "outputs": [],
   "source": []
  }
 ],
 "metadata": {
  "colab": {
   "include_colab_link": true,
   "private_outputs": true,
   "provenance": []
  },
  "hide_input": false,
  "kernelspec": {
   "display_name": "Python 3 (ipykernel)",
   "language": "python",
   "name": "python3"
  },
  "language_info": {
   "codemirror_mode": {
    "name": "ipython",
    "version": 3
   },
   "file_extension": ".py",
   "mimetype": "text/x-python",
   "name": "python",
   "nbconvert_exporter": "python",
   "pygments_lexer": "ipython3",
   "version": "3.11.3"
  }
 },
 "nbformat": 4,
 "nbformat_minor": 1
}
