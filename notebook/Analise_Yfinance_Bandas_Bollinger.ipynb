{
  "nbformat": 4,
  "nbformat_minor": 0,
  "metadata": {
    "colab": {
      "private_outputs": true,
      "provenance": [],
      "authorship_tag": "ABX9TyPRcFmrzNGZ17BghR9l4jq+",
      "include_colab_link": true
    },
    "kernelspec": {
      "name": "python3",
      "display_name": "Python 3"
    },
    "language_info": {
      "name": "python"
    }
  },
  "cells": [
    {
      "cell_type": "markdown",
      "metadata": {
        "id": "view-in-github",
        "colab_type": "text"
      },
      "source": [
        "<a href=\"https://colab.research.google.com/github/BrunoGeraldine/B3_Prediction_2023/blob/main/notebook/Analise_Yfinance_Bandas_Bollinger.ipynb\" target=\"_parent\"><img src=\"https://colab.research.google.com/assets/colab-badge.svg\" alt=\"Open In Colab\"/></a>"
      ]
    },
    {
      "cell_type": "markdown",
      "source": [
        "# Bandas de Bollinger → Analise das ações utilizando as médias moveis como orientação para compra e venda."
      ],
      "metadata": {
        "id": "Q_F9EqnFDoos"
      }
    },
    {
      "cell_type": "code",
      "execution_count": null,
      "metadata": {
        "id": "9HlNvNd_xP1c"
      },
      "outputs": [],
      "source": [
        "# Instalando Yfinance API\n",
        "!pip install Yfinance"
      ]
    },
    {
      "cell_type": "code",
      "source": [
        "# Importando as bibliotecas\n",
        "import pandas               as pd\n",
        "import yfinance             as yf\n",
        "import plotly.graph_objects as go"
      ],
      "metadata": {
        "id": "qt05EDNIySYz"
      },
      "execution_count": null,
      "outputs": []
    },
    {
      "cell_type": "code",
      "source": [
        "# Escolhendo a ação\n",
        "acao = 'PETR4.SA'\n",
        "\n",
        "ticker = yf.Ticker(acao)\n",
        "\n",
        "# Intervalo de tempo\n",
        "df = ticker.history(period='1y')\n",
        "\n",
        "df.head()"
      ],
      "metadata": {
        "id": "AqdzCzMJyjPj"
      },
      "execution_count": null,
      "outputs": []
    },
    {
      "cell_type": "code",
      "source": [
        "# Calulo da MM simples\n",
        "df['MM5d'] = df['Close'].rolling(window=5).mean().round(2)\n",
        "df['MM15d'] = df['Close'].rolling(window=15).mean().round(2)\n"
      ],
      "metadata": {
        "id": "ePsJmU7F5nVu"
      },
      "execution_count": null,
      "outputs": []
    },
    {
      "cell_type": "code",
      "source": [
        "#grafico\n",
        "candlestick = go.Candlestick(x=df.index,\n",
        "                             open=df['Open'],\n",
        "                             high=df['High'],\n",
        "                             low=df['Low'],\n",
        "                             close=df['Close']\n",
        ")\n",
        "lines_mm5 = go.Scatter(x=df.index,\n",
        "                       y=df['MM5d'],\n",
        "                       mode='lines',\n",
        "                       line_color='blue',\n",
        "                       name='MM5d')\n",
        "lines_mm15 = go.Scatter(\n",
        "                       x=df.index,\n",
        "                       y=df['MM15d'],\n",
        "                       mode='lines',\n",
        "                       line_color='yellow',\n",
        "                       name='MM15d')\n",
        "\n",
        "fig = go.Figure(data=[candlestick])\n",
        "fig.add_trace(lines_mm5)\n",
        "fig.add_trace(lines_mm15)\n",
        "\n",
        "fig.show()"
      ],
      "metadata": {
        "id": "x73yyu4r8dmw"
      },
      "execution_count": null,
      "outputs": []
    },
    {
      "cell_type": "code",
      "source": [
        "# Calculo da media movel exponencial MME\n",
        "df['MME25d'] = df['Close'].ewm(span=25).mean()\n",
        "\n",
        "df['MME30d'] = df['Close'].ewm(span=30).mean()\n",
        "\n",
        "df['MME100d'] = df['Close'].ewm(span=1000).mean()\n"
      ],
      "metadata": {
        "id": "co9z50ek-RkL"
      },
      "execution_count": null,
      "outputs": []
    },
    {
      "cell_type": "code",
      "source": [
        "#grafico\n",
        "candlestick = go.Candlestick(x=df.index,\n",
        "                             open=df['Open'],\n",
        "                             high=df['High'],\n",
        "                             low=df['Low'],\n",
        "                             close=df['Close']\n",
        ")\n",
        "\n",
        "lines_mm30 = go.Scatter(\n",
        "                       x=df.index,\n",
        "                       y=df['MME30d'],\n",
        "                       mode='lines',\n",
        "                       line_color='blue',\n",
        "                       name='MME30d')\n",
        "\n",
        "lines_mm100 = go.Scatter(\n",
        "                       x=df.index,\n",
        "                       y=df['MME100d'],\n",
        "                       mode='lines',\n",
        "                       line_color='red',\n",
        "                       name='MME100d')\n",
        "\n",
        "fig = go.Figure(data=[candlestick])\n",
        "\n",
        "fig.add_trace(lines_mm30)\n",
        "fig.add_trace(lines_mm100)\n",
        "\n",
        "\n",
        "fig.show()"
      ],
      "metadata": {
        "id": "bkSCDFvWAfz5"
      },
      "execution_count": null,
      "outputs": []
    },
    {
      "cell_type": "code",
      "source": [],
      "metadata": {
        "id": "eyxYaqG-DnFP"
      },
      "execution_count": null,
      "outputs": []
    },
    {
      "cell_type": "code",
      "source": [],
      "metadata": {
        "id": "Nve_RunuAhU0"
      },
      "execution_count": null,
      "outputs": []
    }
  ]
}