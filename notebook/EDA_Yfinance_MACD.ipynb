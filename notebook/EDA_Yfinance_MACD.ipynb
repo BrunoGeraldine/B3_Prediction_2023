{
 "cells": [
  {
   "cell_type": "markdown",
   "metadata": {
    "colab_type": "text",
    "id": "view-in-github"
   },
   "source": [
    "<a href=\"https://colab.research.google.com/github/BrunoGeraldine/B3_Prediction_2023/blob/main/notebook/EDA_Yfinance_MACD.ipynb\" target=\"_parent\"><img src=\"https://colab.research.google.com/assets/colab-badge.svg\" alt=\"Open In Colab\"/></a>"
   ]
  },
  {
   "cell_type": "markdown",
   "metadata": {
    "id": "Q_F9EqnFDoos"
   },
   "source": [
    "# MACD→ Analise das ações utilizando as médias moveis como orientação para compra e venda."
   ]
  },
  {
   "cell_type": "code",
   "execution_count": 6,
   "metadata": {
    "ExecuteTime": {
     "end_time": "2023-05-12T18:40:52.506064Z",
     "start_time": "2023-05-12T18:40:43.689794Z"
    },
    "id": "9HlNvNd_xP1c"
   },
   "outputs": [
    {
     "name": "stdout",
     "output_type": "stream",
     "text": [
      "Collecting plotly\n",
      "  Using cached plotly-5.14.1-py2.py3-none-any.whl (15.3 MB)\n",
      "Collecting tenacity>=6.2.0 (from plotly)\n",
      "  Using cached tenacity-8.2.2-py3-none-any.whl (24 kB)\n",
      "Requirement already satisfied: packaging in /home/bruno/.pyenv/versions/b3_regress/lib/python3.11/site-packages (from plotly) (23.1)\n",
      "Installing collected packages: tenacity, plotly\n",
      "Successfully installed plotly-5.14.1 tenacity-8.2.2\n"
     ]
    }
   ],
   "source": [
    "# Instalando Yfinance API\n",
    "!pip install plotly"
   ]
  },
  {
   "cell_type": "code",
   "execution_count": 7,
   "metadata": {
    "ExecuteTime": {
     "end_time": "2023-05-12T18:40:52.519007Z",
     "start_time": "2023-05-12T18:40:52.511232Z"
    },
    "id": "qt05EDNIySYz"
   },
   "outputs": [],
   "source": [
    "# Importando as bibliotecas\n",
    "import warnings\n",
    "import numpy                as np\n",
    "import pandas               as pd\n",
    "import yfinance             as yf\n",
    "import seaborn              as sns\n",
    "import plotly.graph_objects as go"
   ]
  },
  {
   "cell_type": "code",
   "execution_count": 8,
   "metadata": {
    "ExecuteTime": {
     "end_time": "2023-05-12T18:40:54.733896Z",
     "start_time": "2023-05-12T18:40:54.728622Z"
    },
    "id": "y6x7t5so0QS0"
   },
   "outputs": [],
   "source": [
    "# Help function\n",
    "# Configuração do padrão de visualização dos dados e graficos\n",
    "# https://seaborn.pydata.org/tutorial.html\n",
    "sns.set_theme(\n",
    "    context='talk',\n",
    "    style='ticks',\n",
    "    palette='icefire',\n",
    "    font_scale=.8,\n",
    "    rc={'figure.figsize': (25, 15)}\n",
    ")\n",
    "\n",
    "warnings.filterwarnings(\"ignore\")\n",
    "     "
   ]
  },
  {
   "cell_type": "code",
   "execution_count": 30,
   "metadata": {
    "ExecuteTime": {
     "end_time": "2023-05-12T18:44:30.846418Z",
     "start_time": "2023-05-12T18:44:29.630260Z"
    },
    "id": "AqdzCzMJyjPj"
   },
   "outputs": [],
   "source": [
    "# Escolhendo a ação\n",
    "paper = 'PETR4.SA'\n",
    "\n",
    "ticker = yf.Ticker(paper)\n",
    "\n",
    "# Intervalo de tempo\n",
    "df = ticker.history(period='30d')\n",
    "df = df['Close']\n",
    "\n",
    "df_ticker_daily = ticker.history(period='1d', interval='5m')\n",
    "\n",
    "df_ticker_daily = df_ticker_daily['Close']"
   ]
  },
  {
   "cell_type": "code",
   "execution_count": 31,
   "metadata": {
    "ExecuteTime": {
     "end_time": "2023-05-12T18:44:31.587370Z",
     "start_time": "2023-05-12T18:44:30.948584Z"
    },
    "id": "KpcrV43bFgWc"
   },
   "outputs": [
    {
     "data": {
      "text/plain": [
       "'PETR4.SA'"
      ]
     },
     "execution_count": 31,
     "metadata": {},
     "output_type": "execute_result"
    }
   ],
   "source": [
    "info = ticker.info\n",
    "acao = info['symbol']\n",
    "acao"
   ]
  },
  {
   "cell_type": "code",
   "execution_count": 32,
   "metadata": {
    "ExecuteTime": {
     "end_time": "2023-05-12T18:44:31.770074Z",
     "start_time": "2023-05-12T18:44:31.766459Z"
    },
    "id": "MlXtV8tfFgY-"
   },
   "outputs": [],
   "source": [
    "df = pd.DataFrame(df)\n",
    "df_ticker_daily = pd.DataFrame(df_ticker_daily)"
   ]
  },
  {
   "cell_type": "code",
   "execution_count": 33,
   "metadata": {
    "ExecuteTime": {
     "end_time": "2023-05-12T18:44:32.649932Z",
     "start_time": "2023-05-12T18:44:32.643263Z"
    },
    "id": "y1zMhzDeF7VP"
   },
   "outputs": [],
   "source": [
    "df_ticker_daily.reset_index(inplace=True)\n",
    "\n",
    "# Quando aplicamos o Yfinance, ele acaba trazendo as informações do momento atual\n",
    "# e neste momento não queremos isso\n",
    "#df.drop(df.tail(1).index,inplace=True)\n",
    "df.reset_index(inplace=True)"
   ]
  },
  {
   "cell_type": "code",
   "execution_count": 34,
   "metadata": {
    "ExecuteTime": {
     "end_time": "2023-05-12T18:44:33.132222Z",
     "start_time": "2023-05-12T18:44:33.112907Z"
    },
    "id": "uKBaMvBXF7X4"
   },
   "outputs": [
    {
     "data": {
      "text/html": [
       "<div>\n",
       "<style scoped>\n",
       "    .dataframe tbody tr th:only-of-type {\n",
       "        vertical-align: middle;\n",
       "    }\n",
       "\n",
       "    .dataframe tbody tr th {\n",
       "        vertical-align: top;\n",
       "    }\n",
       "\n",
       "    .dataframe thead th {\n",
       "        text-align: right;\n",
       "    }\n",
       "</style>\n",
       "<table border=\"1\" class=\"dataframe\">\n",
       "  <thead>\n",
       "    <tr style=\"text-align: right;\">\n",
       "      <th></th>\n",
       "      <th>Date</th>\n",
       "      <th>Close</th>\n",
       "    </tr>\n",
       "  </thead>\n",
       "  <tbody>\n",
       "    <tr>\n",
       "      <th>0</th>\n",
       "      <td>2023-03-29 00:00:00-03:00</td>\n",
       "      <td>21.281473</td>\n",
       "    </tr>\n",
       "    <tr>\n",
       "      <th>1</th>\n",
       "      <td>2023-03-30 00:00:00-03:00</td>\n",
       "      <td>21.343805</td>\n",
       "    </tr>\n",
       "    <tr>\n",
       "      <th>2</th>\n",
       "      <td>2023-03-31 00:00:00-03:00</td>\n",
       "      <td>20.880777</td>\n",
       "    </tr>\n",
       "    <tr>\n",
       "      <th>3</th>\n",
       "      <td>2023-04-03 00:00:00-03:00</td>\n",
       "      <td>21.806833</td>\n",
       "    </tr>\n",
       "    <tr>\n",
       "      <th>4</th>\n",
       "      <td>2023-04-04 00:00:00-03:00</td>\n",
       "      <td>21.610937</td>\n",
       "    </tr>\n",
       "    <tr>\n",
       "      <th>5</th>\n",
       "      <td>2023-04-05 00:00:00-03:00</td>\n",
       "      <td>21.682173</td>\n",
       "    </tr>\n",
       "    <tr>\n",
       "      <th>6</th>\n",
       "      <td>2023-04-06 00:00:00-03:00</td>\n",
       "      <td>21.370518</td>\n",
       "    </tr>\n",
       "    <tr>\n",
       "      <th>7</th>\n",
       "      <td>2023-04-10 00:00:00-03:00</td>\n",
       "      <td>21.824642</td>\n",
       "    </tr>\n",
       "    <tr>\n",
       "      <th>8</th>\n",
       "      <td>2023-04-11 00:00:00-03:00</td>\n",
       "      <td>22.848646</td>\n",
       "    </tr>\n",
       "    <tr>\n",
       "      <th>9</th>\n",
       "      <td>2023-04-12 00:00:00-03:00</td>\n",
       "      <td>23.017830</td>\n",
       "    </tr>\n",
       "    <tr>\n",
       "      <th>10</th>\n",
       "      <td>2023-04-13 00:00:00-03:00</td>\n",
       "      <td>23.178108</td>\n",
       "    </tr>\n",
       "    <tr>\n",
       "      <th>11</th>\n",
       "      <td>2023-04-14 00:00:00-03:00</td>\n",
       "      <td>23.418526</td>\n",
       "    </tr>\n",
       "    <tr>\n",
       "      <th>12</th>\n",
       "      <td>2023-04-17 00:00:00-03:00</td>\n",
       "      <td>23.783606</td>\n",
       "    </tr>\n",
       "    <tr>\n",
       "      <th>13</th>\n",
       "      <td>2023-04-18 00:00:00-03:00</td>\n",
       "      <td>24.389103</td>\n",
       "    </tr>\n",
       "    <tr>\n",
       "      <th>14</th>\n",
       "      <td>2023-04-19 00:00:00-03:00</td>\n",
       "      <td>23.605518</td>\n",
       "    </tr>\n",
       "    <tr>\n",
       "      <th>15</th>\n",
       "      <td>2023-04-20 00:00:00-03:00</td>\n",
       "      <td>23.765797</td>\n",
       "    </tr>\n",
       "    <tr>\n",
       "      <th>16</th>\n",
       "      <td>2023-04-24 00:00:00-03:00</td>\n",
       "      <td>24.219921</td>\n",
       "    </tr>\n",
       "    <tr>\n",
       "      <th>17</th>\n",
       "      <td>2023-04-25 00:00:00-03:00</td>\n",
       "      <td>24.121973</td>\n",
       "    </tr>\n",
       "    <tr>\n",
       "      <th>18</th>\n",
       "      <td>2023-04-26 00:00:00-03:00</td>\n",
       "      <td>23.819223</td>\n",
       "    </tr>\n",
       "    <tr>\n",
       "      <th>19</th>\n",
       "      <td>2023-04-27 00:00:00-03:00</td>\n",
       "      <td>23.240438</td>\n",
       "    </tr>\n",
       "    <tr>\n",
       "      <th>20</th>\n",
       "      <td>2023-04-28 00:00:00-03:00</td>\n",
       "      <td>23.700001</td>\n",
       "    </tr>\n",
       "    <tr>\n",
       "      <th>21</th>\n",
       "      <td>2023-05-02 00:00:00-03:00</td>\n",
       "      <td>22.740000</td>\n",
       "    </tr>\n",
       "    <tr>\n",
       "      <th>22</th>\n",
       "      <td>2023-05-03 00:00:00-03:00</td>\n",
       "      <td>22.660000</td>\n",
       "    </tr>\n",
       "    <tr>\n",
       "      <th>23</th>\n",
       "      <td>2023-05-04 00:00:00-03:00</td>\n",
       "      <td>23.020000</td>\n",
       "    </tr>\n",
       "    <tr>\n",
       "      <th>24</th>\n",
       "      <td>2023-05-05 00:00:00-03:00</td>\n",
       "      <td>24.000000</td>\n",
       "    </tr>\n",
       "    <tr>\n",
       "      <th>25</th>\n",
       "      <td>2023-05-08 00:00:00-03:00</td>\n",
       "      <td>24.510000</td>\n",
       "    </tr>\n",
       "    <tr>\n",
       "      <th>26</th>\n",
       "      <td>2023-05-09 00:00:00-03:00</td>\n",
       "      <td>24.590000</td>\n",
       "    </tr>\n",
       "    <tr>\n",
       "      <th>27</th>\n",
       "      <td>2023-05-10 00:00:00-03:00</td>\n",
       "      <td>24.530001</td>\n",
       "    </tr>\n",
       "    <tr>\n",
       "      <th>28</th>\n",
       "      <td>2023-05-11 00:00:00-03:00</td>\n",
       "      <td>25.430000</td>\n",
       "    </tr>\n",
       "    <tr>\n",
       "      <th>29</th>\n",
       "      <td>2023-05-12 00:00:00-03:00</td>\n",
       "      <td>26.160000</td>\n",
       "    </tr>\n",
       "  </tbody>\n",
       "</table>\n",
       "</div>"
      ],
      "text/plain": [
       "                        Date      Close\n",
       "0  2023-03-29 00:00:00-03:00  21.281473\n",
       "1  2023-03-30 00:00:00-03:00  21.343805\n",
       "2  2023-03-31 00:00:00-03:00  20.880777\n",
       "3  2023-04-03 00:00:00-03:00  21.806833\n",
       "4  2023-04-04 00:00:00-03:00  21.610937\n",
       "5  2023-04-05 00:00:00-03:00  21.682173\n",
       "6  2023-04-06 00:00:00-03:00  21.370518\n",
       "7  2023-04-10 00:00:00-03:00  21.824642\n",
       "8  2023-04-11 00:00:00-03:00  22.848646\n",
       "9  2023-04-12 00:00:00-03:00  23.017830\n",
       "10 2023-04-13 00:00:00-03:00  23.178108\n",
       "11 2023-04-14 00:00:00-03:00  23.418526\n",
       "12 2023-04-17 00:00:00-03:00  23.783606\n",
       "13 2023-04-18 00:00:00-03:00  24.389103\n",
       "14 2023-04-19 00:00:00-03:00  23.605518\n",
       "15 2023-04-20 00:00:00-03:00  23.765797\n",
       "16 2023-04-24 00:00:00-03:00  24.219921\n",
       "17 2023-04-25 00:00:00-03:00  24.121973\n",
       "18 2023-04-26 00:00:00-03:00  23.819223\n",
       "19 2023-04-27 00:00:00-03:00  23.240438\n",
       "20 2023-04-28 00:00:00-03:00  23.700001\n",
       "21 2023-05-02 00:00:00-03:00  22.740000\n",
       "22 2023-05-03 00:00:00-03:00  22.660000\n",
       "23 2023-05-04 00:00:00-03:00  23.020000\n",
       "24 2023-05-05 00:00:00-03:00  24.000000\n",
       "25 2023-05-08 00:00:00-03:00  24.510000\n",
       "26 2023-05-09 00:00:00-03:00  24.590000\n",
       "27 2023-05-10 00:00:00-03:00  24.530001\n",
       "28 2023-05-11 00:00:00-03:00  25.430000\n",
       "29 2023-05-12 00:00:00-03:00  26.160000"
      ]
     },
     "execution_count": 34,
     "metadata": {},
     "output_type": "execute_result"
    }
   ],
   "source": [
    "df"
   ]
  },
  {
   "cell_type": "code",
   "execution_count": 35,
   "metadata": {
    "ExecuteTime": {
     "end_time": "2023-05-12T18:44:33.651113Z",
     "start_time": "2023-05-12T18:44:33.647055Z"
    },
    "id": "pngjh0cwF7eM"
   },
   "outputs": [],
   "source": [
    "# Criando um novo Df com os dados historicos\n",
    "df_ticker = df"
   ]
  },
  {
   "cell_type": "code",
   "execution_count": 36,
   "metadata": {
    "ExecuteTime": {
     "end_time": "2023-05-12T18:44:34.294086Z",
     "start_time": "2023-05-12T18:44:34.275544Z"
    },
    "id": "DJCQJDoJF7gs"
   },
   "outputs": [
    {
     "data": {
      "text/html": [
       "<div>\n",
       "<style scoped>\n",
       "    .dataframe tbody tr th:only-of-type {\n",
       "        vertical-align: middle;\n",
       "    }\n",
       "\n",
       "    .dataframe tbody tr th {\n",
       "        vertical-align: top;\n",
       "    }\n",
       "\n",
       "    .dataframe thead th {\n",
       "        text-align: right;\n",
       "    }\n",
       "</style>\n",
       "<table border=\"1\" class=\"dataframe\">\n",
       "  <thead>\n",
       "    <tr style=\"text-align: right;\">\n",
       "      <th></th>\n",
       "      <th>Date</th>\n",
       "      <th>Close</th>\n",
       "    </tr>\n",
       "  </thead>\n",
       "  <tbody>\n",
       "    <tr>\n",
       "      <th>0</th>\n",
       "      <td>2023-03-29 00:00:00-03:00</td>\n",
       "      <td>21.281473</td>\n",
       "    </tr>\n",
       "    <tr>\n",
       "      <th>1</th>\n",
       "      <td>2023-03-30 00:00:00-03:00</td>\n",
       "      <td>21.343805</td>\n",
       "    </tr>\n",
       "    <tr>\n",
       "      <th>2</th>\n",
       "      <td>2023-03-31 00:00:00-03:00</td>\n",
       "      <td>20.880777</td>\n",
       "    </tr>\n",
       "    <tr>\n",
       "      <th>3</th>\n",
       "      <td>2023-04-03 00:00:00-03:00</td>\n",
       "      <td>21.806833</td>\n",
       "    </tr>\n",
       "    <tr>\n",
       "      <th>4</th>\n",
       "      <td>2023-04-04 00:00:00-03:00</td>\n",
       "      <td>21.610937</td>\n",
       "    </tr>\n",
       "    <tr>\n",
       "      <th>5</th>\n",
       "      <td>2023-04-05 00:00:00-03:00</td>\n",
       "      <td>21.682173</td>\n",
       "    </tr>\n",
       "    <tr>\n",
       "      <th>6</th>\n",
       "      <td>2023-04-06 00:00:00-03:00</td>\n",
       "      <td>21.370518</td>\n",
       "    </tr>\n",
       "    <tr>\n",
       "      <th>7</th>\n",
       "      <td>2023-04-10 00:00:00-03:00</td>\n",
       "      <td>21.824642</td>\n",
       "    </tr>\n",
       "    <tr>\n",
       "      <th>8</th>\n",
       "      <td>2023-04-11 00:00:00-03:00</td>\n",
       "      <td>22.848646</td>\n",
       "    </tr>\n",
       "    <tr>\n",
       "      <th>9</th>\n",
       "      <td>2023-04-12 00:00:00-03:00</td>\n",
       "      <td>23.017830</td>\n",
       "    </tr>\n",
       "    <tr>\n",
       "      <th>10</th>\n",
       "      <td>2023-04-13 00:00:00-03:00</td>\n",
       "      <td>23.178108</td>\n",
       "    </tr>\n",
       "    <tr>\n",
       "      <th>11</th>\n",
       "      <td>2023-04-14 00:00:00-03:00</td>\n",
       "      <td>23.418526</td>\n",
       "    </tr>\n",
       "    <tr>\n",
       "      <th>12</th>\n",
       "      <td>2023-04-17 00:00:00-03:00</td>\n",
       "      <td>23.783606</td>\n",
       "    </tr>\n",
       "    <tr>\n",
       "      <th>13</th>\n",
       "      <td>2023-04-18 00:00:00-03:00</td>\n",
       "      <td>24.389103</td>\n",
       "    </tr>\n",
       "    <tr>\n",
       "      <th>14</th>\n",
       "      <td>2023-04-19 00:00:00-03:00</td>\n",
       "      <td>23.605518</td>\n",
       "    </tr>\n",
       "    <tr>\n",
       "      <th>15</th>\n",
       "      <td>2023-04-20 00:00:00-03:00</td>\n",
       "      <td>23.765797</td>\n",
       "    </tr>\n",
       "    <tr>\n",
       "      <th>16</th>\n",
       "      <td>2023-04-24 00:00:00-03:00</td>\n",
       "      <td>24.219921</td>\n",
       "    </tr>\n",
       "    <tr>\n",
       "      <th>17</th>\n",
       "      <td>2023-04-25 00:00:00-03:00</td>\n",
       "      <td>24.121973</td>\n",
       "    </tr>\n",
       "    <tr>\n",
       "      <th>18</th>\n",
       "      <td>2023-04-26 00:00:00-03:00</td>\n",
       "      <td>23.819223</td>\n",
       "    </tr>\n",
       "    <tr>\n",
       "      <th>19</th>\n",
       "      <td>2023-04-27 00:00:00-03:00</td>\n",
       "      <td>23.240438</td>\n",
       "    </tr>\n",
       "    <tr>\n",
       "      <th>20</th>\n",
       "      <td>2023-04-28 00:00:00-03:00</td>\n",
       "      <td>23.700001</td>\n",
       "    </tr>\n",
       "    <tr>\n",
       "      <th>21</th>\n",
       "      <td>2023-05-02 00:00:00-03:00</td>\n",
       "      <td>22.740000</td>\n",
       "    </tr>\n",
       "    <tr>\n",
       "      <th>22</th>\n",
       "      <td>2023-05-03 00:00:00-03:00</td>\n",
       "      <td>22.660000</td>\n",
       "    </tr>\n",
       "    <tr>\n",
       "      <th>23</th>\n",
       "      <td>2023-05-04 00:00:00-03:00</td>\n",
       "      <td>23.020000</td>\n",
       "    </tr>\n",
       "    <tr>\n",
       "      <th>24</th>\n",
       "      <td>2023-05-05 00:00:00-03:00</td>\n",
       "      <td>24.000000</td>\n",
       "    </tr>\n",
       "    <tr>\n",
       "      <th>25</th>\n",
       "      <td>2023-05-08 00:00:00-03:00</td>\n",
       "      <td>24.510000</td>\n",
       "    </tr>\n",
       "    <tr>\n",
       "      <th>26</th>\n",
       "      <td>2023-05-09 00:00:00-03:00</td>\n",
       "      <td>24.590000</td>\n",
       "    </tr>\n",
       "    <tr>\n",
       "      <th>27</th>\n",
       "      <td>2023-05-10 00:00:00-03:00</td>\n",
       "      <td>24.530001</td>\n",
       "    </tr>\n",
       "    <tr>\n",
       "      <th>28</th>\n",
       "      <td>2023-05-11 00:00:00-03:00</td>\n",
       "      <td>25.430000</td>\n",
       "    </tr>\n",
       "    <tr>\n",
       "      <th>29</th>\n",
       "      <td>2023-05-12 00:00:00-03:00</td>\n",
       "      <td>26.160000</td>\n",
       "    </tr>\n",
       "  </tbody>\n",
       "</table>\n",
       "</div>"
      ],
      "text/plain": [
       "                        Date      Close\n",
       "0  2023-03-29 00:00:00-03:00  21.281473\n",
       "1  2023-03-30 00:00:00-03:00  21.343805\n",
       "2  2023-03-31 00:00:00-03:00  20.880777\n",
       "3  2023-04-03 00:00:00-03:00  21.806833\n",
       "4  2023-04-04 00:00:00-03:00  21.610937\n",
       "5  2023-04-05 00:00:00-03:00  21.682173\n",
       "6  2023-04-06 00:00:00-03:00  21.370518\n",
       "7  2023-04-10 00:00:00-03:00  21.824642\n",
       "8  2023-04-11 00:00:00-03:00  22.848646\n",
       "9  2023-04-12 00:00:00-03:00  23.017830\n",
       "10 2023-04-13 00:00:00-03:00  23.178108\n",
       "11 2023-04-14 00:00:00-03:00  23.418526\n",
       "12 2023-04-17 00:00:00-03:00  23.783606\n",
       "13 2023-04-18 00:00:00-03:00  24.389103\n",
       "14 2023-04-19 00:00:00-03:00  23.605518\n",
       "15 2023-04-20 00:00:00-03:00  23.765797\n",
       "16 2023-04-24 00:00:00-03:00  24.219921\n",
       "17 2023-04-25 00:00:00-03:00  24.121973\n",
       "18 2023-04-26 00:00:00-03:00  23.819223\n",
       "19 2023-04-27 00:00:00-03:00  23.240438\n",
       "20 2023-04-28 00:00:00-03:00  23.700001\n",
       "21 2023-05-02 00:00:00-03:00  22.740000\n",
       "22 2023-05-03 00:00:00-03:00  22.660000\n",
       "23 2023-05-04 00:00:00-03:00  23.020000\n",
       "24 2023-05-05 00:00:00-03:00  24.000000\n",
       "25 2023-05-08 00:00:00-03:00  24.510000\n",
       "26 2023-05-09 00:00:00-03:00  24.590000\n",
       "27 2023-05-10 00:00:00-03:00  24.530001\n",
       "28 2023-05-11 00:00:00-03:00  25.430000\n",
       "29 2023-05-12 00:00:00-03:00  26.160000"
      ]
     },
     "execution_count": 36,
     "metadata": {},
     "output_type": "execute_result"
    }
   ],
   "source": [
    "# Remove a ultima data do df_daily\n",
    "df_remove_ticket = df_ticker.loc[(df_ticker['Date'] == pd.to_datetime('today').normalize())]\n",
    "df_ticker = df_ticker.drop(df_remove_ticket.index)\n",
    "df_ticker"
   ]
  },
  {
   "cell_type": "code",
   "execution_count": 37,
   "metadata": {
    "ExecuteTime": {
     "end_time": "2023-05-12T18:44:34.802799Z",
     "start_time": "2023-05-12T18:44:34.798831Z"
    },
    "id": "PdBz3GscHU3_"
   },
   "outputs": [],
   "source": [
    "## Coletando o ultimo preço negociado até o agora\n",
    "#df_ticker_daily_last_price = df_ticker_daily.tail(1)\n",
    "#df_ticker_daily_last_price"
   ]
  },
  {
   "cell_type": "code",
   "execution_count": 38,
   "metadata": {
    "ExecuteTime": {
     "end_time": "2023-05-12T18:44:35.354624Z",
     "start_time": "2023-05-12T18:44:35.350603Z"
    },
    "id": "bDURRstHHVG1"
   },
   "outputs": [],
   "source": [
    "## Ajustar o formato da data e nome coluna\n",
    "#df_ticker_daily_last_price.rename(columns={'Datetime':'Date'}, inplace=True)\n",
    "#df_ticker_daily_last_price"
   ]
  },
  {
   "cell_type": "code",
   "execution_count": 39,
   "metadata": {
    "ExecuteTime": {
     "end_time": "2023-05-12T18:44:35.874665Z",
     "start_time": "2023-05-12T18:44:35.870573Z"
    },
    "id": "Wxr01z3_HVJm"
   },
   "outputs": [],
   "source": [
    "#df_ticker_daily_last_price_formated = pd.to_datetime(df_ticker_daily_last_price['Date'], format='%Y-%m-%d')"
   ]
  },
  {
   "cell_type": "code",
   "execution_count": 40,
   "metadata": {
    "ExecuteTime": {
     "end_time": "2023-05-12T18:44:36.366848Z",
     "start_time": "2023-05-12T18:44:36.349488Z"
    },
    "id": "mBkiLDPUHVL1"
   },
   "outputs": [
    {
     "data": {
      "text/html": [
       "<div>\n",
       "<style scoped>\n",
       "    .dataframe tbody tr th:only-of-type {\n",
       "        vertical-align: middle;\n",
       "    }\n",
       "\n",
       "    .dataframe tbody tr th {\n",
       "        vertical-align: top;\n",
       "    }\n",
       "\n",
       "    .dataframe thead th {\n",
       "        text-align: right;\n",
       "    }\n",
       "</style>\n",
       "<table border=\"1\" class=\"dataframe\">\n",
       "  <thead>\n",
       "    <tr style=\"text-align: right;\">\n",
       "      <th></th>\n",
       "      <th>Date</th>\n",
       "      <th>Close</th>\n",
       "    </tr>\n",
       "  </thead>\n",
       "  <tbody>\n",
       "    <tr>\n",
       "      <th>0</th>\n",
       "      <td>2023-03-29 00:00:00-03:00</td>\n",
       "      <td>21.281473</td>\n",
       "    </tr>\n",
       "    <tr>\n",
       "      <th>1</th>\n",
       "      <td>2023-03-30 00:00:00-03:00</td>\n",
       "      <td>21.343805</td>\n",
       "    </tr>\n",
       "    <tr>\n",
       "      <th>2</th>\n",
       "      <td>2023-03-31 00:00:00-03:00</td>\n",
       "      <td>20.880777</td>\n",
       "    </tr>\n",
       "    <tr>\n",
       "      <th>3</th>\n",
       "      <td>2023-04-03 00:00:00-03:00</td>\n",
       "      <td>21.806833</td>\n",
       "    </tr>\n",
       "    <tr>\n",
       "      <th>4</th>\n",
       "      <td>2023-04-04 00:00:00-03:00</td>\n",
       "      <td>21.610937</td>\n",
       "    </tr>\n",
       "    <tr>\n",
       "      <th>5</th>\n",
       "      <td>2023-04-05 00:00:00-03:00</td>\n",
       "      <td>21.682173</td>\n",
       "    </tr>\n",
       "    <tr>\n",
       "      <th>6</th>\n",
       "      <td>2023-04-06 00:00:00-03:00</td>\n",
       "      <td>21.370518</td>\n",
       "    </tr>\n",
       "    <tr>\n",
       "      <th>7</th>\n",
       "      <td>2023-04-10 00:00:00-03:00</td>\n",
       "      <td>21.824642</td>\n",
       "    </tr>\n",
       "    <tr>\n",
       "      <th>8</th>\n",
       "      <td>2023-04-11 00:00:00-03:00</td>\n",
       "      <td>22.848646</td>\n",
       "    </tr>\n",
       "    <tr>\n",
       "      <th>9</th>\n",
       "      <td>2023-04-12 00:00:00-03:00</td>\n",
       "      <td>23.017830</td>\n",
       "    </tr>\n",
       "    <tr>\n",
       "      <th>10</th>\n",
       "      <td>2023-04-13 00:00:00-03:00</td>\n",
       "      <td>23.178108</td>\n",
       "    </tr>\n",
       "    <tr>\n",
       "      <th>11</th>\n",
       "      <td>2023-04-14 00:00:00-03:00</td>\n",
       "      <td>23.418526</td>\n",
       "    </tr>\n",
       "    <tr>\n",
       "      <th>12</th>\n",
       "      <td>2023-04-17 00:00:00-03:00</td>\n",
       "      <td>23.783606</td>\n",
       "    </tr>\n",
       "    <tr>\n",
       "      <th>13</th>\n",
       "      <td>2023-04-18 00:00:00-03:00</td>\n",
       "      <td>24.389103</td>\n",
       "    </tr>\n",
       "    <tr>\n",
       "      <th>14</th>\n",
       "      <td>2023-04-19 00:00:00-03:00</td>\n",
       "      <td>23.605518</td>\n",
       "    </tr>\n",
       "    <tr>\n",
       "      <th>15</th>\n",
       "      <td>2023-04-20 00:00:00-03:00</td>\n",
       "      <td>23.765797</td>\n",
       "    </tr>\n",
       "    <tr>\n",
       "      <th>16</th>\n",
       "      <td>2023-04-24 00:00:00-03:00</td>\n",
       "      <td>24.219921</td>\n",
       "    </tr>\n",
       "    <tr>\n",
       "      <th>17</th>\n",
       "      <td>2023-04-25 00:00:00-03:00</td>\n",
       "      <td>24.121973</td>\n",
       "    </tr>\n",
       "    <tr>\n",
       "      <th>18</th>\n",
       "      <td>2023-04-26 00:00:00-03:00</td>\n",
       "      <td>23.819223</td>\n",
       "    </tr>\n",
       "    <tr>\n",
       "      <th>19</th>\n",
       "      <td>2023-04-27 00:00:00-03:00</td>\n",
       "      <td>23.240438</td>\n",
       "    </tr>\n",
       "    <tr>\n",
       "      <th>20</th>\n",
       "      <td>2023-04-28 00:00:00-03:00</td>\n",
       "      <td>23.700001</td>\n",
       "    </tr>\n",
       "    <tr>\n",
       "      <th>21</th>\n",
       "      <td>2023-05-02 00:00:00-03:00</td>\n",
       "      <td>22.740000</td>\n",
       "    </tr>\n",
       "    <tr>\n",
       "      <th>22</th>\n",
       "      <td>2023-05-03 00:00:00-03:00</td>\n",
       "      <td>22.660000</td>\n",
       "    </tr>\n",
       "    <tr>\n",
       "      <th>23</th>\n",
       "      <td>2023-05-04 00:00:00-03:00</td>\n",
       "      <td>23.020000</td>\n",
       "    </tr>\n",
       "    <tr>\n",
       "      <th>24</th>\n",
       "      <td>2023-05-05 00:00:00-03:00</td>\n",
       "      <td>24.000000</td>\n",
       "    </tr>\n",
       "    <tr>\n",
       "      <th>25</th>\n",
       "      <td>2023-05-08 00:00:00-03:00</td>\n",
       "      <td>24.510000</td>\n",
       "    </tr>\n",
       "    <tr>\n",
       "      <th>26</th>\n",
       "      <td>2023-05-09 00:00:00-03:00</td>\n",
       "      <td>24.590000</td>\n",
       "    </tr>\n",
       "    <tr>\n",
       "      <th>27</th>\n",
       "      <td>2023-05-10 00:00:00-03:00</td>\n",
       "      <td>24.530001</td>\n",
       "    </tr>\n",
       "    <tr>\n",
       "      <th>28</th>\n",
       "      <td>2023-05-11 00:00:00-03:00</td>\n",
       "      <td>25.430000</td>\n",
       "    </tr>\n",
       "    <tr>\n",
       "      <th>29</th>\n",
       "      <td>2023-05-12 00:00:00-03:00</td>\n",
       "      <td>26.160000</td>\n",
       "    </tr>\n",
       "  </tbody>\n",
       "</table>\n",
       "</div>"
      ],
      "text/plain": [
       "                        Date      Close\n",
       "0  2023-03-29 00:00:00-03:00  21.281473\n",
       "1  2023-03-30 00:00:00-03:00  21.343805\n",
       "2  2023-03-31 00:00:00-03:00  20.880777\n",
       "3  2023-04-03 00:00:00-03:00  21.806833\n",
       "4  2023-04-04 00:00:00-03:00  21.610937\n",
       "5  2023-04-05 00:00:00-03:00  21.682173\n",
       "6  2023-04-06 00:00:00-03:00  21.370518\n",
       "7  2023-04-10 00:00:00-03:00  21.824642\n",
       "8  2023-04-11 00:00:00-03:00  22.848646\n",
       "9  2023-04-12 00:00:00-03:00  23.017830\n",
       "10 2023-04-13 00:00:00-03:00  23.178108\n",
       "11 2023-04-14 00:00:00-03:00  23.418526\n",
       "12 2023-04-17 00:00:00-03:00  23.783606\n",
       "13 2023-04-18 00:00:00-03:00  24.389103\n",
       "14 2023-04-19 00:00:00-03:00  23.605518\n",
       "15 2023-04-20 00:00:00-03:00  23.765797\n",
       "16 2023-04-24 00:00:00-03:00  24.219921\n",
       "17 2023-04-25 00:00:00-03:00  24.121973\n",
       "18 2023-04-26 00:00:00-03:00  23.819223\n",
       "19 2023-04-27 00:00:00-03:00  23.240438\n",
       "20 2023-04-28 00:00:00-03:00  23.700001\n",
       "21 2023-05-02 00:00:00-03:00  22.740000\n",
       "22 2023-05-03 00:00:00-03:00  22.660000\n",
       "23 2023-05-04 00:00:00-03:00  23.020000\n",
       "24 2023-05-05 00:00:00-03:00  24.000000\n",
       "25 2023-05-08 00:00:00-03:00  24.510000\n",
       "26 2023-05-09 00:00:00-03:00  24.590000\n",
       "27 2023-05-10 00:00:00-03:00  24.530001\n",
       "28 2023-05-11 00:00:00-03:00  25.430000\n",
       "29 2023-05-12 00:00:00-03:00  26.160000"
      ]
     },
     "execution_count": 40,
     "metadata": {},
     "output_type": "execute_result"
    }
   ],
   "source": [
    "# Append data atual\n",
    "#df_ticker = df_ticker.append(df_ticker_daily_last_price)\n",
    "df_ticker"
   ]
  },
  {
   "cell_type": "code",
   "execution_count": 41,
   "metadata": {
    "ExecuteTime": {
     "end_time": "2023-05-12T18:44:37.114065Z",
     "start_time": "2023-05-12T18:44:37.095483Z"
    },
    "id": "TOMWKgCg701y"
   },
   "outputs": [
    {
     "data": {
      "text/html": [
       "<div>\n",
       "<style scoped>\n",
       "    .dataframe tbody tr th:only-of-type {\n",
       "        vertical-align: middle;\n",
       "    }\n",
       "\n",
       "    .dataframe tbody tr th {\n",
       "        vertical-align: top;\n",
       "    }\n",
       "\n",
       "    .dataframe thead th {\n",
       "        text-align: right;\n",
       "    }\n",
       "</style>\n",
       "<table border=\"1\" class=\"dataframe\">\n",
       "  <thead>\n",
       "    <tr style=\"text-align: right;\">\n",
       "      <th></th>\n",
       "      <th>Date</th>\n",
       "      <th>Close</th>\n",
       "    </tr>\n",
       "  </thead>\n",
       "  <tbody>\n",
       "    <tr>\n",
       "      <th>0</th>\n",
       "      <td>2023-03-29</td>\n",
       "      <td>21.281473</td>\n",
       "    </tr>\n",
       "    <tr>\n",
       "      <th>1</th>\n",
       "      <td>2023-03-30</td>\n",
       "      <td>21.343805</td>\n",
       "    </tr>\n",
       "    <tr>\n",
       "      <th>2</th>\n",
       "      <td>2023-03-31</td>\n",
       "      <td>20.880777</td>\n",
       "    </tr>\n",
       "    <tr>\n",
       "      <th>3</th>\n",
       "      <td>2023-04-03</td>\n",
       "      <td>21.806833</td>\n",
       "    </tr>\n",
       "    <tr>\n",
       "      <th>4</th>\n",
       "      <td>2023-04-04</td>\n",
       "      <td>21.610937</td>\n",
       "    </tr>\n",
       "    <tr>\n",
       "      <th>5</th>\n",
       "      <td>2023-04-05</td>\n",
       "      <td>21.682173</td>\n",
       "    </tr>\n",
       "    <tr>\n",
       "      <th>6</th>\n",
       "      <td>2023-04-06</td>\n",
       "      <td>21.370518</td>\n",
       "    </tr>\n",
       "    <tr>\n",
       "      <th>7</th>\n",
       "      <td>2023-04-10</td>\n",
       "      <td>21.824642</td>\n",
       "    </tr>\n",
       "    <tr>\n",
       "      <th>8</th>\n",
       "      <td>2023-04-11</td>\n",
       "      <td>22.848646</td>\n",
       "    </tr>\n",
       "    <tr>\n",
       "      <th>9</th>\n",
       "      <td>2023-04-12</td>\n",
       "      <td>23.017830</td>\n",
       "    </tr>\n",
       "    <tr>\n",
       "      <th>10</th>\n",
       "      <td>2023-04-13</td>\n",
       "      <td>23.178108</td>\n",
       "    </tr>\n",
       "    <tr>\n",
       "      <th>11</th>\n",
       "      <td>2023-04-14</td>\n",
       "      <td>23.418526</td>\n",
       "    </tr>\n",
       "    <tr>\n",
       "      <th>12</th>\n",
       "      <td>2023-04-17</td>\n",
       "      <td>23.783606</td>\n",
       "    </tr>\n",
       "    <tr>\n",
       "      <th>13</th>\n",
       "      <td>2023-04-18</td>\n",
       "      <td>24.389103</td>\n",
       "    </tr>\n",
       "    <tr>\n",
       "      <th>14</th>\n",
       "      <td>2023-04-19</td>\n",
       "      <td>23.605518</td>\n",
       "    </tr>\n",
       "    <tr>\n",
       "      <th>15</th>\n",
       "      <td>2023-04-20</td>\n",
       "      <td>23.765797</td>\n",
       "    </tr>\n",
       "    <tr>\n",
       "      <th>16</th>\n",
       "      <td>2023-04-24</td>\n",
       "      <td>24.219921</td>\n",
       "    </tr>\n",
       "    <tr>\n",
       "      <th>17</th>\n",
       "      <td>2023-04-25</td>\n",
       "      <td>24.121973</td>\n",
       "    </tr>\n",
       "    <tr>\n",
       "      <th>18</th>\n",
       "      <td>2023-04-26</td>\n",
       "      <td>23.819223</td>\n",
       "    </tr>\n",
       "    <tr>\n",
       "      <th>19</th>\n",
       "      <td>2023-04-27</td>\n",
       "      <td>23.240438</td>\n",
       "    </tr>\n",
       "    <tr>\n",
       "      <th>20</th>\n",
       "      <td>2023-04-28</td>\n",
       "      <td>23.700001</td>\n",
       "    </tr>\n",
       "    <tr>\n",
       "      <th>21</th>\n",
       "      <td>2023-05-02</td>\n",
       "      <td>22.740000</td>\n",
       "    </tr>\n",
       "    <tr>\n",
       "      <th>22</th>\n",
       "      <td>2023-05-03</td>\n",
       "      <td>22.660000</td>\n",
       "    </tr>\n",
       "    <tr>\n",
       "      <th>23</th>\n",
       "      <td>2023-05-04</td>\n",
       "      <td>23.020000</td>\n",
       "    </tr>\n",
       "    <tr>\n",
       "      <th>24</th>\n",
       "      <td>2023-05-05</td>\n",
       "      <td>24.000000</td>\n",
       "    </tr>\n",
       "    <tr>\n",
       "      <th>25</th>\n",
       "      <td>2023-05-08</td>\n",
       "      <td>24.510000</td>\n",
       "    </tr>\n",
       "    <tr>\n",
       "      <th>26</th>\n",
       "      <td>2023-05-09</td>\n",
       "      <td>24.590000</td>\n",
       "    </tr>\n",
       "    <tr>\n",
       "      <th>27</th>\n",
       "      <td>2023-05-10</td>\n",
       "      <td>24.530001</td>\n",
       "    </tr>\n",
       "    <tr>\n",
       "      <th>28</th>\n",
       "      <td>2023-05-11</td>\n",
       "      <td>25.430000</td>\n",
       "    </tr>\n",
       "    <tr>\n",
       "      <th>29</th>\n",
       "      <td>2023-05-12</td>\n",
       "      <td>26.160000</td>\n",
       "    </tr>\n",
       "  </tbody>\n",
       "</table>\n",
       "</div>"
      ],
      "text/plain": [
       "          Date      Close\n",
       "0   2023-03-29  21.281473\n",
       "1   2023-03-30  21.343805\n",
       "2   2023-03-31  20.880777\n",
       "3   2023-04-03  21.806833\n",
       "4   2023-04-04  21.610937\n",
       "5   2023-04-05  21.682173\n",
       "6   2023-04-06  21.370518\n",
       "7   2023-04-10  21.824642\n",
       "8   2023-04-11  22.848646\n",
       "9   2023-04-12  23.017830\n",
       "10  2023-04-13  23.178108\n",
       "11  2023-04-14  23.418526\n",
       "12  2023-04-17  23.783606\n",
       "13  2023-04-18  24.389103\n",
       "14  2023-04-19  23.605518\n",
       "15  2023-04-20  23.765797\n",
       "16  2023-04-24  24.219921\n",
       "17  2023-04-25  24.121973\n",
       "18  2023-04-26  23.819223\n",
       "19  2023-04-27  23.240438\n",
       "20  2023-04-28  23.700001\n",
       "21  2023-05-02  22.740000\n",
       "22  2023-05-03  22.660000\n",
       "23  2023-05-04  23.020000\n",
       "24  2023-05-05  24.000000\n",
       "25  2023-05-08  24.510000\n",
       "26  2023-05-09  24.590000\n",
       "27  2023-05-10  24.530001\n",
       "28  2023-05-11  25.430000\n",
       "29  2023-05-12  26.160000"
      ]
     },
     "execution_count": 41,
     "metadata": {},
     "output_type": "execute_result"
    }
   ],
   "source": [
    "#Ajustando a data\n",
    "df_ticker['Date'] = pd.to_datetime(df_ticker['Date'], utc=True).dt.date\n",
    "df_ticker"
   ]
  },
  {
   "cell_type": "code",
   "execution_count": 42,
   "metadata": {
    "ExecuteTime": {
     "end_time": "2023-05-12T18:44:37.857508Z",
     "start_time": "2023-05-12T18:44:37.840325Z"
    },
    "id": "Xgluu6na70zx"
   },
   "outputs": [
    {
     "data": {
      "text/html": [
       "<div>\n",
       "<style scoped>\n",
       "    .dataframe tbody tr th:only-of-type {\n",
       "        vertical-align: middle;\n",
       "    }\n",
       "\n",
       "    .dataframe tbody tr th {\n",
       "        vertical-align: top;\n",
       "    }\n",
       "\n",
       "    .dataframe thead th {\n",
       "        text-align: right;\n",
       "    }\n",
       "</style>\n",
       "<table border=\"1\" class=\"dataframe\">\n",
       "  <thead>\n",
       "    <tr style=\"text-align: right;\">\n",
       "      <th></th>\n",
       "      <th>Date</th>\n",
       "      <th>Close</th>\n",
       "      <th>MACD</th>\n",
       "      <th>sinal</th>\n",
       "    </tr>\n",
       "  </thead>\n",
       "  <tbody>\n",
       "    <tr>\n",
       "      <th>0</th>\n",
       "      <td>2023-03-29</td>\n",
       "      <td>21.281473</td>\n",
       "      <td>0.000000</td>\n",
       "      <td>0.000000</td>\n",
       "    </tr>\n",
       "    <tr>\n",
       "      <th>1</th>\n",
       "      <td>2023-03-30</td>\n",
       "      <td>21.343805</td>\n",
       "      <td>0.001398</td>\n",
       "      <td>0.000777</td>\n",
       "    </tr>\n",
       "    <tr>\n",
       "      <th>2</th>\n",
       "      <td>2023-03-31</td>\n",
       "      <td>20.880777</td>\n",
       "      <td>-0.012577</td>\n",
       "      <td>-0.004696</td>\n",
       "    </tr>\n",
       "    <tr>\n",
       "      <th>3</th>\n",
       "      <td>2023-04-03</td>\n",
       "      <td>21.806833</td>\n",
       "      <td>0.014810</td>\n",
       "      <td>0.001912</td>\n",
       "    </tr>\n",
       "    <tr>\n",
       "      <th>4</th>\n",
       "      <td>2023-04-04</td>\n",
       "      <td>21.610937</td>\n",
       "      <td>0.021585</td>\n",
       "      <td>0.007764</td>\n",
       "    </tr>\n",
       "    <tr>\n",
       "      <th>5</th>\n",
       "      <td>2023-04-05</td>\n",
       "      <td>21.682173</td>\n",
       "      <td>0.028298</td>\n",
       "      <td>0.013330</td>\n",
       "    </tr>\n",
       "    <tr>\n",
       "      <th>6</th>\n",
       "      <td>2023-04-06</td>\n",
       "      <td>21.370518</td>\n",
       "      <td>0.017997</td>\n",
       "      <td>0.014511</td>\n",
       "    </tr>\n",
       "    <tr>\n",
       "      <th>7</th>\n",
       "      <td>2023-04-10</td>\n",
       "      <td>21.824642</td>\n",
       "      <td>0.032399</td>\n",
       "      <td>0.018810</td>\n",
       "    </tr>\n",
       "    <tr>\n",
       "      <th>8</th>\n",
       "      <td>2023-04-11</td>\n",
       "      <td>22.848646</td>\n",
       "      <td>0.092683</td>\n",
       "      <td>0.035875</td>\n",
       "    </tr>\n",
       "    <tr>\n",
       "      <th>9</th>\n",
       "      <td>2023-04-12</td>\n",
       "      <td>23.017830</td>\n",
       "      <td>0.142814</td>\n",
       "      <td>0.059836</td>\n",
       "    </tr>\n",
       "    <tr>\n",
       "      <th>10</th>\n",
       "      <td>2023-04-13</td>\n",
       "      <td>23.178108</td>\n",
       "      <td>0.185575</td>\n",
       "      <td>0.087347</td>\n",
       "    </tr>\n",
       "    <tr>\n",
       "      <th>11</th>\n",
       "      <td>2023-04-14</td>\n",
       "      <td>23.418526</td>\n",
       "      <td>0.227607</td>\n",
       "      <td>0.117468</td>\n",
       "    </tr>\n",
       "    <tr>\n",
       "      <th>12</th>\n",
       "      <td>2023-04-17</td>\n",
       "      <td>23.783606</td>\n",
       "      <td>0.276382</td>\n",
       "      <td>0.151100</td>\n",
       "    </tr>\n",
       "    <tr>\n",
       "      <th>13</th>\n",
       "      <td>2023-04-18</td>\n",
       "      <td>24.389103</td>\n",
       "      <td>0.344394</td>\n",
       "      <td>0.191537</td>\n",
       "    </tr>\n",
       "    <tr>\n",
       "      <th>14</th>\n",
       "      <td>2023-04-19</td>\n",
       "      <td>23.605518</td>\n",
       "      <td>0.344791</td>\n",
       "      <td>0.223306</td>\n",
       "    </tr>\n",
       "    <tr>\n",
       "      <th>15</th>\n",
       "      <td>2023-04-20</td>\n",
       "      <td>23.765797</td>\n",
       "      <td>0.350480</td>\n",
       "      <td>0.249477</td>\n",
       "    </tr>\n",
       "    <tr>\n",
       "      <th>16</th>\n",
       "      <td>2023-04-24</td>\n",
       "      <td>24.219921</td>\n",
       "      <td>0.378573</td>\n",
       "      <td>0.275891</td>\n",
       "    </tr>\n",
       "    <tr>\n",
       "      <th>17</th>\n",
       "      <td>2023-04-25</td>\n",
       "      <td>24.121973</td>\n",
       "      <td>0.389264</td>\n",
       "      <td>0.298982</td>\n",
       "    </tr>\n",
       "    <tr>\n",
       "      <th>18</th>\n",
       "      <td>2023-04-26</td>\n",
       "      <td>23.819223</td>\n",
       "      <td>0.373325</td>\n",
       "      <td>0.314068</td>\n",
       "    </tr>\n",
       "    <tr>\n",
       "      <th>19</th>\n",
       "      <td>2023-04-27</td>\n",
       "      <td>23.240438</td>\n",
       "      <td>0.318807</td>\n",
       "      <td>0.315027</td>\n",
       "    </tr>\n",
       "    <tr>\n",
       "      <th>20</th>\n",
       "      <td>2023-04-28</td>\n",
       "      <td>23.700001</td>\n",
       "      <td>0.303268</td>\n",
       "      <td>0.312653</td>\n",
       "    </tr>\n",
       "    <tr>\n",
       "      <th>21</th>\n",
       "      <td>2023-05-02</td>\n",
       "      <td>22.740000</td>\n",
       "      <td>0.223231</td>\n",
       "      <td>0.294636</td>\n",
       "    </tr>\n",
       "    <tr>\n",
       "      <th>22</th>\n",
       "      <td>2023-05-03</td>\n",
       "      <td>22.660000</td>\n",
       "      <td>0.153077</td>\n",
       "      <td>0.266156</td>\n",
       "    </tr>\n",
       "    <tr>\n",
       "      <th>23</th>\n",
       "      <td>2023-05-04</td>\n",
       "      <td>23.020000</td>\n",
       "      <td>0.121532</td>\n",
       "      <td>0.237094</td>\n",
       "    </tr>\n",
       "    <tr>\n",
       "      <th>24</th>\n",
       "      <td>2023-05-05</td>\n",
       "      <td>24.000000</td>\n",
       "      <td>0.163688</td>\n",
       "      <td>0.222357</td>\n",
       "    </tr>\n",
       "    <tr>\n",
       "      <th>25</th>\n",
       "      <td>2023-05-08</td>\n",
       "      <td>24.510000</td>\n",
       "      <td>0.230396</td>\n",
       "      <td>0.223970</td>\n",
       "    </tr>\n",
       "    <tr>\n",
       "      <th>26</th>\n",
       "      <td>2023-05-09</td>\n",
       "      <td>24.590000</td>\n",
       "      <td>0.285350</td>\n",
       "      <td>0.236275</td>\n",
       "    </tr>\n",
       "    <tr>\n",
       "      <th>27</th>\n",
       "      <td>2023-05-10</td>\n",
       "      <td>24.530001</td>\n",
       "      <td>0.320583</td>\n",
       "      <td>0.253169</td>\n",
       "    </tr>\n",
       "    <tr>\n",
       "      <th>28</th>\n",
       "      <td>2023-05-11</td>\n",
       "      <td>25.430000</td>\n",
       "      <td>0.409222</td>\n",
       "      <td>0.284428</td>\n",
       "    </tr>\n",
       "    <tr>\n",
       "      <th>29</th>\n",
       "      <td>2023-05-12</td>\n",
       "      <td>26.160000</td>\n",
       "      <td>0.526690</td>\n",
       "      <td>0.332941</td>\n",
       "    </tr>\n",
       "  </tbody>\n",
       "</table>\n",
       "</div>"
      ],
      "text/plain": [
       "          Date      Close      MACD     sinal\n",
       "0   2023-03-29  21.281473  0.000000  0.000000\n",
       "1   2023-03-30  21.343805  0.001398  0.000777\n",
       "2   2023-03-31  20.880777 -0.012577 -0.004696\n",
       "3   2023-04-03  21.806833  0.014810  0.001912\n",
       "4   2023-04-04  21.610937  0.021585  0.007764\n",
       "5   2023-04-05  21.682173  0.028298  0.013330\n",
       "6   2023-04-06  21.370518  0.017997  0.014511\n",
       "7   2023-04-10  21.824642  0.032399  0.018810\n",
       "8   2023-04-11  22.848646  0.092683  0.035875\n",
       "9   2023-04-12  23.017830  0.142814  0.059836\n",
       "10  2023-04-13  23.178108  0.185575  0.087347\n",
       "11  2023-04-14  23.418526  0.227607  0.117468\n",
       "12  2023-04-17  23.783606  0.276382  0.151100\n",
       "13  2023-04-18  24.389103  0.344394  0.191537\n",
       "14  2023-04-19  23.605518  0.344791  0.223306\n",
       "15  2023-04-20  23.765797  0.350480  0.249477\n",
       "16  2023-04-24  24.219921  0.378573  0.275891\n",
       "17  2023-04-25  24.121973  0.389264  0.298982\n",
       "18  2023-04-26  23.819223  0.373325  0.314068\n",
       "19  2023-04-27  23.240438  0.318807  0.315027\n",
       "20  2023-04-28  23.700001  0.303268  0.312653\n",
       "21  2023-05-02  22.740000  0.223231  0.294636\n",
       "22  2023-05-03  22.660000  0.153077  0.266156\n",
       "23  2023-05-04  23.020000  0.121532  0.237094\n",
       "24  2023-05-05  24.000000  0.163688  0.222357\n",
       "25  2023-05-08  24.510000  0.230396  0.223970\n",
       "26  2023-05-09  24.590000  0.285350  0.236275\n",
       "27  2023-05-10  24.530001  0.320583  0.253169\n",
       "28  2023-05-11  25.430000  0.409222  0.284428\n",
       "29  2023-05-12  26.160000  0.526690  0.332941"
      ]
     },
     "execution_count": 42,
     "metadata": {},
     "output_type": "execute_result"
    }
   ],
   "source": [
    "# Calculando o MACD\n",
    "rapidaMME=df_ticker.Close.ewm(span=12).mean()\n",
    "lentaMME=df_ticker.Close.ewm(span=26).mean()\n",
    "\n",
    "MACD = rapidaMME - lentaMME\n",
    "\n",
    "sinal = MACD.ewm(span=9).mean()\n",
    "\n",
    "df_ticker['MACD'] = MACD\n",
    "df_ticker['sinal'] = sinal\n",
    "df_ticker"
   ]
  },
  {
   "cell_type": "code",
   "execution_count": 43,
   "metadata": {
    "ExecuteTime": {
     "end_time": "2023-05-12T18:44:38.639078Z",
     "start_time": "2023-05-12T18:44:38.580735Z"
    },
    "id": "hpat0S0QFotW"
   },
   "outputs": [
    {
     "data": {
      "text/html": [
       "<div>\n",
       "<style scoped>\n",
       "    .dataframe tbody tr th:only-of-type {\n",
       "        vertical-align: middle;\n",
       "    }\n",
       "\n",
       "    .dataframe tbody tr th {\n",
       "        vertical-align: top;\n",
       "    }\n",
       "\n",
       "    .dataframe thead th {\n",
       "        text-align: right;\n",
       "    }\n",
       "</style>\n",
       "<table border=\"1\" class=\"dataframe\">\n",
       "  <thead>\n",
       "    <tr style=\"text-align: right;\">\n",
       "      <th></th>\n",
       "      <th>Date</th>\n",
       "      <th>Close</th>\n",
       "      <th>MACD</th>\n",
       "      <th>sinal</th>\n",
       "      <th>flag</th>\n",
       "      <th>preco_compra</th>\n",
       "      <th>preco_venda</th>\n",
       "    </tr>\n",
       "  </thead>\n",
       "  <tbody>\n",
       "    <tr>\n",
       "      <th>0</th>\n",
       "      <td>2023-03-29</td>\n",
       "      <td>21.281473</td>\n",
       "      <td>0.000000</td>\n",
       "      <td>0.000000</td>\n",
       "      <td></td>\n",
       "      <td>NaN</td>\n",
       "      <td>NaN</td>\n",
       "    </tr>\n",
       "    <tr>\n",
       "      <th>1</th>\n",
       "      <td>2023-03-30</td>\n",
       "      <td>21.343805</td>\n",
       "      <td>0.001398</td>\n",
       "      <td>0.000777</td>\n",
       "      <td>C</td>\n",
       "      <td>21.343805</td>\n",
       "      <td>NaN</td>\n",
       "    </tr>\n",
       "    <tr>\n",
       "      <th>2</th>\n",
       "      <td>2023-03-31</td>\n",
       "      <td>20.880777</td>\n",
       "      <td>-0.012577</td>\n",
       "      <td>-0.004696</td>\n",
       "      <td>V</td>\n",
       "      <td>NaN</td>\n",
       "      <td>20.880777</td>\n",
       "    </tr>\n",
       "    <tr>\n",
       "      <th>3</th>\n",
       "      <td>2023-04-03</td>\n",
       "      <td>21.806833</td>\n",
       "      <td>0.014810</td>\n",
       "      <td>0.001912</td>\n",
       "      <td>C</td>\n",
       "      <td>21.806833</td>\n",
       "      <td>NaN</td>\n",
       "    </tr>\n",
       "    <tr>\n",
       "      <th>4</th>\n",
       "      <td>2023-04-04</td>\n",
       "      <td>21.610937</td>\n",
       "      <td>0.021585</td>\n",
       "      <td>0.007764</td>\n",
       "      <td>C</td>\n",
       "      <td>NaN</td>\n",
       "      <td>NaN</td>\n",
       "    </tr>\n",
       "    <tr>\n",
       "      <th>5</th>\n",
       "      <td>2023-04-05</td>\n",
       "      <td>21.682173</td>\n",
       "      <td>0.028298</td>\n",
       "      <td>0.013330</td>\n",
       "      <td>C</td>\n",
       "      <td>NaN</td>\n",
       "      <td>NaN</td>\n",
       "    </tr>\n",
       "    <tr>\n",
       "      <th>6</th>\n",
       "      <td>2023-04-06</td>\n",
       "      <td>21.370518</td>\n",
       "      <td>0.017997</td>\n",
       "      <td>0.014511</td>\n",
       "      <td>C</td>\n",
       "      <td>NaN</td>\n",
       "      <td>NaN</td>\n",
       "    </tr>\n",
       "    <tr>\n",
       "      <th>7</th>\n",
       "      <td>2023-04-10</td>\n",
       "      <td>21.824642</td>\n",
       "      <td>0.032399</td>\n",
       "      <td>0.018810</td>\n",
       "      <td>C</td>\n",
       "      <td>NaN</td>\n",
       "      <td>NaN</td>\n",
       "    </tr>\n",
       "    <tr>\n",
       "      <th>8</th>\n",
       "      <td>2023-04-11</td>\n",
       "      <td>22.848646</td>\n",
       "      <td>0.092683</td>\n",
       "      <td>0.035875</td>\n",
       "      <td>C</td>\n",
       "      <td>NaN</td>\n",
       "      <td>NaN</td>\n",
       "    </tr>\n",
       "    <tr>\n",
       "      <th>9</th>\n",
       "      <td>2023-04-12</td>\n",
       "      <td>23.017830</td>\n",
       "      <td>0.142814</td>\n",
       "      <td>0.059836</td>\n",
       "      <td>C</td>\n",
       "      <td>NaN</td>\n",
       "      <td>NaN</td>\n",
       "    </tr>\n",
       "    <tr>\n",
       "      <th>10</th>\n",
       "      <td>2023-04-13</td>\n",
       "      <td>23.178108</td>\n",
       "      <td>0.185575</td>\n",
       "      <td>0.087347</td>\n",
       "      <td>C</td>\n",
       "      <td>NaN</td>\n",
       "      <td>NaN</td>\n",
       "    </tr>\n",
       "    <tr>\n",
       "      <th>11</th>\n",
       "      <td>2023-04-14</td>\n",
       "      <td>23.418526</td>\n",
       "      <td>0.227607</td>\n",
       "      <td>0.117468</td>\n",
       "      <td>C</td>\n",
       "      <td>NaN</td>\n",
       "      <td>NaN</td>\n",
       "    </tr>\n",
       "    <tr>\n",
       "      <th>12</th>\n",
       "      <td>2023-04-17</td>\n",
       "      <td>23.783606</td>\n",
       "      <td>0.276382</td>\n",
       "      <td>0.151100</td>\n",
       "      <td>C</td>\n",
       "      <td>NaN</td>\n",
       "      <td>NaN</td>\n",
       "    </tr>\n",
       "    <tr>\n",
       "      <th>13</th>\n",
       "      <td>2023-04-18</td>\n",
       "      <td>24.389103</td>\n",
       "      <td>0.344394</td>\n",
       "      <td>0.191537</td>\n",
       "      <td>C</td>\n",
       "      <td>NaN</td>\n",
       "      <td>NaN</td>\n",
       "    </tr>\n",
       "    <tr>\n",
       "      <th>14</th>\n",
       "      <td>2023-04-19</td>\n",
       "      <td>23.605518</td>\n",
       "      <td>0.344791</td>\n",
       "      <td>0.223306</td>\n",
       "      <td>C</td>\n",
       "      <td>NaN</td>\n",
       "      <td>NaN</td>\n",
       "    </tr>\n",
       "    <tr>\n",
       "      <th>15</th>\n",
       "      <td>2023-04-20</td>\n",
       "      <td>23.765797</td>\n",
       "      <td>0.350480</td>\n",
       "      <td>0.249477</td>\n",
       "      <td>C</td>\n",
       "      <td>NaN</td>\n",
       "      <td>NaN</td>\n",
       "    </tr>\n",
       "    <tr>\n",
       "      <th>16</th>\n",
       "      <td>2023-04-24</td>\n",
       "      <td>24.219921</td>\n",
       "      <td>0.378573</td>\n",
       "      <td>0.275891</td>\n",
       "      <td>C</td>\n",
       "      <td>NaN</td>\n",
       "      <td>NaN</td>\n",
       "    </tr>\n",
       "    <tr>\n",
       "      <th>17</th>\n",
       "      <td>2023-04-25</td>\n",
       "      <td>24.121973</td>\n",
       "      <td>0.389264</td>\n",
       "      <td>0.298982</td>\n",
       "      <td>C</td>\n",
       "      <td>NaN</td>\n",
       "      <td>NaN</td>\n",
       "    </tr>\n",
       "    <tr>\n",
       "      <th>18</th>\n",
       "      <td>2023-04-26</td>\n",
       "      <td>23.819223</td>\n",
       "      <td>0.373325</td>\n",
       "      <td>0.314068</td>\n",
       "      <td>C</td>\n",
       "      <td>NaN</td>\n",
       "      <td>NaN</td>\n",
       "    </tr>\n",
       "    <tr>\n",
       "      <th>19</th>\n",
       "      <td>2023-04-27</td>\n",
       "      <td>23.240438</td>\n",
       "      <td>0.318807</td>\n",
       "      <td>0.315027</td>\n",
       "      <td>C</td>\n",
       "      <td>NaN</td>\n",
       "      <td>NaN</td>\n",
       "    </tr>\n",
       "    <tr>\n",
       "      <th>20</th>\n",
       "      <td>2023-04-28</td>\n",
       "      <td>23.700001</td>\n",
       "      <td>0.303268</td>\n",
       "      <td>0.312653</td>\n",
       "      <td>V</td>\n",
       "      <td>NaN</td>\n",
       "      <td>23.700001</td>\n",
       "    </tr>\n",
       "    <tr>\n",
       "      <th>21</th>\n",
       "      <td>2023-05-02</td>\n",
       "      <td>22.740000</td>\n",
       "      <td>0.223231</td>\n",
       "      <td>0.294636</td>\n",
       "      <td>V</td>\n",
       "      <td>NaN</td>\n",
       "      <td>NaN</td>\n",
       "    </tr>\n",
       "    <tr>\n",
       "      <th>22</th>\n",
       "      <td>2023-05-03</td>\n",
       "      <td>22.660000</td>\n",
       "      <td>0.153077</td>\n",
       "      <td>0.266156</td>\n",
       "      <td>V</td>\n",
       "      <td>NaN</td>\n",
       "      <td>NaN</td>\n",
       "    </tr>\n",
       "    <tr>\n",
       "      <th>23</th>\n",
       "      <td>2023-05-04</td>\n",
       "      <td>23.020000</td>\n",
       "      <td>0.121532</td>\n",
       "      <td>0.237094</td>\n",
       "      <td>V</td>\n",
       "      <td>NaN</td>\n",
       "      <td>NaN</td>\n",
       "    </tr>\n",
       "    <tr>\n",
       "      <th>24</th>\n",
       "      <td>2023-05-05</td>\n",
       "      <td>24.000000</td>\n",
       "      <td>0.163688</td>\n",
       "      <td>0.222357</td>\n",
       "      <td>V</td>\n",
       "      <td>NaN</td>\n",
       "      <td>NaN</td>\n",
       "    </tr>\n",
       "    <tr>\n",
       "      <th>25</th>\n",
       "      <td>2023-05-08</td>\n",
       "      <td>24.510000</td>\n",
       "      <td>0.230396</td>\n",
       "      <td>0.223970</td>\n",
       "      <td>C</td>\n",
       "      <td>24.510000</td>\n",
       "      <td>NaN</td>\n",
       "    </tr>\n",
       "    <tr>\n",
       "      <th>26</th>\n",
       "      <td>2023-05-09</td>\n",
       "      <td>24.590000</td>\n",
       "      <td>0.285350</td>\n",
       "      <td>0.236275</td>\n",
       "      <td>C</td>\n",
       "      <td>NaN</td>\n",
       "      <td>NaN</td>\n",
       "    </tr>\n",
       "    <tr>\n",
       "      <th>27</th>\n",
       "      <td>2023-05-10</td>\n",
       "      <td>24.530001</td>\n",
       "      <td>0.320583</td>\n",
       "      <td>0.253169</td>\n",
       "      <td>C</td>\n",
       "      <td>NaN</td>\n",
       "      <td>NaN</td>\n",
       "    </tr>\n",
       "    <tr>\n",
       "      <th>28</th>\n",
       "      <td>2023-05-11</td>\n",
       "      <td>25.430000</td>\n",
       "      <td>0.409222</td>\n",
       "      <td>0.284428</td>\n",
       "      <td>C</td>\n",
       "      <td>NaN</td>\n",
       "      <td>NaN</td>\n",
       "    </tr>\n",
       "    <tr>\n",
       "      <th>29</th>\n",
       "      <td>2023-05-12</td>\n",
       "      <td>26.160000</td>\n",
       "      <td>0.526690</td>\n",
       "      <td>0.332941</td>\n",
       "      <td>C</td>\n",
       "      <td>NaN</td>\n",
       "      <td>NaN</td>\n",
       "    </tr>\n",
       "  </tbody>\n",
       "</table>\n",
       "</div>"
      ],
      "text/plain": [
       "          Date      Close      MACD     sinal flag  preco_compra  preco_venda\n",
       "0   2023-03-29  21.281473  0.000000  0.000000                NaN          NaN\n",
       "1   2023-03-30  21.343805  0.001398  0.000777    C     21.343805          NaN\n",
       "2   2023-03-31  20.880777 -0.012577 -0.004696    V           NaN    20.880777\n",
       "3   2023-04-03  21.806833  0.014810  0.001912    C     21.806833          NaN\n",
       "4   2023-04-04  21.610937  0.021585  0.007764    C           NaN          NaN\n",
       "5   2023-04-05  21.682173  0.028298  0.013330    C           NaN          NaN\n",
       "6   2023-04-06  21.370518  0.017997  0.014511    C           NaN          NaN\n",
       "7   2023-04-10  21.824642  0.032399  0.018810    C           NaN          NaN\n",
       "8   2023-04-11  22.848646  0.092683  0.035875    C           NaN          NaN\n",
       "9   2023-04-12  23.017830  0.142814  0.059836    C           NaN          NaN\n",
       "10  2023-04-13  23.178108  0.185575  0.087347    C           NaN          NaN\n",
       "11  2023-04-14  23.418526  0.227607  0.117468    C           NaN          NaN\n",
       "12  2023-04-17  23.783606  0.276382  0.151100    C           NaN          NaN\n",
       "13  2023-04-18  24.389103  0.344394  0.191537    C           NaN          NaN\n",
       "14  2023-04-19  23.605518  0.344791  0.223306    C           NaN          NaN\n",
       "15  2023-04-20  23.765797  0.350480  0.249477    C           NaN          NaN\n",
       "16  2023-04-24  24.219921  0.378573  0.275891    C           NaN          NaN\n",
       "17  2023-04-25  24.121973  0.389264  0.298982    C           NaN          NaN\n",
       "18  2023-04-26  23.819223  0.373325  0.314068    C           NaN          NaN\n",
       "19  2023-04-27  23.240438  0.318807  0.315027    C           NaN          NaN\n",
       "20  2023-04-28  23.700001  0.303268  0.312653    V           NaN    23.700001\n",
       "21  2023-05-02  22.740000  0.223231  0.294636    V           NaN          NaN\n",
       "22  2023-05-03  22.660000  0.153077  0.266156    V           NaN          NaN\n",
       "23  2023-05-04  23.020000  0.121532  0.237094    V           NaN          NaN\n",
       "24  2023-05-05  24.000000  0.163688  0.222357    V           NaN          NaN\n",
       "25  2023-05-08  24.510000  0.230396  0.223970    C     24.510000          NaN\n",
       "26  2023-05-09  24.590000  0.285350  0.236275    C           NaN          NaN\n",
       "27  2023-05-10  24.530001  0.320583  0.253169    C           NaN          NaN\n",
       "28  2023-05-11  25.430000  0.409222  0.284428    C           NaN          NaN\n",
       "29  2023-05-12  26.160000  0.526690  0.332941    C           NaN          NaN"
      ]
     },
     "execution_count": 43,
     "metadata": {},
     "output_type": "execute_result"
    }
   ],
   "source": [
    "# Codigo para decidiar compra e venda\n",
    "df_ticker.at[0, 'flag'] = ''\n",
    "df_ticker['preco_compra']=np.nan\n",
    "df_ticker['preco_venda']=np.nan\n",
    "\n",
    "\n",
    "for i in range(1, len(df_ticker.sinal)):\n",
    "  if df_ticker['MACD'].iloc[i] > df_ticker['sinal'].iloc[i]:\n",
    "    if df_ticker['flag'].iloc[i-1] == 'C':\n",
    "      df_ticker['flag'][i] = 'C'\n",
    "    else:\n",
    "      df_ticker['flag'][i] = 'C'\n",
    "      df_ticker['preco_compra'][i] = df_ticker['Close'][i]\n",
    "\n",
    "  elif df_ticker['MACD'].iloc[i] < df_ticker['sinal'].iloc[i]:\n",
    "    if df_ticker['flag'].iloc[i-1] == 'V':\n",
    "      df_ticker['flag'][i] = 'V'\n",
    "    else:\n",
    "      df_ticker['flag'][i] = 'V'\n",
    "      df_ticker['preco_venda'][i] = df_ticker['Close'][i]\n",
    "\n",
    "df_ticker\n"
   ]
  },
  {
   "cell_type": "code",
   "execution_count": 44,
   "metadata": {
    "ExecuteTime": {
     "end_time": "2023-05-12T18:44:39.524963Z",
     "start_time": "2023-05-12T18:44:39.519741Z"
    },
    "id": "2oevhDWEHVOL"
   },
   "outputs": [],
   "source": [
    "#Visualização grafica\n",
    "import plotly.graph_objects as go\n",
    "import plotly.io as pio\n",
    "from plotly.subplots import make_subplots"
   ]
  },
  {
   "cell_type": "code",
   "execution_count": 45,
   "metadata": {
    "ExecuteTime": {
     "end_time": "2023-05-12T18:44:41.006982Z",
     "start_time": "2023-05-12T18:44:40.980367Z"
    },
    "id": "8e0mPKCTOR5H"
   },
   "outputs": [
    {
     "data": {
      "application/vnd.plotly.v1+json": {
       "config": {
        "plotlyServerURL": "https://plot.ly"
       },
       "data": [
        {
         "line": {
          "color": "orange"
         },
         "name": "Preço fechamento",
         "type": "scatter",
         "x": [
          0,
          1,
          2,
          3,
          4,
          5,
          6,
          7,
          8,
          9,
          10,
          11,
          12,
          13,
          14,
          15,
          16,
          17,
          18,
          19,
          20,
          21,
          22,
          23,
          24,
          25,
          26,
          27,
          28,
          29
         ],
         "y": [
          21.28147315979004,
          21.34380531311035,
          20.88077735900879,
          21.806833267211914,
          21.610937118530273,
          21.682172775268555,
          21.37051773071289,
          21.824642181396484,
          22.84864616394043,
          23.01782989501953,
          23.17810821533203,
          23.41852569580078,
          23.783605575561523,
          24.389102935791016,
          23.605518341064453,
          23.765796661376953,
          24.219921112060547,
          24.121973037719727,
          23.819223403930664,
          23.24043846130371,
          23.700000762939453,
          22.739999771118164,
          22.65999984741211,
          23.020000457763672,
          24,
          24.510000228881836,
          24.59000015258789,
          24.530000686645508,
          25.43000030517578,
          26.15999984741211
         ]
        },
        {
         "marker": {
          "color": "green",
          "size": 10
         },
         "mode": "markers",
         "name": "Compra",
         "type": "scatter",
         "x": [
          0,
          1,
          2,
          3,
          4,
          5,
          6,
          7,
          8,
          9,
          10,
          11,
          12,
          13,
          14,
          15,
          16,
          17,
          18,
          19,
          20,
          21,
          22,
          23,
          24,
          25,
          26,
          27,
          28,
          29
         ],
         "y": [
          null,
          21.34380531311035,
          null,
          21.806833267211914,
          null,
          null,
          null,
          null,
          null,
          null,
          null,
          null,
          null,
          null,
          null,
          null,
          null,
          null,
          null,
          null,
          null,
          null,
          null,
          null,
          null,
          24.510000228881836,
          null,
          null,
          null,
          null
         ]
        },
        {
         "marker": {
          "color": "red",
          "size": 10
         },
         "mode": "markers",
         "name": "Venda",
         "type": "scatter",
         "x": [
          0,
          1,
          2,
          3,
          4,
          5,
          6,
          7,
          8,
          9,
          10,
          11,
          12,
          13,
          14,
          15,
          16,
          17,
          18,
          19,
          20,
          21,
          22,
          23,
          24,
          25,
          26,
          27,
          28,
          29
         ],
         "y": [
          null,
          null,
          20.88077735900879,
          null,
          null,
          null,
          null,
          null,
          null,
          null,
          null,
          null,
          null,
          null,
          null,
          null,
          null,
          null,
          null,
          null,
          23.700000762939453,
          null,
          null,
          null,
          null,
          null,
          null,
          null,
          null,
          null
         ]
        }
       ],
       "layout": {
        "template": {
         "data": {
          "bar": [
           {
            "error_x": {
             "color": "#2a3f5f"
            },
            "error_y": {
             "color": "#2a3f5f"
            },
            "marker": {
             "line": {
              "color": "#E5ECF6",
              "width": 0.5
             },
             "pattern": {
              "fillmode": "overlay",
              "size": 10,
              "solidity": 0.2
             }
            },
            "type": "bar"
           }
          ],
          "barpolar": [
           {
            "marker": {
             "line": {
              "color": "#E5ECF6",
              "width": 0.5
             },
             "pattern": {
              "fillmode": "overlay",
              "size": 10,
              "solidity": 0.2
             }
            },
            "type": "barpolar"
           }
          ],
          "carpet": [
           {
            "aaxis": {
             "endlinecolor": "#2a3f5f",
             "gridcolor": "white",
             "linecolor": "white",
             "minorgridcolor": "white",
             "startlinecolor": "#2a3f5f"
            },
            "baxis": {
             "endlinecolor": "#2a3f5f",
             "gridcolor": "white",
             "linecolor": "white",
             "minorgridcolor": "white",
             "startlinecolor": "#2a3f5f"
            },
            "type": "carpet"
           }
          ],
          "choropleth": [
           {
            "colorbar": {
             "outlinewidth": 0,
             "ticks": ""
            },
            "type": "choropleth"
           }
          ],
          "contour": [
           {
            "colorbar": {
             "outlinewidth": 0,
             "ticks": ""
            },
            "colorscale": [
             [
              0,
              "#0d0887"
             ],
             [
              0.1111111111111111,
              "#46039f"
             ],
             [
              0.2222222222222222,
              "#7201a8"
             ],
             [
              0.3333333333333333,
              "#9c179e"
             ],
             [
              0.4444444444444444,
              "#bd3786"
             ],
             [
              0.5555555555555556,
              "#d8576b"
             ],
             [
              0.6666666666666666,
              "#ed7953"
             ],
             [
              0.7777777777777778,
              "#fb9f3a"
             ],
             [
              0.8888888888888888,
              "#fdca26"
             ],
             [
              1,
              "#f0f921"
             ]
            ],
            "type": "contour"
           }
          ],
          "contourcarpet": [
           {
            "colorbar": {
             "outlinewidth": 0,
             "ticks": ""
            },
            "type": "contourcarpet"
           }
          ],
          "heatmap": [
           {
            "colorbar": {
             "outlinewidth": 0,
             "ticks": ""
            },
            "colorscale": [
             [
              0,
              "#0d0887"
             ],
             [
              0.1111111111111111,
              "#46039f"
             ],
             [
              0.2222222222222222,
              "#7201a8"
             ],
             [
              0.3333333333333333,
              "#9c179e"
             ],
             [
              0.4444444444444444,
              "#bd3786"
             ],
             [
              0.5555555555555556,
              "#d8576b"
             ],
             [
              0.6666666666666666,
              "#ed7953"
             ],
             [
              0.7777777777777778,
              "#fb9f3a"
             ],
             [
              0.8888888888888888,
              "#fdca26"
             ],
             [
              1,
              "#f0f921"
             ]
            ],
            "type": "heatmap"
           }
          ],
          "heatmapgl": [
           {
            "colorbar": {
             "outlinewidth": 0,
             "ticks": ""
            },
            "colorscale": [
             [
              0,
              "#0d0887"
             ],
             [
              0.1111111111111111,
              "#46039f"
             ],
             [
              0.2222222222222222,
              "#7201a8"
             ],
             [
              0.3333333333333333,
              "#9c179e"
             ],
             [
              0.4444444444444444,
              "#bd3786"
             ],
             [
              0.5555555555555556,
              "#d8576b"
             ],
             [
              0.6666666666666666,
              "#ed7953"
             ],
             [
              0.7777777777777778,
              "#fb9f3a"
             ],
             [
              0.8888888888888888,
              "#fdca26"
             ],
             [
              1,
              "#f0f921"
             ]
            ],
            "type": "heatmapgl"
           }
          ],
          "histogram": [
           {
            "marker": {
             "pattern": {
              "fillmode": "overlay",
              "size": 10,
              "solidity": 0.2
             }
            },
            "type": "histogram"
           }
          ],
          "histogram2d": [
           {
            "colorbar": {
             "outlinewidth": 0,
             "ticks": ""
            },
            "colorscale": [
             [
              0,
              "#0d0887"
             ],
             [
              0.1111111111111111,
              "#46039f"
             ],
             [
              0.2222222222222222,
              "#7201a8"
             ],
             [
              0.3333333333333333,
              "#9c179e"
             ],
             [
              0.4444444444444444,
              "#bd3786"
             ],
             [
              0.5555555555555556,
              "#d8576b"
             ],
             [
              0.6666666666666666,
              "#ed7953"
             ],
             [
              0.7777777777777778,
              "#fb9f3a"
             ],
             [
              0.8888888888888888,
              "#fdca26"
             ],
             [
              1,
              "#f0f921"
             ]
            ],
            "type": "histogram2d"
           }
          ],
          "histogram2dcontour": [
           {
            "colorbar": {
             "outlinewidth": 0,
             "ticks": ""
            },
            "colorscale": [
             [
              0,
              "#0d0887"
             ],
             [
              0.1111111111111111,
              "#46039f"
             ],
             [
              0.2222222222222222,
              "#7201a8"
             ],
             [
              0.3333333333333333,
              "#9c179e"
             ],
             [
              0.4444444444444444,
              "#bd3786"
             ],
             [
              0.5555555555555556,
              "#d8576b"
             ],
             [
              0.6666666666666666,
              "#ed7953"
             ],
             [
              0.7777777777777778,
              "#fb9f3a"
             ],
             [
              0.8888888888888888,
              "#fdca26"
             ],
             [
              1,
              "#f0f921"
             ]
            ],
            "type": "histogram2dcontour"
           }
          ],
          "mesh3d": [
           {
            "colorbar": {
             "outlinewidth": 0,
             "ticks": ""
            },
            "type": "mesh3d"
           }
          ],
          "parcoords": [
           {
            "line": {
             "colorbar": {
              "outlinewidth": 0,
              "ticks": ""
             }
            },
            "type": "parcoords"
           }
          ],
          "pie": [
           {
            "automargin": true,
            "type": "pie"
           }
          ],
          "scatter": [
           {
            "fillpattern": {
             "fillmode": "overlay",
             "size": 10,
             "solidity": 0.2
            },
            "type": "scatter"
           }
          ],
          "scatter3d": [
           {
            "line": {
             "colorbar": {
              "outlinewidth": 0,
              "ticks": ""
             }
            },
            "marker": {
             "colorbar": {
              "outlinewidth": 0,
              "ticks": ""
             }
            },
            "type": "scatter3d"
           }
          ],
          "scattercarpet": [
           {
            "marker": {
             "colorbar": {
              "outlinewidth": 0,
              "ticks": ""
             }
            },
            "type": "scattercarpet"
           }
          ],
          "scattergeo": [
           {
            "marker": {
             "colorbar": {
              "outlinewidth": 0,
              "ticks": ""
             }
            },
            "type": "scattergeo"
           }
          ],
          "scattergl": [
           {
            "marker": {
             "colorbar": {
              "outlinewidth": 0,
              "ticks": ""
             }
            },
            "type": "scattergl"
           }
          ],
          "scattermapbox": [
           {
            "marker": {
             "colorbar": {
              "outlinewidth": 0,
              "ticks": ""
             }
            },
            "type": "scattermapbox"
           }
          ],
          "scatterpolar": [
           {
            "marker": {
             "colorbar": {
              "outlinewidth": 0,
              "ticks": ""
             }
            },
            "type": "scatterpolar"
           }
          ],
          "scatterpolargl": [
           {
            "marker": {
             "colorbar": {
              "outlinewidth": 0,
              "ticks": ""
             }
            },
            "type": "scatterpolargl"
           }
          ],
          "scatterternary": [
           {
            "marker": {
             "colorbar": {
              "outlinewidth": 0,
              "ticks": ""
             }
            },
            "type": "scatterternary"
           }
          ],
          "surface": [
           {
            "colorbar": {
             "outlinewidth": 0,
             "ticks": ""
            },
            "colorscale": [
             [
              0,
              "#0d0887"
             ],
             [
              0.1111111111111111,
              "#46039f"
             ],
             [
              0.2222222222222222,
              "#7201a8"
             ],
             [
              0.3333333333333333,
              "#9c179e"
             ],
             [
              0.4444444444444444,
              "#bd3786"
             ],
             [
              0.5555555555555556,
              "#d8576b"
             ],
             [
              0.6666666666666666,
              "#ed7953"
             ],
             [
              0.7777777777777778,
              "#fb9f3a"
             ],
             [
              0.8888888888888888,
              "#fdca26"
             ],
             [
              1,
              "#f0f921"
             ]
            ],
            "type": "surface"
           }
          ],
          "table": [
           {
            "cells": {
             "fill": {
              "color": "#EBF0F8"
             },
             "line": {
              "color": "white"
             }
            },
            "header": {
             "fill": {
              "color": "#C8D4E3"
             },
             "line": {
              "color": "white"
             }
            },
            "type": "table"
           }
          ]
         },
         "layout": {
          "annotationdefaults": {
           "arrowcolor": "#2a3f5f",
           "arrowhead": 0,
           "arrowwidth": 1
          },
          "autotypenumbers": "strict",
          "coloraxis": {
           "colorbar": {
            "outlinewidth": 0,
            "ticks": ""
           }
          },
          "colorscale": {
           "diverging": [
            [
             0,
             "#8e0152"
            ],
            [
             0.1,
             "#c51b7d"
            ],
            [
             0.2,
             "#de77ae"
            ],
            [
             0.3,
             "#f1b6da"
            ],
            [
             0.4,
             "#fde0ef"
            ],
            [
             0.5,
             "#f7f7f7"
            ],
            [
             0.6,
             "#e6f5d0"
            ],
            [
             0.7,
             "#b8e186"
            ],
            [
             0.8,
             "#7fbc41"
            ],
            [
             0.9,
             "#4d9221"
            ],
            [
             1,
             "#276419"
            ]
           ],
           "sequential": [
            [
             0,
             "#0d0887"
            ],
            [
             0.1111111111111111,
             "#46039f"
            ],
            [
             0.2222222222222222,
             "#7201a8"
            ],
            [
             0.3333333333333333,
             "#9c179e"
            ],
            [
             0.4444444444444444,
             "#bd3786"
            ],
            [
             0.5555555555555556,
             "#d8576b"
            ],
            [
             0.6666666666666666,
             "#ed7953"
            ],
            [
             0.7777777777777778,
             "#fb9f3a"
            ],
            [
             0.8888888888888888,
             "#fdca26"
            ],
            [
             1,
             "#f0f921"
            ]
           ],
           "sequentialminus": [
            [
             0,
             "#0d0887"
            ],
            [
             0.1111111111111111,
             "#46039f"
            ],
            [
             0.2222222222222222,
             "#7201a8"
            ],
            [
             0.3333333333333333,
             "#9c179e"
            ],
            [
             0.4444444444444444,
             "#bd3786"
            ],
            [
             0.5555555555555556,
             "#d8576b"
            ],
            [
             0.6666666666666666,
             "#ed7953"
            ],
            [
             0.7777777777777778,
             "#fb9f3a"
            ],
            [
             0.8888888888888888,
             "#fdca26"
            ],
            [
             1,
             "#f0f921"
            ]
           ]
          },
          "colorway": [
           "#636efa",
           "#EF553B",
           "#00cc96",
           "#ab63fa",
           "#FFA15A",
           "#19d3f3",
           "#FF6692",
           "#B6E880",
           "#FF97FF",
           "#FECB52"
          ],
          "font": {
           "color": "#2a3f5f"
          },
          "geo": {
           "bgcolor": "white",
           "lakecolor": "white",
           "landcolor": "#E5ECF6",
           "showlakes": true,
           "showland": true,
           "subunitcolor": "white"
          },
          "hoverlabel": {
           "align": "left"
          },
          "hovermode": "closest",
          "mapbox": {
           "style": "light"
          },
          "paper_bgcolor": "white",
          "plot_bgcolor": "#E5ECF6",
          "polar": {
           "angularaxis": {
            "gridcolor": "white",
            "linecolor": "white",
            "ticks": ""
           },
           "bgcolor": "#E5ECF6",
           "radialaxis": {
            "gridcolor": "white",
            "linecolor": "white",
            "ticks": ""
           }
          },
          "scene": {
           "xaxis": {
            "backgroundcolor": "#E5ECF6",
            "gridcolor": "white",
            "gridwidth": 2,
            "linecolor": "white",
            "showbackground": true,
            "ticks": "",
            "zerolinecolor": "white"
           },
           "yaxis": {
            "backgroundcolor": "#E5ECF6",
            "gridcolor": "white",
            "gridwidth": 2,
            "linecolor": "white",
            "showbackground": true,
            "ticks": "",
            "zerolinecolor": "white"
           },
           "zaxis": {
            "backgroundcolor": "#E5ECF6",
            "gridcolor": "white",
            "gridwidth": 2,
            "linecolor": "white",
            "showbackground": true,
            "ticks": "",
            "zerolinecolor": "white"
           }
          },
          "shapedefaults": {
           "line": {
            "color": "#2a3f5f"
           }
          },
          "ternary": {
           "aaxis": {
            "gridcolor": "white",
            "linecolor": "white",
            "ticks": ""
           },
           "baxis": {
            "gridcolor": "white",
            "linecolor": "white",
            "ticks": ""
           },
           "bgcolor": "#E5ECF6",
           "caxis": {
            "gridcolor": "white",
            "linecolor": "white",
            "ticks": ""
           }
          },
          "title": {
           "x": 0.05
          },
          "xaxis": {
           "automargin": true,
           "gridcolor": "white",
           "linecolor": "white",
           "ticks": "",
           "title": {
            "standoff": 15
           },
           "zerolinecolor": "white",
           "zerolinewidth": 2
          },
          "yaxis": {
           "automargin": true,
           "gridcolor": "white",
           "linecolor": "white",
           "ticks": "",
           "title": {
            "standoff": 15
           },
           "zerolinecolor": "white",
           "zerolinewidth": 2
          }
         }
        }
       }
      },
      "text/html": [
       "<div>                            <div id=\"fa7fffbd-5202-49fc-9234-d464cbda4f56\" class=\"plotly-graph-div\" style=\"height:525px; width:100%;\"></div>            <script type=\"text/javascript\">                require([\"plotly\"], function(Plotly) {                    window.PLOTLYENV=window.PLOTLYENV || {};                                    if (document.getElementById(\"fa7fffbd-5202-49fc-9234-d464cbda4f56\")) {                    Plotly.newPlot(                        \"fa7fffbd-5202-49fc-9234-d464cbda4f56\",                        [{\"line\":{\"color\":\"orange\"},\"name\":\"Pre\\u00e7o fechamento\",\"x\":[0,1,2,3,4,5,6,7,8,9,10,11,12,13,14,15,16,17,18,19,20,21,22,23,24,25,26,27,28,29],\"y\":[21.28147315979004,21.34380531311035,20.88077735900879,21.806833267211914,21.610937118530273,21.682172775268555,21.37051773071289,21.824642181396484,22.84864616394043,23.01782989501953,23.17810821533203,23.41852569580078,23.783605575561523,24.389102935791016,23.605518341064453,23.765796661376953,24.219921112060547,24.121973037719727,23.819223403930664,23.24043846130371,23.700000762939453,22.739999771118164,22.65999984741211,23.020000457763672,24.0,24.510000228881836,24.59000015258789,24.530000686645508,25.43000030517578,26.15999984741211],\"type\":\"scatter\"},{\"marker\":{\"color\":\"green\",\"size\":10},\"mode\":\"markers\",\"name\":\"Compra\",\"x\":[0,1,2,3,4,5,6,7,8,9,10,11,12,13,14,15,16,17,18,19,20,21,22,23,24,25,26,27,28,29],\"y\":[null,21.34380531311035,null,21.806833267211914,null,null,null,null,null,null,null,null,null,null,null,null,null,null,null,null,null,null,null,null,null,24.510000228881836,null,null,null,null],\"type\":\"scatter\"},{\"marker\":{\"color\":\"red\",\"size\":10},\"mode\":\"markers\",\"name\":\"Venda\",\"x\":[0,1,2,3,4,5,6,7,8,9,10,11,12,13,14,15,16,17,18,19,20,21,22,23,24,25,26,27,28,29],\"y\":[null,null,20.88077735900879,null,null,null,null,null,null,null,null,null,null,null,null,null,null,null,null,null,23.700000762939453,null,null,null,null,null,null,null,null,null],\"type\":\"scatter\"}],                        {\"template\":{\"data\":{\"histogram2dcontour\":[{\"type\":\"histogram2dcontour\",\"colorbar\":{\"outlinewidth\":0,\"ticks\":\"\"},\"colorscale\":[[0.0,\"#0d0887\"],[0.1111111111111111,\"#46039f\"],[0.2222222222222222,\"#7201a8\"],[0.3333333333333333,\"#9c179e\"],[0.4444444444444444,\"#bd3786\"],[0.5555555555555556,\"#d8576b\"],[0.6666666666666666,\"#ed7953\"],[0.7777777777777778,\"#fb9f3a\"],[0.8888888888888888,\"#fdca26\"],[1.0,\"#f0f921\"]]}],\"choropleth\":[{\"type\":\"choropleth\",\"colorbar\":{\"outlinewidth\":0,\"ticks\":\"\"}}],\"histogram2d\":[{\"type\":\"histogram2d\",\"colorbar\":{\"outlinewidth\":0,\"ticks\":\"\"},\"colorscale\":[[0.0,\"#0d0887\"],[0.1111111111111111,\"#46039f\"],[0.2222222222222222,\"#7201a8\"],[0.3333333333333333,\"#9c179e\"],[0.4444444444444444,\"#bd3786\"],[0.5555555555555556,\"#d8576b\"],[0.6666666666666666,\"#ed7953\"],[0.7777777777777778,\"#fb9f3a\"],[0.8888888888888888,\"#fdca26\"],[1.0,\"#f0f921\"]]}],\"heatmap\":[{\"type\":\"heatmap\",\"colorbar\":{\"outlinewidth\":0,\"ticks\":\"\"},\"colorscale\":[[0.0,\"#0d0887\"],[0.1111111111111111,\"#46039f\"],[0.2222222222222222,\"#7201a8\"],[0.3333333333333333,\"#9c179e\"],[0.4444444444444444,\"#bd3786\"],[0.5555555555555556,\"#d8576b\"],[0.6666666666666666,\"#ed7953\"],[0.7777777777777778,\"#fb9f3a\"],[0.8888888888888888,\"#fdca26\"],[1.0,\"#f0f921\"]]}],\"heatmapgl\":[{\"type\":\"heatmapgl\",\"colorbar\":{\"outlinewidth\":0,\"ticks\":\"\"},\"colorscale\":[[0.0,\"#0d0887\"],[0.1111111111111111,\"#46039f\"],[0.2222222222222222,\"#7201a8\"],[0.3333333333333333,\"#9c179e\"],[0.4444444444444444,\"#bd3786\"],[0.5555555555555556,\"#d8576b\"],[0.6666666666666666,\"#ed7953\"],[0.7777777777777778,\"#fb9f3a\"],[0.8888888888888888,\"#fdca26\"],[1.0,\"#f0f921\"]]}],\"contourcarpet\":[{\"type\":\"contourcarpet\",\"colorbar\":{\"outlinewidth\":0,\"ticks\":\"\"}}],\"contour\":[{\"type\":\"contour\",\"colorbar\":{\"outlinewidth\":0,\"ticks\":\"\"},\"colorscale\":[[0.0,\"#0d0887\"],[0.1111111111111111,\"#46039f\"],[0.2222222222222222,\"#7201a8\"],[0.3333333333333333,\"#9c179e\"],[0.4444444444444444,\"#bd3786\"],[0.5555555555555556,\"#d8576b\"],[0.6666666666666666,\"#ed7953\"],[0.7777777777777778,\"#fb9f3a\"],[0.8888888888888888,\"#fdca26\"],[1.0,\"#f0f921\"]]}],\"surface\":[{\"type\":\"surface\",\"colorbar\":{\"outlinewidth\":0,\"ticks\":\"\"},\"colorscale\":[[0.0,\"#0d0887\"],[0.1111111111111111,\"#46039f\"],[0.2222222222222222,\"#7201a8\"],[0.3333333333333333,\"#9c179e\"],[0.4444444444444444,\"#bd3786\"],[0.5555555555555556,\"#d8576b\"],[0.6666666666666666,\"#ed7953\"],[0.7777777777777778,\"#fb9f3a\"],[0.8888888888888888,\"#fdca26\"],[1.0,\"#f0f921\"]]}],\"mesh3d\":[{\"type\":\"mesh3d\",\"colorbar\":{\"outlinewidth\":0,\"ticks\":\"\"}}],\"scatter\":[{\"fillpattern\":{\"fillmode\":\"overlay\",\"size\":10,\"solidity\":0.2},\"type\":\"scatter\"}],\"parcoords\":[{\"type\":\"parcoords\",\"line\":{\"colorbar\":{\"outlinewidth\":0,\"ticks\":\"\"}}}],\"scatterpolargl\":[{\"type\":\"scatterpolargl\",\"marker\":{\"colorbar\":{\"outlinewidth\":0,\"ticks\":\"\"}}}],\"bar\":[{\"error_x\":{\"color\":\"#2a3f5f\"},\"error_y\":{\"color\":\"#2a3f5f\"},\"marker\":{\"line\":{\"color\":\"#E5ECF6\",\"width\":0.5},\"pattern\":{\"fillmode\":\"overlay\",\"size\":10,\"solidity\":0.2}},\"type\":\"bar\"}],\"scattergeo\":[{\"type\":\"scattergeo\",\"marker\":{\"colorbar\":{\"outlinewidth\":0,\"ticks\":\"\"}}}],\"scatterpolar\":[{\"type\":\"scatterpolar\",\"marker\":{\"colorbar\":{\"outlinewidth\":0,\"ticks\":\"\"}}}],\"histogram\":[{\"marker\":{\"pattern\":{\"fillmode\":\"overlay\",\"size\":10,\"solidity\":0.2}},\"type\":\"histogram\"}],\"scattergl\":[{\"type\":\"scattergl\",\"marker\":{\"colorbar\":{\"outlinewidth\":0,\"ticks\":\"\"}}}],\"scatter3d\":[{\"type\":\"scatter3d\",\"line\":{\"colorbar\":{\"outlinewidth\":0,\"ticks\":\"\"}},\"marker\":{\"colorbar\":{\"outlinewidth\":0,\"ticks\":\"\"}}}],\"scattermapbox\":[{\"type\":\"scattermapbox\",\"marker\":{\"colorbar\":{\"outlinewidth\":0,\"ticks\":\"\"}}}],\"scatterternary\":[{\"type\":\"scatterternary\",\"marker\":{\"colorbar\":{\"outlinewidth\":0,\"ticks\":\"\"}}}],\"scattercarpet\":[{\"type\":\"scattercarpet\",\"marker\":{\"colorbar\":{\"outlinewidth\":0,\"ticks\":\"\"}}}],\"carpet\":[{\"aaxis\":{\"endlinecolor\":\"#2a3f5f\",\"gridcolor\":\"white\",\"linecolor\":\"white\",\"minorgridcolor\":\"white\",\"startlinecolor\":\"#2a3f5f\"},\"baxis\":{\"endlinecolor\":\"#2a3f5f\",\"gridcolor\":\"white\",\"linecolor\":\"white\",\"minorgridcolor\":\"white\",\"startlinecolor\":\"#2a3f5f\"},\"type\":\"carpet\"}],\"table\":[{\"cells\":{\"fill\":{\"color\":\"#EBF0F8\"},\"line\":{\"color\":\"white\"}},\"header\":{\"fill\":{\"color\":\"#C8D4E3\"},\"line\":{\"color\":\"white\"}},\"type\":\"table\"}],\"barpolar\":[{\"marker\":{\"line\":{\"color\":\"#E5ECF6\",\"width\":0.5},\"pattern\":{\"fillmode\":\"overlay\",\"size\":10,\"solidity\":0.2}},\"type\":\"barpolar\"}],\"pie\":[{\"automargin\":true,\"type\":\"pie\"}]},\"layout\":{\"autotypenumbers\":\"strict\",\"colorway\":[\"#636efa\",\"#EF553B\",\"#00cc96\",\"#ab63fa\",\"#FFA15A\",\"#19d3f3\",\"#FF6692\",\"#B6E880\",\"#FF97FF\",\"#FECB52\"],\"font\":{\"color\":\"#2a3f5f\"},\"hovermode\":\"closest\",\"hoverlabel\":{\"align\":\"left\"},\"paper_bgcolor\":\"white\",\"plot_bgcolor\":\"#E5ECF6\",\"polar\":{\"bgcolor\":\"#E5ECF6\",\"angularaxis\":{\"gridcolor\":\"white\",\"linecolor\":\"white\",\"ticks\":\"\"},\"radialaxis\":{\"gridcolor\":\"white\",\"linecolor\":\"white\",\"ticks\":\"\"}},\"ternary\":{\"bgcolor\":\"#E5ECF6\",\"aaxis\":{\"gridcolor\":\"white\",\"linecolor\":\"white\",\"ticks\":\"\"},\"baxis\":{\"gridcolor\":\"white\",\"linecolor\":\"white\",\"ticks\":\"\"},\"caxis\":{\"gridcolor\":\"white\",\"linecolor\":\"white\",\"ticks\":\"\"}},\"coloraxis\":{\"colorbar\":{\"outlinewidth\":0,\"ticks\":\"\"}},\"colorscale\":{\"sequential\":[[0.0,\"#0d0887\"],[0.1111111111111111,\"#46039f\"],[0.2222222222222222,\"#7201a8\"],[0.3333333333333333,\"#9c179e\"],[0.4444444444444444,\"#bd3786\"],[0.5555555555555556,\"#d8576b\"],[0.6666666666666666,\"#ed7953\"],[0.7777777777777778,\"#fb9f3a\"],[0.8888888888888888,\"#fdca26\"],[1.0,\"#f0f921\"]],\"sequentialminus\":[[0.0,\"#0d0887\"],[0.1111111111111111,\"#46039f\"],[0.2222222222222222,\"#7201a8\"],[0.3333333333333333,\"#9c179e\"],[0.4444444444444444,\"#bd3786\"],[0.5555555555555556,\"#d8576b\"],[0.6666666666666666,\"#ed7953\"],[0.7777777777777778,\"#fb9f3a\"],[0.8888888888888888,\"#fdca26\"],[1.0,\"#f0f921\"]],\"diverging\":[[0,\"#8e0152\"],[0.1,\"#c51b7d\"],[0.2,\"#de77ae\"],[0.3,\"#f1b6da\"],[0.4,\"#fde0ef\"],[0.5,\"#f7f7f7\"],[0.6,\"#e6f5d0\"],[0.7,\"#b8e186\"],[0.8,\"#7fbc41\"],[0.9,\"#4d9221\"],[1,\"#276419\"]]},\"xaxis\":{\"gridcolor\":\"white\",\"linecolor\":\"white\",\"ticks\":\"\",\"title\":{\"standoff\":15},\"zerolinecolor\":\"white\",\"automargin\":true,\"zerolinewidth\":2},\"yaxis\":{\"gridcolor\":\"white\",\"linecolor\":\"white\",\"ticks\":\"\",\"title\":{\"standoff\":15},\"zerolinecolor\":\"white\",\"automargin\":true,\"zerolinewidth\":2},\"scene\":{\"xaxis\":{\"backgroundcolor\":\"#E5ECF6\",\"gridcolor\":\"white\",\"linecolor\":\"white\",\"showbackground\":true,\"ticks\":\"\",\"zerolinecolor\":\"white\",\"gridwidth\":2},\"yaxis\":{\"backgroundcolor\":\"#E5ECF6\",\"gridcolor\":\"white\",\"linecolor\":\"white\",\"showbackground\":true,\"ticks\":\"\",\"zerolinecolor\":\"white\",\"gridwidth\":2},\"zaxis\":{\"backgroundcolor\":\"#E5ECF6\",\"gridcolor\":\"white\",\"linecolor\":\"white\",\"showbackground\":true,\"ticks\":\"\",\"zerolinecolor\":\"white\",\"gridwidth\":2}},\"shapedefaults\":{\"line\":{\"color\":\"#2a3f5f\"}},\"annotationdefaults\":{\"arrowcolor\":\"#2a3f5f\",\"arrowhead\":0,\"arrowwidth\":1},\"geo\":{\"bgcolor\":\"white\",\"landcolor\":\"#E5ECF6\",\"subunitcolor\":\"white\",\"showland\":true,\"showlakes\":true,\"lakecolor\":\"white\"},\"title\":{\"x\":0.05},\"mapbox\":{\"style\":\"light\"}}}},                        {\"responsive\": true}                    ).then(function(){\n",
       "                            \n",
       "var gd = document.getElementById('fa7fffbd-5202-49fc-9234-d464cbda4f56');\n",
       "var x = new MutationObserver(function (mutations, observer) {{\n",
       "        var display = window.getComputedStyle(gd).display;\n",
       "        if (!display || display === 'none') {{\n",
       "            console.log([gd, 'removed!']);\n",
       "            Plotly.purge(gd);\n",
       "            observer.disconnect();\n",
       "        }}\n",
       "}});\n",
       "\n",
       "// Listen for the removal of the full notebook cells\n",
       "var notebookContainer = gd.closest('#notebook-container');\n",
       "if (notebookContainer) {{\n",
       "    x.observe(notebookContainer, {childList: true});\n",
       "}}\n",
       "\n",
       "// Listen for the clearing of the current output cell\n",
       "var outputEl = gd.closest('.output');\n",
       "if (outputEl) {{\n",
       "    x.observe(outputEl, {childList: true});\n",
       "}}\n",
       "\n",
       "                        })                };                });            </script>        </div>"
      ]
     },
     "metadata": {},
     "output_type": "display_data"
    }
   ],
   "source": [
    "df_plot = df_ticker\n",
    "\n",
    "fig = go.Figure()\n",
    "\n",
    "fig.add_trace(go.Scatter(x=df_plot.index,\n",
    "                         y=df_plot['Close'],\n",
    "                         name=\"Preço fechamento\",\n",
    "                         line_color='orange'\n",
    "                         ))\n",
    "\n",
    "fig.add_trace(go.Scatter(x=df_plot.index,\n",
    "                         y=df_plot['preco_compra'],\n",
    "                         name=\"Compra\",\n",
    "                         mode='markers',\n",
    "                         marker=  dict(\n",
    "                            color='green',\n",
    "                            size=10,\n",
    "                            )\n",
    "                         ))\n",
    "\n",
    "fig.add_trace(go.Scatter(x=df_plot.index,\n",
    "                         y=df_plot['preco_venda'],\n",
    "                         name=\"Venda\",\n",
    "                         mode='markers',\n",
    "                         marker=  dict(\n",
    "                            color='red',\n",
    "                            size=10,\n",
    "                            )\n",
    "                         ))\n",
    "\n",
    "fig.show()"
   ]
  },
  {
   "cell_type": "code",
   "execution_count": null,
   "metadata": {
    "id": "bdqws_FoOR9S"
   },
   "outputs": [],
   "source": []
  }
 ],
 "metadata": {
  "colab": {
   "authorship_tag": "ABX9TyNvVkVDYaVQ3ONL1m/zGrsH",
   "include_colab_link": true,
   "private_outputs": true,
   "provenance": []
  },
  "hide_input": false,
  "kernelspec": {
   "display_name": "Python 3 (ipykernel)",
   "language": "python",
   "name": "python3"
  },
  "language_info": {
   "codemirror_mode": {
    "name": "ipython",
    "version": 3
   },
   "file_extension": ".py",
   "mimetype": "text/x-python",
   "name": "python",
   "nbconvert_exporter": "python",
   "pygments_lexer": "ipython3",
   "version": "3.11.3"
  }
 },
 "nbformat": 4,
 "nbformat_minor": 1
}
