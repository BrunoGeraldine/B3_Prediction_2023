{
  "nbformat": 4,
  "nbformat_minor": 0,
  "metadata": {
    "colab": {
      "private_outputs": true,
      "provenance": [],
      "authorship_tag": "ABX9TyNvVkVDYaVQ3ONL1m/zGrsH",
      "include_colab_link": true
    },
    "kernelspec": {
      "name": "python3",
      "display_name": "Python 3"
    },
    "language_info": {
      "name": "python"
    }
  },
  "cells": [
    {
      "cell_type": "markdown",
      "metadata": {
        "id": "view-in-github",
        "colab_type": "text"
      },
      "source": [
        "<a href=\"https://colab.research.google.com/github/BrunoGeraldine/B3_Prediction_2023/blob/main/notebook/EDA_Yfinance_MACD.ipynb\" target=\"_parent\"><img src=\"https://colab.research.google.com/assets/colab-badge.svg\" alt=\"Open In Colab\"/></a>"
      ]
    },
    {
      "cell_type": "markdown",
      "source": [
        "# MACD→ Analise das ações utilizando as médias moveis como orientação para compra e venda."
      ],
      "metadata": {
        "id": "Q_F9EqnFDoos"
      }
    },
    {
      "cell_type": "code",
      "execution_count": null,
      "metadata": {
        "id": "9HlNvNd_xP1c"
      },
      "outputs": [],
      "source": [
        "# Instalando Yfinance API\n",
        "!pip install Yfinance"
      ]
    },
    {
      "cell_type": "code",
      "source": [
        "# Importando as bibliotecas\n",
        "import warnings\n",
        "import numpy                as np\n",
        "import pandas               as pd\n",
        "import yfinance             as yf\n",
        "import seaborn              as sns\n",
        "import plotly.graph_objects as go"
      ],
      "metadata": {
        "id": "qt05EDNIySYz"
      },
      "execution_count": null,
      "outputs": []
    },
    {
      "cell_type": "code",
      "source": [
        "# Help function\n",
        "# Configuração do padrão de visualização dos dados e graficos\n",
        "# https://seaborn.pydata.org/tutorial.html\n",
        "sns.set_theme(\n",
        "    context='talk',\n",
        "    style='ticks',\n",
        "    palette='icefire',\n",
        "    font_scale=.8,\n",
        "    rc={'figure.figsize': (25, 15)}\n",
        ")\n",
        "\n",
        "warnings.filterwarnings(\"ignore\")\n",
        "     "
      ],
      "metadata": {
        "id": "y6x7t5so0QS0"
      },
      "execution_count": null,
      "outputs": []
    },
    {
      "cell_type": "code",
      "source": [
        "# Escolhendo a ação\n",
        "paper = 'PETR4.SA'\n",
        "\n",
        "ticker = yf.Ticker(paper)\n",
        "\n",
        "# Intervalo de tempo\n",
        "df = ticker.history(period='30d')\n",
        "df = df['Close']\n",
        "\n",
        "df_ticker_daily = ticker.history(period='1d', interval='5m')\n",
        "\n",
        "df_ticker_daily = df_ticker_daily['Close']"
      ],
      "metadata": {
        "id": "AqdzCzMJyjPj"
      },
      "execution_count": null,
      "outputs": []
    },
    {
      "cell_type": "code",
      "source": [
        "info = ticker.info\n",
        "acao = info['symbol']\n",
        "acao"
      ],
      "metadata": {
        "id": "KpcrV43bFgWc"
      },
      "execution_count": null,
      "outputs": []
    },
    {
      "cell_type": "code",
      "source": [
        "df = pd.DataFrame(df)\n",
        "df_ticker_daily = pd.DataFrame(df_ticker_daily)"
      ],
      "metadata": {
        "id": "MlXtV8tfFgY-"
      },
      "execution_count": null,
      "outputs": []
    },
    {
      "cell_type": "code",
      "source": [
        "df_ticker_daily.reset_index(inplace=True)\n",
        "\n",
        "# Quando aplicamos o Yfinance, ele acaba trazendo as informações do momento atual\n",
        "# e neste momento não queremos isso\n",
        "#df.drop(df.tail(1).index,inplace=True)\n",
        "df.reset_index(inplace=True)"
      ],
      "metadata": {
        "id": "y1zMhzDeF7VP"
      },
      "execution_count": null,
      "outputs": []
    },
    {
      "cell_type": "code",
      "source": [
        "df"
      ],
      "metadata": {
        "id": "uKBaMvBXF7X4"
      },
      "execution_count": null,
      "outputs": []
    },
    {
      "cell_type": "code",
      "source": [
        "# Criando um novo Df com os dados historicos\n",
        "df_ticker = df"
      ],
      "metadata": {
        "id": "pngjh0cwF7eM"
      },
      "execution_count": null,
      "outputs": []
    },
    {
      "cell_type": "code",
      "source": [
        "# Remove a ultima data do df_daily\n",
        "df_remove_ticket = df_ticker.loc[(df_ticker['Date'] == pd.to_datetime('today').normalize())]\n",
        "df_ticker = df_ticker.drop(df_remove_ticket.index)\n",
        "df_ticker"
      ],
      "metadata": {
        "id": "DJCQJDoJF7gs"
      },
      "execution_count": null,
      "outputs": []
    },
    {
      "cell_type": "code",
      "source": [
        "## Coletando o ultimo preço negociado até o agora\n",
        "#df_ticker_daily_last_price = df_ticker_daily.tail(1)\n",
        "#df_ticker_daily_last_price"
      ],
      "metadata": {
        "id": "PdBz3GscHU3_"
      },
      "execution_count": null,
      "outputs": []
    },
    {
      "cell_type": "code",
      "source": [
        "## Ajustar o formato da data e nome coluna\n",
        "#df_ticker_daily_last_price.rename(columns={'Datetime':'Date'}, inplace=True)\n",
        "#df_ticker_daily_last_price"
      ],
      "metadata": {
        "id": "bDURRstHHVG1"
      },
      "execution_count": null,
      "outputs": []
    },
    {
      "cell_type": "code",
      "source": [
        "#df_ticker_daily_last_price_formated = pd.to_datetime(df_ticker_daily_last_price['Date'], format='%Y-%m-%d')"
      ],
      "metadata": {
        "id": "Wxr01z3_HVJm"
      },
      "execution_count": null,
      "outputs": []
    },
    {
      "cell_type": "code",
      "source": [
        "# Append data atual\n",
        "#df_ticker = df_ticker.append(df_ticker_daily_last_price)\n",
        "df_ticker"
      ],
      "metadata": {
        "id": "mBkiLDPUHVL1"
      },
      "execution_count": null,
      "outputs": []
    },
    {
      "cell_type": "code",
      "source": [
        "#Ajustando a data\n",
        "df_ticker['Date'] = pd.to_datetime(df_ticker['Date'], utc=True).dt.date\n",
        "df_ticker"
      ],
      "metadata": {
        "id": "TOMWKgCg701y"
      },
      "execution_count": null,
      "outputs": []
    },
    {
      "cell_type": "code",
      "source": [
        "# Calculando o MACD\n",
        "rapidaMME=df_ticker.Close.ewm(span=12).mean()\n",
        "lentaMME=df_ticker.Close.ewm(span=26).mean()\n",
        "\n",
        "MACD = rapidaMME - lentaMME\n",
        "\n",
        "sinal = MACD.ewm(span=9).mean()\n",
        "\n",
        "df_ticker['MACD'] = MACD\n",
        "df_ticker['sinal'] = sinal\n",
        "df_ticker"
      ],
      "metadata": {
        "id": "Xgluu6na70zx"
      },
      "execution_count": null,
      "outputs": []
    },
    {
      "cell_type": "code",
      "source": [
        "# Codigo para decidiar compra e venda\n",
        "df_ticker.at[0, 'flag'] = ''\n",
        "df_ticker['preco_compra']=np.nan\n",
        "df_ticker['preco_venda']=np.nan\n",
        "\n",
        "\n",
        "for i in range(1, len(df_ticker.sinal)):\n",
        "  if df_ticker['MACD'].iloc[i] > df_ticker['sinal'].iloc[i]:\n",
        "    if df_ticker['flag'].iloc[i-1] == 'C':\n",
        "      df_ticker['flag'][i] = 'C'\n",
        "    else:\n",
        "      df_ticker['flag'][i] = 'C'\n",
        "      df_ticker['preco_compra'][i] = df_ticker['Close'][i]\n",
        "\n",
        "  elif df_ticker['MACD'].iloc[i] < df_ticker['sinal'].iloc[i]:\n",
        "    if df_ticker['flag'].iloc[i-1] == 'V':\n",
        "      df_ticker['flag'][i] = 'V'\n",
        "    else:\n",
        "      df_ticker['flag'][i] = 'V'\n",
        "      df_ticker['preco_venda'][i] = df_ticker['Close'][i]\n",
        "\n",
        "df_ticker\n"
      ],
      "metadata": {
        "id": "hpat0S0QFotW"
      },
      "execution_count": null,
      "outputs": []
    },
    {
      "cell_type": "code",
      "source": [
        "#Visualização grafica\n",
        "import plotly.graph_objects as go\n",
        "import plotly.io as pio\n",
        "from plotly.subplots import make_subplots"
      ],
      "metadata": {
        "id": "2oevhDWEHVOL"
      },
      "execution_count": null,
      "outputs": []
    },
    {
      "cell_type": "code",
      "source": [
        "df_plot = df_ticker\n",
        "\n",
        "fig = go.Figure()\n",
        "\n",
        "fig.add_trace(go.Scatter(x=df_plot.index,\n",
        "                         y=df_plot['Close'],\n",
        "                         name=\"Preço fechamento\",\n",
        "                         line_color='orange'\n",
        "                         ))\n",
        "\n",
        "fig.add_trace(go.Scatter(x=df_plot.index,\n",
        "                         y=df_plot['preco_compra'],\n",
        "                         name=\"Compra\",\n",
        "                         mode='markers',\n",
        "                         marker=  dict(\n",
        "                            color='green',\n",
        "                            size=10,\n",
        "                            )\n",
        "                         ))\n",
        "\n",
        "fig.add_trace(go.Scatter(x=df_plot.index,\n",
        "                         y=df_plot['preco_venda'],\n",
        "                         name=\"Venda\",\n",
        "                         mode='markers',\n",
        "                         marker=  dict(\n",
        "                            color='red',\n",
        "                            size=10,\n",
        "                            )\n",
        "                         ))\n",
        "\n",
        "fig.show()"
      ],
      "metadata": {
        "id": "8e0mPKCTOR5H"
      },
      "execution_count": null,
      "outputs": []
    },
    {
      "cell_type": "code",
      "source": [],
      "metadata": {
        "id": "bdqws_FoOR9S"
      },
      "execution_count": null,
      "outputs": []
    }
  ]
}