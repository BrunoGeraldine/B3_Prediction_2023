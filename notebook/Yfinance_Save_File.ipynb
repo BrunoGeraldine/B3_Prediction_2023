{
 "cells": [
  {
   "cell_type": "markdown",
   "metadata": {
    "colab_type": "text",
    "id": "view-in-github"
   },
   "source": [
    "<a href=\"https://colab.research.google.com/github/BrunoGeraldine/B3_Prediction_2023/blob/main/notebook/EDA_Yfinance_MACD.ipynb\" target=\"_parent\"><img src=\"https://colab.research.google.com/assets/colab-badge.svg\" alt=\"Open In Colab\"/></a>"
   ]
  },
  {
   "cell_type": "markdown",
   "metadata": {
    "id": "Q_F9EqnFDoos"
   },
   "source": [
    "# MACD→ Analise das ações utilizando as médias moveis como orientação para compra e venda."
   ]
  },
  {
   "cell_type": "code",
   "execution_count": 1,
   "metadata": {
    "ExecuteTime": {
     "end_time": "2023-05-12T18:46:37.787691Z",
     "start_time": "2023-05-12T18:46:36.879723Z"
    },
    "id": "qt05EDNIySYz"
   },
   "outputs": [],
   "source": [
    "# Importando as bibliotecas\n",
    "import warnings\n",
    "import numpy                as np\n",
    "import pandas               as pd\n",
    "import yfinance             as yf\n",
    "import seaborn              as sns\n",
    "import plotly.graph_objects as go"
   ]
  },
  {
   "cell_type": "code",
   "execution_count": 2,
   "metadata": {
    "ExecuteTime": {
     "end_time": "2023-05-12T18:46:38.707524Z",
     "start_time": "2023-05-12T18:46:38.702084Z"
    },
    "id": "y6x7t5so0QS0"
   },
   "outputs": [],
   "source": [
    "# Help function\n",
    "# Configuração do padrão de visualização dos dados e graficos\n",
    "# https://seaborn.pydata.org/tutorial.html\n",
    "sns.set_theme(\n",
    "    context='talk',\n",
    "    style='ticks',\n",
    "    palette='icefire',\n",
    "    font_scale=.8,\n",
    "    rc={'figure.figsize': (25, 15)}\n",
    ")\n",
    "\n",
    "warnings.filterwarnings(\"ignore\")\n",
    "     "
   ]
  },
  {
   "cell_type": "code",
   "execution_count": 73,
   "metadata": {
    "ExecuteTime": {
     "end_time": "2023-05-12T19:10:39.140054Z",
     "start_time": "2023-05-12T19:10:38.228260Z"
    },
    "id": "AqdzCzMJyjPj"
   },
   "outputs": [],
   "source": [
    "# Escolhendo a ação\n",
    "paper = 'PETR4.SA'\n",
    "\n",
    "ticker = yf.Ticker(paper)\n",
    "\n",
    "# Intervalo de tempo\n",
    "df = ticker.history(period='10y')\n",
    "#df = df['Close']\n",
    "\n",
    "\n",
    "df_ticker_daily = ticker.history(period='1d', interval='5m')\n",
    "\n",
    "df_ticker_daily = df_ticker_daily['Close']"
   ]
  },
  {
   "cell_type": "code",
   "execution_count": 74,
   "metadata": {
    "ExecuteTime": {
     "end_time": "2023-05-12T19:10:40.357687Z",
     "start_time": "2023-05-12T19:10:39.785986Z"
    },
    "id": "KpcrV43bFgWc"
   },
   "outputs": [
    {
     "data": {
      "text/plain": [
       "'PETR4.SA'"
      ]
     },
     "execution_count": 74,
     "metadata": {},
     "output_type": "execute_result"
    }
   ],
   "source": [
    "info = ticker.info\n",
    "acao = info['symbol']\n",
    "acao"
   ]
  },
  {
   "cell_type": "code",
   "execution_count": 75,
   "metadata": {
    "ExecuteTime": {
     "end_time": "2023-05-12T19:10:41.078454Z",
     "start_time": "2023-05-12T19:10:41.072939Z"
    },
    "id": "MlXtV8tfFgY-"
   },
   "outputs": [],
   "source": [
    "df = pd.DataFrame(df)\n",
    "df_ticker_daily = pd.DataFrame(df_ticker_daily)"
   ]
  },
  {
   "cell_type": "code",
   "execution_count": 76,
   "metadata": {
    "ExecuteTime": {
     "end_time": "2023-05-12T19:10:41.839851Z",
     "start_time": "2023-05-12T19:10:41.833872Z"
    },
    "id": "y1zMhzDeF7VP"
   },
   "outputs": [],
   "source": [
    "df_ticker_daily.reset_index(inplace=True)\n",
    "\n",
    "# Quando aplicamos o Yfinance, ele acaba trazendo as informações do momento atual\n",
    "# e neste momento não queremos isso\n",
    "#df.drop(df.tail(1).index,inplace=True)\n",
    "df.reset_index(inplace=True)"
   ]
  },
  {
   "cell_type": "code",
   "execution_count": 77,
   "metadata": {
    "ExecuteTime": {
     "end_time": "2023-05-12T19:10:42.525330Z",
     "start_time": "2023-05-12T19:10:42.517521Z"
    },
    "id": "uKBaMvBXF7X4"
   },
   "outputs": [
    {
     "data": {
      "text/plain": [
       "Date            datetime64[ns, America/Sao_Paulo]\n",
       "Open                                      float64\n",
       "High                                      float64\n",
       "Low                                       float64\n",
       "Close                                     float64\n",
       "Volume                                      int64\n",
       "Dividends                                 float64\n",
       "Stock Splits                              float64\n",
       "dtype: object"
      ]
     },
     "execution_count": 77,
     "metadata": {},
     "output_type": "execute_result"
    }
   ],
   "source": [
    "df.dtypes"
   ]
  },
  {
   "cell_type": "code",
   "execution_count": 78,
   "metadata": {
    "ExecuteTime": {
     "end_time": "2023-05-12T19:10:43.844601Z",
     "start_time": "2023-05-12T19:10:43.838508Z"
    }
   },
   "outputs": [],
   "source": [
    "df.drop(columns=['Dividends', 'Stock Splits'], inplace=True)"
   ]
  },
  {
   "cell_type": "code",
   "execution_count": 79,
   "metadata": {
    "ExecuteTime": {
     "end_time": "2023-05-12T19:10:44.575577Z",
     "start_time": "2023-05-12T19:10:44.569501Z"
    },
    "id": "pngjh0cwF7eM"
   },
   "outputs": [],
   "source": [
    "# Criando um novo Df com os dados historicos\n",
    "df_ticker = df"
   ]
  },
  {
   "cell_type": "code",
   "execution_count": 80,
   "metadata": {
    "ExecuteTime": {
     "end_time": "2023-05-12T19:10:45.343182Z",
     "start_time": "2023-05-12T19:10:45.315303Z"
    },
    "id": "DJCQJDoJF7gs"
   },
   "outputs": [
    {
     "data": {
      "text/html": [
       "<div>\n",
       "<style scoped>\n",
       "    .dataframe tbody tr th:only-of-type {\n",
       "        vertical-align: middle;\n",
       "    }\n",
       "\n",
       "    .dataframe tbody tr th {\n",
       "        vertical-align: top;\n",
       "    }\n",
       "\n",
       "    .dataframe thead th {\n",
       "        text-align: right;\n",
       "    }\n",
       "</style>\n",
       "<table border=\"1\" class=\"dataframe\">\n",
       "  <thead>\n",
       "    <tr style=\"text-align: right;\">\n",
       "      <th></th>\n",
       "      <th>Date</th>\n",
       "      <th>Open</th>\n",
       "      <th>High</th>\n",
       "      <th>Low</th>\n",
       "      <th>Close</th>\n",
       "      <th>Volume</th>\n",
       "    </tr>\n",
       "  </thead>\n",
       "  <tbody>\n",
       "    <tr>\n",
       "      <th>0</th>\n",
       "      <td>2013-05-13 00:00:00-03:00</td>\n",
       "      <td>7.289848</td>\n",
       "      <td>7.304568</td>\n",
       "      <td>7.131613</td>\n",
       "      <td>7.172092</td>\n",
       "      <td>21577600</td>\n",
       "    </tr>\n",
       "    <tr>\n",
       "      <th>1</th>\n",
       "      <td>2013-05-14 00:00:00-03:00</td>\n",
       "      <td>7.186810</td>\n",
       "      <td>7.242008</td>\n",
       "      <td>7.083773</td>\n",
       "      <td>7.194169</td>\n",
       "      <td>30643700</td>\n",
       "    </tr>\n",
       "    <tr>\n",
       "      <th>2</th>\n",
       "      <td>2013-05-15 00:00:00-03:00</td>\n",
       "      <td>7.175771</td>\n",
       "      <td>7.227290</td>\n",
       "      <td>7.113213</td>\n",
       "      <td>7.201530</td>\n",
       "      <td>21869300</td>\n",
       "    </tr>\n",
       "    <tr>\n",
       "      <th>3</th>\n",
       "      <td>2013-05-16 00:00:00-03:00</td>\n",
       "      <td>7.183132</td>\n",
       "      <td>7.389205</td>\n",
       "      <td>7.161052</td>\n",
       "      <td>7.267769</td>\n",
       "      <td>25067200</td>\n",
       "    </tr>\n",
       "    <tr>\n",
       "      <th>4</th>\n",
       "      <td>2013-05-17 00:00:00-03:00</td>\n",
       "      <td>7.326647</td>\n",
       "      <td>7.378165</td>\n",
       "      <td>7.282489</td>\n",
       "      <td>7.319287</td>\n",
       "      <td>19040100</td>\n",
       "    </tr>\n",
       "    <tr>\n",
       "      <th>...</th>\n",
       "      <td>...</td>\n",
       "      <td>...</td>\n",
       "      <td>...</td>\n",
       "      <td>...</td>\n",
       "      <td>...</td>\n",
       "      <td>...</td>\n",
       "    </tr>\n",
       "    <tr>\n",
       "      <th>2481</th>\n",
       "      <td>2023-05-08 00:00:00-03:00</td>\n",
       "      <td>24.450001</td>\n",
       "      <td>24.629999</td>\n",
       "      <td>24.209999</td>\n",
       "      <td>24.510000</td>\n",
       "      <td>59352300</td>\n",
       "    </tr>\n",
       "    <tr>\n",
       "      <th>2482</th>\n",
       "      <td>2023-05-09 00:00:00-03:00</td>\n",
       "      <td>24.410000</td>\n",
       "      <td>24.799999</td>\n",
       "      <td>24.240000</td>\n",
       "      <td>24.590000</td>\n",
       "      <td>33978200</td>\n",
       "    </tr>\n",
       "    <tr>\n",
       "      <th>2483</th>\n",
       "      <td>2023-05-10 00:00:00-03:00</td>\n",
       "      <td>24.590000</td>\n",
       "      <td>24.820000</td>\n",
       "      <td>24.330000</td>\n",
       "      <td>24.530001</td>\n",
       "      <td>41500700</td>\n",
       "    </tr>\n",
       "    <tr>\n",
       "      <th>2484</th>\n",
       "      <td>2023-05-11 00:00:00-03:00</td>\n",
       "      <td>24.129999</td>\n",
       "      <td>25.480000</td>\n",
       "      <td>23.930000</td>\n",
       "      <td>25.430000</td>\n",
       "      <td>136878100</td>\n",
       "    </tr>\n",
       "    <tr>\n",
       "      <th>2485</th>\n",
       "      <td>2023-05-12 00:00:00-03:00</td>\n",
       "      <td>25.580000</td>\n",
       "      <td>26.740000</td>\n",
       "      <td>25.480000</td>\n",
       "      <td>26.120001</td>\n",
       "      <td>98658100</td>\n",
       "    </tr>\n",
       "  </tbody>\n",
       "</table>\n",
       "<p>2486 rows × 6 columns</p>\n",
       "</div>"
      ],
      "text/plain": [
       "                          Date       Open       High        Low      Close   \n",
       "0    2013-05-13 00:00:00-03:00   7.289848   7.304568   7.131613   7.172092  \\\n",
       "1    2013-05-14 00:00:00-03:00   7.186810   7.242008   7.083773   7.194169   \n",
       "2    2013-05-15 00:00:00-03:00   7.175771   7.227290   7.113213   7.201530   \n",
       "3    2013-05-16 00:00:00-03:00   7.183132   7.389205   7.161052   7.267769   \n",
       "4    2013-05-17 00:00:00-03:00   7.326647   7.378165   7.282489   7.319287   \n",
       "...                        ...        ...        ...        ...        ...   \n",
       "2481 2023-05-08 00:00:00-03:00  24.450001  24.629999  24.209999  24.510000   \n",
       "2482 2023-05-09 00:00:00-03:00  24.410000  24.799999  24.240000  24.590000   \n",
       "2483 2023-05-10 00:00:00-03:00  24.590000  24.820000  24.330000  24.530001   \n",
       "2484 2023-05-11 00:00:00-03:00  24.129999  25.480000  23.930000  25.430000   \n",
       "2485 2023-05-12 00:00:00-03:00  25.580000  26.740000  25.480000  26.120001   \n",
       "\n",
       "         Volume  \n",
       "0      21577600  \n",
       "1      30643700  \n",
       "2      21869300  \n",
       "3      25067200  \n",
       "4      19040100  \n",
       "...         ...  \n",
       "2481   59352300  \n",
       "2482   33978200  \n",
       "2483   41500700  \n",
       "2484  136878100  \n",
       "2485   98658100  \n",
       "\n",
       "[2486 rows x 6 columns]"
      ]
     },
     "execution_count": 80,
     "metadata": {},
     "output_type": "execute_result"
    }
   ],
   "source": [
    "# Remove a ultima data do df_daily\n",
    "df_remove_ticket = df_ticker.loc[(df_ticker['Date'] == pd.to_datetime('today').normalize())]\n",
    "df_ticker = df_ticker.drop(df_remove_ticket.index)\n",
    "df_ticker"
   ]
  },
  {
   "cell_type": "code",
   "execution_count": 81,
   "metadata": {
    "ExecuteTime": {
     "end_time": "2023-05-12T19:10:45.734764Z",
     "start_time": "2023-05-12T19:10:45.724712Z"
    },
    "id": "Wxr01z3_HVJm"
   },
   "outputs": [],
   "source": [
    "df_ticker['Date'] = pd.to_datetime(df_ticker['Date'], format='%Y-%m-%d')"
   ]
  },
  {
   "cell_type": "code",
   "execution_count": 82,
   "metadata": {
    "ExecuteTime": {
     "end_time": "2023-05-12T19:10:46.172846Z",
     "start_time": "2023-05-12T19:10:46.154995Z"
    }
   },
   "outputs": [
    {
     "data": {
      "text/html": [
       "<div>\n",
       "<style scoped>\n",
       "    .dataframe tbody tr th:only-of-type {\n",
       "        vertical-align: middle;\n",
       "    }\n",
       "\n",
       "    .dataframe tbody tr th {\n",
       "        vertical-align: top;\n",
       "    }\n",
       "\n",
       "    .dataframe thead th {\n",
       "        text-align: right;\n",
       "    }\n",
       "</style>\n",
       "<table border=\"1\" class=\"dataframe\">\n",
       "  <thead>\n",
       "    <tr style=\"text-align: right;\">\n",
       "      <th></th>\n",
       "      <th>Date</th>\n",
       "      <th>Open</th>\n",
       "      <th>High</th>\n",
       "      <th>Low</th>\n",
       "      <th>Close</th>\n",
       "      <th>Volume</th>\n",
       "    </tr>\n",
       "  </thead>\n",
       "  <tbody>\n",
       "    <tr>\n",
       "      <th>0</th>\n",
       "      <td>2013-05-13</td>\n",
       "      <td>7.289848</td>\n",
       "      <td>7.304568</td>\n",
       "      <td>7.131613</td>\n",
       "      <td>7.172092</td>\n",
       "      <td>21577600</td>\n",
       "    </tr>\n",
       "    <tr>\n",
       "      <th>1</th>\n",
       "      <td>2013-05-14</td>\n",
       "      <td>7.186810</td>\n",
       "      <td>7.242008</td>\n",
       "      <td>7.083773</td>\n",
       "      <td>7.194169</td>\n",
       "      <td>30643700</td>\n",
       "    </tr>\n",
       "    <tr>\n",
       "      <th>2</th>\n",
       "      <td>2013-05-15</td>\n",
       "      <td>7.175771</td>\n",
       "      <td>7.227290</td>\n",
       "      <td>7.113213</td>\n",
       "      <td>7.201530</td>\n",
       "      <td>21869300</td>\n",
       "    </tr>\n",
       "    <tr>\n",
       "      <th>3</th>\n",
       "      <td>2013-05-16</td>\n",
       "      <td>7.183132</td>\n",
       "      <td>7.389205</td>\n",
       "      <td>7.161052</td>\n",
       "      <td>7.267769</td>\n",
       "      <td>25067200</td>\n",
       "    </tr>\n",
       "    <tr>\n",
       "      <th>4</th>\n",
       "      <td>2013-05-17</td>\n",
       "      <td>7.326647</td>\n",
       "      <td>7.378165</td>\n",
       "      <td>7.282489</td>\n",
       "      <td>7.319287</td>\n",
       "      <td>19040100</td>\n",
       "    </tr>\n",
       "    <tr>\n",
       "      <th>...</th>\n",
       "      <td>...</td>\n",
       "      <td>...</td>\n",
       "      <td>...</td>\n",
       "      <td>...</td>\n",
       "      <td>...</td>\n",
       "      <td>...</td>\n",
       "    </tr>\n",
       "    <tr>\n",
       "      <th>2481</th>\n",
       "      <td>2023-05-08</td>\n",
       "      <td>24.450001</td>\n",
       "      <td>24.629999</td>\n",
       "      <td>24.209999</td>\n",
       "      <td>24.510000</td>\n",
       "      <td>59352300</td>\n",
       "    </tr>\n",
       "    <tr>\n",
       "      <th>2482</th>\n",
       "      <td>2023-05-09</td>\n",
       "      <td>24.410000</td>\n",
       "      <td>24.799999</td>\n",
       "      <td>24.240000</td>\n",
       "      <td>24.590000</td>\n",
       "      <td>33978200</td>\n",
       "    </tr>\n",
       "    <tr>\n",
       "      <th>2483</th>\n",
       "      <td>2023-05-10</td>\n",
       "      <td>24.590000</td>\n",
       "      <td>24.820000</td>\n",
       "      <td>24.330000</td>\n",
       "      <td>24.530001</td>\n",
       "      <td>41500700</td>\n",
       "    </tr>\n",
       "    <tr>\n",
       "      <th>2484</th>\n",
       "      <td>2023-05-11</td>\n",
       "      <td>24.129999</td>\n",
       "      <td>25.480000</td>\n",
       "      <td>23.930000</td>\n",
       "      <td>25.430000</td>\n",
       "      <td>136878100</td>\n",
       "    </tr>\n",
       "    <tr>\n",
       "      <th>2485</th>\n",
       "      <td>2023-05-12</td>\n",
       "      <td>25.580000</td>\n",
       "      <td>26.740000</td>\n",
       "      <td>25.480000</td>\n",
       "      <td>26.120001</td>\n",
       "      <td>98658100</td>\n",
       "    </tr>\n",
       "  </tbody>\n",
       "</table>\n",
       "<p>2486 rows × 6 columns</p>\n",
       "</div>"
      ],
      "text/plain": [
       "            Date       Open       High        Low      Close     Volume\n",
       "0     2013-05-13   7.289848   7.304568   7.131613   7.172092   21577600\n",
       "1     2013-05-14   7.186810   7.242008   7.083773   7.194169   30643700\n",
       "2     2013-05-15   7.175771   7.227290   7.113213   7.201530   21869300\n",
       "3     2013-05-16   7.183132   7.389205   7.161052   7.267769   25067200\n",
       "4     2013-05-17   7.326647   7.378165   7.282489   7.319287   19040100\n",
       "...          ...        ...        ...        ...        ...        ...\n",
       "2481  2023-05-08  24.450001  24.629999  24.209999  24.510000   59352300\n",
       "2482  2023-05-09  24.410000  24.799999  24.240000  24.590000   33978200\n",
       "2483  2023-05-10  24.590000  24.820000  24.330000  24.530001   41500700\n",
       "2484  2023-05-11  24.129999  25.480000  23.930000  25.430000  136878100\n",
       "2485  2023-05-12  25.580000  26.740000  25.480000  26.120001   98658100\n",
       "\n",
       "[2486 rows x 6 columns]"
      ]
     },
     "execution_count": 82,
     "metadata": {},
     "output_type": "execute_result"
    }
   ],
   "source": [
    "df_ticker['Date'] = pd.to_datetime(df_ticker['Date'], utc=True).dt.date\n",
    "df_ticker"
   ]
  },
  {
   "cell_type": "code",
   "execution_count": 83,
   "metadata": {
    "ExecuteTime": {
     "end_time": "2023-05-12T19:10:46.663156Z",
     "start_time": "2023-05-12T19:10:46.642037Z"
    },
    "id": "bdqws_FoOR9S"
   },
   "outputs": [
    {
     "data": {
      "text/html": [
       "<div>\n",
       "<style scoped>\n",
       "    .dataframe tbody tr th:only-of-type {\n",
       "        vertical-align: middle;\n",
       "    }\n",
       "\n",
       "    .dataframe tbody tr th {\n",
       "        vertical-align: top;\n",
       "    }\n",
       "\n",
       "    .dataframe thead th {\n",
       "        text-align: right;\n",
       "    }\n",
       "</style>\n",
       "<table border=\"1\" class=\"dataframe\">\n",
       "  <thead>\n",
       "    <tr style=\"text-align: right;\">\n",
       "      <th></th>\n",
       "      <th>Date</th>\n",
       "      <th>Open</th>\n",
       "      <th>High</th>\n",
       "      <th>Low</th>\n",
       "      <th>Close</th>\n",
       "      <th>Volume</th>\n",
       "    </tr>\n",
       "  </thead>\n",
       "  <tbody>\n",
       "    <tr>\n",
       "      <th>0</th>\n",
       "      <td>2013-05-13</td>\n",
       "      <td>7.289848</td>\n",
       "      <td>7.304568</td>\n",
       "      <td>7.131613</td>\n",
       "      <td>7.172092</td>\n",
       "      <td>21577600</td>\n",
       "    </tr>\n",
       "    <tr>\n",
       "      <th>1</th>\n",
       "      <td>2013-05-14</td>\n",
       "      <td>7.186810</td>\n",
       "      <td>7.242008</td>\n",
       "      <td>7.083773</td>\n",
       "      <td>7.194169</td>\n",
       "      <td>30643700</td>\n",
       "    </tr>\n",
       "    <tr>\n",
       "      <th>2</th>\n",
       "      <td>2013-05-15</td>\n",
       "      <td>7.175771</td>\n",
       "      <td>7.227290</td>\n",
       "      <td>7.113213</td>\n",
       "      <td>7.201530</td>\n",
       "      <td>21869300</td>\n",
       "    </tr>\n",
       "    <tr>\n",
       "      <th>3</th>\n",
       "      <td>2013-05-16</td>\n",
       "      <td>7.183132</td>\n",
       "      <td>7.389205</td>\n",
       "      <td>7.161052</td>\n",
       "      <td>7.267769</td>\n",
       "      <td>25067200</td>\n",
       "    </tr>\n",
       "    <tr>\n",
       "      <th>4</th>\n",
       "      <td>2013-05-17</td>\n",
       "      <td>7.326647</td>\n",
       "      <td>7.378165</td>\n",
       "      <td>7.282489</td>\n",
       "      <td>7.319287</td>\n",
       "      <td>19040100</td>\n",
       "    </tr>\n",
       "    <tr>\n",
       "      <th>...</th>\n",
       "      <td>...</td>\n",
       "      <td>...</td>\n",
       "      <td>...</td>\n",
       "      <td>...</td>\n",
       "      <td>...</td>\n",
       "      <td>...</td>\n",
       "    </tr>\n",
       "    <tr>\n",
       "      <th>2481</th>\n",
       "      <td>2023-05-08</td>\n",
       "      <td>24.450001</td>\n",
       "      <td>24.629999</td>\n",
       "      <td>24.209999</td>\n",
       "      <td>24.510000</td>\n",
       "      <td>59352300</td>\n",
       "    </tr>\n",
       "    <tr>\n",
       "      <th>2482</th>\n",
       "      <td>2023-05-09</td>\n",
       "      <td>24.410000</td>\n",
       "      <td>24.799999</td>\n",
       "      <td>24.240000</td>\n",
       "      <td>24.590000</td>\n",
       "      <td>33978200</td>\n",
       "    </tr>\n",
       "    <tr>\n",
       "      <th>2483</th>\n",
       "      <td>2023-05-10</td>\n",
       "      <td>24.590000</td>\n",
       "      <td>24.820000</td>\n",
       "      <td>24.330000</td>\n",
       "      <td>24.530001</td>\n",
       "      <td>41500700</td>\n",
       "    </tr>\n",
       "    <tr>\n",
       "      <th>2484</th>\n",
       "      <td>2023-05-11</td>\n",
       "      <td>24.129999</td>\n",
       "      <td>25.480000</td>\n",
       "      <td>23.930000</td>\n",
       "      <td>25.430000</td>\n",
       "      <td>136878100</td>\n",
       "    </tr>\n",
       "    <tr>\n",
       "      <th>2485</th>\n",
       "      <td>2023-05-12</td>\n",
       "      <td>25.580000</td>\n",
       "      <td>26.740000</td>\n",
       "      <td>25.480000</td>\n",
       "      <td>26.120001</td>\n",
       "      <td>98658100</td>\n",
       "    </tr>\n",
       "  </tbody>\n",
       "</table>\n",
       "<p>2486 rows × 6 columns</p>\n",
       "</div>"
      ],
      "text/plain": [
       "            Date       Open       High        Low      Close     Volume\n",
       "0     2013-05-13   7.289848   7.304568   7.131613   7.172092   21577600\n",
       "1     2013-05-14   7.186810   7.242008   7.083773   7.194169   30643700\n",
       "2     2013-05-15   7.175771   7.227290   7.113213   7.201530   21869300\n",
       "3     2013-05-16   7.183132   7.389205   7.161052   7.267769   25067200\n",
       "4     2013-05-17   7.326647   7.378165   7.282489   7.319287   19040100\n",
       "...          ...        ...        ...        ...        ...        ...\n",
       "2481  2023-05-08  24.450001  24.629999  24.209999  24.510000   59352300\n",
       "2482  2023-05-09  24.410000  24.799999  24.240000  24.590000   33978200\n",
       "2483  2023-05-10  24.590000  24.820000  24.330000  24.530001   41500700\n",
       "2484  2023-05-11  24.129999  25.480000  23.930000  25.430000  136878100\n",
       "2485  2023-05-12  25.580000  26.740000  25.480000  26.120001   98658100\n",
       "\n",
       "[2486 rows x 6 columns]"
      ]
     },
     "execution_count": 83,
     "metadata": {},
     "output_type": "execute_result"
    }
   ],
   "source": [
    "df_ticker"
   ]
  },
  {
   "cell_type": "code",
   "execution_count": 87,
   "metadata": {
    "ExecuteTime": {
     "end_time": "2023-05-12T19:13:09.792227Z",
     "start_time": "2023-05-12T19:13:09.734990Z"
    }
   },
   "outputs": [],
   "source": [
    "df_ticker.to_parquet('/home/bruno/repos/B3_Prediction_2023/dataset/Petro_13_to_23.TXT')\n"
   ]
  },
  {
   "cell_type": "code",
   "execution_count": null,
   "metadata": {},
   "outputs": [],
   "source": []
  }
 ],
 "metadata": {
  "colab": {
   "authorship_tag": "ABX9TyNvVkVDYaVQ3ONL1m/zGrsH",
   "include_colab_link": true,
   "private_outputs": true,
   "provenance": []
  },
  "hide_input": false,
  "kernelspec": {
   "display_name": "Python 3 (ipykernel)",
   "language": "python",
   "name": "python3"
  },
  "language_info": {
   "codemirror_mode": {
    "name": "ipython",
    "version": 3
   },
   "file_extension": ".py",
   "mimetype": "text/x-python",
   "name": "python",
   "nbconvert_exporter": "python",
   "pygments_lexer": "ipython3",
   "version": "3.11.3"
  }
 },
 "nbformat": 4,
 "nbformat_minor": 1
}
