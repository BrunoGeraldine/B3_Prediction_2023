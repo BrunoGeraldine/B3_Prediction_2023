{
  "nbformat": 4,
  "nbformat_minor": 0,
  "metadata": {
    "colab": {
      "private_outputs": true,
      "provenance": [],
      "authorship_tag": "ABX9TyO+OK/0z2TYbqciBqBe0xsM",
      "include_colab_link": true
    },
    "kernelspec": {
      "name": "python3",
      "display_name": "Python 3"
    },
    "language_info": {
      "name": "python"
    }
  },
  "cells": [
    {
      "cell_type": "markdown",
      "metadata": {
        "id": "view-in-github",
        "colab_type": "text"
      },
      "source": [
        "<a href=\"https://colab.research.google.com/github/BrunoGeraldine/B3_Prediction_2023/blob/main/notebook/C3_Linear_Regress_ScikitLearn_MLP_FInal.ipynb\" target=\"_parent\"><img src=\"https://colab.research.google.com/assets/colab-badge.svg\" alt=\"Open In Colab\"/></a>"
      ]
    },
    {
      "cell_type": "code",
      "source": [
        "!pip install scikit-learn\n"
      ],
      "metadata": {
        "id": "AtXmTyXTEY6f"
      },
      "execution_count": null,
      "outputs": []
    },
    {
      "cell_type": "code",
      "execution_count": null,
      "metadata": {
        "id": "B3gs93IOEGpp"
      },
      "outputs": [],
      "source": [
        "# Import Bibliotecas\n",
        "import warnings\n",
        "import numpy             as np\n",
        "import pandas            as pd\n",
        "import matplotlib.pyplot as plt\n",
        "\n",
        "\n",
        "from sklearn                   import datasets, linear_model\n",
        "from sklearn.metrics           import mean_squared_error, r2_score\n",
        "from sklearn.preprocessing     import MinMaxScaler\n",
        "from sklearn.neural_network    import MLPRegressor\n",
        "from sklearn.model_selection   import GridSearchCV\n",
        "from sklearn.feature_selection import SelectKBest\n",
        "\n",
        "%matplotlib inline"
      ]
    },
    {
      "cell_type": "code",
      "source": [
        "## Help Functions\n",
        "\n",
        "# Supress scientific Notation\n",
        "np.set_printoptions(suppress=True)\n",
        "pd.set_option('display.float_format', lambda x: '%.2f' % x)\n",
        "\n",
        "warnings.filterwarnings(\"ignore\")"
      ],
      "metadata": {
        "id": "P-pCbLiJJJBB"
      },
      "execution_count": null,
      "outputs": []
    },
    {
      "cell_type": "code",
      "source": [
        "# Load data\n",
        "df = pd.read_parquet('/content/all_bovespa.parquet')"
      ],
      "metadata": {
        "id": "2jPkg2ujEZP4"
      },
      "execution_count": null,
      "outputs": []
    },
    {
      "cell_type": "code",
      "source": [
        "# Capturando a ação desejada\n",
        "acao = 'PETR4'\n",
        "df_acao = df[df['sigla_acao'] == acao]"
      ],
      "metadata": {
        "id": "-xPabmZbGpyk"
      },
      "execution_count": null,
      "outputs": []
    },
    {
      "cell_type": "code",
      "source": [
        "df_acao.dtypes"
      ],
      "metadata": {
        "id": "w72CFn1EGwLW"
      },
      "execution_count": null,
      "outputs": []
    },
    {
      "cell_type": "code",
      "source": [
        "df_acao.tail()"
      ],
      "metadata": {
        "id": "ZpW1iCJxGwNw"
      },
      "execution_count": null,
      "outputs": []
    },
    {
      "cell_type": "code",
      "source": [
        "# Criando as médias moveis\n",
        "df_acao['MM5d'] = df_acao.loc[: ,('preco_fech')].rolling(5).mean()\n",
        "df_acao['MM21d'] = df_acao.loc[: ,('preco_fech')].rolling(21).mean()\n"
      ],
      "metadata": {
        "id": "GKWihOhXGwQb"
      },
      "execution_count": null,
      "outputs": []
    },
    {
      "cell_type": "code",
      "source": [
        "df_acao.head()"
      ],
      "metadata": {
        "id": "kZur_nA7Idff"
      },
      "execution_count": null,
      "outputs": []
    },
    {
      "cell_type": "code",
      "source": [
        "# Empurrando para trás ps valores das ações\n",
        "df_acao['preco_fech'] = df_acao['preco_fech'].shift(-1)\n",
        "\n",
        "df_acao.head()\n",
        "\"\"\"The .shift() method is used to shift the DataFrame index by a \n",
        "specified number of periods with an optional time frequency.\"\"\""
      ],
      "metadata": {
        "id": "4WacuVG9ItTr"
      },
      "execution_count": null,
      "outputs": []
    },
    {
      "cell_type": "code",
      "source": [
        "# Eliminando os dados nulos\n",
        "df_acao.dropna(inplace=True)\n",
        "df_acao\n",
        "# Elimino aqui 21 linhas"
      ],
      "metadata": {
        "id": "MF230VtmKlrR"
      },
      "execution_count": null,
      "outputs": []
    },
    {
      "cell_type": "code",
      "source": [
        "# Verificando quantidade de linhas\n",
        "qtd_linha = len(df_acao)\n",
        "\n",
        "qtd_linha_treino = qtd_linha - 761 #(70%)\n",
        "\n",
        "qtd_linha_teste = qtd_linha - 25 #(1%)\n",
        "\n",
        "qtd_linha_valid = qtd_linha_treino - qtd_linha_teste\n",
        "\n",
        "info = (\n",
        "    f'Linhas treino = 0: {qtd_linha_treino}',\n",
        "    f'Linhas teste = {qtd_linha_treino}:{qtd_linha_teste}',\n",
        "    f'Linhas validação = {qtd_linha_teste}:{qtd_linha}'\n",
        "\n",
        ")\n",
        "\n",
        "info"
      ],
      "metadata": {
        "id": "ik51LndPL1Q2"
      },
      "execution_count": null,
      "outputs": []
    },
    {
      "cell_type": "code",
      "source": [
        "#Reindexando o df\n",
        "df_acao = df_acao.reset_index(drop=True)\n",
        "df_acao"
      ],
      "metadata": {
        "id": "VrfnNgLOQqo2"
      },
      "execution_count": null,
      "outputs": []
    },
    {
      "cell_type": "code",
      "source": [
        "#Separando features e labels\n",
        "features = df_acao.drop(['sigla_acao', 'nome_acao', 'data_pregao', 'preco_fech'], 1)\n",
        "labels = df_acao['preco_fech']\n"
      ],
      "metadata": {
        "id": "tx_HCTjcRuAx"
      },
      "execution_count": null,
      "outputs": []
    },
    {
      "cell_type": "code",
      "source": [
        "# escolhendo as melhores features utilizando o KBest\n",
        "features_list = ('preco_abert', 'qtd_negocios', 'vol_negocios', 'MM5d', 'MM21d')\n",
        "\n",
        "k_best_features = SelectKBest(k='all')\n",
        "k_best_features.fit_transform(features, labels)\n",
        "k_best_features_scores = k_best_features.scores_\n",
        "raw_pairs = zip(features_list[1:], k_best_features_scores)\n",
        "ordered_pairs = list(reversed(sorted(raw_pairs, key=lambda x: x[1])))\n",
        "\n",
        "k_best_features_final = dict(ordered_pairs[:15])\n",
        "best_features = k_best_features_final.keys()\n",
        "\n",
        "print('')\n",
        "print('Melhores features')\n",
        "print(k_best_features_final)"
      ],
      "metadata": {
        "id": "Gmu_adn8SQsN"
      },
      "execution_count": null,
      "outputs": []
    },
    {
      "cell_type": "code",
      "source": [
        "features = df_acao.drop(['sigla_acao', 'nome_acao', 'data_pregao', 'preco_fech', 'preco_abert'], 1)"
      ],
      "metadata": {
        "id": "7DDQnajQSiNQ"
      },
      "execution_count": null,
      "outputs": []
    },
    {
      "cell_type": "code",
      "source": [
        "# Normalizando os Dados usando MinMaxSacale para evitar que os valores fiquem desbalanceados.\n",
        "scaler = MinMaxScaler().fit(features)\n",
        "features_scale = scaler.transform(features)\n",
        "\n",
        "print('Features: ', features_scale.shape)\n",
        "print(features_scale)"
      ],
      "metadata": {
        "id": "5svi1FPOSjl6"
      },
      "execution_count": null,
      "outputs": []
    },
    {
      "cell_type": "code",
      "source": [
        "# Separando em treino e test\n",
        "X_train = features_scale[:qtd_linha_treino]\n",
        "X_test = features_scale[qtd_linha_treino:qtd_linha_teste]\n",
        "\n",
        "Y_train = labels[:qtd_linha_treino]\n",
        "Y_test = labels[qtd_linha_treino:qtd_linha_teste]\n",
        "\n",
        "print(len(X_train), len(Y_train))\n",
        "\n",
        "print(len(X_test), len(Y_test))"
      ],
      "metadata": {
        "id": "1oTVpHzxWgOR"
      },
      "execution_count": null,
      "outputs": []
    },
    {
      "cell_type": "code",
      "source": [
        "#Treinamento usando regressão linear\n",
        "lr = linear_model.LinearRegression()\n",
        "lr.fit(X_train, Y_train)\n",
        "pred = lr.predict(X_test)\n",
        "cd = r2_score(Y_test, pred)\n",
        "\n",
        "f'Coeficiente de determinação: {cd * 100:.2f}'\n",
        "#Coeficiente de determinação: 88.28 usando os anos de 2013 à 2023\n",
        "#Coeficiente de determinação: 88.45 incluindo o ano de 2012"
      ],
      "metadata": {
        "id": "8P1Rf8uhfKri"
      },
      "execution_count": null,
      "outputs": []
    },
    {
      "cell_type": "code",
      "source": [
        "#Rede neural simples\n",
        "rn = MLPRegressor(max_iter=2000)\n",
        "rn.fit(X_train, Y_train)\n",
        "pred = rn.predict(X_test)\n",
        "\n",
        "cd = rn.score(X_test, Y_test)\n",
        "\n",
        "f'Coeficiente de determinação: {cd * 100:.2f}'\n",
        "#Coeficiente de determinação: 89.98 usando os anos de 2013 à 2023\n",
        "#Coeficiente de determinação: 90.08 incluindo o ano de 2012"
      ],
      "metadata": {
        "id": "_FI6ZYI_jYuJ"
      },
      "execution_count": null,
      "outputs": []
    },
    {
      "cell_type": "code",
      "source": [
        "#Rede neural com ajuste de hiperparametros\n",
        "\n",
        "rn_ = MLPRegressor()\n",
        "\n",
        "parameter_space = {\n",
        "    'hidden_layer_sizes': [(i,) for i in list(range(1, 21))],\n",
        "    'activation': ['tanh', 'relu'],\n",
        "    'solver': ['lbfgs', 'sgd', 'adam'],\n",
        "    'alpha': [0.0001, 0.05],\n",
        "    'learning_rate': ['constant', 'adaptive'],\n",
        "  }\n",
        "\n",
        "search = GridSearchCV(rn_, parameter_space, n_jobs=-1, cv=5)\n",
        "\n",
        "search.fit(X_train, Y_train)\n",
        "clf = search.best_estimator_\n",
        "pred = search.predict(X_test)\n",
        "\n",
        "cd = search.score(X_test, Y_test)\n",
        "\n",
        "f'Coeficiente de determinação: {cd * 100:.2f}'\n",
        "# Coeficiente de determinação: 88.37 usando os anos de 2013 à 2023\n",
        "# Coeficiente de determinação: 88.47 incluindo o ano de 2012"
      ],
      "metadata": {
        "id": "-zg7jGCWlRVe"
      },
      "execution_count": null,
      "outputs": []
    },
    {
      "cell_type": "code",
      "source": [
        "# executando a previsão\n",
        "\n",
        "previsao = features_scale[qtd_linha_teste:qtd_linha] #Dados desconhecidos para o modelo\n",
        "\n",
        "data_pregao_full = df_acao['data_pregao']\n",
        "data_pregao = data_pregao_full[qtd_linha_teste:qtd_linha]\n",
        "\n",
        "res_full = df_acao['preco_fech']\n",
        "res = res_full[qtd_linha_teste:qtd_linha]\n",
        "\n",
        "pred = rn.predict(previsao)\n",
        "\n",
        "#Criando o dataframe para comparar a previsão com os valroes reais\n",
        "df = pd.DataFrame({'data_pregao':data_pregao, 'real':res, 'previsao':pred})\n",
        "\n",
        "df['real'] = df['real'].shift(+1)\n",
        "\n",
        "df.set_index('data_pregao', inplace=True)\n",
        "\n",
        "print(df)\n"
      ],
      "metadata": {
        "id": "2Df7hbM-nilX"
      },
      "execution_count": null,
      "outputs": []
    },
    {
      "cell_type": "code",
      "source": [
        "# Visualização Grafica da previsão\n",
        "plt.figure(figsize=(16,8))\n",
        "plt.title('Preço das Ações')\n",
        "plt.plot(df['real'],label='real',color='blue',marker='o')\n",
        "plt.plot(df['previsao'],label='previsao',color='brown',marker='o')\n",
        "plt.xlabel('Data pregçao')\n",
        "plt.ylabel('Preço de fechamento')\n",
        "leg = plt.legend()\n"
      ],
      "metadata": {
        "id": "aQttbxaTuY0r"
      },
      "execution_count": null,
      "outputs": []
    },
    {
      "cell_type": "code",
      "source": [],
      "metadata": {
        "id": "iO33JV7uESNB"
      },
      "execution_count": null,
      "outputs": []
    }
  ]
}