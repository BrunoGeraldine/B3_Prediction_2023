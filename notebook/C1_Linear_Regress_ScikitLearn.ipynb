{
  "nbformat": 4,
  "nbformat_minor": 0,
  "metadata": {
    "colab": {
      "private_outputs": true,
      "provenance": [],
      "authorship_tag": "ABX9TyP9qBpN4G21hrPdRQ+kg/2Y",
      "include_colab_link": true
    },
    "kernelspec": {
      "name": "python3",
      "display_name": "Python 3"
    },
    "language_info": {
      "name": "python"
    }
  },
  "cells": [
    {
      "cell_type": "markdown",
      "metadata": {
        "id": "view-in-github",
        "colab_type": "text"
      },
      "source": [
        "<a href=\"https://colab.research.google.com/github/BrunoGeraldine/B3_Prediction_2023/blob/main/notebook/C1_Linear_Regress_ScikitLearn.ipynb\" target=\"_parent\"><img src=\"https://colab.research.google.com/assets/colab-badge.svg\" alt=\"Open In Colab\"/></a>"
      ]
    },
    {
      "cell_type": "code",
      "source": [
        "!pip install scikit-learn\n"
      ],
      "metadata": {
        "id": "AtXmTyXTEY6f"
      },
      "execution_count": null,
      "outputs": []
    },
    {
      "cell_type": "code",
      "execution_count": null,
      "metadata": {
        "id": "B3gs93IOEGpp"
      },
      "outputs": [],
      "source": [
        "# Import Bibliotecas\n",
        "import numpy  as np\n",
        "import pandas as pd\n",
        "\n",
        "\n",
        "from sklearn                   import datasets, linear_model\n",
        "from sklearn.metrics           import mean_squared_error, r2_score\n",
        "from sklearn.preprocessing     import MinMaxScaler\n",
        "from sklearn.neural_network    import MLPRegressor\n",
        "from sklearn.model_selection   import GridSearchCV\n",
        "from sklearn.feature_selection import SelectKBest\n",
        "\n",
        "%matplotlib inline"
      ]
    },
    {
      "cell_type": "code",
      "source": [
        "## Help Functions\n",
        "\n",
        "# Supress scientific Notation\n",
        "np.set_printoptions(suppress=True)\n",
        "pd.set_option('display.float_format', lambda x: '%.2f' % x)"
      ],
      "metadata": {
        "id": "P-pCbLiJJJBB"
      },
      "execution_count": null,
      "outputs": []
    },
    {
      "cell_type": "code",
      "source": [
        "# Load data\n",
        "df = pd.read_parquet('/content/all_bovespa_17to23.parquet')"
      ],
      "metadata": {
        "id": "2jPkg2ujEZP4"
      },
      "execution_count": null,
      "outputs": []
    },
    {
      "cell_type": "code",
      "source": [
        "df"
      ],
      "metadata": {
        "id": "cU4N_vu5EZSV"
      },
      "execution_count": null,
      "outputs": []
    },
    {
      "cell_type": "code",
      "source": [
        "# Capturando a ação desejada\n",
        "acao = 'VALE3'\n",
        "df_acao = df[df['sigla_acao'] == acao]"
      ],
      "metadata": {
        "id": "-xPabmZbGpyk"
      },
      "execution_count": null,
      "outputs": []
    },
    {
      "cell_type": "code",
      "source": [
        "df_acao"
      ],
      "metadata": {
        "id": "x1NlqW_rGwI3"
      },
      "execution_count": null,
      "outputs": []
    },
    {
      "cell_type": "code",
      "source": [
        "df_acao.dtypes"
      ],
      "metadata": {
        "id": "w72CFn1EGwLW"
      },
      "execution_count": null,
      "outputs": []
    },
    {
      "cell_type": "code",
      "source": [
        "df_acao.tail()"
      ],
      "metadata": {
        "id": "ZpW1iCJxGwNw"
      },
      "execution_count": null,
      "outputs": []
    },
    {
      "cell_type": "code",
      "source": [
        "# Criando as médias moveis\n",
        "df_acao['MM5d'] = df_acao.loc[: ,('preco_fech')].rolling(5).mean()\n",
        "df_acao['MM21d'] = df_acao.loc[: ,('preco_fech')].rolling(21).mean()\n"
      ],
      "metadata": {
        "id": "GKWihOhXGwQb"
      },
      "execution_count": null,
      "outputs": []
    },
    {
      "cell_type": "code",
      "source": [
        "df_acao.head()"
      ],
      "metadata": {
        "id": "kZur_nA7Idff"
      },
      "execution_count": null,
      "outputs": []
    },
    {
      "cell_type": "code",
      "source": [
        "# Empurrando para trás ps valores das ações\n",
        "df_acao['preco_fech'] = df_acao['preco_fech'].shift(-1)\n",
        "\n",
        "df_acao.head()\n",
        "\"\"\" Faço isso para prever o dia seguinte usando \n",
        "as features do dia anterior\"\"\""
      ],
      "metadata": {
        "id": "4WacuVG9ItTr"
      },
      "execution_count": null,
      "outputs": []
    },
    {
      "cell_type": "code",
      "source": [
        "# Eliminando os dados nulos\n",
        "df_acao.dropna(inplace=True)\n",
        "df_acao\n",
        "# Elimino aqui 21 linhas"
      ],
      "metadata": {
        "id": "MF230VtmKlrR"
      },
      "execution_count": null,
      "outputs": []
    },
    {
      "cell_type": "code",
      "source": [
        "# Verificando quantidade de linhas\n",
        "qtd_linha = len(df_acao)\n",
        "\n",
        "qtd_linha_treino = qtd_linha - 390 #(70%)\n",
        "\n",
        "qtd_linha_teste = qtd_linha - 13 #(1%)\n",
        "\n",
        "qtd_linha_valid = qtd_linha_treino - qtd_linha_teste\n",
        "\n",
        "info = (\n",
        "    f'Linhas treino = 0: {qtd_linha_treino}',\n",
        "    f'Linhas teste = {qtd_linha_treino}:{qtd_linha_teste}',\n",
        "    f'Linhas validação = {qtd_linha_teste}:{qtd_linha}'\n",
        "\n",
        ")\n",
        "\n",
        "info"
      ],
      "metadata": {
        "id": "ik51LndPL1Q2"
      },
      "execution_count": null,
      "outputs": []
    },
    {
      "cell_type": "code",
      "source": [
        "#Reindexando o df\n",
        "df_acao = df_acao.reset_index(drop=True)\n",
        "df_acao"
      ],
      "metadata": {
        "id": "VrfnNgLOQqo2"
      },
      "execution_count": null,
      "outputs": []
    },
    {
      "cell_type": "code",
      "source": [
        "#Separando features e labels\n",
        "features = df_acao.drop(['sigla_acao', 'nome_acao', 'data_pregao', 'preco_fech', 'Year'], 1)\n",
        "labels = df_acao['preco_fech']\n"
      ],
      "metadata": {
        "id": "tx_HCTjcRuAx"
      },
      "execution_count": null,
      "outputs": []
    },
    {
      "cell_type": "code",
      "source": [
        "# escolhendo as melhores features utilizando o KBest\n",
        "features_list = ('preco_abert', 'qtd_negocios', 'vol_negocios', 'MM5d', 'MM21d')\n",
        "\n",
        "k_best_features = SelectKBest(k='all')\n",
        "k_best_features.fit_transform(features, labels)\n",
        "k_best_features_scores = k_best_features.scores_\n",
        "raw_pairs = zip(features_list[1:], k_best_features_scores)\n",
        "ordered_pairs = list(reversed(sorted(raw_pairs, key=lambda x: x[1])))\n",
        "\n",
        "k_best_features_final = dict(ordered_pairs[:15])\n",
        "best_features = k_best_features_final.keys()\n",
        "\n",
        "print('')\n",
        "print('Melhores features')\n",
        "print(k_best_features_final)"
      ],
      "metadata": {
        "id": "Gmu_adn8SQsN"
      },
      "execution_count": null,
      "outputs": []
    },
    {
      "cell_type": "code",
      "source": [
        "features = df_acao.drop(['sigla_acao', 'nome_acao', 'data_pregao', 'preco_fech', 'preco_abert', 'Year', 'MM21d'], 1)"
      ],
      "metadata": {
        "id": "7DDQnajQSiNQ"
      },
      "execution_count": null,
      "outputs": []
    },
    {
      "cell_type": "code",
      "source": [
        "# Normalizando os Dados usando MinMaxSacale\n",
        "scaler = MinMaxScaler().fit(features)\n",
        "features_scale = scaler.transform(features)\n",
        "\n",
        "print('Features: ', features_scale.shape)\n",
        "print(features_scale)"
      ],
      "metadata": {
        "id": "5svi1FPOSjl6"
      },
      "execution_count": null,
      "outputs": []
    },
    {
      "cell_type": "code",
      "source": [
        "# Separando em treino e test\n",
        "X_train = features_scale[:qtd_linha_treino]\n",
        "Y_train = "
      ],
      "metadata": {
        "id": "1oTVpHzxWgOR"
      },
      "execution_count": null,
      "outputs": []
    }
  ]
}