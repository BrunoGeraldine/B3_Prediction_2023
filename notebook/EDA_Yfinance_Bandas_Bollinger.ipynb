{
  "nbformat": 4,
  "nbformat_minor": 0,
  "metadata": {
    "colab": {
      "private_outputs": true,
      "provenance": [],
      "authorship_tag": "ABX9TyOCTS4GGfEg2rnzol/gHAgh",
      "include_colab_link": true
    },
    "kernelspec": {
      "name": "python3",
      "display_name": "Python 3"
    },
    "language_info": {
      "name": "python"
    }
  },
  "cells": [
    {
      "cell_type": "markdown",
      "metadata": {
        "id": "view-in-github",
        "colab_type": "text"
      },
      "source": [
        "<a href=\"https://colab.research.google.com/github/BrunoGeraldine/B3_Prediction_2023/blob/main/notebook/EDA_Yfinance_Bandas_Bollinger.ipynb\" target=\"_parent\"><img src=\"https://colab.research.google.com/assets/colab-badge.svg\" alt=\"Open In Colab\"/></a>"
      ]
    },
    {
      "cell_type": "markdown",
      "source": [
        "# Bandas de Bollinger → Analise das ações utilizando as médias moveis como orientação para compra e venda."
      ],
      "metadata": {
        "id": "Q_F9EqnFDoos"
      }
    },
    {
      "cell_type": "code",
      "execution_count": null,
      "metadata": {
        "id": "9HlNvNd_xP1c"
      },
      "outputs": [],
      "source": [
        "# Instalando Yfinance API\n",
        "!pip install Yfinance"
      ]
    },
    {
      "cell_type": "code",
      "source": [
        "# Importando as bibliotecas\n",
        "import warnings\n",
        "import pandas               as pd\n",
        "import yfinance             as yf\n",
        "import seaborn              as sns\n",
        "import plotly.graph_objects as go"
      ],
      "metadata": {
        "id": "qt05EDNIySYz"
      },
      "execution_count": null,
      "outputs": []
    },
    {
      "cell_type": "code",
      "source": [
        "# Configuração do padrão de visualização dos dados e graficos\n",
        "# https://seaborn.pydata.org/tutorial.html\n",
        "sns.set_theme(\n",
        "    context='talk',\n",
        "    style='ticks',\n",
        "    palette='icefire',\n",
        "    font_scale=.8,\n",
        "    rc={'figure.figsize': (25, 15)}\n",
        ")\n",
        "\n",
        "warnings.filterwarnings(\"ignore\")"
      ],
      "metadata": {
        "id": "v-Ek7oMSkQw-"
      },
      "execution_count": null,
      "outputs": []
    },
    {
      "cell_type": "code",
      "source": [
        "# Escolhendo a ação\n",
        "acao = 'PETR4.SA'\n",
        "\n",
        "ticker = yf.Ticker(acao)\n",
        "\n",
        "# Intervalo de tempo\n",
        "df = ticker.history(period='1y')\n",
        "\n",
        "df.head()"
      ],
      "metadata": {
        "id": "AqdzCzMJyjPj"
      },
      "execution_count": null,
      "outputs": []
    },
    {
      "cell_type": "code",
      "source": [
        "# Calulo da MM simples e das bordas de Bollinger\n",
        "#\"\"\"Centro: média móvel simples de 5 períodos (se período = dias, então: 5 dias)\n",
        "#Banda superior: média móvel simples (5 períodos) + (2x desvio padrão de 5 dias)\n",
        "#Banda inferior: média móvel simples (5 períodos) – (2x desvio padrão de 5 dias)\"\"\"\n",
        "\n",
        "N = 5 # Moving Average periods \n",
        "N_ = 15\n",
        "k = 2  # Factor to shift the bands\n",
        "\n",
        "df['Standard_Deviation'] = df['Close'].rolling(N).std()\n",
        "df['MM5d'] = df['Close'].rolling(N).mean()\n",
        "df['MM15d'] = df['Close'].rolling(N_).mean()\n",
        "df['Upper_Band'] = df['MM5d'] + df['Standard_Deviation'] * k\n",
        "df['Lower_Band'] = df['MM5d'] - df['Standard_Deviation'] * k\n"
      ],
      "metadata": {
        "id": "ePsJmU7F5nVu"
      },
      "execution_count": null,
      "outputs": []
    },
    {
      "cell_type": "code",
      "source": [
        "#grafico\n",
        "candlestick = go.Candlestick(x=df.index,\n",
        "                             open=df['Open'],\n",
        "                             high=df['High'],\n",
        "                             low=df['Low'],\n",
        "                             close=df['Close']\n",
        ")\n",
        "lines_mm5 = go.Scatter(x=df.index,\n",
        "                       y=df['MM5d'],\n",
        "                       mode='lines',\n",
        "                       line_color='blue',\n",
        "                       name='MM5d')\n",
        "lines_mm15 = go.Scatter(\n",
        "                       x=df.index,\n",
        "                       y=df['MM15d'],\n",
        "                       mode='lines',\n",
        "                       line_color='orange',\n",
        "                       name='MM15d')\n",
        "\n",
        "lines_UB = go.Scatter(\n",
        "                       x=df.index,\n",
        "                       y=df['Upper_Band'],\n",
        "                       mode='lines',\n",
        "                       line_color='red',\n",
        "                       name='Upper_Band')\n",
        "\n",
        "lines_LB = go.Scatter(\n",
        "                       x=df.index,\n",
        "                       y=df['Lower_Band'],\n",
        "                       mode='lines',\n",
        "                       line_color='green',\n",
        "                       name='Lower_Band')\n",
        "\n",
        "\n",
        "\n",
        "fig = go.Figure(data=[candlestick])\n",
        "fig.update_traces(marker_autocolorscale=False, selector=dict(type='bar'))\n",
        "fig.update_layout(width=1800, height=700, font_size=16, dragmode='zoom')\n",
        "\n",
        "fig.add_trace(lines_mm5)\n",
        "fig.add_trace(lines_mm15)\n",
        "fig.add_trace(lines_UB)\n",
        "fig.add_trace(lines_LB)\n",
        "\n",
        "\n",
        "\n",
        "fig.show()"
      ],
      "metadata": {
        "id": "x73yyu4r8dmw"
      },
      "execution_count": null,
      "outputs": []
    },
    {
      "cell_type": "code",
      "source": [
        "# Calculo da media movel exponencial MME\n",
        "N = 15\n",
        "\n",
        "df['Standard_Deviation'] = df['Close'].rolling(N).std()\n",
        "df['MME15d'] = df['Close'].ewm(span=15).mean()\n",
        "df['MME30d'] = df['Close'].ewm(span=30).mean()\n",
        "\n",
        "df['Upper_Band'] = df['MME15d'] + df['Standard_Deviation'] * k\n",
        "df['Lower_Band'] = df['MME15d'] - df['Standard_Deviation'] * k\n",
        "\n"
      ],
      "metadata": {
        "id": "co9z50ek-RkL"
      },
      "execution_count": null,
      "outputs": []
    },
    {
      "cell_type": "code",
      "source": [
        "#grafico\n",
        "candlestick = go.Candlestick(x=df.index,\n",
        "                             open=df['Open'],\n",
        "                             high=df['High'],\n",
        "                             low=df['Low'],\n",
        "                             close=df['Close']\n",
        ")\n",
        "\n",
        "lines_me15 = go.Scatter(\n",
        "                       x=df.index,\n",
        "                       y=df['MME15d'],\n",
        "                       mode='lines',\n",
        "                       line_color='blue',\n",
        "                       name='MME15d')\n",
        "\n",
        "lines_me30 = go.Scatter(\n",
        "                       x=df.index,\n",
        "                       y=df['MME30d'],\n",
        "                       mode='lines',\n",
        "                       line_color='orange',\n",
        "                       name='MME30d')\n",
        "\n",
        "lines_UB = go.Scatter(\n",
        "                       x=df.index,\n",
        "                       y=df['Upper_Band'],\n",
        "                       mode='lines',\n",
        "                       line_color='red',\n",
        "                       name='Upper_Band')\n",
        "\n",
        "lines_LB = go.Scatter(\n",
        "                       x=df.index,\n",
        "                       y=df['Lower_Band'],\n",
        "                       mode='lines',\n",
        "                       line_color='green',\n",
        "                       name='Lower_Band')\n",
        "\n",
        "\n",
        "\n",
        "fig = go.Figure(data=[candlestick])\n",
        "fig.update_traces(marker_autocolorscale=False, selector=dict(type='bar'))\n",
        "fig.update_layout(width=1800, height=700, font_size=16, dragmode='zoom')\n",
        "\n",
        "fig.add_trace(lines_me15)\n",
        "fig.add_trace(lines_me30)\n",
        "fig.add_trace(lines_UB)\n",
        "fig.add_trace(lines_LB)\n",
        "\n",
        "\n",
        "\n",
        "fig.show()"
      ],
      "metadata": {
        "id": "bkSCDFvWAfz5"
      },
      "execution_count": null,
      "outputs": []
    },
    {
      "cell_type": "code",
      "source": [],
      "metadata": {
        "id": "eyxYaqG-DnFP"
      },
      "execution_count": null,
      "outputs": []
    },
    {
      "cell_type": "code",
      "source": [],
      "metadata": {
        "id": "Nve_RunuAhU0"
      },
      "execution_count": null,
      "outputs": []
    }
  ]
}