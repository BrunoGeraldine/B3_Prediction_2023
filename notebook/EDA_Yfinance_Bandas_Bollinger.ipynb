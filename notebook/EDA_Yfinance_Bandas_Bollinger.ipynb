{
  "cells": [
    {
      "cell_type": "markdown",
      "metadata": {
        "id": "view-in-github",
        "colab_type": "text"
      },
      "source": [
        "<a href=\"https://colab.research.google.com/github/BrunoGeraldine/B3_Prediction_share_bmg_2023/blob/main/notebook/EDA_Yfinance_Bandas_Bollinger.ipynb\" target=\"_parent\"><img src=\"https://colab.research.google.com/assets/colab-badge.svg\" alt=\"Open In Colab\"/></a>"
      ]
    },
    {
      "cell_type": "markdown",
      "metadata": {
        "id": "Q_F9EqnFDoos"
      },
      "source": [
        "# Bandas de Bollinger → Analise das ações utilizando as médias moveis como orientação para compra e venda."
      ]
    },
    {
      "cell_type": "markdown",
      "metadata": {
        "id": "2IujfsXUuYJ_"
      },
      "source": [
        "# Bandas Bollinger\n",
        "Bandas de bollinger conceitos\n",
        "Quando o preço do ativo ultrapassa a banda superior, observamos uma tendência de alta do ativo. Por outro lado, se o preço fica abaixo da banda inferior, há então uma tendência de baixa.\n",
        "As bandas de bollinger funcionam bem para mercados que seguem tendências. Isso mostra que, se utilizadas para analisar ativos que fogem dessa premissa, podem não ser tão úteis."
      ]
    },
    {
      "cell_type": "markdown",
      "metadata": {
        "id": "nGgrxZQrubY3"
      },
      "source": [
        "Estratégias utilizando bandas de bollinger\n",
        "São utilizadas algumas estratégias baseadas nessa ferramenta de análise.  São elas:\n",
        "\n",
        "  * Cruzamento dos preços com as bandas\n",
        "  * Preço acima ou abaixo das bandas\n",
        "  * Critério para saída da operação (Stop)"
      ]
    },
    {
      "cell_type": "code",
      "execution_count": null,
      "metadata": {
        "ExecuteTime": {
          "end_time": "2023-05-19T13:02:00.587915Z",
          "start_time": "2023-05-19T13:01:59.393260Z"
        },
        "id": "qt05EDNIySYz"
      },
      "outputs": [],
      "source": [
        "# Importando as bibliotecas\n",
        "import warnings\n",
        "import pandas               as pd\n",
        "import yfinance             as yf\n",
        "import seaborn              as sns\n",
        "import plotly.graph_objects as go"
      ]
    },
    {
      "cell_type": "code",
      "execution_count": null,
      "metadata": {
        "ExecuteTime": {
          "end_time": "2023-05-19T13:02:01.840998Z",
          "start_time": "2023-05-19T13:02:01.832746Z"
        },
        "id": "v-Ek7oMSkQw-"
      },
      "outputs": [],
      "source": [
        "# Configuração do padrão de visualização dos dados e graficos\n",
        "# https://seaborn.pydata.org/tutorial.html\n",
        "sns.set_theme(\n",
        "    context='talk',\n",
        "    style='ticks',\n",
        "    palette='icefire',\n",
        "    font_scale=.8,\n",
        "    rc={'figure.figsize': (25, 15)}\n",
        ")\n",
        "\n",
        "warnings.filterwarnings(\"ignore\")"
      ]
    },
    {
      "cell_type": "code",
      "execution_count": null,
      "metadata": {
        "ExecuteTime": {
          "end_time": "2023-05-19T13:02:03.163279Z",
          "start_time": "2023-05-19T13:02:02.716103Z"
        },
        "id": "AqdzCzMJyjPj"
      },
      "outputs": [],
      "source": [
        "# Escolhendo a ação\n",
        "acao = 'PETR4.SA'\n",
        "\n",
        "ticker = yf.Ticker(acao)\n",
        "\n",
        "# Intervalo de tempo\n",
        "df = ticker.history(period='6mo')\n",
        "\n",
        "df.head()"
      ]
    },
    {
      "cell_type": "code",
      "execution_count": null,
      "metadata": {
        "ExecuteTime": {
          "end_time": "2023-05-19T13:02:03.976803Z",
          "start_time": "2023-05-19T13:02:03.967120Z"
        },
        "id": "ePsJmU7F5nVu"
      },
      "outputs": [],
      "source": [
        "# Calulo da MM simples e das bordas de Bollinger\n",
        "#\"\"\"Centro: média móvel simples de 5 períodos (se período = dias, então: 5 dias)\n",
        "#Banda superior: média móvel simples (5 períodos) + (2x desvio padrão de 5 dias)\n",
        "#Banda inferior: média móvel simples (5 períodos) – (2x desvio padrão de 5 dias)\"\"\"\n",
        "\n",
        "N = 5 # Moving Average periods \n",
        "N_ = 26\n",
        "k = 2  # Factor to shift the bands\n",
        "\n",
        "df['Standard_Deviation'] = df['Close'].rolling(N).std()\n",
        "df['MM5d'] = df['Close'].rolling(N).mean()\n",
        "df['MM26d'] = df['Close'].rolling(N_).mean()\n",
        "df['Upper_Band'] = df['MM5d'] + df['Standard_Deviation'] * k\n",
        "df['Lower_Band'] = df['MM5d'] - df['Standard_Deviation'] * k\n"
      ]
    },
    {
      "cell_type": "code",
      "execution_count": null,
      "metadata": {
        "ExecuteTime": {
          "end_time": "2023-05-19T13:03:07.766556Z",
          "start_time": "2023-05-19T13:03:07.707410Z"
        },
        "id": "x73yyu4r8dmw"
      },
      "outputs": [],
      "source": [
        "#grafico\n",
        "candlestick = go.Candlestick(x=df.index,\n",
        "                             open=df['Open'],\n",
        "                             high=df['High'],\n",
        "                             low=df['Low'],\n",
        "                             close=df['Close']\n",
        ")\n",
        "lines_mm5 = go.Scatter(x=df.index,\n",
        "                       y=df['MM5d'],\n",
        "                       mode='lines',\n",
        "                       line_color='brown',\n",
        "                       name='MM5d')\n",
        "lines_mm26 = go.Scatter(\n",
        "                       x=df.index,\n",
        "                       y=df['MM26d'],\n",
        "                       mode='lines',\n",
        "                       line_color='orange',\n",
        "                       name='MM26d')\n",
        "\n",
        "lines_UB = go.Scatter(\n",
        "                       x=df.index,\n",
        "                       y=df['Upper_Band'],\n",
        "                       mode='lines',\n",
        "                       line_color='red',\n",
        "                       name='Upper_Band')\n",
        "\n",
        "lines_LB = go.Scatter(\n",
        "                       x=df.index,\n",
        "                       y=df['Lower_Band'],\n",
        "                       mode='lines',\n",
        "                       line_color='green',\n",
        "                       name='Lower_Band')\n",
        "\n",
        "\n",
        "\n",
        "fig = go.Figure(data=[candlestick])\n",
        "fig.update_traces(marker_autocolorscale=False, selector=dict(type='bar'))\n",
        "fig.update_layout(width=1800, height=1000, font_size=16, dragmode='zoom')\n",
        "\n",
        "fig.add_trace(lines_mm5)\n",
        "fig.add_trace(lines_mm26)\n",
        "fig.add_trace(lines_UB)\n",
        "fig.add_trace(lines_LB)\n",
        "\n",
        "\n",
        "\n",
        "fig.show()"
      ]
    },
    {
      "cell_type": "markdown",
      "metadata": {
        "id": "5n74wmXDzHAQ"
      },
      "source": [
        "## Utilizaremos como confirmação o principio do cruzamentos das 3 médias moveis exponenciais.\n",
        "Ou seja, a média de 15 dias será definida como média rapida, a de 30 como média convecional e a de 100 dias como média lenta."
      ]
    },
    {
      "cell_type": "code",
      "execution_count": null,
      "metadata": {
        "ExecuteTime": {
          "end_time": "2023-05-19T13:03:08.778992Z",
          "start_time": "2023-05-19T13:03:08.768095Z"
        },
        "id": "co9z50ek-RkL"
      },
      "outputs": [],
      "source": [
        "# Calculo da media movel exponencial MME\n",
        "\n",
        "df['MME15d'] = df['Close'].ewm(span=15).mean()\n",
        "df['MME30d'] = df['Close'].ewm(span=30).mean()\n",
        "df['MME100d'] = df['Close'].ewm(span=100).mean()\n",
        "\n",
        "\n"
      ]
    },
    {
      "cell_type": "code",
      "execution_count": null,
      "metadata": {
        "ExecuteTime": {
          "end_time": "2023-05-19T13:03:09.377920Z",
          "start_time": "2023-05-19T13:03:09.329982Z"
        },
        "id": "bkSCDFvWAfz5"
      },
      "outputs": [],
      "source": [
        "#grafico\n",
        "candlestick = go.Candlestick(x=df.index,\n",
        "                             open=df['Open'],\n",
        "                             high=df['High'],\n",
        "                             low=df['Low'],\n",
        "                             close=df['Close']\n",
        ")\n",
        "\n",
        "lines_me15 = go.Scatter(\n",
        "                       x=df.index,\n",
        "                       y=df['MME15d'],\n",
        "                       mode='lines',\n",
        "                       line_color='brown',\n",
        "                       name='MME15d')\n",
        "\n",
        "lines_me30 = go.Scatter(\n",
        "                       x=df.index,\n",
        "                       y=df['MME30d'],\n",
        "                       mode='lines',\n",
        "                       line_color='orange',\n",
        "                       name='MME30d')\n",
        "\n",
        "\n",
        "lines_me100 = go.Scatter(\n",
        "                       x=df.index,\n",
        "                       y=df['MME100d'],\n",
        "                       mode='lines',\n",
        "                       line_color='pink',\n",
        "                       name='MME100d')\n",
        "\n",
        "\n",
        "\n",
        "fig = go.Figure(data=[candlestick])\n",
        "fig.update_traces(marker_autocolorscale=False, selector=dict(type='bar'))\n",
        "fig.update_layout(width=1800, height=700, font_size=16, dragmode='zoom')\n",
        "\n",
        "fig.add_trace(lines_me15)\n",
        "fig.add_trace(lines_me30)\n",
        "fig.add_trace(lines_me100)\n",
        "\n",
        "\n",
        "fig.show()"
      ]
    },
    {
      "cell_type": "code",
      "source": [],
      "metadata": {
        "id": "mLq8O6B1Zd1S"
      },
      "execution_count": null,
      "outputs": []
    }
  ],
  "metadata": {
    "colab": {
      "private_outputs": true,
      "provenance": [],
      "include_colab_link": true
    },
    "hide_input": false,
    "kernelspec": {
      "display_name": "Python 3 (ipykernel)",
      "language": "python",
      "name": "python3"
    },
    "language_info": {
      "codemirror_mode": {
        "name": "ipython",
        "version": 3
      },
      "file_extension": ".py",
      "mimetype": "text/x-python",
      "name": "python",
      "nbconvert_exporter": "python",
      "pygments_lexer": "ipython3",
      "version": "3.9.10"
    }
  },
  "nbformat": 4,
  "nbformat_minor": 0
}