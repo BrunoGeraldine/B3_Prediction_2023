{
 "cells": [
  {
   "cell_type": "markdown",
   "id": "7d318df6",
   "metadata": {},
   "source": [
    "# Imports"
   ]
  },
  {
   "cell_type": "code",
   "execution_count": 4,
   "id": "d020cd7a",
   "metadata": {
    "ExecuteTime": {
     "end_time": "2023-05-18T17:37:51.238026Z",
     "start_time": "2023-05-18T17:37:50.809622Z"
    }
   },
   "outputs": [],
   "source": [
    "import pyarrow\n",
    "import pandas as pd"
   ]
  },
  {
   "cell_type": "markdown",
   "id": "2c8122c3",
   "metadata": {},
   "source": [
    "## Load files"
   ]
  },
  {
   "cell_type": "code",
   "execution_count": 6,
   "id": "75cd5c6f",
   "metadata": {
    "ExecuteTime": {
     "end_time": "2023-05-18T17:39:36.732757Z",
     "start_time": "2023-05-18T17:39:28.841729Z"
    }
   },
   "outputs": [],
   "source": [
    "cols_position = [(2,10),\n",
    "            (10,12),\n",
    "            (12,24),\n",
    "            (27,39),\n",
    "            (56,69),\n",
    "            (69,82),\n",
    "            (82,95),\n",
    "            (108,121),\n",
    "            (152,170),\n",
    "            (170, 178)]\n",
    "\n",
    "cols_name = ['data_pregao', 'codbdi', 'sigla_acao',\n",
    "             'nome_acao', 'preco_abertura', 'preco_maximo',\n",
    "             'preco_minimo', 'preco_fechamento', 'qtd_negocios',\n",
    "             'volume_negocios']\n",
    "\n",
    "df = pd.read_fwf('../dataset/COTAHIST_A2012.TXT', colspecs=cols_position, names=cols_name, skiprows=1, encoding='latin1')"
   ]
  },
  {
   "cell_type": "code",
   "execution_count": 7,
   "id": "c9a34ac0",
   "metadata": {
    "ExecuteTime": {
     "end_time": "2023-05-18T17:39:43.401850Z",
     "start_time": "2023-05-18T17:39:43.337049Z"
    }
   },
   "outputs": [],
   "source": [
    "# Filtering data to codbdi == 2 and drop column\n",
    "df = df[df['codbdi']==2]\n",
    "df = df.drop(['codbdi'], axis=1)"
   ]
  },
  {
   "cell_type": "code",
   "execution_count": 8,
   "id": "ae5ec74d",
   "metadata": {
    "ExecuteTime": {
     "end_time": "2023-05-18T17:39:45.494446Z",
     "start_time": "2023-05-18T17:39:45.455822Z"
    }
   },
   "outputs": [],
   "source": [
    "# Ajusta datetime\n",
    "df['data_pregao'] = pd.to_datetime(df['data_pregao'], format='%Y%m%d')\n",
    "\n",
    "# Ajuste Campo Numericos\n",
    "df['qtd_negocios'] = df['qtd_negocios'].astype(int)\n",
    "df['volume_negocios'] = df['volume_negocios'].astype(int)\n",
    "df['preco_abertura'] = (df['preco_abertura']/100).astype(float)\n",
    "df['preco_maximo'] = (df['preco_maximo']/100).astype(float)\n",
    "df['preco_minimo'] = (df['preco_minimo']/100).astype(float)\n",
    "df['preco_fechamento'] = (df['preco_fechamento']/100).astype(float)\n"
   ]
  },
  {
   "cell_type": "code",
   "execution_count": 9,
   "id": "fa03f545",
   "metadata": {
    "ExecuteTime": {
     "end_time": "2023-05-18T17:39:46.736164Z",
     "start_time": "2023-05-18T17:39:46.714633Z"
    }
   },
   "outputs": [],
   "source": [
    "df_itau = df[df['sigla_acao']=='ITUB4']"
   ]
  },
  {
   "cell_type": "code",
   "execution_count": 10,
   "id": "198191f6",
   "metadata": {
    "ExecuteTime": {
     "end_time": "2023-05-18T17:39:48.170294Z",
     "start_time": "2023-05-18T17:39:48.131180Z"
    }
   },
   "outputs": [
    {
     "data": {
      "text/html": [
       "<div>\n",
       "<style scoped>\n",
       "    .dataframe tbody tr th:only-of-type {\n",
       "        vertical-align: middle;\n",
       "    }\n",
       "\n",
       "    .dataframe tbody tr th {\n",
       "        vertical-align: top;\n",
       "    }\n",
       "\n",
       "    .dataframe thead th {\n",
       "        text-align: right;\n",
       "    }\n",
       "</style>\n",
       "<table border=\"1\" class=\"dataframe\">\n",
       "  <thead>\n",
       "    <tr style=\"text-align: right;\">\n",
       "      <th></th>\n",
       "      <th>data_pregao</th>\n",
       "      <th>sigla_acao</th>\n",
       "      <th>nome_acao</th>\n",
       "      <th>preco_abertura</th>\n",
       "      <th>preco_maximo</th>\n",
       "      <th>preco_minimo</th>\n",
       "      <th>preco_fechamento</th>\n",
       "      <th>qtd_negocios</th>\n",
       "      <th>volume_negocios</th>\n",
       "    </tr>\n",
       "  </thead>\n",
       "  <tbody>\n",
       "    <tr>\n",
       "      <th>473</th>\n",
       "      <td>2012-01-02</td>\n",
       "      <td>ITUB4</td>\n",
       "      <td>ITAUUNIBANCO</td>\n",
       "      <td>34.22</td>\n",
       "      <td>34.25</td>\n",
       "      <td>33.50</td>\n",
       "      <td>34.03</td>\n",
       "      <td>3403800</td>\n",
       "      <td>1</td>\n",
       "    </tr>\n",
       "    <tr>\n",
       "      <th>1600</th>\n",
       "      <td>2012-01-03</td>\n",
       "      <td>ITUB4</td>\n",
       "      <td>ITAUUNIBANCO</td>\n",
       "      <td>34.08</td>\n",
       "      <td>34.88</td>\n",
       "      <td>34.08</td>\n",
       "      <td>34.88</td>\n",
       "      <td>6431300</td>\n",
       "      <td>2</td>\n",
       "    </tr>\n",
       "    <tr>\n",
       "      <th>2856</th>\n",
       "      <td>2012-01-04</td>\n",
       "      <td>ITUB4</td>\n",
       "      <td>ITAUUNIBANCO</td>\n",
       "      <td>34.59</td>\n",
       "      <td>35.07</td>\n",
       "      <td>34.28</td>\n",
       "      <td>34.92</td>\n",
       "      <td>6320200</td>\n",
       "      <td>2</td>\n",
       "    </tr>\n",
       "    <tr>\n",
       "      <th>4123</th>\n",
       "      <td>2012-01-05</td>\n",
       "      <td>ITUB4</td>\n",
       "      <td>ITAUUNIBANCO</td>\n",
       "      <td>34.55</td>\n",
       "      <td>35.01</td>\n",
       "      <td>33.98</td>\n",
       "      <td>34.66</td>\n",
       "      <td>6733600</td>\n",
       "      <td>2</td>\n",
       "    </tr>\n",
       "    <tr>\n",
       "      <th>5296</th>\n",
       "      <td>2012-01-06</td>\n",
       "      <td>ITUB4</td>\n",
       "      <td>ITAUUNIBANCO</td>\n",
       "      <td>34.80</td>\n",
       "      <td>35.17</td>\n",
       "      <td>34.53</td>\n",
       "      <td>34.92</td>\n",
       "      <td>4986400</td>\n",
       "      <td>1</td>\n",
       "    </tr>\n",
       "    <tr>\n",
       "      <th>...</th>\n",
       "      <td>...</td>\n",
       "      <td>...</td>\n",
       "      <td>...</td>\n",
       "      <td>...</td>\n",
       "      <td>...</td>\n",
       "      <td>...</td>\n",
       "      <td>...</td>\n",
       "      <td>...</td>\n",
       "      <td>...</td>\n",
       "    </tr>\n",
       "    <tr>\n",
       "      <th>324625</th>\n",
       "      <td>2012-12-20</td>\n",
       "      <td>ITUB4</td>\n",
       "      <td>ITAUUNIBANCO</td>\n",
       "      <td>34.10</td>\n",
       "      <td>34.28</td>\n",
       "      <td>33.58</td>\n",
       "      <td>33.90</td>\n",
       "      <td>8013300</td>\n",
       "      <td>2</td>\n",
       "    </tr>\n",
       "    <tr>\n",
       "      <th>325995</th>\n",
       "      <td>2012-12-21</td>\n",
       "      <td>ITUB4</td>\n",
       "      <td>ITAUUNIBANCO</td>\n",
       "      <td>33.64</td>\n",
       "      <td>34.47</td>\n",
       "      <td>33.45</td>\n",
       "      <td>34.41</td>\n",
       "      <td>9266300</td>\n",
       "      <td>3</td>\n",
       "    </tr>\n",
       "    <tr>\n",
       "      <th>327352</th>\n",
       "      <td>2012-12-26</td>\n",
       "      <td>ITUB4</td>\n",
       "      <td>ITAUUNIBANCO</td>\n",
       "      <td>34.09</td>\n",
       "      <td>34.23</td>\n",
       "      <td>33.58</td>\n",
       "      <td>33.74</td>\n",
       "      <td>5675400</td>\n",
       "      <td>1</td>\n",
       "    </tr>\n",
       "    <tr>\n",
       "      <th>328714</th>\n",
       "      <td>2012-12-27</td>\n",
       "      <td>ITUB4</td>\n",
       "      <td>ITAUUNIBANCO</td>\n",
       "      <td>33.86</td>\n",
       "      <td>33.86</td>\n",
       "      <td>32.98</td>\n",
       "      <td>33.18</td>\n",
       "      <td>5005700</td>\n",
       "      <td>1</td>\n",
       "    </tr>\n",
       "    <tr>\n",
       "      <th>329985</th>\n",
       "      <td>2012-12-28</td>\n",
       "      <td>ITUB4</td>\n",
       "      <td>ITAUUNIBANCO</td>\n",
       "      <td>33.36</td>\n",
       "      <td>33.62</td>\n",
       "      <td>32.96</td>\n",
       "      <td>33.39</td>\n",
       "      <td>7294600</td>\n",
       "      <td>2</td>\n",
       "    </tr>\n",
       "  </tbody>\n",
       "</table>\n",
       "<p>246 rows × 9 columns</p>\n",
       "</div>"
      ],
      "text/plain": [
       "       data_pregao sigla_acao     nome_acao  preco_abertura  preco_maximo   \n",
       "473     2012-01-02      ITUB4  ITAUUNIBANCO           34.22         34.25  \\\n",
       "1600    2012-01-03      ITUB4  ITAUUNIBANCO           34.08         34.88   \n",
       "2856    2012-01-04      ITUB4  ITAUUNIBANCO           34.59         35.07   \n",
       "4123    2012-01-05      ITUB4  ITAUUNIBANCO           34.55         35.01   \n",
       "5296    2012-01-06      ITUB4  ITAUUNIBANCO           34.80         35.17   \n",
       "...            ...        ...           ...             ...           ...   \n",
       "324625  2012-12-20      ITUB4  ITAUUNIBANCO           34.10         34.28   \n",
       "325995  2012-12-21      ITUB4  ITAUUNIBANCO           33.64         34.47   \n",
       "327352  2012-12-26      ITUB4  ITAUUNIBANCO           34.09         34.23   \n",
       "328714  2012-12-27      ITUB4  ITAUUNIBANCO           33.86         33.86   \n",
       "329985  2012-12-28      ITUB4  ITAUUNIBANCO           33.36         33.62   \n",
       "\n",
       "        preco_minimo  preco_fechamento  qtd_negocios  volume_negocios  \n",
       "473            33.50             34.03       3403800                1  \n",
       "1600           34.08             34.88       6431300                2  \n",
       "2856           34.28             34.92       6320200                2  \n",
       "4123           33.98             34.66       6733600                2  \n",
       "5296           34.53             34.92       4986400                1  \n",
       "...              ...               ...           ...              ...  \n",
       "324625         33.58             33.90       8013300                2  \n",
       "325995         33.45             34.41       9266300                3  \n",
       "327352         33.58             33.74       5675400                1  \n",
       "328714         32.98             33.18       5005700                1  \n",
       "329985         32.96             33.39       7294600                2  \n",
       "\n",
       "[246 rows x 9 columns]"
      ]
     },
     "execution_count": 10,
     "metadata": {},
     "output_type": "execute_result"
    }
   ],
   "source": [
    "df_itau"
   ]
  },
  {
   "cell_type": "code",
   "execution_count": null,
   "id": "4d0b59f4",
   "metadata": {},
   "outputs": [],
   "source": []
  }
 ],
 "metadata": {
  "hide_input": false,
  "kernelspec": {
   "display_name": "Python 3 (ipykernel)",
   "language": "python",
   "name": "python3"
  },
  "language_info": {
   "codemirror_mode": {
    "name": "ipython",
    "version": 3
   },
   "file_extension": ".py",
   "mimetype": "text/x-python",
   "name": "python",
   "nbconvert_exporter": "python",
   "pygments_lexer": "ipython3",
   "version": "3.9.10"
  },
  "nbTranslate": {
   "displayLangs": [
    "*"
   ],
   "hotkey": "alt-t",
   "langInMainMenu": true,
   "sourceLang": "en",
   "targetLang": "fr",
   "useGoogleTranslate": true
  }
 },
 "nbformat": 4,
 "nbformat_minor": 5
}
