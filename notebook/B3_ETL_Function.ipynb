{
 "cells": [
  {
   "cell_type": "markdown",
   "metadata": {
    "colab_type": "text",
    "id": "view-in-github"
   },
   "source": [
    "<a href=\"https://colab.research.google.com/github/BrunoGeraldine/B3_Prediction_2023/blob/main/B3_ETL_Function.ipynb\" target=\"_parent\"><img src=\"https://colab.research.google.com/assets/colab-badge.svg\" alt=\"Open In Colab\"/></a>"
   ]
  },
  {
   "cell_type": "markdown",
   "metadata": {
    "id": "8vAZVsZuOLq2"
   },
   "source": [
    "# B3_Prediction_2023 → ETL_Function"
   ]
  },
  {
   "cell_type": "code",
   "execution_count": 7,
   "metadata": {
    "ExecuteTime": {
     "end_time": "2023-05-12T19:27:10.783065Z",
     "start_time": "2023-05-12T19:27:10.401471Z"
    },
    "id": "rGD3jecvXOw9"
   },
   "outputs": [],
   "source": [
    "import pyarrow\n",
    "import pandas as pd"
   ]
  },
  {
   "cell_type": "markdown",
   "metadata": {
    "id": "D-A8ZuT2fa29"
   },
   "source": [
    "### ETL_Function → read data"
   ]
  },
  {
   "cell_type": "code",
   "execution_count": 8,
   "metadata": {
    "ExecuteTime": {
     "end_time": "2023-05-12T19:27:12.054617Z",
     "start_time": "2023-05-12T19:27:12.047293Z"
    },
    "id": "MhGxvLFdeHXa"
   },
   "outputs": [],
   "source": [
    "def read_files(path, name_file, year_date, type_file):\n",
    "  _file = f'{path}{name_file}{year_date}.{type_file}'\n",
    "\n",
    "  colspecs = [(2,10), (10,12), (12,24), (27,39),\n",
    "              (56,69), (69,82), (82,95), (108,121),\n",
    "              (152,170), (170,188)\n",
    "  ]\n",
    "\n",
    "  names = ['data_pregao', 'cod_bdi', 'sigla_acao', 'nome_acao',\n",
    "           'preco_abert', 'preco_max', 'preco_min', 'preco_fech',\n",
    "           'qtd_negocios', 'vol_negocios']\n",
    "\n",
    "  df = pd.read_fwf(_file, colspecs=colspecs, names=names, skiprows=1, encoding='utf-8')\n",
    "\n",
    "  return df"
   ]
  },
  {
   "cell_type": "markdown",
   "metadata": {
    "id": "ZGtMu7bJfiQ-"
   },
   "source": [
    "### Filter_Function"
   ]
  },
  {
   "cell_type": "code",
   "execution_count": 9,
   "metadata": {
    "ExecuteTime": {
     "end_time": "2023-05-12T19:27:13.575695Z",
     "start_time": "2023-05-12T19:27:13.571633Z"
    },
    "id": "Fbj-dAKheHZ_"
   },
   "outputs": [],
   "source": [
    "\n",
    "\n",
    "def filter_stocks(df):\n",
    "  df = df[df['cod_bdi'] == 2] \n",
    "  df = df.drop(columns=['cod_bdi'])\n",
    "\n",
    "  return df"
   ]
  },
  {
   "cell_type": "markdown",
   "metadata": {
    "id": "V5UbytIaf7lG"
   },
   "source": [
    "### Date_Function"
   ]
  },
  {
   "cell_type": "code",
   "execution_count": 10,
   "metadata": {
    "ExecuteTime": {
     "end_time": "2023-05-12T19:27:14.711014Z",
     "start_time": "2023-05-12T19:27:14.706709Z"
    },
    "id": "rGAjTBKGf8H6"
   },
   "outputs": [],
   "source": [
    "def parse_date(df):\n",
    "  df['data_pregao'] = pd.to_datetime(df['data_pregao'], format ='%Y%m%d')\n",
    "  #df['Year'] = df['data_pregao'].dt.strftime( '%Y')\n",
    "\n",
    "\n",
    "  return df"
   ]
  },
  {
   "cell_type": "markdown",
   "metadata": {
    "id": "-JCEpj7LgKPI"
   },
   "source": [
    "### Value_Function"
   ]
  },
  {
   "cell_type": "code",
   "execution_count": 11,
   "metadata": {
    "ExecuteTime": {
     "end_time": "2023-05-12T19:27:15.790726Z",
     "start_time": "2023-05-12T19:27:15.783018Z"
    },
    "id": "VHgmPKPUgNnq"
   },
   "outputs": [],
   "source": [
    "def parse_values(df):\n",
    "  df['preco_abert'] = (df['preco_abert']  /100).astype(float)\n",
    "  df['preco_max'] = (df['preco_max']  /100).astype(float)\n",
    "  df['preco_min'] = (df['preco_min']  /100).astype(float)\n",
    "  df['preco_fech'] = (df['preco_fech']  /100).astype(float) \n",
    "\n",
    "  return df"
   ]
  },
  {
   "cell_type": "markdown",
   "metadata": {
    "id": "3noGYZ_cgrFE"
   },
   "source": [
    "### Join_Files"
   ]
  },
  {
   "cell_type": "code",
   "execution_count": 12,
   "metadata": {
    "ExecuteTime": {
     "end_time": "2023-05-12T19:27:16.634908Z",
     "start_time": "2023-05-12T19:27:16.627535Z"
    },
    "id": "EE2rwzSMgvxX"
   },
   "outputs": [],
   "source": [
    "def concat_files(path, name_file, year_date, type_file, final_file):\n",
    "  for i, y in enumerate(year_date):\n",
    "    df = read_files(path, name_file, y, type_file)\n",
    "    df = filter_stocks(df)\n",
    "    df = parse_date(df)\n",
    "    df = parse_values(df)\n",
    "\n",
    "    if i==0:\n",
    "      df_final = df\n",
    "    else: \n",
    "      df_final = pd.concat([df_final, df])\n",
    "\n",
    "  df_final.to_parquet(f'{path}//{abt_file}', index=False)\n"
   ]
  },
  {
   "cell_type": "markdown",
   "metadata": {
    "id": "KoelFabqjUCv"
   },
   "source": [
    "### Running_ETL_Function"
   ]
  },
  {
   "cell_type": "code",
   "execution_count": 13,
   "metadata": {
    "ExecuteTime": {
     "end_time": "2023-05-12T19:28:59.100530Z",
     "start_time": "2023-05-12T19:27:18.288473Z"
    },
    "id": "K_QPkoGxjTgR"
   },
   "outputs": [],
   "source": [
    "year_date = ['2013', '2015', '2016', '2017', '2018', '2019', '2020', '2021', '2023']\n",
    "\n",
    "path = f'/home/bruno/repos/B3_Prediction_2023/dataset/'\n",
    "\n",
    "name_file = 'COTAHIST_A'\n",
    "\n",
    "type_file = 'TXT'\n",
    "\n",
    "abt_file = 'all_bovespa_13to23.parquet'\n",
    "\n",
    "concat_files(path, name_file, year_date, type_file, abt_file)\n",
    "\n"
   ]
  },
  {
   "cell_type": "code",
   "execution_count": null,
   "metadata": {},
   "outputs": [],
   "source": []
  }
 ],
 "metadata": {
  "colab": {
   "authorship_tag": "ABX9TyOLw6En3MfNhrhywOa7WqtY",
   "include_colab_link": true,
   "private_outputs": true,
   "provenance": []
  },
  "hide_input": false,
  "kernelspec": {
   "display_name": "Python 3 (ipykernel)",
   "language": "python",
   "name": "python3"
  },
  "language_info": {
   "codemirror_mode": {
    "name": "ipython",
    "version": 3
   },
   "file_extension": ".py",
   "mimetype": "text/x-python",
   "name": "python",
   "nbconvert_exporter": "python",
   "pygments_lexer": "ipython3",
   "version": "3.11.3"
  }
 },
 "nbformat": 4,
 "nbformat_minor": 1
}
