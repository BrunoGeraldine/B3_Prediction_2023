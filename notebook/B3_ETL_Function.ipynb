{
 "cells": [
  {
   "cell_type": "markdown",
   "metadata": {
    "colab_type": "text",
    "id": "view-in-github"
   },
   "source": [
    "<a href=\"https://colab.research.google.com/github/BrunoGeraldine/B3_Prediction_2023/blob/main/B3_ETL_Function.ipynb\" target=\"_parent\"><img src=\"https://colab.research.google.com/assets/colab-badge.svg\" alt=\"Open In Colab\"/></a>"
   ]
  },
  {
   "cell_type": "markdown",
   "metadata": {
    "id": "8vAZVsZuOLq2"
   },
   "source": [
    "# B3_Prediction_2023 → ETL_Function"
   ]
  },
  {
   "cell_type": "code",
   "execution_count": 1,
   "metadata": {
    "ExecuteTime": {
     "end_time": "2023-05-15T14:15:24.773338Z",
     "start_time": "2023-05-15T14:15:24.209985Z"
    },
    "id": "rGD3jecvXOw9"
   },
   "outputs": [],
   "source": [
    "import pyarrow\n",
    "import pandas as pd"
   ]
  },
  {
   "cell_type": "markdown",
   "metadata": {
    "id": "D-A8ZuT2fa29"
   },
   "source": [
    "### ETL_Function → read data"
   ]
  },
  {
   "cell_type": "code",
   "execution_count": 2,
   "metadata": {
    "ExecuteTime": {
     "end_time": "2023-05-15T14:15:26.642874Z",
     "start_time": "2023-05-15T14:15:26.633241Z"
    },
    "id": "MhGxvLFdeHXa"
   },
   "outputs": [],
   "source": [
    "def read_files(path, name_file, year_date, type_file):\n",
    "  _file = f'{path}{name_file}{year_date}.{type_file}'\n",
    "\n",
    "  colspecs = [(2,10), (10,12), (12,24), (27,39),\n",
    "              (56,69), (69,82), (82,95), (108,121),\n",
    "              (152,170), (170,188)\n",
    "  ]\n",
    "\n",
    "  names = ['data_pregao', 'cod_bdi', 'sigla_acao', 'nome_acao',\n",
    "           'preco_abert', 'preco_max', 'preco_min', 'preco_fech',\n",
    "           'qtd_negocios', 'vol_negocios']\n",
    "\n",
    "  df = pd.read_fwf(_file, colspecs=colspecs, names=names, skiprows=1, encoding='latin1')\n",
    "\n",
    "  return df"
   ]
  },
  {
   "cell_type": "markdown",
   "metadata": {
    "id": "ZGtMu7bJfiQ-"
   },
   "source": [
    "### Filter_Function"
   ]
  },
  {
   "cell_type": "code",
   "execution_count": 3,
   "metadata": {
    "ExecuteTime": {
     "end_time": "2023-05-15T14:15:27.982221Z",
     "start_time": "2023-05-15T14:15:27.976621Z"
    },
    "id": "Fbj-dAKheHZ_"
   },
   "outputs": [],
   "source": [
    "\n",
    "\n",
    "def filter_stocks(df):\n",
    "  df = df[df['cod_bdi'] == 2] \n",
    "  df = df.drop(columns=['cod_bdi'])\n",
    "\n",
    "  return df"
   ]
  },
  {
   "cell_type": "markdown",
   "metadata": {
    "id": "V5UbytIaf7lG"
   },
   "source": [
    "### Date_Function"
   ]
  },
  {
   "cell_type": "code",
   "execution_count": 4,
   "metadata": {
    "ExecuteTime": {
     "end_time": "2023-05-15T14:15:28.672847Z",
     "start_time": "2023-05-15T14:15:28.665376Z"
    },
    "id": "rGAjTBKGf8H6"
   },
   "outputs": [],
   "source": [
    "def parse_date(df):\n",
    "  df['data_pregao'] = pd.to_datetime(df['data_pregao'], format ='%Y%m%d')\n",
    "  #df['Year'] = df['data_pregao'].dt.strftime( '%Y')\n",
    "\n",
    "\n",
    "  return df"
   ]
  },
  {
   "cell_type": "markdown",
   "metadata": {
    "id": "-JCEpj7LgKPI"
   },
   "source": [
    "### Value_Function"
   ]
  },
  {
   "cell_type": "code",
   "execution_count": 5,
   "metadata": {
    "ExecuteTime": {
     "end_time": "2023-05-15T14:15:29.960325Z",
     "start_time": "2023-05-15T14:15:29.953030Z"
    },
    "id": "VHgmPKPUgNnq"
   },
   "outputs": [],
   "source": [
    "def parse_values(df):\n",
    "  df['preco_abert'] = (df['preco_abert']  /100).astype(float)\n",
    "  df['preco_max'] = (df['preco_max']  /100).astype(float)\n",
    "  df['preco_min'] = (df['preco_min']  /100).astype(float)\n",
    "  df['preco_fech'] = (df['preco_fech']  /100).astype(float) \n",
    "\n",
    "  return df"
   ]
  },
  {
   "cell_type": "markdown",
   "metadata": {
    "id": "3noGYZ_cgrFE"
   },
   "source": [
    "### Join_Files"
   ]
  },
  {
   "cell_type": "code",
   "execution_count": 6,
   "metadata": {
    "ExecuteTime": {
     "end_time": "2023-05-15T14:15:36.776939Z",
     "start_time": "2023-05-15T14:15:36.768179Z"
    },
    "id": "EE2rwzSMgvxX"
   },
   "outputs": [],
   "source": [
    "def concat_files(path, name_file, year_date, type_file, final_file):\n",
    "  for i, y in enumerate(year_date):\n",
    "    df = read_files(path, name_file, y, type_file)\n",
    "    df = filter_stocks(df)\n",
    "    df = parse_date(df)\n",
    "    df = parse_values(df)\n",
    "\n",
    "    if i==0:\n",
    "      df_final = df\n",
    "    else: \n",
    "      df_final = pd.concat([df_final, df])\n",
    "\n",
    "  df_final.to_parquet(f'{path}//{abt_file}', index=False)\n"
   ]
  },
  {
   "cell_type": "markdown",
   "metadata": {
    "id": "KoelFabqjUCv"
   },
   "source": [
    "### Running_ETL_Function"
   ]
  },
  {
   "cell_type": "code",
   "execution_count": 7,
   "metadata": {
    "ExecuteTime": {
     "end_time": "2023-05-15T14:17:28.859243Z",
     "start_time": "2023-05-15T14:15:50.628645Z"
    },
    "id": "K_QPkoGxjTgR"
   },
   "outputs": [],
   "source": [
    "year_date = ['2013', '2014', '2015', '2016', '2017', '2018', '2019', '2020', '2021', '2023']\n",
    "\n",
    "path = f'/home/bruno/repos/B3_Prediction_2023/dataset/'\n",
    "\n",
    "name_file = 'COTAHIST_A'\n",
    "\n",
    "type_file = 'TXT'\n",
    "\n",
    "abt_file = 'all_bovespa_13to23.parquet'\n",
    "\n",
    "concat_files(path, name_file, year_date, type_file, abt_file)\n",
    "\n"
   ]
  },
  {
   "cell_type": "code",
   "execution_count": null,
   "metadata": {},
   "outputs": [],
   "source": []
  }
 ],
 "metadata": {
  "colab": {
   "authorship_tag": "ABX9TyOLw6En3MfNhrhywOa7WqtY",
   "include_colab_link": true,
   "private_outputs": true,
   "provenance": []
  },
  "hide_input": false,
  "kernelspec": {
   "display_name": "Python 3 (ipykernel)",
   "language": "python",
   "name": "python3"
  },
  "language_info": {
   "codemirror_mode": {
    "name": "ipython",
    "version": 3
   },
   "file_extension": ".py",
   "mimetype": "text/x-python",
   "name": "python",
   "nbconvert_exporter": "python",
   "pygments_lexer": "ipython3",
   "version": "3.11.3"
  }
 },
 "nbformat": 4,
 "nbformat_minor": 1
}
