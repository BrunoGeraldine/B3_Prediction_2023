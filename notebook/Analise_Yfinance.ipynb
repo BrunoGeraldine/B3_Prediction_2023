{
  "nbformat": 4,
  "nbformat_minor": 0,
  "metadata": {
    "colab": {
      "private_outputs": true,
      "provenance": [],
      "authorship_tag": "ABX9TyNZZtO5mcadCQC85uZ0VV95",
      "include_colab_link": true
    },
    "kernelspec": {
      "name": "python3",
      "display_name": "Python 3"
    },
    "language_info": {
      "name": "python"
    }
  },
  "cells": [
    {
      "cell_type": "markdown",
      "metadata": {
        "id": "view-in-github",
        "colab_type": "text"
      },
      "source": [
        "<a href=\"https://colab.research.google.com/github/BrunoGeraldine/B3_Prediction_2023/blob/main/notebook/Analise_Yfinance.ipynb\" target=\"_parent\"><img src=\"https://colab.research.google.com/assets/colab-badge.svg\" alt=\"Open In Colab\"/></a>"
      ]
    },
    {
      "cell_type": "code",
      "execution_count": null,
      "metadata": {
        "id": "9HlNvNd_xP1c"
      },
      "outputs": [],
      "source": [
        "# Instalando Yfinance API\n",
        "!pip install Yfinance"
      ]
    },
    {
      "cell_type": "code",
      "source": [
        "# Importando as bibliotecas\n",
        "import pandas               as pd\n",
        "import yfinance             as yf\n",
        "import plotly.graph_objects as go"
      ],
      "metadata": {
        "id": "qt05EDNIySYz"
      },
      "execution_count": null,
      "outputs": []
    },
    {
      "cell_type": "code",
      "source": [
        "# Escolhendo a ação\n",
        "acao = 'ITUB4.SA'\n",
        "\n",
        "ticker = yf.Ticker(acao)\n",
        "\n",
        "# Intervalo de tempo\n",
        "intervalo = "
      ],
      "metadata": {
        "id": "AqdzCzMJyjPj"
      },
      "execution_count": null,
      "outputs": []
    }
  ]
}