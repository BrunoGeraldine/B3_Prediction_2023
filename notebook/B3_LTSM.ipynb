{
  "cells": [
    {
      "cell_type": "markdown",
      "metadata": {
        "id": "view-in-github",
        "colab_type": "text"
      },
      "source": [
        "<a href=\"https://colab.research.google.com/github/BrunoGeraldine/B3_Prediction_2023/blob/main/notebook/B3_LTSM.ipynb\" target=\"_parent\"><img src=\"https://colab.research.google.com/assets/colab-badge.svg\" alt=\"Open In Colab\"/></a>"
      ]
    },
    {
      "cell_type": "markdown",
      "metadata": {
        "id": "8vAZVsZuOLq2"
      },
      "source": [
        "# B3_Prediction_2023 → LTSM"
      ]
    },
    {
      "cell_type": "markdown",
      "source": [
        "## Bibliotecas e help functions"
      ],
      "metadata": {
        "id": "Zy5GB3Kub3Kb"
      }
    },
    {
      "cell_type": "code",
      "execution_count": null,
      "metadata": {
        "ExecuteTime": {
          "end_time": "2023-05-06T15:44:20.206328Z",
          "start_time": "2023-05-06T15:44:19.588828Z"
        },
        "id": "rGD3jecvXOw9"
      },
      "outputs": [],
      "source": [
        "# Import\n",
        "import sidetable\n",
        "import numpy                 as np\n",
        "import pandas                as pd\n",
        "import seaborn               as sns\n",
        "import matplotlib.pyplot     as plt\n",
        "\n",
        "from tensorflow.keras.models import Sequential\n",
        "from sklearn.preprocessing   import StandardScaler\n",
        "from sklearn.model_selection import train_test_split\n",
        "from tensorflow.keras.layers import Dense, LSTM, Dropout\n"
      ]
    },
    {
      "cell_type": "code",
      "source": [
        "!pip install sidetable"
      ],
      "metadata": {
        "id": "3Y8k_gq-kWFM"
      },
      "execution_count": null,
      "outputs": []
    },
    {
      "cell_type": "code",
      "source": [
        "## Help Functions\n",
        "\n",
        "# Supress scientific Notation\n",
        "#np.set_printoptions(suppress=True)\n",
        "#pd.set_option('display.float_format', lambda x: '%.2f' % x)"
      ],
      "metadata": {
        "id": "Mcndf3xscIW-"
      },
      "execution_count": null,
      "outputs": []
    },
    {
      "cell_type": "markdown",
      "metadata": {
        "id": "D-A8ZuT2fa29"
      },
      "source": [
        "# Read data"
      ]
    },
    {
      "cell_type": "code",
      "source": [
        "df = pd.read_parquet('/content/all_bovespa.parquet')"
      ],
      "metadata": {
        "id": "WsNBm6asbQ2g"
      },
      "execution_count": null,
      "outputs": []
    },
    {
      "cell_type": "code",
      "source": [
        "df.head()"
      ],
      "metadata": {
        "id": "UBXL4dNTbQ5g"
      },
      "execution_count": null,
      "outputs": []
    },
    {
      "cell_type": "markdown",
      "metadata": {
        "id": "ZGtMu7bJfiQ-"
      },
      "source": [
        "# Action_Filter"
      ]
    },
    {
      "cell_type": "code",
      "source": [
        "df_acao = df.copy()"
      ],
      "metadata": {
        "id": "3lDwmNJVc3ss"
      },
      "execution_count": null,
      "outputs": []
    },
    {
      "cell_type": "code",
      "source": [
        "sigla = 'PETR4'\n",
        "df_acao = df[df['sigla_acao'] == sigla ]"
      ],
      "metadata": {
        "id": "SH-iYQMkc37v"
      },
      "execution_count": null,
      "outputs": []
    },
    {
      "cell_type": "code",
      "source": [
        "df_acao"
      ],
      "metadata": {
        "id": "cSaJPzbMdatr"
      },
      "execution_count": null,
      "outputs": []
    },
    {
      "cell_type": "code",
      "source": [
        "# Selecionando os campos que vamos análisar\n",
        "df_acao_fech = df_acao[['data_pregao', 'preco_fech']]\n"
      ],
      "metadata": {
        "id": "Oj2qkc2Vdxbo"
      },
      "execution_count": null,
      "outputs": []
    },
    {
      "cell_type": "code",
      "source": [
        "# Ajustando o indice pela data\n",
        "df_acao_fech = df_acao_fech.set_index(pd.DatetimeIndex(df_acao_fech['data_pregao'].values))"
      ],
      "metadata": {
        "id": "O2qqb5xUeWHm"
      },
      "execution_count": null,
      "outputs": []
    },
    {
      "cell_type": "code",
      "source": [
        "# Eliminano a coluna 'data_pregao'\n",
        "\n",
        "df_acao_fech.drop(columns=['data_pregao'], inplace=True)"
      ],
      "metadata": {
        "id": "wE1ZPC21eWKK"
      },
      "execution_count": null,
      "outputs": []
    },
    {
      "cell_type": "markdown",
      "source": [
        "# EDA → Action"
      ],
      "metadata": {
        "id": "QtYzLGvXg6Yc"
      }
    },
    {
      "cell_type": "markdown",
      "metadata": {
        "id": "V5UbytIaf7lG"
      },
      "source": [
        "## Verificar quantidade de linhas"
      ]
    },
    {
      "cell_type": "code",
      "source": [
        "print( f'Number of Rows: {df_acao_fech.shape[0]}' )\n",
        "print( f'Number of Columns: {df_acao_fech.shape[1]}' ) "
      ],
      "metadata": {
        "id": "MXJYit5xjhAN"
      },
      "execution_count": null,
      "outputs": []
    },
    {
      "cell_type": "markdown",
      "source": [
        "## Data types"
      ],
      "metadata": {
        "id": "_9QGN1hakEBR"
      }
    },
    {
      "cell_type": "code",
      "source": [
        "df_acao_fech.dtypes"
      ],
      "metadata": {
        "id": "MR6ickhykDE-"
      },
      "execution_count": null,
      "outputs": []
    },
    {
      "cell_type": "markdown",
      "source": [
        "## Check NA"
      ],
      "metadata": {
        "id": "NLpm1XP0kO7Z"
      }
    },
    {
      "cell_type": "code",
      "source": [
        "df_acao_fech.stb.missing()"
      ],
      "metadata": {
        "id": "uLxc0yyAkDQu"
      },
      "execution_count": null,
      "outputs": []
    },
    {
      "cell_type": "markdown",
      "source": [
        "## Data description"
      ],
      "metadata": {
        "id": "Xc369oGokndg"
      }
    },
    {
      "cell_type": "code",
      "source": [
        "df_acao_fech.describe()"
      ],
      "metadata": {
        "id": "Zuwlhl5Rkm5c"
      },
      "execution_count": null,
      "outputs": []
    },
    {
      "cell_type": "markdown",
      "source": [
        "## Grafico dos valores de fechamento"
      ],
      "metadata": {
        "id": "9XPXPZ7_kwoN"
      }
    },
    {
      "cell_type": "code",
      "source": [
        "# Plotando o comportamento da ação ao longo do periodo 2019 > 2023\n",
        "\n",
        "plt.figure(figsize=(25,8))\n",
        "plt.title('Preco de fechamento 2019 à 2023')\n",
        "plt.plot(df_acao_fech['preco_fech'], color='darkslateblue' )\n",
        "plt.xlabel('data');\n"
      ],
      "metadata": {
        "id": "XnKfPU8Qdxhz"
      },
      "execution_count": null,
      "outputs": []
    },
    {
      "cell_type": "markdown",
      "metadata": {
        "id": "-JCEpj7LgKPI"
      },
      "source": [
        "# Train_Test_Split"
      ]
    },
    {
      "cell_type": "code",
      "execution_count": null,
      "metadata": {
        "id": "Pqlpz5B0Wqcg"
      },
      "outputs": [],
      "source": [
        "# coletando a quantidade de linhas\n",
        "qtd_linhas = len(df_acao_fech)\n",
        "\n",
        "qtd_linhas_treino =round(.70 * qtd_linhas)\n",
        "\n",
        "qtd_linhas_test = qtd_linhas - qtd_linhas_treino\n",
        "\n",
        "info = (\n",
        "    f'Linhas de treino = 0:{qtd_linhas_treino}, '\n",
        "    f'linhas de teste = {qtd_linhas_treino}:{qtd_linhas_treino+qtd_linhas_test}'\n",
        ")\n",
        "\n",
        "info"
      ]
    },
    {
      "cell_type": "markdown",
      "source": [
        "# Data Modeling"
      ],
      "metadata": {
        "id": "Ramh6-zLnIlx"
      }
    },
    {
      "cell_type": "code",
      "source": [
        "# Normalização dos dados\n",
        "\n",
        "scaler = StandardScaler()\n",
        "df_scaled = scaler.fit_transform(df_acao_fech)"
      ],
      "metadata": {
        "id": "ON6xEWJallp0"
      },
      "execution_count": null,
      "outputs": []
    },
    {
      "cell_type": "markdown",
      "source": [
        "## Select Train_data and Test_data"
      ],
      "metadata": {
        "id": "GiRow-qqodSh"
      }
    },
    {
      "cell_type": "code",
      "source": [
        "train = df_scaled[:qtd_linhas_treino]\n",
        "test = df_scaled[qtd_linhas_treino:qtd_linhas_treino+qtd_linhas_test]\n",
        "\n",
        "print(len(train), len(test))"
      ],
      "metadata": {
        "id": "VG2rGnPhoOzp"
      },
      "execution_count": null,
      "outputs": []
    },
    {
      "cell_type": "code",
      "source": [
        "# Função que trasnforma os dados no tipo de dados que o LTSM requisita para o funcionamento\n",
        "def creat_df(df, steps=1):\n",
        "  dataX, dataY = [], []\n",
        "  for i in range(len(df)-steps-1):\n",
        "    a = df[i:(i+steps), 0]\n",
        "    dataX.append(a)\n",
        "    dataY.append(df[i + steps, 0])\n",
        "  \n",
        "  return np.array(dataX), np.array(dataY)\n",
        "\n",
        "\"\"\" Formata os valores que a rede LSTM espera \"\"\""
      ],
      "metadata": {
        "id": "s0mXzwivooLw"
      },
      "execution_count": null,
      "outputs": []
    },
    {
      "cell_type": "code",
      "source": [
        "# Gerando os dados de treino e test\n",
        "steps = 15 #(dias a prever)\n",
        "X_train, Y_train = creat_df(train, steps)\n",
        "X_test, Y_test = creat_df(test, steps)\n"
      ],
      "metadata": {
        "id": "2hBmCk-jpS6d"
      },
      "execution_count": null,
      "outputs": []
    },
    {
      "cell_type": "code",
      "source": [
        "print(X_train.shape)\n",
        "print(Y_train.shape)\n",
        "print(X_test.shape)\n",
        "print(Y_test.shape)"
      ],
      "metadata": {
        "id": "scgNnF98q39_"
      },
      "execution_count": null,
      "outputs": []
    },
    {
      "cell_type": "code",
      "source": [
        "# Gerando os dados que o modelo espera\n",
        "\n",
        "# O numero 1 no final do codigo refere-se a quantidade de features explicativos que o estamos passando\n",
        "X_train = X_train.reshape(X_train.shape[0], X_train.shape[1], 1)\n",
        "\n",
        "X_test = X_test.reshape(X_test.shape[0], X_test.shape[1], 1)"
      ],
      "metadata": {
        "id": "e9OLgyacq4A1"
      },
      "execution_count": null,
      "outputs": []
    },
    {
      "cell_type": "code",
      "source": [
        "# Montando a rede LSTM\n",
        "model = Sequential()\n",
        "model.add(LSTM(35, return_sequences=True, input_shape=(steps, 1)))\n",
        "# return_sequences=True → retorna a informação selecionada acima e reaplica o modelo \n",
        "model.add(LSTM(35, return_sequences=True))\n",
        "model.add(LSTM(35))\n",
        "model.add(Dropout(0.2)) #→ organiza as features para evitar overfit\n",
        "model.add(Dense(1)) #→saida do modelo, no caso 1 (unica feature preco) \"resposta preco previsto\""
      ],
      "metadata": {
        "id": "e5MIRVjTooTv"
      },
      "execution_count": null,
      "outputs": []
    },
    {
      "cell_type": "code",
      "source": [
        "# Compilando os dados da saida\n",
        "model.compile(optimizer='adam', loss='mse')\n",
        "model.summary()"
      ],
      "metadata": {
        "id": "w3ikdDy9u3P5"
      },
      "execution_count": null,
      "outputs": []
    },
    {
      "cell_type": "code",
      "source": [
        "# Treinamento do Modelo\n",
        "validation = model.fit(X_train, Y_train, validation_data=(X_test, Y_test), epochs=100, batch_size=15, verbose=2)"
      ],
      "metadata": {
        "id": "bS5x2FeXvWT6"
      },
      "execution_count": null,
      "outputs": []
    },
    {
      "cell_type": "code",
      "source": [
        "# grafico do comportamento do modelo\n",
        "plt.figure(figsize=(20,8))\n",
        "plt.plot(validation.history['loss'], label='Training loss')\n",
        "plt.plot(validation.history['val_loss'], label='Validation loss')\n",
        "plt.legend();"
      ],
      "metadata": {
        "id": "SYW1va4qwZQZ"
      },
      "execution_count": null,
      "outputs": []
    },
    {
      "cell_type": "code",
      "source": [
        "# Fazendo a previsão\n",
        "prev = model.predict(X_test)\n",
        "prev = scaler.inverse_transform(prev)\n",
        "prev"
      ],
      "metadata": {
        "id": "3ZNaXMuY0RLZ"
      },
      "execution_count": null,
      "outputs": []
    },
    {
      "cell_type": "code",
      "source": [
        "# Prevendo os proximos 10 dias\n",
        "lenght_test = len(test)\n",
        "lenght_test"
      ],
      "metadata": {
        "id": "yd5ck8CQ1kTs"
      },
      "execution_count": null,
      "outputs": []
    },
    {
      "cell_type": "code",
      "source": [
        "# Pegar os ultimos dias que são o tamanho do steps declarado anteriormente\n",
        "days_input_steps = lenght_test - steps\n",
        "days_input_steps"
      ],
      "metadata": {
        "id": "cZ6CNV-32CR4"
      },
      "execution_count": null,
      "outputs": []
    },
    {
      "cell_type": "code",
      "source": [
        "#Transforma em array\n",
        "input_steps = test[days_input_steps:]\n",
        "input_steps = np.array(input_steps).reshape(1, -1)\n",
        "input_steps"
      ],
      "metadata": {
        "id": "ugVzl3f12khe"
      },
      "execution_count": null,
      "outputs": []
    },
    {
      "cell_type": "code",
      "source": [
        "# Transfoprmar um lista\n",
        "list_output_steps = list(input_steps)\n",
        "list_output_steps = list_output_steps[0].tolist()\n",
        "list_output_steps"
      ],
      "metadata": {
        "id": "X-hdlSnl2xLq"
      },
      "execution_count": null,
      "outputs": []
    },
    {
      "cell_type": "code",
      "source": [
        "# Loop para prever os proximos 10 dias\n",
        "#Loop to preview the next 10 days\n",
        "pred_output = [] #→ recebe os dias a serem previstos\n",
        "i = 0\n",
        "n_future = 10\n",
        "while(i<n_future):\n",
        "  \n",
        "    if(len(list_output_steps) > steps):\n",
        "       input_steps = np.array(list_output_steps[1:])\n",
        "       print('Day {}. Value Entrance → {}'.format(i, input_steps))\n",
        "       input_steps = input_steps.reshape(1, -1)\n",
        "       input_steps = input_steps.reshape((1, steps, 1))\n",
        "       #print(input_steps)\n",
        "       pred = model.predict(input_steps, verbose=0)\n",
        "       print('Day {}. Value Predict → {}'.format(i, pred))\n",
        "       list_output_steps.extend(pred[0].tolist())\n",
        "       list_output_steps = list_output_steps[1:]\n",
        "       #print(list_output_steps)\n",
        "       pred_output.extend(pred.tolist())\n",
        "       i = i+1\n",
        "       \n",
        "    else:\n",
        "       input_steps = input_steps.reshape((1, steps, 1))\n",
        "       pred= model.predict(input_steps, verbose=0)\n",
        "       print(pred[0])\n",
        "       list_output_steps.extend(pred[0].tolist())\n",
        "       print(len(list_output_steps))\n",
        "       pred_output.extend(pred.tolist())\n",
        "       i = i+1\n",
        "       \n",
        "print(pred_output)\n",
        "       \n",
        "       \n"
      ],
      "metadata": {
        "id": "7bkzfmw6U9yi"
      },
      "execution_count": null,
      "outputs": []
    },
    {
      "cell_type": "code",
      "source": [
        "# transformando o output  para lermos \n",
        "prev = scaler.inverse_transform(pred_output)\n",
        "prev = np.array(prev).reshape(1,-1)\n",
        "list_output_prev = list(prev)\n",
        "list_output_prev = prev[0].tolist()\n",
        "list_output_prev\n",
        "\n"
      ],
      "metadata": {
        "id": "PEZ21_5oU91N"
      },
      "execution_count": null,
      "outputs": []
    },
    {
      "cell_type": "code",
      "source": [
        "# Colhendo as datas de previsão\n",
        "dates = pd.to_datetime(df_acao['data_pregao'])\n",
        "predict_dates = pd.date_range(list(dates)[-1] + pd.DateOffset(1), periods=10, freq='b').tolist()\n",
        "predict_dates\n"
      ],
      "metadata": {
        "id": "__Zyenh-U93t"
      },
      "execution_count": null,
      "outputs": []
    },
    {
      "cell_type": "code",
      "source": [
        "# Criando o DataFrame de previsão\n",
        "forecast_dates = []\n",
        "for i in predict_dates:\n",
        "  forecast_dates.append(i.date())\n",
        "\n",
        "df_forecast = pd.DataFrame({'data_pregao': np.array(forecast_dates), 'preco_fechamento': list_output_prev})\n",
        "df_forecast['data_pregao'] = pd.to_datetime(df_forecast['data_pregao'])\n",
        "\n",
        "# transformando o index pela data\n",
        "df_forecast = df_forecast.set_index(pd.DatetimeIndex(df_forecast['data_pregao'].values))\n",
        "df_forecast.drop(columns='data_pregao', inplace=True)\n",
        "df_forecast"
      ],
      "metadata": {
        "id": "P7xOl6MsU96l"
      },
      "execution_count": null,
      "outputs": []
    },
    {
      "cell_type": "code",
      "source": [
        "# Filtrando apenas os dias utilizados para previsão\n",
        "df_acao = df[(df['sigla_acao'] == sigla) & (df['data_pregao'] > '2023-04-01') ]\n",
        "df_acao_fech = df_acao[['data_pregao', 'preco_fech']]\n",
        "df_acao_fech = df_acao_fech.set_index(pd.DatetimeIndex(df_acao_fech['data_pregao'].values))\n",
        "df_acao_fech.drop(columns='data_pregao', inplace=True)"
      ],
      "metadata": {
        "id": "Ogrzk5BxfGgZ"
      },
      "execution_count": null,
      "outputs": []
    },
    {
      "cell_type": "code",
      "source": [
        "#Plotar o grafico\n",
        "plt.figure(figsize=(16,8))\n",
        "plt.title('Price Share Value')\n",
        "plt.plot(df_acao_fech['preco_fech'])\n",
        "plt.plot(df_forecast['preco_fechamento'])\n",
        "plt.legend(['Price Closed', 'Price Predicted'])\n",
        "plt.show();"
      ],
      "metadata": {
        "id": "K0SpWP3BU9_F"
      },
      "execution_count": null,
      "outputs": []
    },
    {
      "cell_type": "code",
      "source": [
        "# Fazer um novo ciclo acrescentando o ano de 2018"
      ],
      "metadata": {
        "id": "GwRGrBg430_c"
      },
      "execution_count": null,
      "outputs": []
    },
    {
      "cell_type": "code",
      "source": [],
      "metadata": {
        "id": "v49mFBWA5nao"
      },
      "execution_count": null,
      "outputs": []
    }
  ],
  "metadata": {
    "colab": {
      "private_outputs": true,
      "provenance": [],
      "include_colab_link": true
    },
    "hide_input": false,
    "kernelspec": {
      "display_name": "Python 3 (ipykernel)",
      "language": "python",
      "name": "python3"
    },
    "language_info": {
      "codemirror_mode": {
        "name": "ipython",
        "version": 3
      },
      "file_extension": ".py",
      "mimetype": "text/x-python",
      "name": "python",
      "nbconvert_exporter": "python",
      "pygments_lexer": "ipython3",
      "version": "3.11.3"
    }
  },
  "nbformat": 4,
  "nbformat_minor": 0
}