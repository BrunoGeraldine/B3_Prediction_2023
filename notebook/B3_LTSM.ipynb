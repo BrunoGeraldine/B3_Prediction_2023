{
  "cells": [
    {
      "cell_type": "markdown",
      "metadata": {
        "id": "view-in-github",
        "colab_type": "text"
      },
      "source": [
        "<a href=\"https://colab.research.google.com/github/BrunoGeraldine/B3_Prediction_2023/blob/main/notebook/B3_LTSM.ipynb\" target=\"_parent\"><img src=\"https://colab.research.google.com/assets/colab-badge.svg\" alt=\"Open In Colab\"/></a>"
      ]
    },
    {
      "cell_type": "markdown",
      "metadata": {
        "id": "8vAZVsZuOLq2"
      },
      "source": [
        "# B3_Prediction_2023 → LTSM"
      ]
    },
    {
      "cell_type": "markdown",
      "source": [
        "## Bibliotecas e help functions"
      ],
      "metadata": {
        "id": "Zy5GB3Kub3Kb"
      }
    },
    {
      "cell_type": "code",
      "execution_count": null,
      "metadata": {
        "ExecuteTime": {
          "end_time": "2023-05-06T15:44:20.206328Z",
          "start_time": "2023-05-06T15:44:19.588828Z"
        },
        "id": "rGD3jecvXOw9"
      },
      "outputs": [],
      "source": [
        "# Import\n",
        "import sidetable\n",
        "import numpy                 as np\n",
        "import pandas                as pd\n",
        "import seaborn               as sns\n",
        "import matplotlib.pyplot     as plt\n",
        "\n",
        "from tensorflow.keras.models import Sequential\n",
        "from sklearn.preprocessing   import StandardScaler\n",
        "from sklearn.model_selection import train_test_split\n",
        "from tensorflow.keras.layers import Dense, LSTM, Dropout\n"
      ]
    },
    {
      "cell_type": "code",
      "source": [
        "#!pip install sidetable"
      ],
      "metadata": {
        "id": "3Y8k_gq-kWFM"
      },
      "execution_count": null,
      "outputs": []
    },
    {
      "cell_type": "code",
      "source": [
        "## Help Functions\n",
        "\n",
        "# Supress scientific Notation\n",
        "np.set_printoptions(suppress=True)\n",
        "pd.set_option('display.float_format', lambda x: '%.2f' % x)"
      ],
      "metadata": {
        "id": "Mcndf3xscIW-"
      },
      "execution_count": null,
      "outputs": []
    },
    {
      "cell_type": "markdown",
      "metadata": {
        "id": "D-A8ZuT2fa29"
      },
      "source": [
        "# Read data"
      ]
    },
    {
      "cell_type": "code",
      "source": [
        "df = pd.read_parquet('/content/all_bovespa.parquet')"
      ],
      "metadata": {
        "id": "WsNBm6asbQ2g"
      },
      "execution_count": null,
      "outputs": []
    },
    {
      "cell_type": "code",
      "source": [
        "df.head()"
      ],
      "metadata": {
        "id": "UBXL4dNTbQ5g"
      },
      "execution_count": null,
      "outputs": []
    },
    {
      "cell_type": "markdown",
      "metadata": {
        "id": "ZGtMu7bJfiQ-"
      },
      "source": [
        "# Action_Filter"
      ]
    },
    {
      "cell_type": "code",
      "source": [
        "df_acao = df.copy()"
      ],
      "metadata": {
        "id": "3lDwmNJVc3ss"
      },
      "execution_count": null,
      "outputs": []
    },
    {
      "cell_type": "code",
      "source": [
        "sigla = 'PETR4'\n",
        "df_acao = df[df['sigla_acao'] == sigla ]"
      ],
      "metadata": {
        "id": "SH-iYQMkc37v"
      },
      "execution_count": null,
      "outputs": []
    },
    {
      "cell_type": "code",
      "source": [
        "df_acao"
      ],
      "metadata": {
        "id": "cSaJPzbMdatr"
      },
      "execution_count": null,
      "outputs": []
    },
    {
      "cell_type": "code",
      "source": [
        "# Selecionando os campos que vamos análisar\n",
        "df_acao_fech = df_acao[['data_pregao', 'preco_fech']]\n"
      ],
      "metadata": {
        "id": "Oj2qkc2Vdxbo"
      },
      "execution_count": null,
      "outputs": []
    },
    {
      "cell_type": "code",
      "source": [
        "# Ajustando o indice pela data\n",
        "df_acao_fech = df_acao_fech.set_index(pd.DatetimeIndex(df_acao_fech['data_pregao'].values))"
      ],
      "metadata": {
        "id": "O2qqb5xUeWHm"
      },
      "execution_count": null,
      "outputs": []
    },
    {
      "cell_type": "code",
      "source": [
        "# Eliminano a coluna 'data_pregao'\n",
        "\n",
        "df_acao_fech.drop(columns=['data_pregao'], inplace=True)"
      ],
      "metadata": {
        "id": "wE1ZPC21eWKK"
      },
      "execution_count": null,
      "outputs": []
    },
    {
      "cell_type": "markdown",
      "source": [
        "# EDA → Action"
      ],
      "metadata": {
        "id": "QtYzLGvXg6Yc"
      }
    },
    {
      "cell_type": "markdown",
      "metadata": {
        "id": "V5UbytIaf7lG"
      },
      "source": [
        "## Verificar quantidade de linhas"
      ]
    },
    {
      "cell_type": "code",
      "source": [
        "print( f'Number of Rows: {df_acao_fech.shape[0]}' )\n",
        "print( f'Number of Columns: {df_acao_fech.shape[1]}' ) "
      ],
      "metadata": {
        "id": "MXJYit5xjhAN"
      },
      "execution_count": null,
      "outputs": []
    },
    {
      "cell_type": "markdown",
      "source": [
        "## Data types"
      ],
      "metadata": {
        "id": "_9QGN1hakEBR"
      }
    },
    {
      "cell_type": "code",
      "source": [
        "df_acao_fech.dtypes"
      ],
      "metadata": {
        "id": "MR6ickhykDE-"
      },
      "execution_count": null,
      "outputs": []
    },
    {
      "cell_type": "markdown",
      "source": [
        "## Check NA"
      ],
      "metadata": {
        "id": "NLpm1XP0kO7Z"
      }
    },
    {
      "cell_type": "code",
      "source": [
        "df_acao_fech.stb.missing()"
      ],
      "metadata": {
        "id": "uLxc0yyAkDQu"
      },
      "execution_count": null,
      "outputs": []
    },
    {
      "cell_type": "markdown",
      "source": [
        "## Data description"
      ],
      "metadata": {
        "id": "Xc369oGokndg"
      }
    },
    {
      "cell_type": "code",
      "source": [
        "df_acao_fech.describe()"
      ],
      "metadata": {
        "id": "Zuwlhl5Rkm5c"
      },
      "execution_count": null,
      "outputs": []
    },
    {
      "cell_type": "markdown",
      "source": [
        "## Grafico dos valores de fechamento"
      ],
      "metadata": {
        "id": "9XPXPZ7_kwoN"
      }
    },
    {
      "cell_type": "code",
      "source": [
        "# Plotando o comportamento da ação ao longo do periodo 2019 > 2023\n",
        "\n",
        "plt.figure(figsize=(25,8))\n",
        "plt.title('Preco de fechamento 2019 à 2023')\n",
        "plt.plot(df_acao_fech['preco_fech'], color='darkslateblue' )\n",
        "plt.xlabel('data');\n"
      ],
      "metadata": {
        "id": "XnKfPU8Qdxhz"
      },
      "execution_count": null,
      "outputs": []
    },
    {
      "cell_type": "markdown",
      "metadata": {
        "id": "-JCEpj7LgKPI"
      },
      "source": [
        "# Train_Test_Split"
      ]
    },
    {
      "cell_type": "code",
      "execution_count": null,
      "metadata": {
        "id": "Pqlpz5B0Wqcg"
      },
      "outputs": [],
      "source": [
        "# coletando a quantidade de linhas\n",
        "qtd_linhas = len(df_acao_fech)\n",
        "\n",
        "qtd_linhas_treino =round(.70 * qtd_linhas)\n",
        "\n",
        "qtd_linhas_test = qtd_linhas - qtd_linhas_treino\n",
        "\n",
        "info = (\n",
        "    f'Linhas de treino = 0:{qtd_linhas_treino}, '\n",
        "    f'linhas de teste = {qtd_linhas_treino}:{qtd_linhas_treino+qtd_linhas_test}'\n",
        ")\n",
        "\n",
        "info"
      ]
    },
    {
      "cell_type": "markdown",
      "source": [
        "# Data Modeling"
      ],
      "metadata": {
        "id": "Ramh6-zLnIlx"
      }
    },
    {
      "cell_type": "code",
      "source": [
        "# Normalização dos dados\n",
        "\n",
        "scaler = StandardScaler()\n",
        "df_scaled = scaler.fit_transform(df_acao_fech)"
      ],
      "metadata": {
        "id": "ON6xEWJallp0"
      },
      "execution_count": null,
      "outputs": []
    },
    {
      "cell_type": "code",
      "source": [
        "df_scaled"
      ],
      "metadata": {
        "id": "iuHRsJFtnP9x"
      },
      "execution_count": null,
      "outputs": []
    },
    {
      "cell_type": "markdown",
      "source": [
        "## Select Train_data and Test_data"
      ],
      "metadata": {
        "id": "GiRow-qqodSh"
      }
    },
    {
      "cell_type": "code",
      "source": [],
      "metadata": {
        "id": "VG2rGnPhoOzp"
      },
      "execution_count": null,
      "outputs": []
    },
    {
      "cell_type": "code",
      "source": [],
      "metadata": {
        "id": "s0mXzwivooLw"
      },
      "execution_count": null,
      "outputs": []
    },
    {
      "cell_type": "code",
      "source": [],
      "metadata": {
        "id": "e5MIRVjTooTv"
      },
      "execution_count": null,
      "outputs": []
    }
  ],
  "metadata": {
    "colab": {
      "private_outputs": true,
      "provenance": [],
      "include_colab_link": true
    },
    "hide_input": false,
    "kernelspec": {
      "display_name": "Python 3 (ipykernel)",
      "language": "python",
      "name": "python3"
    },
    "language_info": {
      "codemirror_mode": {
        "name": "ipython",
        "version": 3
      },
      "file_extension": ".py",
      "mimetype": "text/x-python",
      "name": "python",
      "nbconvert_exporter": "python",
      "pygments_lexer": "ipython3",
      "version": "3.11.3"
    }
  },
  "nbformat": 4,
  "nbformat_minor": 0
}