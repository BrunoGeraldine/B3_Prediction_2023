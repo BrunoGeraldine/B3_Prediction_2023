{
  "cells": [
    {
      "cell_type": "markdown",
      "metadata": {
        "id": "view-in-github",
        "colab_type": "text"
      },
      "source": [
        "<a href=\"https://colab.research.google.com/github/BrunoGeraldine/B3_Prediction_share_bmg_2023/blob/main/notebook/EDA_Yfinance_MACD_final.ipynb\" target=\"_parent\"><img src=\"https://colab.research.google.com/assets/colab-badge.svg\" alt=\"Open In Colab\"/></a>"
      ]
    },
    {
      "cell_type": "markdown",
      "metadata": {
        "id": "Q_F9EqnFDoos"
      },
      "source": [
        "# MACD→ Analise das ações utilizando as médias moveis como orientação para compra e venda."
      ]
    },
    {
      "cell_type": "code",
      "execution_count": null,
      "metadata": {
        "ExecuteTime": {
          "end_time": "2023-05-12T18:40:52.506064Z",
          "start_time": "2023-05-12T18:40:43.689794Z"
        },
        "id": "9HlNvNd_xP1c"
      },
      "outputs": [],
      "source": [
        "# Instalando Yfinance API\n",
        "!pip install plotly"
      ]
    },
    {
      "cell_type": "code",
      "execution_count": null,
      "metadata": {
        "ExecuteTime": {
          "end_time": "2023-05-19T13:14:41.394094Z",
          "start_time": "2023-05-19T13:14:40.073388Z"
        },
        "id": "qt05EDNIySYz"
      },
      "outputs": [],
      "source": [
        "# Importando as bibliotecas\n",
        "import warnings\n",
        "import numpy                as np\n",
        "import pandas               as pd\n",
        "import yfinance             as yf\n",
        "import seaborn              as sns\n",
        "import plotly.graph_objects as go"
      ]
    },
    {
      "cell_type": "code",
      "execution_count": null,
      "metadata": {
        "ExecuteTime": {
          "end_time": "2023-05-19T13:16:45.464050Z",
          "start_time": "2023-05-19T13:16:45.453891Z"
        },
        "id": "y6x7t5so0QS0"
      },
      "outputs": [],
      "source": [
        "# Help function\n",
        "# Configuração do padrão de visualização dos dados e graficos\n",
        "# https://seaborn.pydata.org/tutorial.html\n",
        "sns.set_theme(\n",
        "    context='talk',\n",
        "    style='ticks',\n",
        "    palette='icefire',\n",
        "    font_scale=.8,\n",
        "    rc={'figure.figsize': (25, 15)}\n",
        ")\n",
        "\n",
        "warnings.filterwarnings(\"ignore\")\n",
        "     "
      ]
    },
    {
      "cell_type": "code",
      "execution_count": null,
      "metadata": {
        "ExecuteTime": {
          "end_time": "2023-05-19T13:16:47.454564Z",
          "start_time": "2023-05-19T13:16:46.755580Z"
        },
        "id": "AqdzCzMJyjPj"
      },
      "outputs": [],
      "source": [
        "# Escolhendo a ação\n",
        "paper = 'PETR4.SA'\n",
        "\n",
        "ticker = yf.Ticker(paper)\n",
        "\n",
        "# Intervalo de tempo\n",
        "df = ticker.history(period='180d')\n",
        "df = df['Close']\n",
        "\n",
        "df_ticker_daily = ticker.history(period='1d', interval='5m')\n",
        "\n",
        "df_ticker_daily = df_ticker_daily['Close']"
      ]
    },
    {
      "cell_type": "code",
      "execution_count": null,
      "metadata": {
        "ExecuteTime": {
          "end_time": "2023-05-19T13:16:52.096699Z",
          "start_time": "2023-05-19T13:16:51.445030Z"
        },
        "id": "KpcrV43bFgWc"
      },
      "outputs": [],
      "source": [
        "info = ticker.info\n",
        "acao = info['symbol']\n",
        "acao"
      ]
    },
    {
      "cell_type": "code",
      "execution_count": null,
      "metadata": {
        "ExecuteTime": {
          "end_time": "2023-05-19T13:16:53.227672Z",
          "start_time": "2023-05-19T13:16:53.221077Z"
        },
        "id": "MlXtV8tfFgY-"
      },
      "outputs": [],
      "source": [
        "df = pd.DataFrame(df)\n",
        "df_ticker_daily = pd.DataFrame(df_ticker_daily)"
      ]
    },
    {
      "cell_type": "code",
      "execution_count": null,
      "metadata": {
        "ExecuteTime": {
          "end_time": "2023-05-19T13:16:54.903410Z",
          "start_time": "2023-05-19T13:16:54.895465Z"
        },
        "id": "y1zMhzDeF7VP"
      },
      "outputs": [],
      "source": [
        "df_ticker_daily.reset_index(inplace=True)\n",
        "\n",
        "# Quando aplicamos o Yfinance, ele acaba trazendo as informações do momento atual\n",
        "# e neste momento não queremos isso\n",
        "#df.drop(df.tail(1).index,inplace=True)\n",
        "df.reset_index(inplace=True)"
      ]
    },
    {
      "cell_type": "code",
      "execution_count": null,
      "metadata": {
        "ExecuteTime": {
          "end_time": "2023-05-19T13:16:56.045676Z",
          "start_time": "2023-05-19T13:16:56.023087Z"
        },
        "id": "uKBaMvBXF7X4"
      },
      "outputs": [],
      "source": [
        "df"
      ]
    },
    {
      "cell_type": "code",
      "execution_count": null,
      "metadata": {
        "ExecuteTime": {
          "end_time": "2023-05-19T13:16:57.240170Z",
          "start_time": "2023-05-19T13:16:57.235622Z"
        },
        "id": "pngjh0cwF7eM"
      },
      "outputs": [],
      "source": [
        "# Criando um novo Df com os dados historicos\n",
        "df_ticker = df"
      ]
    },
    {
      "cell_type": "code",
      "execution_count": null,
      "metadata": {
        "ExecuteTime": {
          "end_time": "2023-05-19T13:16:59.510400Z",
          "start_time": "2023-05-19T13:16:59.490087Z"
        },
        "id": "DJCQJDoJF7gs"
      },
      "outputs": [],
      "source": [
        "# Remove a ultima data do df_daily\n",
        "df_remove_ticket = df_ticker.loc[(df_ticker['Date'] == pd.to_datetime('today').normalize())]\n",
        "df_ticker = df_ticker.drop(df_remove_ticket.index)\n",
        "df_ticker"
      ]
    },
    {
      "cell_type": "code",
      "execution_count": null,
      "metadata": {
        "ExecuteTime": {
          "end_time": "2023-05-19T13:17:06.155307Z",
          "start_time": "2023-05-19T13:17:06.151527Z"
        },
        "id": "PdBz3GscHU3_"
      },
      "outputs": [],
      "source": [
        "## Coletando o ultimo preço negociado até o agora\n",
        "#df_ticker_daily_last_price = df_ticker_daily.tail(1)\n",
        "#df_ticker_daily_last_price"
      ]
    },
    {
      "cell_type": "code",
      "execution_count": null,
      "metadata": {
        "ExecuteTime": {
          "end_time": "2023-05-19T13:17:08.171799Z",
          "start_time": "2023-05-19T13:17:08.167305Z"
        },
        "id": "bDURRstHHVG1"
      },
      "outputs": [],
      "source": [
        "## Ajustar o formato da data e nome coluna\n",
        "#df_ticker_daily_last_price.rename(columns={'Datetime':'Date'}, inplace=True)\n",
        "#df_ticker_daily_last_price"
      ]
    },
    {
      "cell_type": "code",
      "execution_count": null,
      "metadata": {
        "ExecuteTime": {
          "end_time": "2023-05-19T13:17:08.523450Z",
          "start_time": "2023-05-19T13:17:08.519631Z"
        },
        "id": "Wxr01z3_HVJm"
      },
      "outputs": [],
      "source": [
        "#df_ticker_daily_last_price_formated = pd.to_datetime(df_ticker_daily_last_price['Date'], format='%Y-%m-%d')"
      ]
    },
    {
      "cell_type": "code",
      "execution_count": null,
      "metadata": {
        "ExecuteTime": {
          "end_time": "2023-05-19T13:17:09.012797Z",
          "start_time": "2023-05-19T13:17:08.993797Z"
        },
        "id": "mBkiLDPUHVL1"
      },
      "outputs": [],
      "source": [
        "# Append data atual\n",
        "#df_ticker = df_ticker.append(df_ticker_daily_last_price)\n",
        "df_ticker"
      ]
    },
    {
      "cell_type": "code",
      "execution_count": null,
      "metadata": {
        "ExecuteTime": {
          "end_time": "2023-05-19T13:17:16.466537Z",
          "start_time": "2023-05-19T13:17:16.445444Z"
        },
        "id": "TOMWKgCg701y"
      },
      "outputs": [],
      "source": [
        "#Ajustando a data\n",
        "df_ticker['Date'] = pd.to_datetime(df_ticker['Date'], utc=True).dt.date\n",
        "df_ticker"
      ]
    },
    {
      "cell_type": "code",
      "execution_count": null,
      "metadata": {
        "ExecuteTime": {
          "end_time": "2023-05-19T13:17:20.630515Z",
          "start_time": "2023-05-19T13:17:20.598209Z"
        },
        "id": "Xgluu6na70zx"
      },
      "outputs": [],
      "source": [
        "# Calculando o MACD\n",
        "rapidaMME=df_ticker.Close.ewm(span=12).mean()\n",
        "lentaMME=df_ticker.Close.ewm(span=26).mean()\n",
        "\n",
        "MACD = rapidaMME - lentaMME\n",
        "\n",
        "sinal = MACD.ewm(span=9).mean()\n",
        "\n",
        "df_ticker['MACD'] = MACD\n",
        "df_ticker['sinal'] = sinal\n",
        "df_ticker"
      ]
    },
    {
      "cell_type": "code",
      "execution_count": null,
      "metadata": {
        "ExecuteTime": {
          "end_time": "2023-05-19T13:17:22.469169Z",
          "start_time": "2023-05-19T13:17:22.437131Z"
        },
        "id": "hpat0S0QFotW"
      },
      "outputs": [],
      "source": [
        "# Codigo para decidiar compra e venda\n",
        "df_ticker.at[0, 'flag'] = ''\n",
        "df_ticker['preco_compra']=np.nan\n",
        "df_ticker['preco_venda']=np.nan\n",
        "\n",
        "\n",
        "for i in range(1, len(df_ticker.sinal)):\n",
        "  if df_ticker['MACD'].iloc[i] > df_ticker['sinal'].iloc[i]:\n",
        "    if df_ticker['flag'].iloc[i-1] == 'C':\n",
        "      df_ticker['flag'][i] = 'C'\n",
        "    else:\n",
        "      df_ticker['flag'][i] = 'C'\n",
        "      df_ticker['preco_compra'][i] = df_ticker['Close'][i]\n",
        "\n",
        "  elif df_ticker['MACD'].iloc[i] < df_ticker['sinal'].iloc[i]:\n",
        "    if df_ticker['flag'].iloc[i-1] == 'V':\n",
        "      df_ticker['flag'][i] = 'V'\n",
        "    else:\n",
        "      df_ticker['flag'][i] = 'V'\n",
        "      df_ticker['preco_venda'][i] = df_ticker['Close'][i]\n",
        "\n",
        "df_ticker\n"
      ]
    },
    {
      "cell_type": "code",
      "execution_count": null,
      "metadata": {
        "ExecuteTime": {
          "end_time": "2023-05-19T13:17:36.153657Z",
          "start_time": "2023-05-19T13:17:36.147911Z"
        },
        "id": "2oevhDWEHVOL"
      },
      "outputs": [],
      "source": [
        "#Visualização grafica\n",
        "import plotly.graph_objects as go\n",
        "import plotly.io as pio\n",
        "from plotly.subplots import make_subplots"
      ]
    },
    {
      "cell_type": "code",
      "execution_count": null,
      "metadata": {
        "ExecuteTime": {
          "end_time": "2023-05-19T13:17:41.982246Z",
          "start_time": "2023-05-19T13:17:41.950382Z"
        },
        "id": "8e0mPKCTOR5H"
      },
      "outputs": [],
      "source": [
        "df_plot = df_ticker\n",
        "\n",
        "fig = go.Figure()\n",
        "\n",
        "fig.add_trace(go.Scatter(x=df_plot.index,\n",
        "                         y=df_plot['Close'],\n",
        "                         name=\"Preço fechamento\",\n",
        "                         line_color='gray'\n",
        "                         ))\n",
        "\n",
        "fig.add_trace(go.Scatter(x=df_plot.index,\n",
        "                         y=df_plot['preco_compra'],\n",
        "                         name=\"Compra\",\n",
        "                         mode='markers',\n",
        "                         marker=  dict(\n",
        "                            color='green',\n",
        "                            size=10,\n",
        "                            )\n",
        "                         ))\n",
        "\n",
        "fig.add_trace(go.Scatter(x=df_plot.index,\n",
        "                         y=df_plot['preco_venda'],\n",
        "                         name=\"Venda\",\n",
        "                         mode='markers',\n",
        "                         marker=  dict(\n",
        "                            color='red',\n",
        "                            size=10,\n",
        "                            )\n",
        "                         ))\n",
        "\n",
        "fig.show()"
      ]
    },
    {
      "cell_type": "code",
      "execution_count": null,
      "metadata": {
        "id": "bdqws_FoOR9S"
      },
      "outputs": [],
      "source": []
    }
  ],
  "metadata": {
    "colab": {
      "private_outputs": true,
      "provenance": [],
      "include_colab_link": true
    },
    "hide_input": false,
    "kernelspec": {
      "display_name": "Python 3 (ipykernel)",
      "language": "python",
      "name": "python3"
    },
    "language_info": {
      "codemirror_mode": {
        "name": "ipython",
        "version": 3
      },
      "file_extension": ".py",
      "mimetype": "text/x-python",
      "name": "python",
      "nbconvert_exporter": "python",
      "pygments_lexer": "ipython3",
      "version": "3.9.10"
    }
  },
  "nbformat": 4,
  "nbformat_minor": 0
}