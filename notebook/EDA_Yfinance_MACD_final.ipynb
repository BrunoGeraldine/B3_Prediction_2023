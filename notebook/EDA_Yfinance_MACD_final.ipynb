{
  "cells": [
    {
      "cell_type": "markdown",
      "metadata": {
        "id": "view-in-github",
        "colab_type": "text"
      },
      "source": [
        "<a href=\"https://colab.research.google.com/github/BrunoGeraldine/B3_Prediction_2023/blob/main/notebook/EDA_Yfinance_MACD_final.ipynb\" target=\"_parent\"><img src=\"https://colab.research.google.com/assets/colab-badge.svg\" alt=\"Open In Colab\"/></a>"
      ]
    },
    {
      "cell_type": "markdown",
      "metadata": {
        "id": "Q_F9EqnFDoos"
      },
      "source": [
        "# MACD→ Analise das ações utilizando as médias moveis como orientação para compra e venda."
      ]
    },
    {
      "cell_type": "code",
      "execution_count": null,
      "metadata": {
        "ExecuteTime": {
          "end_time": "2023-05-12T18:40:52.506064Z",
          "start_time": "2023-05-12T18:40:43.689794Z"
        },
        "id": "9HlNvNd_xP1c"
      },
      "outputs": [],
      "source": [
        "# Instalando Yfinance API\n",
        "!pip install plotly"
      ]
    },
    {
      "cell_type": "code",
      "execution_count": null,
      "metadata": {
        "ExecuteTime": {
          "end_time": "2023-05-12T18:40:52.519007Z",
          "start_time": "2023-05-12T18:40:52.511232Z"
        },
        "id": "qt05EDNIySYz"
      },
      "outputs": [],
      "source": [
        "# Importando as bibliotecas\n",
        "import warnings\n",
        "import numpy                as np\n",
        "import pandas               as pd\n",
        "import yfinance             as yf\n",
        "import seaborn              as sns\n",
        "import plotly.graph_objects as go"
      ]
    },
    {
      "cell_type": "code",
      "execution_count": null,
      "metadata": {
        "ExecuteTime": {
          "end_time": "2023-05-12T18:40:54.733896Z",
          "start_time": "2023-05-12T18:40:54.728622Z"
        },
        "id": "y6x7t5so0QS0"
      },
      "outputs": [],
      "source": [
        "# Help function\n",
        "# Configuração do padrão de visualização dos dados e graficos\n",
        "# https://seaborn.pydata.org/tutorial.html\n",
        "sns.set_theme(\n",
        "    context='talk',\n",
        "    style='ticks',\n",
        "    palette='icefire',\n",
        "    font_scale=.8,\n",
        "    rc={'figure.figsize': (25, 15)}\n",
        ")\n",
        "\n",
        "warnings.filterwarnings(\"ignore\")\n",
        "     "
      ]
    },
    {
      "cell_type": "code",
      "execution_count": null,
      "metadata": {
        "ExecuteTime": {
          "end_time": "2023-05-12T18:44:30.846418Z",
          "start_time": "2023-05-12T18:44:29.630260Z"
        },
        "id": "AqdzCzMJyjPj"
      },
      "outputs": [],
      "source": [
        "# Escolhendo a ação\n",
        "paper = 'PETR4.SA'\n",
        "\n",
        "ticker = yf.Ticker(paper)\n",
        "\n",
        "# Intervalo de tempo\n",
        "df = ticker.history(period='30d')\n",
        "df = df['Close']\n",
        "\n",
        "df_ticker_daily = ticker.history(period='1d', interval='5m')\n",
        "\n",
        "df_ticker_daily = df_ticker_daily['Close']"
      ]
    },
    {
      "cell_type": "code",
      "execution_count": null,
      "metadata": {
        "ExecuteTime": {
          "end_time": "2023-05-12T18:44:31.587370Z",
          "start_time": "2023-05-12T18:44:30.948584Z"
        },
        "id": "KpcrV43bFgWc"
      },
      "outputs": [],
      "source": [
        "info = ticker.info\n",
        "acao = info['symbol']\n",
        "acao"
      ]
    },
    {
      "cell_type": "code",
      "execution_count": null,
      "metadata": {
        "ExecuteTime": {
          "end_time": "2023-05-12T18:44:31.770074Z",
          "start_time": "2023-05-12T18:44:31.766459Z"
        },
        "id": "MlXtV8tfFgY-"
      },
      "outputs": [],
      "source": [
        "df = pd.DataFrame(df)\n",
        "df_ticker_daily = pd.DataFrame(df_ticker_daily)"
      ]
    },
    {
      "cell_type": "code",
      "execution_count": null,
      "metadata": {
        "ExecuteTime": {
          "end_time": "2023-05-12T18:44:32.649932Z",
          "start_time": "2023-05-12T18:44:32.643263Z"
        },
        "id": "y1zMhzDeF7VP"
      },
      "outputs": [],
      "source": [
        "df_ticker_daily.reset_index(inplace=True)\n",
        "\n",
        "# Quando aplicamos o Yfinance, ele acaba trazendo as informações do momento atual\n",
        "# e neste momento não queremos isso\n",
        "#df.drop(df.tail(1).index,inplace=True)\n",
        "df.reset_index(inplace=True)"
      ]
    },
    {
      "cell_type": "code",
      "execution_count": null,
      "metadata": {
        "ExecuteTime": {
          "end_time": "2023-05-12T18:44:33.132222Z",
          "start_time": "2023-05-12T18:44:33.112907Z"
        },
        "id": "uKBaMvBXF7X4"
      },
      "outputs": [],
      "source": [
        "df"
      ]
    },
    {
      "cell_type": "code",
      "execution_count": null,
      "metadata": {
        "ExecuteTime": {
          "end_time": "2023-05-12T18:44:33.651113Z",
          "start_time": "2023-05-12T18:44:33.647055Z"
        },
        "id": "pngjh0cwF7eM"
      },
      "outputs": [],
      "source": [
        "# Criando um novo Df com os dados historicos\n",
        "df_ticker = df"
      ]
    },
    {
      "cell_type": "code",
      "execution_count": null,
      "metadata": {
        "ExecuteTime": {
          "end_time": "2023-05-12T18:44:34.294086Z",
          "start_time": "2023-05-12T18:44:34.275544Z"
        },
        "id": "DJCQJDoJF7gs"
      },
      "outputs": [],
      "source": [
        "# Remove a ultima data do df_daily\n",
        "df_remove_ticket = df_ticker.loc[(df_ticker['Date'] == pd.to_datetime('today').normalize())]\n",
        "df_ticker = df_ticker.drop(df_remove_ticket.index)\n",
        "df_ticker"
      ]
    },
    {
      "cell_type": "code",
      "execution_count": null,
      "metadata": {
        "ExecuteTime": {
          "end_time": "2023-05-12T18:44:34.802799Z",
          "start_time": "2023-05-12T18:44:34.798831Z"
        },
        "id": "PdBz3GscHU3_"
      },
      "outputs": [],
      "source": [
        "## Coletando o ultimo preço negociado até o agora\n",
        "#df_ticker_daily_last_price = df_ticker_daily.tail(1)\n",
        "#df_ticker_daily_last_price"
      ]
    },
    {
      "cell_type": "code",
      "execution_count": null,
      "metadata": {
        "ExecuteTime": {
          "end_time": "2023-05-12T18:44:35.354624Z",
          "start_time": "2023-05-12T18:44:35.350603Z"
        },
        "id": "bDURRstHHVG1"
      },
      "outputs": [],
      "source": [
        "## Ajustar o formato da data e nome coluna\n",
        "#df_ticker_daily_last_price.rename(columns={'Datetime':'Date'}, inplace=True)\n",
        "#df_ticker_daily_last_price"
      ]
    },
    {
      "cell_type": "code",
      "execution_count": null,
      "metadata": {
        "ExecuteTime": {
          "end_time": "2023-05-12T18:44:35.874665Z",
          "start_time": "2023-05-12T18:44:35.870573Z"
        },
        "id": "Wxr01z3_HVJm"
      },
      "outputs": [],
      "source": [
        "#df_ticker_daily_last_price_formated = pd.to_datetime(df_ticker_daily_last_price['Date'], format='%Y-%m-%d')"
      ]
    },
    {
      "cell_type": "code",
      "execution_count": null,
      "metadata": {
        "ExecuteTime": {
          "end_time": "2023-05-12T18:44:36.366848Z",
          "start_time": "2023-05-12T18:44:36.349488Z"
        },
        "id": "mBkiLDPUHVL1"
      },
      "outputs": [],
      "source": [
        "# Append data atual\n",
        "#df_ticker = df_ticker.append(df_ticker_daily_last_price)\n",
        "df_ticker"
      ]
    },
    {
      "cell_type": "code",
      "execution_count": null,
      "metadata": {
        "ExecuteTime": {
          "end_time": "2023-05-12T18:44:37.114065Z",
          "start_time": "2023-05-12T18:44:37.095483Z"
        },
        "id": "TOMWKgCg701y"
      },
      "outputs": [],
      "source": [
        "#Ajustando a data\n",
        "df_ticker['Date'] = pd.to_datetime(df_ticker['Date'], utc=True).dt.date\n",
        "df_ticker"
      ]
    },
    {
      "cell_type": "code",
      "execution_count": null,
      "metadata": {
        "ExecuteTime": {
          "end_time": "2023-05-12T18:44:37.857508Z",
          "start_time": "2023-05-12T18:44:37.840325Z"
        },
        "id": "Xgluu6na70zx"
      },
      "outputs": [],
      "source": [
        "# Calculando o MACD\n",
        "rapidaMME=df_ticker.Close.ewm(span=12).mean()\n",
        "lentaMME=df_ticker.Close.ewm(span=26).mean()\n",
        "\n",
        "MACD = rapidaMME - lentaMME\n",
        "\n",
        "sinal = MACD.ewm(span=9).mean()\n",
        "\n",
        "df_ticker['MACD'] = MACD\n",
        "df_ticker['sinal'] = sinal\n",
        "df_ticker"
      ]
    },
    {
      "cell_type": "code",
      "execution_count": null,
      "metadata": {
        "ExecuteTime": {
          "end_time": "2023-05-12T18:44:38.639078Z",
          "start_time": "2023-05-12T18:44:38.580735Z"
        },
        "id": "hpat0S0QFotW"
      },
      "outputs": [],
      "source": [
        "# Codigo para decidiar compra e venda\n",
        "df_ticker.at[0, 'flag'] = ''\n",
        "df_ticker['preco_compra']=np.nan\n",
        "df_ticker['preco_venda']=np.nan\n",
        "\n",
        "\n",
        "for i in range(1, len(df_ticker.sinal)):\n",
        "  if df_ticker['MACD'].iloc[i] > df_ticker['sinal'].iloc[i]:\n",
        "    if df_ticker['flag'].iloc[i-1] == 'C':\n",
        "      df_ticker['flag'][i] = 'C'\n",
        "    else:\n",
        "      df_ticker['flag'][i] = 'C'\n",
        "      df_ticker['preco_compra'][i] = df_ticker['Close'][i]\n",
        "\n",
        "  elif df_ticker['MACD'].iloc[i] < df_ticker['sinal'].iloc[i]:\n",
        "    if df_ticker['flag'].iloc[i-1] == 'V':\n",
        "      df_ticker['flag'][i] = 'V'\n",
        "    else:\n",
        "      df_ticker['flag'][i] = 'V'\n",
        "      df_ticker['preco_venda'][i] = df_ticker['Close'][i]\n",
        "\n",
        "df_ticker\n"
      ]
    },
    {
      "cell_type": "code",
      "execution_count": null,
      "metadata": {
        "ExecuteTime": {
          "end_time": "2023-05-12T18:44:39.524963Z",
          "start_time": "2023-05-12T18:44:39.519741Z"
        },
        "id": "2oevhDWEHVOL"
      },
      "outputs": [],
      "source": [
        "#Visualização grafica\n",
        "import plotly.graph_objects as go\n",
        "import plotly.io as pio\n",
        "from plotly.subplots import make_subplots"
      ]
    },
    {
      "cell_type": "code",
      "execution_count": null,
      "metadata": {
        "ExecuteTime": {
          "end_time": "2023-05-12T18:44:41.006982Z",
          "start_time": "2023-05-12T18:44:40.980367Z"
        },
        "id": "8e0mPKCTOR5H"
      },
      "outputs": [],
      "source": [
        "df_plot = df_ticker\n",
        "\n",
        "fig = go.Figure()\n",
        "\n",
        "fig.add_trace(go.Scatter(x=df_plot.index,\n",
        "                         y=df_plot['Close'],\n",
        "                         name=\"Preço fechamento\",\n",
        "                         line_color='orange'\n",
        "                         ))\n",
        "\n",
        "fig.add_trace(go.Scatter(x=df_plot.index,\n",
        "                         y=df_plot['preco_compra'],\n",
        "                         name=\"Compra\",\n",
        "                         mode='markers',\n",
        "                         marker=  dict(\n",
        "                            color='green',\n",
        "                            size=10,\n",
        "                            )\n",
        "                         ))\n",
        "\n",
        "fig.add_trace(go.Scatter(x=df_plot.index,\n",
        "                         y=df_plot['preco_venda'],\n",
        "                         name=\"Venda\",\n",
        "                         mode='markers',\n",
        "                         marker=  dict(\n",
        "                            color='red',\n",
        "                            size=10,\n",
        "                            )\n",
        "                         ))\n",
        "\n",
        "fig.show()"
      ]
    },
    {
      "cell_type": "code",
      "execution_count": null,
      "metadata": {
        "id": "bdqws_FoOR9S"
      },
      "outputs": [],
      "source": []
    }
  ],
  "metadata": {
    "colab": {
      "private_outputs": true,
      "provenance": [],
      "include_colab_link": true
    },
    "hide_input": false,
    "kernelspec": {
      "display_name": "Python 3 (ipykernel)",
      "language": "python",
      "name": "python3"
    },
    "language_info": {
      "codemirror_mode": {
        "name": "ipython",
        "version": 3
      },
      "file_extension": ".py",
      "mimetype": "text/x-python",
      "name": "python",
      "nbconvert_exporter": "python",
      "pygments_lexer": "ipython3",
      "version": "3.11.3"
    }
  },
  "nbformat": 4,
  "nbformat_minor": 0
}