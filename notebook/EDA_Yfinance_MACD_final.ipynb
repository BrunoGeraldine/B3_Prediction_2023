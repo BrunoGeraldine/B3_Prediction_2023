{
 "cells": [
  {
   "cell_type": "markdown",
   "metadata": {
    "colab_type": "text",
    "id": "view-in-github"
   },
   "source": [
    "<a href=\"https://colab.research.google.com/github/BrunoGeraldine/B3_Prediction_2023/blob/main/notebook/EDA_Yfinance_MACD_final.ipynb\" target=\"_parent\"><img src=\"https://colab.research.google.com/assets/colab-badge.svg\" alt=\"Open In Colab\"/></a>"
   ]
  },
  {
   "cell_type": "markdown",
   "metadata": {
    "id": "Q_F9EqnFDoos"
   },
   "source": [
    "# MACD→ Analise das ações utilizando as médias moveis como orientação para compra e venda."
   ]
  },
  {
   "cell_type": "code",
   "execution_count": null,
   "metadata": {
    "ExecuteTime": {
     "end_time": "2023-05-12T18:40:52.506064Z",
     "start_time": "2023-05-12T18:40:43.689794Z"
    },
    "id": "9HlNvNd_xP1c"
   },
   "outputs": [],
   "source": [
    "# Instalando Yfinance API\n",
    "!pip install plotly"
   ]
  },
  {
   "cell_type": "code",
   "execution_count": 1,
   "metadata": {
    "ExecuteTime": {
     "end_time": "2023-05-19T13:14:41.394094Z",
     "start_time": "2023-05-19T13:14:40.073388Z"
    },
    "id": "qt05EDNIySYz"
   },
   "outputs": [],
   "source": [
    "# Importando as bibliotecas\n",
    "import warnings\n",
    "import numpy                as np\n",
    "import pandas               as pd\n",
    "import yfinance             as yf\n",
    "import seaborn              as sns\n",
    "import plotly.graph_objects as go"
   ]
  },
  {
   "cell_type": "code",
   "execution_count": 2,
   "metadata": {
    "ExecuteTime": {
     "end_time": "2023-05-19T13:16:45.464050Z",
     "start_time": "2023-05-19T13:16:45.453891Z"
    },
    "id": "y6x7t5so0QS0"
   },
   "outputs": [],
   "source": [
    "# Help function\n",
    "# Configuração do padrão de visualização dos dados e graficos\n",
    "# https://seaborn.pydata.org/tutorial.html\n",
    "sns.set_theme(\n",
    "    context='talk',\n",
    "    style='ticks',\n",
    "    palette='icefire',\n",
    "    font_scale=.8,\n",
    "    rc={'figure.figsize': (25, 15)}\n",
    ")\n",
    "\n",
    "warnings.filterwarnings(\"ignore\")\n",
    "     "
   ]
  },
  {
   "cell_type": "code",
   "execution_count": 3,
   "metadata": {
    "ExecuteTime": {
     "end_time": "2023-05-19T13:16:47.454564Z",
     "start_time": "2023-05-19T13:16:46.755580Z"
    },
    "id": "AqdzCzMJyjPj"
   },
   "outputs": [
    {
     "name": "stdout",
     "output_type": "stream",
     "text": [
      "PETR4.SA: No data found for this date range, symbol may be delisted\n"
     ]
    }
   ],
   "source": [
    "# Escolhendo a ação\n",
    "paper = 'PETR4.SA'\n",
    "\n",
    "ticker = yf.Ticker(paper)\n",
    "\n",
    "# Intervalo de tempo\n",
    "df = ticker.history(period='30d')\n",
    "df = df['Close']\n",
    "\n",
    "df_ticker_daily = ticker.history(period='1d', interval='5m')\n",
    "\n",
    "df_ticker_daily = df_ticker_daily['Close']"
   ]
  },
  {
   "cell_type": "code",
   "execution_count": 4,
   "metadata": {
    "ExecuteTime": {
     "end_time": "2023-05-19T13:16:52.096699Z",
     "start_time": "2023-05-19T13:16:51.445030Z"
    },
    "id": "KpcrV43bFgWc"
   },
   "outputs": [
    {
     "data": {
      "text/plain": [
       "'PETR4.SA'"
      ]
     },
     "execution_count": 4,
     "metadata": {},
     "output_type": "execute_result"
    }
   ],
   "source": [
    "info = ticker.info\n",
    "acao = info['symbol']\n",
    "acao"
   ]
  },
  {
   "cell_type": "code",
   "execution_count": 5,
   "metadata": {
    "ExecuteTime": {
     "end_time": "2023-05-19T13:16:53.227672Z",
     "start_time": "2023-05-19T13:16:53.221077Z"
    },
    "id": "MlXtV8tfFgY-"
   },
   "outputs": [],
   "source": [
    "df = pd.DataFrame(df)\n",
    "df_ticker_daily = pd.DataFrame(df_ticker_daily)"
   ]
  },
  {
   "cell_type": "code",
   "execution_count": 6,
   "metadata": {
    "ExecuteTime": {
     "end_time": "2023-05-19T13:16:54.903410Z",
     "start_time": "2023-05-19T13:16:54.895465Z"
    },
    "id": "y1zMhzDeF7VP"
   },
   "outputs": [],
   "source": [
    "df_ticker_daily.reset_index(inplace=True)\n",
    "\n",
    "# Quando aplicamos o Yfinance, ele acaba trazendo as informações do momento atual\n",
    "# e neste momento não queremos isso\n",
    "#df.drop(df.tail(1).index,inplace=True)\n",
    "df.reset_index(inplace=True)"
   ]
  },
  {
   "cell_type": "code",
   "execution_count": 7,
   "metadata": {
    "ExecuteTime": {
     "end_time": "2023-05-19T13:16:56.045676Z",
     "start_time": "2023-05-19T13:16:56.023087Z"
    },
    "id": "uKBaMvBXF7X4"
   },
   "outputs": [
    {
     "data": {
      "text/html": [
       "<div>\n",
       "<style scoped>\n",
       "    .dataframe tbody tr th:only-of-type {\n",
       "        vertical-align: middle;\n",
       "    }\n",
       "\n",
       "    .dataframe tbody tr th {\n",
       "        vertical-align: top;\n",
       "    }\n",
       "\n",
       "    .dataframe thead th {\n",
       "        text-align: right;\n",
       "    }\n",
       "</style>\n",
       "<table border=\"1\" class=\"dataframe\">\n",
       "  <thead>\n",
       "    <tr style=\"text-align: right;\">\n",
       "      <th></th>\n",
       "      <th>Date</th>\n",
       "      <th>Close</th>\n",
       "    </tr>\n",
       "  </thead>\n",
       "  <tbody>\n",
       "    <tr>\n",
       "      <th>0</th>\n",
       "      <td>2023-04-05 00:00:00-03:00</td>\n",
       "      <td>21.671972</td>\n",
       "    </tr>\n",
       "    <tr>\n",
       "      <th>1</th>\n",
       "      <td>2023-04-06 00:00:00-03:00</td>\n",
       "      <td>21.360466</td>\n",
       "    </tr>\n",
       "    <tr>\n",
       "      <th>2</th>\n",
       "      <td>2023-04-10 00:00:00-03:00</td>\n",
       "      <td>21.814377</td>\n",
       "    </tr>\n",
       "    <tr>\n",
       "      <th>3</th>\n",
       "      <td>2023-04-11 00:00:00-03:00</td>\n",
       "      <td>22.837898</td>\n",
       "    </tr>\n",
       "    <tr>\n",
       "      <th>4</th>\n",
       "      <td>2023-04-12 00:00:00-03:00</td>\n",
       "      <td>23.007002</td>\n",
       "    </tr>\n",
       "    <tr>\n",
       "      <th>5</th>\n",
       "      <td>2023-04-13 00:00:00-03:00</td>\n",
       "      <td>23.167206</td>\n",
       "    </tr>\n",
       "    <tr>\n",
       "      <th>6</th>\n",
       "      <td>2023-04-14 00:00:00-03:00</td>\n",
       "      <td>23.407511</td>\n",
       "    </tr>\n",
       "    <tr>\n",
       "      <th>7</th>\n",
       "      <td>2023-04-17 00:00:00-03:00</td>\n",
       "      <td>23.772417</td>\n",
       "    </tr>\n",
       "    <tr>\n",
       "      <th>8</th>\n",
       "      <td>2023-04-18 00:00:00-03:00</td>\n",
       "      <td>24.377632</td>\n",
       "    </tr>\n",
       "    <tr>\n",
       "      <th>9</th>\n",
       "      <td>2023-04-19 00:00:00-03:00</td>\n",
       "      <td>23.594416</td>\n",
       "    </tr>\n",
       "    <tr>\n",
       "      <th>10</th>\n",
       "      <td>2023-04-20 00:00:00-03:00</td>\n",
       "      <td>23.754620</td>\n",
       "    </tr>\n",
       "    <tr>\n",
       "      <th>11</th>\n",
       "      <td>2023-04-24 00:00:00-03:00</td>\n",
       "      <td>24.208529</td>\n",
       "    </tr>\n",
       "    <tr>\n",
       "      <th>12</th>\n",
       "      <td>2023-04-25 00:00:00-03:00</td>\n",
       "      <td>24.110626</td>\n",
       "    </tr>\n",
       "    <tr>\n",
       "      <th>13</th>\n",
       "      <td>2023-04-26 00:00:00-03:00</td>\n",
       "      <td>23.808020</td>\n",
       "    </tr>\n",
       "    <tr>\n",
       "      <th>14</th>\n",
       "      <td>2023-04-27 00:00:00-03:00</td>\n",
       "      <td>23.229507</td>\n",
       "    </tr>\n",
       "    <tr>\n",
       "      <th>15</th>\n",
       "      <td>2023-04-28 00:00:00-03:00</td>\n",
       "      <td>23.700001</td>\n",
       "    </tr>\n",
       "    <tr>\n",
       "      <th>16</th>\n",
       "      <td>2023-05-02 00:00:00-03:00</td>\n",
       "      <td>22.740000</td>\n",
       "    </tr>\n",
       "    <tr>\n",
       "      <th>17</th>\n",
       "      <td>2023-05-03 00:00:00-03:00</td>\n",
       "      <td>22.660000</td>\n",
       "    </tr>\n",
       "    <tr>\n",
       "      <th>18</th>\n",
       "      <td>2023-05-04 00:00:00-03:00</td>\n",
       "      <td>23.020000</td>\n",
       "    </tr>\n",
       "    <tr>\n",
       "      <th>19</th>\n",
       "      <td>2023-05-05 00:00:00-03:00</td>\n",
       "      <td>24.000000</td>\n",
       "    </tr>\n",
       "    <tr>\n",
       "      <th>20</th>\n",
       "      <td>2023-05-08 00:00:00-03:00</td>\n",
       "      <td>24.510000</td>\n",
       "    </tr>\n",
       "    <tr>\n",
       "      <th>21</th>\n",
       "      <td>2023-05-09 00:00:00-03:00</td>\n",
       "      <td>24.590000</td>\n",
       "    </tr>\n",
       "    <tr>\n",
       "      <th>22</th>\n",
       "      <td>2023-05-10 00:00:00-03:00</td>\n",
       "      <td>24.530001</td>\n",
       "    </tr>\n",
       "    <tr>\n",
       "      <th>23</th>\n",
       "      <td>2023-05-11 00:00:00-03:00</td>\n",
       "      <td>25.430000</td>\n",
       "    </tr>\n",
       "    <tr>\n",
       "      <th>24</th>\n",
       "      <td>2023-05-12 00:00:00-03:00</td>\n",
       "      <td>26.250000</td>\n",
       "    </tr>\n",
       "    <tr>\n",
       "      <th>25</th>\n",
       "      <td>2023-05-15 00:00:00-03:00</td>\n",
       "      <td>25.660000</td>\n",
       "    </tr>\n",
       "    <tr>\n",
       "      <th>26</th>\n",
       "      <td>2023-05-16 00:00:00-03:00</td>\n",
       "      <td>26.299999</td>\n",
       "    </tr>\n",
       "    <tr>\n",
       "      <th>27</th>\n",
       "      <td>2023-05-17 00:00:00-03:00</td>\n",
       "      <td>25.660000</td>\n",
       "    </tr>\n",
       "    <tr>\n",
       "      <th>28</th>\n",
       "      <td>2023-05-18 00:00:00-03:00</td>\n",
       "      <td>25.809999</td>\n",
       "    </tr>\n",
       "  </tbody>\n",
       "</table>\n",
       "</div>"
      ],
      "text/plain": [
       "                        Date      Close\n",
       "0  2023-04-05 00:00:00-03:00  21.671972\n",
       "1  2023-04-06 00:00:00-03:00  21.360466\n",
       "2  2023-04-10 00:00:00-03:00  21.814377\n",
       "3  2023-04-11 00:00:00-03:00  22.837898\n",
       "4  2023-04-12 00:00:00-03:00  23.007002\n",
       "5  2023-04-13 00:00:00-03:00  23.167206\n",
       "6  2023-04-14 00:00:00-03:00  23.407511\n",
       "7  2023-04-17 00:00:00-03:00  23.772417\n",
       "8  2023-04-18 00:00:00-03:00  24.377632\n",
       "9  2023-04-19 00:00:00-03:00  23.594416\n",
       "10 2023-04-20 00:00:00-03:00  23.754620\n",
       "11 2023-04-24 00:00:00-03:00  24.208529\n",
       "12 2023-04-25 00:00:00-03:00  24.110626\n",
       "13 2023-04-26 00:00:00-03:00  23.808020\n",
       "14 2023-04-27 00:00:00-03:00  23.229507\n",
       "15 2023-04-28 00:00:00-03:00  23.700001\n",
       "16 2023-05-02 00:00:00-03:00  22.740000\n",
       "17 2023-05-03 00:00:00-03:00  22.660000\n",
       "18 2023-05-04 00:00:00-03:00  23.020000\n",
       "19 2023-05-05 00:00:00-03:00  24.000000\n",
       "20 2023-05-08 00:00:00-03:00  24.510000\n",
       "21 2023-05-09 00:00:00-03:00  24.590000\n",
       "22 2023-05-10 00:00:00-03:00  24.530001\n",
       "23 2023-05-11 00:00:00-03:00  25.430000\n",
       "24 2023-05-12 00:00:00-03:00  26.250000\n",
       "25 2023-05-15 00:00:00-03:00  25.660000\n",
       "26 2023-05-16 00:00:00-03:00  26.299999\n",
       "27 2023-05-17 00:00:00-03:00  25.660000\n",
       "28 2023-05-18 00:00:00-03:00  25.809999"
      ]
     },
     "execution_count": 7,
     "metadata": {},
     "output_type": "execute_result"
    }
   ],
   "source": [
    "df"
   ]
  },
  {
   "cell_type": "code",
   "execution_count": 8,
   "metadata": {
    "ExecuteTime": {
     "end_time": "2023-05-19T13:16:57.240170Z",
     "start_time": "2023-05-19T13:16:57.235622Z"
    },
    "id": "pngjh0cwF7eM"
   },
   "outputs": [],
   "source": [
    "# Criando um novo Df com os dados historicos\n",
    "df_ticker = df"
   ]
  },
  {
   "cell_type": "code",
   "execution_count": 9,
   "metadata": {
    "ExecuteTime": {
     "end_time": "2023-05-19T13:16:59.510400Z",
     "start_time": "2023-05-19T13:16:59.490087Z"
    },
    "id": "DJCQJDoJF7gs"
   },
   "outputs": [
    {
     "data": {
      "text/html": [
       "<div>\n",
       "<style scoped>\n",
       "    .dataframe tbody tr th:only-of-type {\n",
       "        vertical-align: middle;\n",
       "    }\n",
       "\n",
       "    .dataframe tbody tr th {\n",
       "        vertical-align: top;\n",
       "    }\n",
       "\n",
       "    .dataframe thead th {\n",
       "        text-align: right;\n",
       "    }\n",
       "</style>\n",
       "<table border=\"1\" class=\"dataframe\">\n",
       "  <thead>\n",
       "    <tr style=\"text-align: right;\">\n",
       "      <th></th>\n",
       "      <th>Date</th>\n",
       "      <th>Close</th>\n",
       "    </tr>\n",
       "  </thead>\n",
       "  <tbody>\n",
       "    <tr>\n",
       "      <th>0</th>\n",
       "      <td>2023-04-05 00:00:00-03:00</td>\n",
       "      <td>21.671972</td>\n",
       "    </tr>\n",
       "    <tr>\n",
       "      <th>1</th>\n",
       "      <td>2023-04-06 00:00:00-03:00</td>\n",
       "      <td>21.360466</td>\n",
       "    </tr>\n",
       "    <tr>\n",
       "      <th>2</th>\n",
       "      <td>2023-04-10 00:00:00-03:00</td>\n",
       "      <td>21.814377</td>\n",
       "    </tr>\n",
       "    <tr>\n",
       "      <th>3</th>\n",
       "      <td>2023-04-11 00:00:00-03:00</td>\n",
       "      <td>22.837898</td>\n",
       "    </tr>\n",
       "    <tr>\n",
       "      <th>4</th>\n",
       "      <td>2023-04-12 00:00:00-03:00</td>\n",
       "      <td>23.007002</td>\n",
       "    </tr>\n",
       "    <tr>\n",
       "      <th>5</th>\n",
       "      <td>2023-04-13 00:00:00-03:00</td>\n",
       "      <td>23.167206</td>\n",
       "    </tr>\n",
       "    <tr>\n",
       "      <th>6</th>\n",
       "      <td>2023-04-14 00:00:00-03:00</td>\n",
       "      <td>23.407511</td>\n",
       "    </tr>\n",
       "    <tr>\n",
       "      <th>7</th>\n",
       "      <td>2023-04-17 00:00:00-03:00</td>\n",
       "      <td>23.772417</td>\n",
       "    </tr>\n",
       "    <tr>\n",
       "      <th>8</th>\n",
       "      <td>2023-04-18 00:00:00-03:00</td>\n",
       "      <td>24.377632</td>\n",
       "    </tr>\n",
       "    <tr>\n",
       "      <th>9</th>\n",
       "      <td>2023-04-19 00:00:00-03:00</td>\n",
       "      <td>23.594416</td>\n",
       "    </tr>\n",
       "    <tr>\n",
       "      <th>10</th>\n",
       "      <td>2023-04-20 00:00:00-03:00</td>\n",
       "      <td>23.754620</td>\n",
       "    </tr>\n",
       "    <tr>\n",
       "      <th>11</th>\n",
       "      <td>2023-04-24 00:00:00-03:00</td>\n",
       "      <td>24.208529</td>\n",
       "    </tr>\n",
       "    <tr>\n",
       "      <th>12</th>\n",
       "      <td>2023-04-25 00:00:00-03:00</td>\n",
       "      <td>24.110626</td>\n",
       "    </tr>\n",
       "    <tr>\n",
       "      <th>13</th>\n",
       "      <td>2023-04-26 00:00:00-03:00</td>\n",
       "      <td>23.808020</td>\n",
       "    </tr>\n",
       "    <tr>\n",
       "      <th>14</th>\n",
       "      <td>2023-04-27 00:00:00-03:00</td>\n",
       "      <td>23.229507</td>\n",
       "    </tr>\n",
       "    <tr>\n",
       "      <th>15</th>\n",
       "      <td>2023-04-28 00:00:00-03:00</td>\n",
       "      <td>23.700001</td>\n",
       "    </tr>\n",
       "    <tr>\n",
       "      <th>16</th>\n",
       "      <td>2023-05-02 00:00:00-03:00</td>\n",
       "      <td>22.740000</td>\n",
       "    </tr>\n",
       "    <tr>\n",
       "      <th>17</th>\n",
       "      <td>2023-05-03 00:00:00-03:00</td>\n",
       "      <td>22.660000</td>\n",
       "    </tr>\n",
       "    <tr>\n",
       "      <th>18</th>\n",
       "      <td>2023-05-04 00:00:00-03:00</td>\n",
       "      <td>23.020000</td>\n",
       "    </tr>\n",
       "    <tr>\n",
       "      <th>19</th>\n",
       "      <td>2023-05-05 00:00:00-03:00</td>\n",
       "      <td>24.000000</td>\n",
       "    </tr>\n",
       "    <tr>\n",
       "      <th>20</th>\n",
       "      <td>2023-05-08 00:00:00-03:00</td>\n",
       "      <td>24.510000</td>\n",
       "    </tr>\n",
       "    <tr>\n",
       "      <th>21</th>\n",
       "      <td>2023-05-09 00:00:00-03:00</td>\n",
       "      <td>24.590000</td>\n",
       "    </tr>\n",
       "    <tr>\n",
       "      <th>22</th>\n",
       "      <td>2023-05-10 00:00:00-03:00</td>\n",
       "      <td>24.530001</td>\n",
       "    </tr>\n",
       "    <tr>\n",
       "      <th>23</th>\n",
       "      <td>2023-05-11 00:00:00-03:00</td>\n",
       "      <td>25.430000</td>\n",
       "    </tr>\n",
       "    <tr>\n",
       "      <th>24</th>\n",
       "      <td>2023-05-12 00:00:00-03:00</td>\n",
       "      <td>26.250000</td>\n",
       "    </tr>\n",
       "    <tr>\n",
       "      <th>25</th>\n",
       "      <td>2023-05-15 00:00:00-03:00</td>\n",
       "      <td>25.660000</td>\n",
       "    </tr>\n",
       "    <tr>\n",
       "      <th>26</th>\n",
       "      <td>2023-05-16 00:00:00-03:00</td>\n",
       "      <td>26.299999</td>\n",
       "    </tr>\n",
       "    <tr>\n",
       "      <th>27</th>\n",
       "      <td>2023-05-17 00:00:00-03:00</td>\n",
       "      <td>25.660000</td>\n",
       "    </tr>\n",
       "    <tr>\n",
       "      <th>28</th>\n",
       "      <td>2023-05-18 00:00:00-03:00</td>\n",
       "      <td>25.809999</td>\n",
       "    </tr>\n",
       "  </tbody>\n",
       "</table>\n",
       "</div>"
      ],
      "text/plain": [
       "                        Date      Close\n",
       "0  2023-04-05 00:00:00-03:00  21.671972\n",
       "1  2023-04-06 00:00:00-03:00  21.360466\n",
       "2  2023-04-10 00:00:00-03:00  21.814377\n",
       "3  2023-04-11 00:00:00-03:00  22.837898\n",
       "4  2023-04-12 00:00:00-03:00  23.007002\n",
       "5  2023-04-13 00:00:00-03:00  23.167206\n",
       "6  2023-04-14 00:00:00-03:00  23.407511\n",
       "7  2023-04-17 00:00:00-03:00  23.772417\n",
       "8  2023-04-18 00:00:00-03:00  24.377632\n",
       "9  2023-04-19 00:00:00-03:00  23.594416\n",
       "10 2023-04-20 00:00:00-03:00  23.754620\n",
       "11 2023-04-24 00:00:00-03:00  24.208529\n",
       "12 2023-04-25 00:00:00-03:00  24.110626\n",
       "13 2023-04-26 00:00:00-03:00  23.808020\n",
       "14 2023-04-27 00:00:00-03:00  23.229507\n",
       "15 2023-04-28 00:00:00-03:00  23.700001\n",
       "16 2023-05-02 00:00:00-03:00  22.740000\n",
       "17 2023-05-03 00:00:00-03:00  22.660000\n",
       "18 2023-05-04 00:00:00-03:00  23.020000\n",
       "19 2023-05-05 00:00:00-03:00  24.000000\n",
       "20 2023-05-08 00:00:00-03:00  24.510000\n",
       "21 2023-05-09 00:00:00-03:00  24.590000\n",
       "22 2023-05-10 00:00:00-03:00  24.530001\n",
       "23 2023-05-11 00:00:00-03:00  25.430000\n",
       "24 2023-05-12 00:00:00-03:00  26.250000\n",
       "25 2023-05-15 00:00:00-03:00  25.660000\n",
       "26 2023-05-16 00:00:00-03:00  26.299999\n",
       "27 2023-05-17 00:00:00-03:00  25.660000\n",
       "28 2023-05-18 00:00:00-03:00  25.809999"
      ]
     },
     "execution_count": 9,
     "metadata": {},
     "output_type": "execute_result"
    }
   ],
   "source": [
    "# Remove a ultima data do df_daily\n",
    "df_remove_ticket = df_ticker.loc[(df_ticker['Date'] == pd.to_datetime('today').normalize())]\n",
    "df_ticker = df_ticker.drop(df_remove_ticket.index)\n",
    "df_ticker"
   ]
  },
  {
   "cell_type": "code",
   "execution_count": 10,
   "metadata": {
    "ExecuteTime": {
     "end_time": "2023-05-19T13:17:06.155307Z",
     "start_time": "2023-05-19T13:17:06.151527Z"
    },
    "id": "PdBz3GscHU3_"
   },
   "outputs": [],
   "source": [
    "## Coletando o ultimo preço negociado até o agora\n",
    "#df_ticker_daily_last_price = df_ticker_daily.tail(1)\n",
    "#df_ticker_daily_last_price"
   ]
  },
  {
   "cell_type": "code",
   "execution_count": 11,
   "metadata": {
    "ExecuteTime": {
     "end_time": "2023-05-19T13:17:08.171799Z",
     "start_time": "2023-05-19T13:17:08.167305Z"
    },
    "id": "bDURRstHHVG1"
   },
   "outputs": [],
   "source": [
    "## Ajustar o formato da data e nome coluna\n",
    "#df_ticker_daily_last_price.rename(columns={'Datetime':'Date'}, inplace=True)\n",
    "#df_ticker_daily_last_price"
   ]
  },
  {
   "cell_type": "code",
   "execution_count": 12,
   "metadata": {
    "ExecuteTime": {
     "end_time": "2023-05-19T13:17:08.523450Z",
     "start_time": "2023-05-19T13:17:08.519631Z"
    },
    "id": "Wxr01z3_HVJm"
   },
   "outputs": [],
   "source": [
    "#df_ticker_daily_last_price_formated = pd.to_datetime(df_ticker_daily_last_price['Date'], format='%Y-%m-%d')"
   ]
  },
  {
   "cell_type": "code",
   "execution_count": 13,
   "metadata": {
    "ExecuteTime": {
     "end_time": "2023-05-19T13:17:09.012797Z",
     "start_time": "2023-05-19T13:17:08.993797Z"
    },
    "id": "mBkiLDPUHVL1"
   },
   "outputs": [
    {
     "data": {
      "text/html": [
       "<div>\n",
       "<style scoped>\n",
       "    .dataframe tbody tr th:only-of-type {\n",
       "        vertical-align: middle;\n",
       "    }\n",
       "\n",
       "    .dataframe tbody tr th {\n",
       "        vertical-align: top;\n",
       "    }\n",
       "\n",
       "    .dataframe thead th {\n",
       "        text-align: right;\n",
       "    }\n",
       "</style>\n",
       "<table border=\"1\" class=\"dataframe\">\n",
       "  <thead>\n",
       "    <tr style=\"text-align: right;\">\n",
       "      <th></th>\n",
       "      <th>Date</th>\n",
       "      <th>Close</th>\n",
       "    </tr>\n",
       "  </thead>\n",
       "  <tbody>\n",
       "    <tr>\n",
       "      <th>0</th>\n",
       "      <td>2023-04-05 00:00:00-03:00</td>\n",
       "      <td>21.671972</td>\n",
       "    </tr>\n",
       "    <tr>\n",
       "      <th>1</th>\n",
       "      <td>2023-04-06 00:00:00-03:00</td>\n",
       "      <td>21.360466</td>\n",
       "    </tr>\n",
       "    <tr>\n",
       "      <th>2</th>\n",
       "      <td>2023-04-10 00:00:00-03:00</td>\n",
       "      <td>21.814377</td>\n",
       "    </tr>\n",
       "    <tr>\n",
       "      <th>3</th>\n",
       "      <td>2023-04-11 00:00:00-03:00</td>\n",
       "      <td>22.837898</td>\n",
       "    </tr>\n",
       "    <tr>\n",
       "      <th>4</th>\n",
       "      <td>2023-04-12 00:00:00-03:00</td>\n",
       "      <td>23.007002</td>\n",
       "    </tr>\n",
       "    <tr>\n",
       "      <th>5</th>\n",
       "      <td>2023-04-13 00:00:00-03:00</td>\n",
       "      <td>23.167206</td>\n",
       "    </tr>\n",
       "    <tr>\n",
       "      <th>6</th>\n",
       "      <td>2023-04-14 00:00:00-03:00</td>\n",
       "      <td>23.407511</td>\n",
       "    </tr>\n",
       "    <tr>\n",
       "      <th>7</th>\n",
       "      <td>2023-04-17 00:00:00-03:00</td>\n",
       "      <td>23.772417</td>\n",
       "    </tr>\n",
       "    <tr>\n",
       "      <th>8</th>\n",
       "      <td>2023-04-18 00:00:00-03:00</td>\n",
       "      <td>24.377632</td>\n",
       "    </tr>\n",
       "    <tr>\n",
       "      <th>9</th>\n",
       "      <td>2023-04-19 00:00:00-03:00</td>\n",
       "      <td>23.594416</td>\n",
       "    </tr>\n",
       "    <tr>\n",
       "      <th>10</th>\n",
       "      <td>2023-04-20 00:00:00-03:00</td>\n",
       "      <td>23.754620</td>\n",
       "    </tr>\n",
       "    <tr>\n",
       "      <th>11</th>\n",
       "      <td>2023-04-24 00:00:00-03:00</td>\n",
       "      <td>24.208529</td>\n",
       "    </tr>\n",
       "    <tr>\n",
       "      <th>12</th>\n",
       "      <td>2023-04-25 00:00:00-03:00</td>\n",
       "      <td>24.110626</td>\n",
       "    </tr>\n",
       "    <tr>\n",
       "      <th>13</th>\n",
       "      <td>2023-04-26 00:00:00-03:00</td>\n",
       "      <td>23.808020</td>\n",
       "    </tr>\n",
       "    <tr>\n",
       "      <th>14</th>\n",
       "      <td>2023-04-27 00:00:00-03:00</td>\n",
       "      <td>23.229507</td>\n",
       "    </tr>\n",
       "    <tr>\n",
       "      <th>15</th>\n",
       "      <td>2023-04-28 00:00:00-03:00</td>\n",
       "      <td>23.700001</td>\n",
       "    </tr>\n",
       "    <tr>\n",
       "      <th>16</th>\n",
       "      <td>2023-05-02 00:00:00-03:00</td>\n",
       "      <td>22.740000</td>\n",
       "    </tr>\n",
       "    <tr>\n",
       "      <th>17</th>\n",
       "      <td>2023-05-03 00:00:00-03:00</td>\n",
       "      <td>22.660000</td>\n",
       "    </tr>\n",
       "    <tr>\n",
       "      <th>18</th>\n",
       "      <td>2023-05-04 00:00:00-03:00</td>\n",
       "      <td>23.020000</td>\n",
       "    </tr>\n",
       "    <tr>\n",
       "      <th>19</th>\n",
       "      <td>2023-05-05 00:00:00-03:00</td>\n",
       "      <td>24.000000</td>\n",
       "    </tr>\n",
       "    <tr>\n",
       "      <th>20</th>\n",
       "      <td>2023-05-08 00:00:00-03:00</td>\n",
       "      <td>24.510000</td>\n",
       "    </tr>\n",
       "    <tr>\n",
       "      <th>21</th>\n",
       "      <td>2023-05-09 00:00:00-03:00</td>\n",
       "      <td>24.590000</td>\n",
       "    </tr>\n",
       "    <tr>\n",
       "      <th>22</th>\n",
       "      <td>2023-05-10 00:00:00-03:00</td>\n",
       "      <td>24.530001</td>\n",
       "    </tr>\n",
       "    <tr>\n",
       "      <th>23</th>\n",
       "      <td>2023-05-11 00:00:00-03:00</td>\n",
       "      <td>25.430000</td>\n",
       "    </tr>\n",
       "    <tr>\n",
       "      <th>24</th>\n",
       "      <td>2023-05-12 00:00:00-03:00</td>\n",
       "      <td>26.250000</td>\n",
       "    </tr>\n",
       "    <tr>\n",
       "      <th>25</th>\n",
       "      <td>2023-05-15 00:00:00-03:00</td>\n",
       "      <td>25.660000</td>\n",
       "    </tr>\n",
       "    <tr>\n",
       "      <th>26</th>\n",
       "      <td>2023-05-16 00:00:00-03:00</td>\n",
       "      <td>26.299999</td>\n",
       "    </tr>\n",
       "    <tr>\n",
       "      <th>27</th>\n",
       "      <td>2023-05-17 00:00:00-03:00</td>\n",
       "      <td>25.660000</td>\n",
       "    </tr>\n",
       "    <tr>\n",
       "      <th>28</th>\n",
       "      <td>2023-05-18 00:00:00-03:00</td>\n",
       "      <td>25.809999</td>\n",
       "    </tr>\n",
       "  </tbody>\n",
       "</table>\n",
       "</div>"
      ],
      "text/plain": [
       "                        Date      Close\n",
       "0  2023-04-05 00:00:00-03:00  21.671972\n",
       "1  2023-04-06 00:00:00-03:00  21.360466\n",
       "2  2023-04-10 00:00:00-03:00  21.814377\n",
       "3  2023-04-11 00:00:00-03:00  22.837898\n",
       "4  2023-04-12 00:00:00-03:00  23.007002\n",
       "5  2023-04-13 00:00:00-03:00  23.167206\n",
       "6  2023-04-14 00:00:00-03:00  23.407511\n",
       "7  2023-04-17 00:00:00-03:00  23.772417\n",
       "8  2023-04-18 00:00:00-03:00  24.377632\n",
       "9  2023-04-19 00:00:00-03:00  23.594416\n",
       "10 2023-04-20 00:00:00-03:00  23.754620\n",
       "11 2023-04-24 00:00:00-03:00  24.208529\n",
       "12 2023-04-25 00:00:00-03:00  24.110626\n",
       "13 2023-04-26 00:00:00-03:00  23.808020\n",
       "14 2023-04-27 00:00:00-03:00  23.229507\n",
       "15 2023-04-28 00:00:00-03:00  23.700001\n",
       "16 2023-05-02 00:00:00-03:00  22.740000\n",
       "17 2023-05-03 00:00:00-03:00  22.660000\n",
       "18 2023-05-04 00:00:00-03:00  23.020000\n",
       "19 2023-05-05 00:00:00-03:00  24.000000\n",
       "20 2023-05-08 00:00:00-03:00  24.510000\n",
       "21 2023-05-09 00:00:00-03:00  24.590000\n",
       "22 2023-05-10 00:00:00-03:00  24.530001\n",
       "23 2023-05-11 00:00:00-03:00  25.430000\n",
       "24 2023-05-12 00:00:00-03:00  26.250000\n",
       "25 2023-05-15 00:00:00-03:00  25.660000\n",
       "26 2023-05-16 00:00:00-03:00  26.299999\n",
       "27 2023-05-17 00:00:00-03:00  25.660000\n",
       "28 2023-05-18 00:00:00-03:00  25.809999"
      ]
     },
     "execution_count": 13,
     "metadata": {},
     "output_type": "execute_result"
    }
   ],
   "source": [
    "# Append data atual\n",
    "#df_ticker = df_ticker.append(df_ticker_daily_last_price)\n",
    "df_ticker"
   ]
  },
  {
   "cell_type": "code",
   "execution_count": 14,
   "metadata": {
    "ExecuteTime": {
     "end_time": "2023-05-19T13:17:16.466537Z",
     "start_time": "2023-05-19T13:17:16.445444Z"
    },
    "id": "TOMWKgCg701y"
   },
   "outputs": [
    {
     "data": {
      "text/html": [
       "<div>\n",
       "<style scoped>\n",
       "    .dataframe tbody tr th:only-of-type {\n",
       "        vertical-align: middle;\n",
       "    }\n",
       "\n",
       "    .dataframe tbody tr th {\n",
       "        vertical-align: top;\n",
       "    }\n",
       "\n",
       "    .dataframe thead th {\n",
       "        text-align: right;\n",
       "    }\n",
       "</style>\n",
       "<table border=\"1\" class=\"dataframe\">\n",
       "  <thead>\n",
       "    <tr style=\"text-align: right;\">\n",
       "      <th></th>\n",
       "      <th>Date</th>\n",
       "      <th>Close</th>\n",
       "    </tr>\n",
       "  </thead>\n",
       "  <tbody>\n",
       "    <tr>\n",
       "      <th>0</th>\n",
       "      <td>2023-04-05</td>\n",
       "      <td>21.671972</td>\n",
       "    </tr>\n",
       "    <tr>\n",
       "      <th>1</th>\n",
       "      <td>2023-04-06</td>\n",
       "      <td>21.360466</td>\n",
       "    </tr>\n",
       "    <tr>\n",
       "      <th>2</th>\n",
       "      <td>2023-04-10</td>\n",
       "      <td>21.814377</td>\n",
       "    </tr>\n",
       "    <tr>\n",
       "      <th>3</th>\n",
       "      <td>2023-04-11</td>\n",
       "      <td>22.837898</td>\n",
       "    </tr>\n",
       "    <tr>\n",
       "      <th>4</th>\n",
       "      <td>2023-04-12</td>\n",
       "      <td>23.007002</td>\n",
       "    </tr>\n",
       "    <tr>\n",
       "      <th>5</th>\n",
       "      <td>2023-04-13</td>\n",
       "      <td>23.167206</td>\n",
       "    </tr>\n",
       "    <tr>\n",
       "      <th>6</th>\n",
       "      <td>2023-04-14</td>\n",
       "      <td>23.407511</td>\n",
       "    </tr>\n",
       "    <tr>\n",
       "      <th>7</th>\n",
       "      <td>2023-04-17</td>\n",
       "      <td>23.772417</td>\n",
       "    </tr>\n",
       "    <tr>\n",
       "      <th>8</th>\n",
       "      <td>2023-04-18</td>\n",
       "      <td>24.377632</td>\n",
       "    </tr>\n",
       "    <tr>\n",
       "      <th>9</th>\n",
       "      <td>2023-04-19</td>\n",
       "      <td>23.594416</td>\n",
       "    </tr>\n",
       "    <tr>\n",
       "      <th>10</th>\n",
       "      <td>2023-04-20</td>\n",
       "      <td>23.754620</td>\n",
       "    </tr>\n",
       "    <tr>\n",
       "      <th>11</th>\n",
       "      <td>2023-04-24</td>\n",
       "      <td>24.208529</td>\n",
       "    </tr>\n",
       "    <tr>\n",
       "      <th>12</th>\n",
       "      <td>2023-04-25</td>\n",
       "      <td>24.110626</td>\n",
       "    </tr>\n",
       "    <tr>\n",
       "      <th>13</th>\n",
       "      <td>2023-04-26</td>\n",
       "      <td>23.808020</td>\n",
       "    </tr>\n",
       "    <tr>\n",
       "      <th>14</th>\n",
       "      <td>2023-04-27</td>\n",
       "      <td>23.229507</td>\n",
       "    </tr>\n",
       "    <tr>\n",
       "      <th>15</th>\n",
       "      <td>2023-04-28</td>\n",
       "      <td>23.700001</td>\n",
       "    </tr>\n",
       "    <tr>\n",
       "      <th>16</th>\n",
       "      <td>2023-05-02</td>\n",
       "      <td>22.740000</td>\n",
       "    </tr>\n",
       "    <tr>\n",
       "      <th>17</th>\n",
       "      <td>2023-05-03</td>\n",
       "      <td>22.660000</td>\n",
       "    </tr>\n",
       "    <tr>\n",
       "      <th>18</th>\n",
       "      <td>2023-05-04</td>\n",
       "      <td>23.020000</td>\n",
       "    </tr>\n",
       "    <tr>\n",
       "      <th>19</th>\n",
       "      <td>2023-05-05</td>\n",
       "      <td>24.000000</td>\n",
       "    </tr>\n",
       "    <tr>\n",
       "      <th>20</th>\n",
       "      <td>2023-05-08</td>\n",
       "      <td>24.510000</td>\n",
       "    </tr>\n",
       "    <tr>\n",
       "      <th>21</th>\n",
       "      <td>2023-05-09</td>\n",
       "      <td>24.590000</td>\n",
       "    </tr>\n",
       "    <tr>\n",
       "      <th>22</th>\n",
       "      <td>2023-05-10</td>\n",
       "      <td>24.530001</td>\n",
       "    </tr>\n",
       "    <tr>\n",
       "      <th>23</th>\n",
       "      <td>2023-05-11</td>\n",
       "      <td>25.430000</td>\n",
       "    </tr>\n",
       "    <tr>\n",
       "      <th>24</th>\n",
       "      <td>2023-05-12</td>\n",
       "      <td>26.250000</td>\n",
       "    </tr>\n",
       "    <tr>\n",
       "      <th>25</th>\n",
       "      <td>2023-05-15</td>\n",
       "      <td>25.660000</td>\n",
       "    </tr>\n",
       "    <tr>\n",
       "      <th>26</th>\n",
       "      <td>2023-05-16</td>\n",
       "      <td>26.299999</td>\n",
       "    </tr>\n",
       "    <tr>\n",
       "      <th>27</th>\n",
       "      <td>2023-05-17</td>\n",
       "      <td>25.660000</td>\n",
       "    </tr>\n",
       "    <tr>\n",
       "      <th>28</th>\n",
       "      <td>2023-05-18</td>\n",
       "      <td>25.809999</td>\n",
       "    </tr>\n",
       "  </tbody>\n",
       "</table>\n",
       "</div>"
      ],
      "text/plain": [
       "          Date      Close\n",
       "0   2023-04-05  21.671972\n",
       "1   2023-04-06  21.360466\n",
       "2   2023-04-10  21.814377\n",
       "3   2023-04-11  22.837898\n",
       "4   2023-04-12  23.007002\n",
       "5   2023-04-13  23.167206\n",
       "6   2023-04-14  23.407511\n",
       "7   2023-04-17  23.772417\n",
       "8   2023-04-18  24.377632\n",
       "9   2023-04-19  23.594416\n",
       "10  2023-04-20  23.754620\n",
       "11  2023-04-24  24.208529\n",
       "12  2023-04-25  24.110626\n",
       "13  2023-04-26  23.808020\n",
       "14  2023-04-27  23.229507\n",
       "15  2023-04-28  23.700001\n",
       "16  2023-05-02  22.740000\n",
       "17  2023-05-03  22.660000\n",
       "18  2023-05-04  23.020000\n",
       "19  2023-05-05  24.000000\n",
       "20  2023-05-08  24.510000\n",
       "21  2023-05-09  24.590000\n",
       "22  2023-05-10  24.530001\n",
       "23  2023-05-11  25.430000\n",
       "24  2023-05-12  26.250000\n",
       "25  2023-05-15  25.660000\n",
       "26  2023-05-16  26.299999\n",
       "27  2023-05-17  25.660000\n",
       "28  2023-05-18  25.809999"
      ]
     },
     "execution_count": 14,
     "metadata": {},
     "output_type": "execute_result"
    }
   ],
   "source": [
    "#Ajustando a data\n",
    "df_ticker['Date'] = pd.to_datetime(df_ticker['Date'], utc=True).dt.date\n",
    "df_ticker"
   ]
  },
  {
   "cell_type": "code",
   "execution_count": 15,
   "metadata": {
    "ExecuteTime": {
     "end_time": "2023-05-19T13:17:20.630515Z",
     "start_time": "2023-05-19T13:17:20.598209Z"
    },
    "id": "Xgluu6na70zx"
   },
   "outputs": [
    {
     "data": {
      "text/html": [
       "<div>\n",
       "<style scoped>\n",
       "    .dataframe tbody tr th:only-of-type {\n",
       "        vertical-align: middle;\n",
       "    }\n",
       "\n",
       "    .dataframe tbody tr th {\n",
       "        vertical-align: top;\n",
       "    }\n",
       "\n",
       "    .dataframe thead th {\n",
       "        text-align: right;\n",
       "    }\n",
       "</style>\n",
       "<table border=\"1\" class=\"dataframe\">\n",
       "  <thead>\n",
       "    <tr style=\"text-align: right;\">\n",
       "      <th></th>\n",
       "      <th>Date</th>\n",
       "      <th>Close</th>\n",
       "      <th>MACD</th>\n",
       "      <th>sinal</th>\n",
       "    </tr>\n",
       "  </thead>\n",
       "  <tbody>\n",
       "    <tr>\n",
       "      <th>0</th>\n",
       "      <td>2023-04-05</td>\n",
       "      <td>21.671972</td>\n",
       "      <td>0.000000</td>\n",
       "      <td>0.000000</td>\n",
       "    </tr>\n",
       "    <tr>\n",
       "      <th>1</th>\n",
       "      <td>2023-04-06</td>\n",
       "      <td>21.360466</td>\n",
       "      <td>-0.006989</td>\n",
       "      <td>-0.003883</td>\n",
       "    </tr>\n",
       "    <tr>\n",
       "      <th>2</th>\n",
       "      <td>2023-04-10</td>\n",
       "      <td>21.814377</td>\n",
       "      <td>0.005170</td>\n",
       "      <td>-0.000172</td>\n",
       "    </tr>\n",
       "    <tr>\n",
       "      <th>3</th>\n",
       "      <td>2023-04-11</td>\n",
       "      <td>22.837898</td>\n",
       "      <td>0.047528</td>\n",
       "      <td>0.015986</td>\n",
       "    </tr>\n",
       "    <tr>\n",
       "      <th>4</th>\n",
       "      <td>2023-04-12</td>\n",
       "      <td>23.007002</td>\n",
       "      <td>0.076273</td>\n",
       "      <td>0.033920</td>\n",
       "    </tr>\n",
       "    <tr>\n",
       "      <th>5</th>\n",
       "      <td>2023-04-13</td>\n",
       "      <td>23.167206</td>\n",
       "      <td>0.098969</td>\n",
       "      <td>0.051552</td>\n",
       "    </tr>\n",
       "    <tr>\n",
       "      <th>6</th>\n",
       "      <td>2023-04-14</td>\n",
       "      <td>23.407511</td>\n",
       "      <td>0.122706</td>\n",
       "      <td>0.069559</td>\n",
       "    </tr>\n",
       "    <tr>\n",
       "      <th>7</th>\n",
       "      <td>2023-04-17</td>\n",
       "      <td>23.772417</td>\n",
       "      <td>0.154004</td>\n",
       "      <td>0.089853</td>\n",
       "    </tr>\n",
       "    <tr>\n",
       "      <th>8</th>\n",
       "      <td>2023-04-18</td>\n",
       "      <td>24.377632</td>\n",
       "      <td>0.203361</td>\n",
       "      <td>0.116074</td>\n",
       "    </tr>\n",
       "    <tr>\n",
       "      <th>9</th>\n",
       "      <td>2023-04-19</td>\n",
       "      <td>23.594416</td>\n",
       "      <td>0.195072</td>\n",
       "      <td>0.133774</td>\n",
       "    </tr>\n",
       "    <tr>\n",
       "      <th>10</th>\n",
       "      <td>2023-04-20</td>\n",
       "      <td>23.754620</td>\n",
       "      <td>0.194882</td>\n",
       "      <td>0.147144</td>\n",
       "    </tr>\n",
       "    <tr>\n",
       "      <th>11</th>\n",
       "      <td>2023-04-24</td>\n",
       "      <td>24.208529</td>\n",
       "      <td>0.217024</td>\n",
       "      <td>0.162151</td>\n",
       "    </tr>\n",
       "    <tr>\n",
       "      <th>12</th>\n",
       "      <td>2023-04-25</td>\n",
       "      <td>24.110626</td>\n",
       "      <td>0.225037</td>\n",
       "      <td>0.175460</td>\n",
       "    </tr>\n",
       "    <tr>\n",
       "      <th>13</th>\n",
       "      <td>2023-04-26</td>\n",
       "      <td>23.808020</td>\n",
       "      <td>0.210573</td>\n",
       "      <td>0.182806</td>\n",
       "    </tr>\n",
       "    <tr>\n",
       "      <th>14</th>\n",
       "      <td>2023-04-27</td>\n",
       "      <td>23.229507</td>\n",
       "      <td>0.162649</td>\n",
       "      <td>0.178628</td>\n",
       "    </tr>\n",
       "    <tr>\n",
       "      <th>15</th>\n",
       "      <td>2023-04-28</td>\n",
       "      <td>23.700001</td>\n",
       "      <td>0.152776</td>\n",
       "      <td>0.173307</td>\n",
       "    </tr>\n",
       "    <tr>\n",
       "      <th>16</th>\n",
       "      <td>2023-05-02</td>\n",
       "      <td>22.740000</td>\n",
       "      <td>0.083941</td>\n",
       "      <td>0.155022</td>\n",
       "    </tr>\n",
       "    <tr>\n",
       "      <th>17</th>\n",
       "      <td>2023-05-03</td>\n",
       "      <td>22.660000</td>\n",
       "      <td>0.025149</td>\n",
       "      <td>0.128571</td>\n",
       "    </tr>\n",
       "    <tr>\n",
       "      <th>18</th>\n",
       "      <td>2023-05-04</td>\n",
       "      <td>23.020000</td>\n",
       "      <td>0.002756</td>\n",
       "      <td>0.103040</td>\n",
       "    </tr>\n",
       "    <tr>\n",
       "      <th>19</th>\n",
       "      <td>2023-05-05</td>\n",
       "      <td>24.000000</td>\n",
       "      <td>0.049343</td>\n",
       "      <td>0.092176</td>\n",
       "    </tr>\n",
       "    <tr>\n",
       "      <th>20</th>\n",
       "      <td>2023-05-08</td>\n",
       "      <td>24.510000</td>\n",
       "      <td>0.118488</td>\n",
       "      <td>0.097487</td>\n",
       "    </tr>\n",
       "    <tr>\n",
       "      <th>21</th>\n",
       "      <td>2023-05-09</td>\n",
       "      <td>24.590000</td>\n",
       "      <td>0.175974</td>\n",
       "      <td>0.113301</td>\n",
       "    </tr>\n",
       "    <tr>\n",
       "      <th>22</th>\n",
       "      <td>2023-05-10</td>\n",
       "      <td>24.530001</td>\n",
       "      <td>0.214396</td>\n",
       "      <td>0.133640</td>\n",
       "    </tr>\n",
       "    <tr>\n",
       "      <th>23</th>\n",
       "      <td>2023-05-11</td>\n",
       "      <td>25.430000</td>\n",
       "      <td>0.303578</td>\n",
       "      <td>0.167789</td>\n",
       "    </tr>\n",
       "    <tr>\n",
       "      <th>24</th>\n",
       "      <td>2023-05-12</td>\n",
       "      <td>26.250000</td>\n",
       "      <td>0.426355</td>\n",
       "      <td>0.219698</td>\n",
       "    </tr>\n",
       "    <tr>\n",
       "      <th>25</th>\n",
       "      <td>2023-05-15</td>\n",
       "      <td>25.660000</td>\n",
       "      <td>0.475506</td>\n",
       "      <td>0.271015</td>\n",
       "    </tr>\n",
       "    <tr>\n",
       "      <th>26</th>\n",
       "      <td>2023-05-16</td>\n",
       "      <td>26.299999</td>\n",
       "      <td>0.553610</td>\n",
       "      <td>0.327671</td>\n",
       "    </tr>\n",
       "    <tr>\n",
       "      <th>27</th>\n",
       "      <td>2023-05-17</td>\n",
       "      <td>25.660000</td>\n",
       "      <td>0.562294</td>\n",
       "      <td>0.374686</td>\n",
       "    </tr>\n",
       "    <tr>\n",
       "      <th>28</th>\n",
       "      <td>2023-05-18</td>\n",
       "      <td>25.809999</td>\n",
       "      <td>0.573344</td>\n",
       "      <td>0.414479</td>\n",
       "    </tr>\n",
       "  </tbody>\n",
       "</table>\n",
       "</div>"
      ],
      "text/plain": [
       "          Date      Close      MACD     sinal\n",
       "0   2023-04-05  21.671972  0.000000  0.000000\n",
       "1   2023-04-06  21.360466 -0.006989 -0.003883\n",
       "2   2023-04-10  21.814377  0.005170 -0.000172\n",
       "3   2023-04-11  22.837898  0.047528  0.015986\n",
       "4   2023-04-12  23.007002  0.076273  0.033920\n",
       "5   2023-04-13  23.167206  0.098969  0.051552\n",
       "6   2023-04-14  23.407511  0.122706  0.069559\n",
       "7   2023-04-17  23.772417  0.154004  0.089853\n",
       "8   2023-04-18  24.377632  0.203361  0.116074\n",
       "9   2023-04-19  23.594416  0.195072  0.133774\n",
       "10  2023-04-20  23.754620  0.194882  0.147144\n",
       "11  2023-04-24  24.208529  0.217024  0.162151\n",
       "12  2023-04-25  24.110626  0.225037  0.175460\n",
       "13  2023-04-26  23.808020  0.210573  0.182806\n",
       "14  2023-04-27  23.229507  0.162649  0.178628\n",
       "15  2023-04-28  23.700001  0.152776  0.173307\n",
       "16  2023-05-02  22.740000  0.083941  0.155022\n",
       "17  2023-05-03  22.660000  0.025149  0.128571\n",
       "18  2023-05-04  23.020000  0.002756  0.103040\n",
       "19  2023-05-05  24.000000  0.049343  0.092176\n",
       "20  2023-05-08  24.510000  0.118488  0.097487\n",
       "21  2023-05-09  24.590000  0.175974  0.113301\n",
       "22  2023-05-10  24.530001  0.214396  0.133640\n",
       "23  2023-05-11  25.430000  0.303578  0.167789\n",
       "24  2023-05-12  26.250000  0.426355  0.219698\n",
       "25  2023-05-15  25.660000  0.475506  0.271015\n",
       "26  2023-05-16  26.299999  0.553610  0.327671\n",
       "27  2023-05-17  25.660000  0.562294  0.374686\n",
       "28  2023-05-18  25.809999  0.573344  0.414479"
      ]
     },
     "execution_count": 15,
     "metadata": {},
     "output_type": "execute_result"
    }
   ],
   "source": [
    "# Calculando o MACD\n",
    "rapidaMME=df_ticker.Close.ewm(span=12).mean()\n",
    "lentaMME=df_ticker.Close.ewm(span=26).mean()\n",
    "\n",
    "MACD = rapidaMME - lentaMME\n",
    "\n",
    "sinal = MACD.ewm(span=9).mean()\n",
    "\n",
    "df_ticker['MACD'] = MACD\n",
    "df_ticker['sinal'] = sinal\n",
    "df_ticker"
   ]
  },
  {
   "cell_type": "code",
   "execution_count": 16,
   "metadata": {
    "ExecuteTime": {
     "end_time": "2023-05-19T13:17:22.469169Z",
     "start_time": "2023-05-19T13:17:22.437131Z"
    },
    "id": "hpat0S0QFotW"
   },
   "outputs": [
    {
     "data": {
      "text/html": [
       "<div>\n",
       "<style scoped>\n",
       "    .dataframe tbody tr th:only-of-type {\n",
       "        vertical-align: middle;\n",
       "    }\n",
       "\n",
       "    .dataframe tbody tr th {\n",
       "        vertical-align: top;\n",
       "    }\n",
       "\n",
       "    .dataframe thead th {\n",
       "        text-align: right;\n",
       "    }\n",
       "</style>\n",
       "<table border=\"1\" class=\"dataframe\">\n",
       "  <thead>\n",
       "    <tr style=\"text-align: right;\">\n",
       "      <th></th>\n",
       "      <th>Date</th>\n",
       "      <th>Close</th>\n",
       "      <th>MACD</th>\n",
       "      <th>sinal</th>\n",
       "      <th>flag</th>\n",
       "      <th>preco_compra</th>\n",
       "      <th>preco_venda</th>\n",
       "    </tr>\n",
       "  </thead>\n",
       "  <tbody>\n",
       "    <tr>\n",
       "      <th>0</th>\n",
       "      <td>2023-04-05</td>\n",
       "      <td>21.671972</td>\n",
       "      <td>0.000000</td>\n",
       "      <td>0.000000</td>\n",
       "      <td></td>\n",
       "      <td>NaN</td>\n",
       "      <td>NaN</td>\n",
       "    </tr>\n",
       "    <tr>\n",
       "      <th>1</th>\n",
       "      <td>2023-04-06</td>\n",
       "      <td>21.360466</td>\n",
       "      <td>-0.006989</td>\n",
       "      <td>-0.003883</td>\n",
       "      <td>V</td>\n",
       "      <td>NaN</td>\n",
       "      <td>21.360466</td>\n",
       "    </tr>\n",
       "    <tr>\n",
       "      <th>2</th>\n",
       "      <td>2023-04-10</td>\n",
       "      <td>21.814377</td>\n",
       "      <td>0.005170</td>\n",
       "      <td>-0.000172</td>\n",
       "      <td>C</td>\n",
       "      <td>21.814377</td>\n",
       "      <td>NaN</td>\n",
       "    </tr>\n",
       "    <tr>\n",
       "      <th>3</th>\n",
       "      <td>2023-04-11</td>\n",
       "      <td>22.837898</td>\n",
       "      <td>0.047528</td>\n",
       "      <td>0.015986</td>\n",
       "      <td>C</td>\n",
       "      <td>NaN</td>\n",
       "      <td>NaN</td>\n",
       "    </tr>\n",
       "    <tr>\n",
       "      <th>4</th>\n",
       "      <td>2023-04-12</td>\n",
       "      <td>23.007002</td>\n",
       "      <td>0.076273</td>\n",
       "      <td>0.033920</td>\n",
       "      <td>C</td>\n",
       "      <td>NaN</td>\n",
       "      <td>NaN</td>\n",
       "    </tr>\n",
       "    <tr>\n",
       "      <th>5</th>\n",
       "      <td>2023-04-13</td>\n",
       "      <td>23.167206</td>\n",
       "      <td>0.098969</td>\n",
       "      <td>0.051552</td>\n",
       "      <td>C</td>\n",
       "      <td>NaN</td>\n",
       "      <td>NaN</td>\n",
       "    </tr>\n",
       "    <tr>\n",
       "      <th>6</th>\n",
       "      <td>2023-04-14</td>\n",
       "      <td>23.407511</td>\n",
       "      <td>0.122706</td>\n",
       "      <td>0.069559</td>\n",
       "      <td>C</td>\n",
       "      <td>NaN</td>\n",
       "      <td>NaN</td>\n",
       "    </tr>\n",
       "    <tr>\n",
       "      <th>7</th>\n",
       "      <td>2023-04-17</td>\n",
       "      <td>23.772417</td>\n",
       "      <td>0.154004</td>\n",
       "      <td>0.089853</td>\n",
       "      <td>C</td>\n",
       "      <td>NaN</td>\n",
       "      <td>NaN</td>\n",
       "    </tr>\n",
       "    <tr>\n",
       "      <th>8</th>\n",
       "      <td>2023-04-18</td>\n",
       "      <td>24.377632</td>\n",
       "      <td>0.203361</td>\n",
       "      <td>0.116074</td>\n",
       "      <td>C</td>\n",
       "      <td>NaN</td>\n",
       "      <td>NaN</td>\n",
       "    </tr>\n",
       "    <tr>\n",
       "      <th>9</th>\n",
       "      <td>2023-04-19</td>\n",
       "      <td>23.594416</td>\n",
       "      <td>0.195072</td>\n",
       "      <td>0.133774</td>\n",
       "      <td>C</td>\n",
       "      <td>NaN</td>\n",
       "      <td>NaN</td>\n",
       "    </tr>\n",
       "    <tr>\n",
       "      <th>10</th>\n",
       "      <td>2023-04-20</td>\n",
       "      <td>23.754620</td>\n",
       "      <td>0.194882</td>\n",
       "      <td>0.147144</td>\n",
       "      <td>C</td>\n",
       "      <td>NaN</td>\n",
       "      <td>NaN</td>\n",
       "    </tr>\n",
       "    <tr>\n",
       "      <th>11</th>\n",
       "      <td>2023-04-24</td>\n",
       "      <td>24.208529</td>\n",
       "      <td>0.217024</td>\n",
       "      <td>0.162151</td>\n",
       "      <td>C</td>\n",
       "      <td>NaN</td>\n",
       "      <td>NaN</td>\n",
       "    </tr>\n",
       "    <tr>\n",
       "      <th>12</th>\n",
       "      <td>2023-04-25</td>\n",
       "      <td>24.110626</td>\n",
       "      <td>0.225037</td>\n",
       "      <td>0.175460</td>\n",
       "      <td>C</td>\n",
       "      <td>NaN</td>\n",
       "      <td>NaN</td>\n",
       "    </tr>\n",
       "    <tr>\n",
       "      <th>13</th>\n",
       "      <td>2023-04-26</td>\n",
       "      <td>23.808020</td>\n",
       "      <td>0.210573</td>\n",
       "      <td>0.182806</td>\n",
       "      <td>C</td>\n",
       "      <td>NaN</td>\n",
       "      <td>NaN</td>\n",
       "    </tr>\n",
       "    <tr>\n",
       "      <th>14</th>\n",
       "      <td>2023-04-27</td>\n",
       "      <td>23.229507</td>\n",
       "      <td>0.162649</td>\n",
       "      <td>0.178628</td>\n",
       "      <td>V</td>\n",
       "      <td>NaN</td>\n",
       "      <td>23.229507</td>\n",
       "    </tr>\n",
       "    <tr>\n",
       "      <th>15</th>\n",
       "      <td>2023-04-28</td>\n",
       "      <td>23.700001</td>\n",
       "      <td>0.152776</td>\n",
       "      <td>0.173307</td>\n",
       "      <td>V</td>\n",
       "      <td>NaN</td>\n",
       "      <td>NaN</td>\n",
       "    </tr>\n",
       "    <tr>\n",
       "      <th>16</th>\n",
       "      <td>2023-05-02</td>\n",
       "      <td>22.740000</td>\n",
       "      <td>0.083941</td>\n",
       "      <td>0.155022</td>\n",
       "      <td>V</td>\n",
       "      <td>NaN</td>\n",
       "      <td>NaN</td>\n",
       "    </tr>\n",
       "    <tr>\n",
       "      <th>17</th>\n",
       "      <td>2023-05-03</td>\n",
       "      <td>22.660000</td>\n",
       "      <td>0.025149</td>\n",
       "      <td>0.128571</td>\n",
       "      <td>V</td>\n",
       "      <td>NaN</td>\n",
       "      <td>NaN</td>\n",
       "    </tr>\n",
       "    <tr>\n",
       "      <th>18</th>\n",
       "      <td>2023-05-04</td>\n",
       "      <td>23.020000</td>\n",
       "      <td>0.002756</td>\n",
       "      <td>0.103040</td>\n",
       "      <td>V</td>\n",
       "      <td>NaN</td>\n",
       "      <td>NaN</td>\n",
       "    </tr>\n",
       "    <tr>\n",
       "      <th>19</th>\n",
       "      <td>2023-05-05</td>\n",
       "      <td>24.000000</td>\n",
       "      <td>0.049343</td>\n",
       "      <td>0.092176</td>\n",
       "      <td>V</td>\n",
       "      <td>NaN</td>\n",
       "      <td>NaN</td>\n",
       "    </tr>\n",
       "    <tr>\n",
       "      <th>20</th>\n",
       "      <td>2023-05-08</td>\n",
       "      <td>24.510000</td>\n",
       "      <td>0.118488</td>\n",
       "      <td>0.097487</td>\n",
       "      <td>C</td>\n",
       "      <td>24.510000</td>\n",
       "      <td>NaN</td>\n",
       "    </tr>\n",
       "    <tr>\n",
       "      <th>21</th>\n",
       "      <td>2023-05-09</td>\n",
       "      <td>24.590000</td>\n",
       "      <td>0.175974</td>\n",
       "      <td>0.113301</td>\n",
       "      <td>C</td>\n",
       "      <td>NaN</td>\n",
       "      <td>NaN</td>\n",
       "    </tr>\n",
       "    <tr>\n",
       "      <th>22</th>\n",
       "      <td>2023-05-10</td>\n",
       "      <td>24.530001</td>\n",
       "      <td>0.214396</td>\n",
       "      <td>0.133640</td>\n",
       "      <td>C</td>\n",
       "      <td>NaN</td>\n",
       "      <td>NaN</td>\n",
       "    </tr>\n",
       "    <tr>\n",
       "      <th>23</th>\n",
       "      <td>2023-05-11</td>\n",
       "      <td>25.430000</td>\n",
       "      <td>0.303578</td>\n",
       "      <td>0.167789</td>\n",
       "      <td>C</td>\n",
       "      <td>NaN</td>\n",
       "      <td>NaN</td>\n",
       "    </tr>\n",
       "    <tr>\n",
       "      <th>24</th>\n",
       "      <td>2023-05-12</td>\n",
       "      <td>26.250000</td>\n",
       "      <td>0.426355</td>\n",
       "      <td>0.219698</td>\n",
       "      <td>C</td>\n",
       "      <td>NaN</td>\n",
       "      <td>NaN</td>\n",
       "    </tr>\n",
       "    <tr>\n",
       "      <th>25</th>\n",
       "      <td>2023-05-15</td>\n",
       "      <td>25.660000</td>\n",
       "      <td>0.475506</td>\n",
       "      <td>0.271015</td>\n",
       "      <td>C</td>\n",
       "      <td>NaN</td>\n",
       "      <td>NaN</td>\n",
       "    </tr>\n",
       "    <tr>\n",
       "      <th>26</th>\n",
       "      <td>2023-05-16</td>\n",
       "      <td>26.299999</td>\n",
       "      <td>0.553610</td>\n",
       "      <td>0.327671</td>\n",
       "      <td>C</td>\n",
       "      <td>NaN</td>\n",
       "      <td>NaN</td>\n",
       "    </tr>\n",
       "    <tr>\n",
       "      <th>27</th>\n",
       "      <td>2023-05-17</td>\n",
       "      <td>25.660000</td>\n",
       "      <td>0.562294</td>\n",
       "      <td>0.374686</td>\n",
       "      <td>C</td>\n",
       "      <td>NaN</td>\n",
       "      <td>NaN</td>\n",
       "    </tr>\n",
       "    <tr>\n",
       "      <th>28</th>\n",
       "      <td>2023-05-18</td>\n",
       "      <td>25.809999</td>\n",
       "      <td>0.573344</td>\n",
       "      <td>0.414479</td>\n",
       "      <td>C</td>\n",
       "      <td>NaN</td>\n",
       "      <td>NaN</td>\n",
       "    </tr>\n",
       "  </tbody>\n",
       "</table>\n",
       "</div>"
      ],
      "text/plain": [
       "          Date      Close      MACD     sinal flag  preco_compra  preco_venda\n",
       "0   2023-04-05  21.671972  0.000000  0.000000                NaN          NaN\n",
       "1   2023-04-06  21.360466 -0.006989 -0.003883    V           NaN    21.360466\n",
       "2   2023-04-10  21.814377  0.005170 -0.000172    C     21.814377          NaN\n",
       "3   2023-04-11  22.837898  0.047528  0.015986    C           NaN          NaN\n",
       "4   2023-04-12  23.007002  0.076273  0.033920    C           NaN          NaN\n",
       "5   2023-04-13  23.167206  0.098969  0.051552    C           NaN          NaN\n",
       "6   2023-04-14  23.407511  0.122706  0.069559    C           NaN          NaN\n",
       "7   2023-04-17  23.772417  0.154004  0.089853    C           NaN          NaN\n",
       "8   2023-04-18  24.377632  0.203361  0.116074    C           NaN          NaN\n",
       "9   2023-04-19  23.594416  0.195072  0.133774    C           NaN          NaN\n",
       "10  2023-04-20  23.754620  0.194882  0.147144    C           NaN          NaN\n",
       "11  2023-04-24  24.208529  0.217024  0.162151    C           NaN          NaN\n",
       "12  2023-04-25  24.110626  0.225037  0.175460    C           NaN          NaN\n",
       "13  2023-04-26  23.808020  0.210573  0.182806    C           NaN          NaN\n",
       "14  2023-04-27  23.229507  0.162649  0.178628    V           NaN    23.229507\n",
       "15  2023-04-28  23.700001  0.152776  0.173307    V           NaN          NaN\n",
       "16  2023-05-02  22.740000  0.083941  0.155022    V           NaN          NaN\n",
       "17  2023-05-03  22.660000  0.025149  0.128571    V           NaN          NaN\n",
       "18  2023-05-04  23.020000  0.002756  0.103040    V           NaN          NaN\n",
       "19  2023-05-05  24.000000  0.049343  0.092176    V           NaN          NaN\n",
       "20  2023-05-08  24.510000  0.118488  0.097487    C     24.510000          NaN\n",
       "21  2023-05-09  24.590000  0.175974  0.113301    C           NaN          NaN\n",
       "22  2023-05-10  24.530001  0.214396  0.133640    C           NaN          NaN\n",
       "23  2023-05-11  25.430000  0.303578  0.167789    C           NaN          NaN\n",
       "24  2023-05-12  26.250000  0.426355  0.219698    C           NaN          NaN\n",
       "25  2023-05-15  25.660000  0.475506  0.271015    C           NaN          NaN\n",
       "26  2023-05-16  26.299999  0.553610  0.327671    C           NaN          NaN\n",
       "27  2023-05-17  25.660000  0.562294  0.374686    C           NaN          NaN\n",
       "28  2023-05-18  25.809999  0.573344  0.414479    C           NaN          NaN"
      ]
     },
     "execution_count": 16,
     "metadata": {},
     "output_type": "execute_result"
    }
   ],
   "source": [
    "# Codigo para decidiar compra e venda\n",
    "df_ticker.at[0, 'flag'] = ''\n",
    "df_ticker['preco_compra']=np.nan\n",
    "df_ticker['preco_venda']=np.nan\n",
    "\n",
    "\n",
    "for i in range(1, len(df_ticker.sinal)):\n",
    "  if df_ticker['MACD'].iloc[i] > df_ticker['sinal'].iloc[i]:\n",
    "    if df_ticker['flag'].iloc[i-1] == 'C':\n",
    "      df_ticker['flag'][i] = 'C'\n",
    "    else:\n",
    "      df_ticker['flag'][i] = 'C'\n",
    "      df_ticker['preco_compra'][i] = df_ticker['Close'][i]\n",
    "\n",
    "  elif df_ticker['MACD'].iloc[i] < df_ticker['sinal'].iloc[i]:\n",
    "    if df_ticker['flag'].iloc[i-1] == 'V':\n",
    "      df_ticker['flag'][i] = 'V'\n",
    "    else:\n",
    "      df_ticker['flag'][i] = 'V'\n",
    "      df_ticker['preco_venda'][i] = df_ticker['Close'][i]\n",
    "\n",
    "df_ticker\n"
   ]
  },
  {
   "cell_type": "code",
   "execution_count": 18,
   "metadata": {
    "ExecuteTime": {
     "end_time": "2023-05-19T13:17:36.153657Z",
     "start_time": "2023-05-19T13:17:36.147911Z"
    },
    "id": "2oevhDWEHVOL"
   },
   "outputs": [],
   "source": [
    "#Visualização grafica\n",
    "import plotly.graph_objects as go\n",
    "import plotly.io as pio\n",
    "from plotly.subplots import make_subplots"
   ]
  },
  {
   "cell_type": "code",
   "execution_count": 20,
   "metadata": {
    "ExecuteTime": {
     "end_time": "2023-05-19T13:17:41.982246Z",
     "start_time": "2023-05-19T13:17:41.950382Z"
    },
    "id": "8e0mPKCTOR5H"
   },
   "outputs": [
    {
     "data": {
      "application/vnd.plotly.v1+json": {
       "config": {
        "plotlyServerURL": "https://plot.ly"
       },
       "data": [
        {
         "line": {
          "color": "orange"
         },
         "name": "Preço fechamento",
         "type": "scatter",
         "x": [
          0,
          1,
          2,
          3,
          4,
          5,
          6,
          7,
          8,
          9,
          10,
          11,
          12,
          13,
          14,
          15,
          16,
          17,
          18,
          19,
          20,
          21,
          22,
          23,
          24,
          25,
          26,
          27,
          28
         ],
         "y": [
          21.671972274780273,
          21.36046600341797,
          21.814376831054688,
          22.83789825439453,
          23.007001876831055,
          23.167205810546875,
          23.40751075744629,
          23.772417068481445,
          24.37763214111328,
          23.59441566467285,
          23.754619598388672,
          24.208528518676758,
          24.110626220703125,
          23.808019638061523,
          23.229507446289062,
          23.700000762939453,
          22.739999771118164,
          22.65999984741211,
          23.020000457763672,
          24,
          24.510000228881836,
          24.59000015258789,
          24.530000686645508,
          25.43000030517578,
          26.25,
          25.65999984741211,
          26.299999237060547,
          25.65999984741211,
          25.809999465942383
         ]
        },
        {
         "marker": {
          "color": "green",
          "size": 10
         },
         "mode": "markers",
         "name": "Compra",
         "type": "scatter",
         "x": [
          0,
          1,
          2,
          3,
          4,
          5,
          6,
          7,
          8,
          9,
          10,
          11,
          12,
          13,
          14,
          15,
          16,
          17,
          18,
          19,
          20,
          21,
          22,
          23,
          24,
          25,
          26,
          27,
          28
         ],
         "y": [
          null,
          null,
          21.814376831054688,
          null,
          null,
          null,
          null,
          null,
          null,
          null,
          null,
          null,
          null,
          null,
          null,
          null,
          null,
          null,
          null,
          null,
          24.510000228881836,
          null,
          null,
          null,
          null,
          null,
          null,
          null,
          null
         ]
        },
        {
         "marker": {
          "color": "red",
          "size": 10
         },
         "mode": "markers",
         "name": "Venda",
         "type": "scatter",
         "x": [
          0,
          1,
          2,
          3,
          4,
          5,
          6,
          7,
          8,
          9,
          10,
          11,
          12,
          13,
          14,
          15,
          16,
          17,
          18,
          19,
          20,
          21,
          22,
          23,
          24,
          25,
          26,
          27,
          28
         ],
         "y": [
          null,
          21.36046600341797,
          null,
          null,
          null,
          null,
          null,
          null,
          null,
          null,
          null,
          null,
          null,
          null,
          23.229507446289062,
          null,
          null,
          null,
          null,
          null,
          null,
          null,
          null,
          null,
          null,
          null,
          null,
          null,
          null
         ]
        }
       ],
       "layout": {
        "template": {
         "data": {
          "bar": [
           {
            "error_x": {
             "color": "#2a3f5f"
            },
            "error_y": {
             "color": "#2a3f5f"
            },
            "marker": {
             "line": {
              "color": "#E5ECF6",
              "width": 0.5
             },
             "pattern": {
              "fillmode": "overlay",
              "size": 10,
              "solidity": 0.2
             }
            },
            "type": "bar"
           }
          ],
          "barpolar": [
           {
            "marker": {
             "line": {
              "color": "#E5ECF6",
              "width": 0.5
             },
             "pattern": {
              "fillmode": "overlay",
              "size": 10,
              "solidity": 0.2
             }
            },
            "type": "barpolar"
           }
          ],
          "carpet": [
           {
            "aaxis": {
             "endlinecolor": "#2a3f5f",
             "gridcolor": "white",
             "linecolor": "white",
             "minorgridcolor": "white",
             "startlinecolor": "#2a3f5f"
            },
            "baxis": {
             "endlinecolor": "#2a3f5f",
             "gridcolor": "white",
             "linecolor": "white",
             "minorgridcolor": "white",
             "startlinecolor": "#2a3f5f"
            },
            "type": "carpet"
           }
          ],
          "choropleth": [
           {
            "colorbar": {
             "outlinewidth": 0,
             "ticks": ""
            },
            "type": "choropleth"
           }
          ],
          "contour": [
           {
            "colorbar": {
             "outlinewidth": 0,
             "ticks": ""
            },
            "colorscale": [
             [
              0,
              "#0d0887"
             ],
             [
              0.1111111111111111,
              "#46039f"
             ],
             [
              0.2222222222222222,
              "#7201a8"
             ],
             [
              0.3333333333333333,
              "#9c179e"
             ],
             [
              0.4444444444444444,
              "#bd3786"
             ],
             [
              0.5555555555555556,
              "#d8576b"
             ],
             [
              0.6666666666666666,
              "#ed7953"
             ],
             [
              0.7777777777777778,
              "#fb9f3a"
             ],
             [
              0.8888888888888888,
              "#fdca26"
             ],
             [
              1,
              "#f0f921"
             ]
            ],
            "type": "contour"
           }
          ],
          "contourcarpet": [
           {
            "colorbar": {
             "outlinewidth": 0,
             "ticks": ""
            },
            "type": "contourcarpet"
           }
          ],
          "heatmap": [
           {
            "colorbar": {
             "outlinewidth": 0,
             "ticks": ""
            },
            "colorscale": [
             [
              0,
              "#0d0887"
             ],
             [
              0.1111111111111111,
              "#46039f"
             ],
             [
              0.2222222222222222,
              "#7201a8"
             ],
             [
              0.3333333333333333,
              "#9c179e"
             ],
             [
              0.4444444444444444,
              "#bd3786"
             ],
             [
              0.5555555555555556,
              "#d8576b"
             ],
             [
              0.6666666666666666,
              "#ed7953"
             ],
             [
              0.7777777777777778,
              "#fb9f3a"
             ],
             [
              0.8888888888888888,
              "#fdca26"
             ],
             [
              1,
              "#f0f921"
             ]
            ],
            "type": "heatmap"
           }
          ],
          "heatmapgl": [
           {
            "colorbar": {
             "outlinewidth": 0,
             "ticks": ""
            },
            "colorscale": [
             [
              0,
              "#0d0887"
             ],
             [
              0.1111111111111111,
              "#46039f"
             ],
             [
              0.2222222222222222,
              "#7201a8"
             ],
             [
              0.3333333333333333,
              "#9c179e"
             ],
             [
              0.4444444444444444,
              "#bd3786"
             ],
             [
              0.5555555555555556,
              "#d8576b"
             ],
             [
              0.6666666666666666,
              "#ed7953"
             ],
             [
              0.7777777777777778,
              "#fb9f3a"
             ],
             [
              0.8888888888888888,
              "#fdca26"
             ],
             [
              1,
              "#f0f921"
             ]
            ],
            "type": "heatmapgl"
           }
          ],
          "histogram": [
           {
            "marker": {
             "pattern": {
              "fillmode": "overlay",
              "size": 10,
              "solidity": 0.2
             }
            },
            "type": "histogram"
           }
          ],
          "histogram2d": [
           {
            "colorbar": {
             "outlinewidth": 0,
             "ticks": ""
            },
            "colorscale": [
             [
              0,
              "#0d0887"
             ],
             [
              0.1111111111111111,
              "#46039f"
             ],
             [
              0.2222222222222222,
              "#7201a8"
             ],
             [
              0.3333333333333333,
              "#9c179e"
             ],
             [
              0.4444444444444444,
              "#bd3786"
             ],
             [
              0.5555555555555556,
              "#d8576b"
             ],
             [
              0.6666666666666666,
              "#ed7953"
             ],
             [
              0.7777777777777778,
              "#fb9f3a"
             ],
             [
              0.8888888888888888,
              "#fdca26"
             ],
             [
              1,
              "#f0f921"
             ]
            ],
            "type": "histogram2d"
           }
          ],
          "histogram2dcontour": [
           {
            "colorbar": {
             "outlinewidth": 0,
             "ticks": ""
            },
            "colorscale": [
             [
              0,
              "#0d0887"
             ],
             [
              0.1111111111111111,
              "#46039f"
             ],
             [
              0.2222222222222222,
              "#7201a8"
             ],
             [
              0.3333333333333333,
              "#9c179e"
             ],
             [
              0.4444444444444444,
              "#bd3786"
             ],
             [
              0.5555555555555556,
              "#d8576b"
             ],
             [
              0.6666666666666666,
              "#ed7953"
             ],
             [
              0.7777777777777778,
              "#fb9f3a"
             ],
             [
              0.8888888888888888,
              "#fdca26"
             ],
             [
              1,
              "#f0f921"
             ]
            ],
            "type": "histogram2dcontour"
           }
          ],
          "mesh3d": [
           {
            "colorbar": {
             "outlinewidth": 0,
             "ticks": ""
            },
            "type": "mesh3d"
           }
          ],
          "parcoords": [
           {
            "line": {
             "colorbar": {
              "outlinewidth": 0,
              "ticks": ""
             }
            },
            "type": "parcoords"
           }
          ],
          "pie": [
           {
            "automargin": true,
            "type": "pie"
           }
          ],
          "scatter": [
           {
            "fillpattern": {
             "fillmode": "overlay",
             "size": 10,
             "solidity": 0.2
            },
            "type": "scatter"
           }
          ],
          "scatter3d": [
           {
            "line": {
             "colorbar": {
              "outlinewidth": 0,
              "ticks": ""
             }
            },
            "marker": {
             "colorbar": {
              "outlinewidth": 0,
              "ticks": ""
             }
            },
            "type": "scatter3d"
           }
          ],
          "scattercarpet": [
           {
            "marker": {
             "colorbar": {
              "outlinewidth": 0,
              "ticks": ""
             }
            },
            "type": "scattercarpet"
           }
          ],
          "scattergeo": [
           {
            "marker": {
             "colorbar": {
              "outlinewidth": 0,
              "ticks": ""
             }
            },
            "type": "scattergeo"
           }
          ],
          "scattergl": [
           {
            "marker": {
             "colorbar": {
              "outlinewidth": 0,
              "ticks": ""
             }
            },
            "type": "scattergl"
           }
          ],
          "scattermapbox": [
           {
            "marker": {
             "colorbar": {
              "outlinewidth": 0,
              "ticks": ""
             }
            },
            "type": "scattermapbox"
           }
          ],
          "scatterpolar": [
           {
            "marker": {
             "colorbar": {
              "outlinewidth": 0,
              "ticks": ""
             }
            },
            "type": "scatterpolar"
           }
          ],
          "scatterpolargl": [
           {
            "marker": {
             "colorbar": {
              "outlinewidth": 0,
              "ticks": ""
             }
            },
            "type": "scatterpolargl"
           }
          ],
          "scatterternary": [
           {
            "marker": {
             "colorbar": {
              "outlinewidth": 0,
              "ticks": ""
             }
            },
            "type": "scatterternary"
           }
          ],
          "surface": [
           {
            "colorbar": {
             "outlinewidth": 0,
             "ticks": ""
            },
            "colorscale": [
             [
              0,
              "#0d0887"
             ],
             [
              0.1111111111111111,
              "#46039f"
             ],
             [
              0.2222222222222222,
              "#7201a8"
             ],
             [
              0.3333333333333333,
              "#9c179e"
             ],
             [
              0.4444444444444444,
              "#bd3786"
             ],
             [
              0.5555555555555556,
              "#d8576b"
             ],
             [
              0.6666666666666666,
              "#ed7953"
             ],
             [
              0.7777777777777778,
              "#fb9f3a"
             ],
             [
              0.8888888888888888,
              "#fdca26"
             ],
             [
              1,
              "#f0f921"
             ]
            ],
            "type": "surface"
           }
          ],
          "table": [
           {
            "cells": {
             "fill": {
              "color": "#EBF0F8"
             },
             "line": {
              "color": "white"
             }
            },
            "header": {
             "fill": {
              "color": "#C8D4E3"
             },
             "line": {
              "color": "white"
             }
            },
            "type": "table"
           }
          ]
         },
         "layout": {
          "annotationdefaults": {
           "arrowcolor": "#2a3f5f",
           "arrowhead": 0,
           "arrowwidth": 1
          },
          "autotypenumbers": "strict",
          "coloraxis": {
           "colorbar": {
            "outlinewidth": 0,
            "ticks": ""
           }
          },
          "colorscale": {
           "diverging": [
            [
             0,
             "#8e0152"
            ],
            [
             0.1,
             "#c51b7d"
            ],
            [
             0.2,
             "#de77ae"
            ],
            [
             0.3,
             "#f1b6da"
            ],
            [
             0.4,
             "#fde0ef"
            ],
            [
             0.5,
             "#f7f7f7"
            ],
            [
             0.6,
             "#e6f5d0"
            ],
            [
             0.7,
             "#b8e186"
            ],
            [
             0.8,
             "#7fbc41"
            ],
            [
             0.9,
             "#4d9221"
            ],
            [
             1,
             "#276419"
            ]
           ],
           "sequential": [
            [
             0,
             "#0d0887"
            ],
            [
             0.1111111111111111,
             "#46039f"
            ],
            [
             0.2222222222222222,
             "#7201a8"
            ],
            [
             0.3333333333333333,
             "#9c179e"
            ],
            [
             0.4444444444444444,
             "#bd3786"
            ],
            [
             0.5555555555555556,
             "#d8576b"
            ],
            [
             0.6666666666666666,
             "#ed7953"
            ],
            [
             0.7777777777777778,
             "#fb9f3a"
            ],
            [
             0.8888888888888888,
             "#fdca26"
            ],
            [
             1,
             "#f0f921"
            ]
           ],
           "sequentialminus": [
            [
             0,
             "#0d0887"
            ],
            [
             0.1111111111111111,
             "#46039f"
            ],
            [
             0.2222222222222222,
             "#7201a8"
            ],
            [
             0.3333333333333333,
             "#9c179e"
            ],
            [
             0.4444444444444444,
             "#bd3786"
            ],
            [
             0.5555555555555556,
             "#d8576b"
            ],
            [
             0.6666666666666666,
             "#ed7953"
            ],
            [
             0.7777777777777778,
             "#fb9f3a"
            ],
            [
             0.8888888888888888,
             "#fdca26"
            ],
            [
             1,
             "#f0f921"
            ]
           ]
          },
          "colorway": [
           "#636efa",
           "#EF553B",
           "#00cc96",
           "#ab63fa",
           "#FFA15A",
           "#19d3f3",
           "#FF6692",
           "#B6E880",
           "#FF97FF",
           "#FECB52"
          ],
          "font": {
           "color": "#2a3f5f"
          },
          "geo": {
           "bgcolor": "white",
           "lakecolor": "white",
           "landcolor": "#E5ECF6",
           "showlakes": true,
           "showland": true,
           "subunitcolor": "white"
          },
          "hoverlabel": {
           "align": "left"
          },
          "hovermode": "closest",
          "mapbox": {
           "style": "light"
          },
          "paper_bgcolor": "white",
          "plot_bgcolor": "#E5ECF6",
          "polar": {
           "angularaxis": {
            "gridcolor": "white",
            "linecolor": "white",
            "ticks": ""
           },
           "bgcolor": "#E5ECF6",
           "radialaxis": {
            "gridcolor": "white",
            "linecolor": "white",
            "ticks": ""
           }
          },
          "scene": {
           "xaxis": {
            "backgroundcolor": "#E5ECF6",
            "gridcolor": "white",
            "gridwidth": 2,
            "linecolor": "white",
            "showbackground": true,
            "ticks": "",
            "zerolinecolor": "white"
           },
           "yaxis": {
            "backgroundcolor": "#E5ECF6",
            "gridcolor": "white",
            "gridwidth": 2,
            "linecolor": "white",
            "showbackground": true,
            "ticks": "",
            "zerolinecolor": "white"
           },
           "zaxis": {
            "backgroundcolor": "#E5ECF6",
            "gridcolor": "white",
            "gridwidth": 2,
            "linecolor": "white",
            "showbackground": true,
            "ticks": "",
            "zerolinecolor": "white"
           }
          },
          "shapedefaults": {
           "line": {
            "color": "#2a3f5f"
           }
          },
          "ternary": {
           "aaxis": {
            "gridcolor": "white",
            "linecolor": "white",
            "ticks": ""
           },
           "baxis": {
            "gridcolor": "white",
            "linecolor": "white",
            "ticks": ""
           },
           "bgcolor": "#E5ECF6",
           "caxis": {
            "gridcolor": "white",
            "linecolor": "white",
            "ticks": ""
           }
          },
          "title": {
           "x": 0.05
          },
          "xaxis": {
           "automargin": true,
           "gridcolor": "white",
           "linecolor": "white",
           "ticks": "",
           "title": {
            "standoff": 15
           },
           "zerolinecolor": "white",
           "zerolinewidth": 2
          },
          "yaxis": {
           "automargin": true,
           "gridcolor": "white",
           "linecolor": "white",
           "ticks": "",
           "title": {
            "standoff": 15
           },
           "zerolinecolor": "white",
           "zerolinewidth": 2
          }
         }
        }
       }
      },
      "text/html": [
       "<div>                            <div id=\"d77ae009-56af-499d-805b-f7aa92098bc1\" class=\"plotly-graph-div\" style=\"height:525px; width:100%;\"></div>            <script type=\"text/javascript\">                require([\"plotly\"], function(Plotly) {                    window.PLOTLYENV=window.PLOTLYENV || {};                                    if (document.getElementById(\"d77ae009-56af-499d-805b-f7aa92098bc1\")) {                    Plotly.newPlot(                        \"d77ae009-56af-499d-805b-f7aa92098bc1\",                        [{\"line\":{\"color\":\"orange\"},\"name\":\"Pre\\u00e7o fechamento\",\"x\":[0,1,2,3,4,5,6,7,8,9,10,11,12,13,14,15,16,17,18,19,20,21,22,23,24,25,26,27,28],\"y\":[21.671972274780273,21.36046600341797,21.814376831054688,22.83789825439453,23.007001876831055,23.167205810546875,23.40751075744629,23.772417068481445,24.37763214111328,23.59441566467285,23.754619598388672,24.208528518676758,24.110626220703125,23.808019638061523,23.229507446289062,23.700000762939453,22.739999771118164,22.65999984741211,23.020000457763672,24.0,24.510000228881836,24.59000015258789,24.530000686645508,25.43000030517578,26.25,25.65999984741211,26.299999237060547,25.65999984741211,25.809999465942383],\"type\":\"scatter\"},{\"marker\":{\"color\":\"green\",\"size\":10},\"mode\":\"markers\",\"name\":\"Compra\",\"x\":[0,1,2,3,4,5,6,7,8,9,10,11,12,13,14,15,16,17,18,19,20,21,22,23,24,25,26,27,28],\"y\":[null,null,21.814376831054688,null,null,null,null,null,null,null,null,null,null,null,null,null,null,null,null,null,24.510000228881836,null,null,null,null,null,null,null,null],\"type\":\"scatter\"},{\"marker\":{\"color\":\"red\",\"size\":10},\"mode\":\"markers\",\"name\":\"Venda\",\"x\":[0,1,2,3,4,5,6,7,8,9,10,11,12,13,14,15,16,17,18,19,20,21,22,23,24,25,26,27,28],\"y\":[null,21.36046600341797,null,null,null,null,null,null,null,null,null,null,null,null,23.229507446289062,null,null,null,null,null,null,null,null,null,null,null,null,null,null],\"type\":\"scatter\"}],                        {\"template\":{\"data\":{\"histogram2dcontour\":[{\"type\":\"histogram2dcontour\",\"colorbar\":{\"outlinewidth\":0,\"ticks\":\"\"},\"colorscale\":[[0.0,\"#0d0887\"],[0.1111111111111111,\"#46039f\"],[0.2222222222222222,\"#7201a8\"],[0.3333333333333333,\"#9c179e\"],[0.4444444444444444,\"#bd3786\"],[0.5555555555555556,\"#d8576b\"],[0.6666666666666666,\"#ed7953\"],[0.7777777777777778,\"#fb9f3a\"],[0.8888888888888888,\"#fdca26\"],[1.0,\"#f0f921\"]]}],\"choropleth\":[{\"type\":\"choropleth\",\"colorbar\":{\"outlinewidth\":0,\"ticks\":\"\"}}],\"histogram2d\":[{\"type\":\"histogram2d\",\"colorbar\":{\"outlinewidth\":0,\"ticks\":\"\"},\"colorscale\":[[0.0,\"#0d0887\"],[0.1111111111111111,\"#46039f\"],[0.2222222222222222,\"#7201a8\"],[0.3333333333333333,\"#9c179e\"],[0.4444444444444444,\"#bd3786\"],[0.5555555555555556,\"#d8576b\"],[0.6666666666666666,\"#ed7953\"],[0.7777777777777778,\"#fb9f3a\"],[0.8888888888888888,\"#fdca26\"],[1.0,\"#f0f921\"]]}],\"heatmap\":[{\"type\":\"heatmap\",\"colorbar\":{\"outlinewidth\":0,\"ticks\":\"\"},\"colorscale\":[[0.0,\"#0d0887\"],[0.1111111111111111,\"#46039f\"],[0.2222222222222222,\"#7201a8\"],[0.3333333333333333,\"#9c179e\"],[0.4444444444444444,\"#bd3786\"],[0.5555555555555556,\"#d8576b\"],[0.6666666666666666,\"#ed7953\"],[0.7777777777777778,\"#fb9f3a\"],[0.8888888888888888,\"#fdca26\"],[1.0,\"#f0f921\"]]}],\"heatmapgl\":[{\"type\":\"heatmapgl\",\"colorbar\":{\"outlinewidth\":0,\"ticks\":\"\"},\"colorscale\":[[0.0,\"#0d0887\"],[0.1111111111111111,\"#46039f\"],[0.2222222222222222,\"#7201a8\"],[0.3333333333333333,\"#9c179e\"],[0.4444444444444444,\"#bd3786\"],[0.5555555555555556,\"#d8576b\"],[0.6666666666666666,\"#ed7953\"],[0.7777777777777778,\"#fb9f3a\"],[0.8888888888888888,\"#fdca26\"],[1.0,\"#f0f921\"]]}],\"contourcarpet\":[{\"type\":\"contourcarpet\",\"colorbar\":{\"outlinewidth\":0,\"ticks\":\"\"}}],\"contour\":[{\"type\":\"contour\",\"colorbar\":{\"outlinewidth\":0,\"ticks\":\"\"},\"colorscale\":[[0.0,\"#0d0887\"],[0.1111111111111111,\"#46039f\"],[0.2222222222222222,\"#7201a8\"],[0.3333333333333333,\"#9c179e\"],[0.4444444444444444,\"#bd3786\"],[0.5555555555555556,\"#d8576b\"],[0.6666666666666666,\"#ed7953\"],[0.7777777777777778,\"#fb9f3a\"],[0.8888888888888888,\"#fdca26\"],[1.0,\"#f0f921\"]]}],\"surface\":[{\"type\":\"surface\",\"colorbar\":{\"outlinewidth\":0,\"ticks\":\"\"},\"colorscale\":[[0.0,\"#0d0887\"],[0.1111111111111111,\"#46039f\"],[0.2222222222222222,\"#7201a8\"],[0.3333333333333333,\"#9c179e\"],[0.4444444444444444,\"#bd3786\"],[0.5555555555555556,\"#d8576b\"],[0.6666666666666666,\"#ed7953\"],[0.7777777777777778,\"#fb9f3a\"],[0.8888888888888888,\"#fdca26\"],[1.0,\"#f0f921\"]]}],\"mesh3d\":[{\"type\":\"mesh3d\",\"colorbar\":{\"outlinewidth\":0,\"ticks\":\"\"}}],\"scatter\":[{\"fillpattern\":{\"fillmode\":\"overlay\",\"size\":10,\"solidity\":0.2},\"type\":\"scatter\"}],\"parcoords\":[{\"type\":\"parcoords\",\"line\":{\"colorbar\":{\"outlinewidth\":0,\"ticks\":\"\"}}}],\"scatterpolargl\":[{\"type\":\"scatterpolargl\",\"marker\":{\"colorbar\":{\"outlinewidth\":0,\"ticks\":\"\"}}}],\"bar\":[{\"error_x\":{\"color\":\"#2a3f5f\"},\"error_y\":{\"color\":\"#2a3f5f\"},\"marker\":{\"line\":{\"color\":\"#E5ECF6\",\"width\":0.5},\"pattern\":{\"fillmode\":\"overlay\",\"size\":10,\"solidity\":0.2}},\"type\":\"bar\"}],\"scattergeo\":[{\"type\":\"scattergeo\",\"marker\":{\"colorbar\":{\"outlinewidth\":0,\"ticks\":\"\"}}}],\"scatterpolar\":[{\"type\":\"scatterpolar\",\"marker\":{\"colorbar\":{\"outlinewidth\":0,\"ticks\":\"\"}}}],\"histogram\":[{\"marker\":{\"pattern\":{\"fillmode\":\"overlay\",\"size\":10,\"solidity\":0.2}},\"type\":\"histogram\"}],\"scattergl\":[{\"type\":\"scattergl\",\"marker\":{\"colorbar\":{\"outlinewidth\":0,\"ticks\":\"\"}}}],\"scatter3d\":[{\"type\":\"scatter3d\",\"line\":{\"colorbar\":{\"outlinewidth\":0,\"ticks\":\"\"}},\"marker\":{\"colorbar\":{\"outlinewidth\":0,\"ticks\":\"\"}}}],\"scattermapbox\":[{\"type\":\"scattermapbox\",\"marker\":{\"colorbar\":{\"outlinewidth\":0,\"ticks\":\"\"}}}],\"scatterternary\":[{\"type\":\"scatterternary\",\"marker\":{\"colorbar\":{\"outlinewidth\":0,\"ticks\":\"\"}}}],\"scattercarpet\":[{\"type\":\"scattercarpet\",\"marker\":{\"colorbar\":{\"outlinewidth\":0,\"ticks\":\"\"}}}],\"carpet\":[{\"aaxis\":{\"endlinecolor\":\"#2a3f5f\",\"gridcolor\":\"white\",\"linecolor\":\"white\",\"minorgridcolor\":\"white\",\"startlinecolor\":\"#2a3f5f\"},\"baxis\":{\"endlinecolor\":\"#2a3f5f\",\"gridcolor\":\"white\",\"linecolor\":\"white\",\"minorgridcolor\":\"white\",\"startlinecolor\":\"#2a3f5f\"},\"type\":\"carpet\"}],\"table\":[{\"cells\":{\"fill\":{\"color\":\"#EBF0F8\"},\"line\":{\"color\":\"white\"}},\"header\":{\"fill\":{\"color\":\"#C8D4E3\"},\"line\":{\"color\":\"white\"}},\"type\":\"table\"}],\"barpolar\":[{\"marker\":{\"line\":{\"color\":\"#E5ECF6\",\"width\":0.5},\"pattern\":{\"fillmode\":\"overlay\",\"size\":10,\"solidity\":0.2}},\"type\":\"barpolar\"}],\"pie\":[{\"automargin\":true,\"type\":\"pie\"}]},\"layout\":{\"autotypenumbers\":\"strict\",\"colorway\":[\"#636efa\",\"#EF553B\",\"#00cc96\",\"#ab63fa\",\"#FFA15A\",\"#19d3f3\",\"#FF6692\",\"#B6E880\",\"#FF97FF\",\"#FECB52\"],\"font\":{\"color\":\"#2a3f5f\"},\"hovermode\":\"closest\",\"hoverlabel\":{\"align\":\"left\"},\"paper_bgcolor\":\"white\",\"plot_bgcolor\":\"#E5ECF6\",\"polar\":{\"bgcolor\":\"#E5ECF6\",\"angularaxis\":{\"gridcolor\":\"white\",\"linecolor\":\"white\",\"ticks\":\"\"},\"radialaxis\":{\"gridcolor\":\"white\",\"linecolor\":\"white\",\"ticks\":\"\"}},\"ternary\":{\"bgcolor\":\"#E5ECF6\",\"aaxis\":{\"gridcolor\":\"white\",\"linecolor\":\"white\",\"ticks\":\"\"},\"baxis\":{\"gridcolor\":\"white\",\"linecolor\":\"white\",\"ticks\":\"\"},\"caxis\":{\"gridcolor\":\"white\",\"linecolor\":\"white\",\"ticks\":\"\"}},\"coloraxis\":{\"colorbar\":{\"outlinewidth\":0,\"ticks\":\"\"}},\"colorscale\":{\"sequential\":[[0.0,\"#0d0887\"],[0.1111111111111111,\"#46039f\"],[0.2222222222222222,\"#7201a8\"],[0.3333333333333333,\"#9c179e\"],[0.4444444444444444,\"#bd3786\"],[0.5555555555555556,\"#d8576b\"],[0.6666666666666666,\"#ed7953\"],[0.7777777777777778,\"#fb9f3a\"],[0.8888888888888888,\"#fdca26\"],[1.0,\"#f0f921\"]],\"sequentialminus\":[[0.0,\"#0d0887\"],[0.1111111111111111,\"#46039f\"],[0.2222222222222222,\"#7201a8\"],[0.3333333333333333,\"#9c179e\"],[0.4444444444444444,\"#bd3786\"],[0.5555555555555556,\"#d8576b\"],[0.6666666666666666,\"#ed7953\"],[0.7777777777777778,\"#fb9f3a\"],[0.8888888888888888,\"#fdca26\"],[1.0,\"#f0f921\"]],\"diverging\":[[0,\"#8e0152\"],[0.1,\"#c51b7d\"],[0.2,\"#de77ae\"],[0.3,\"#f1b6da\"],[0.4,\"#fde0ef\"],[0.5,\"#f7f7f7\"],[0.6,\"#e6f5d0\"],[0.7,\"#b8e186\"],[0.8,\"#7fbc41\"],[0.9,\"#4d9221\"],[1,\"#276419\"]]},\"xaxis\":{\"gridcolor\":\"white\",\"linecolor\":\"white\",\"ticks\":\"\",\"title\":{\"standoff\":15},\"zerolinecolor\":\"white\",\"automargin\":true,\"zerolinewidth\":2},\"yaxis\":{\"gridcolor\":\"white\",\"linecolor\":\"white\",\"ticks\":\"\",\"title\":{\"standoff\":15},\"zerolinecolor\":\"white\",\"automargin\":true,\"zerolinewidth\":2},\"scene\":{\"xaxis\":{\"backgroundcolor\":\"#E5ECF6\",\"gridcolor\":\"white\",\"linecolor\":\"white\",\"showbackground\":true,\"ticks\":\"\",\"zerolinecolor\":\"white\",\"gridwidth\":2},\"yaxis\":{\"backgroundcolor\":\"#E5ECF6\",\"gridcolor\":\"white\",\"linecolor\":\"white\",\"showbackground\":true,\"ticks\":\"\",\"zerolinecolor\":\"white\",\"gridwidth\":2},\"zaxis\":{\"backgroundcolor\":\"#E5ECF6\",\"gridcolor\":\"white\",\"linecolor\":\"white\",\"showbackground\":true,\"ticks\":\"\",\"zerolinecolor\":\"white\",\"gridwidth\":2}},\"shapedefaults\":{\"line\":{\"color\":\"#2a3f5f\"}},\"annotationdefaults\":{\"arrowcolor\":\"#2a3f5f\",\"arrowhead\":0,\"arrowwidth\":1},\"geo\":{\"bgcolor\":\"white\",\"landcolor\":\"#E5ECF6\",\"subunitcolor\":\"white\",\"showland\":true,\"showlakes\":true,\"lakecolor\":\"white\"},\"title\":{\"x\":0.05},\"mapbox\":{\"style\":\"light\"}}}},                        {\"responsive\": true}                    ).then(function(){\n",
       "                            \n",
       "var gd = document.getElementById('d77ae009-56af-499d-805b-f7aa92098bc1');\n",
       "var x = new MutationObserver(function (mutations, observer) {{\n",
       "        var display = window.getComputedStyle(gd).display;\n",
       "        if (!display || display === 'none') {{\n",
       "            console.log([gd, 'removed!']);\n",
       "            Plotly.purge(gd);\n",
       "            observer.disconnect();\n",
       "        }}\n",
       "}});\n",
       "\n",
       "// Listen for the removal of the full notebook cells\n",
       "var notebookContainer = gd.closest('#notebook-container');\n",
       "if (notebookContainer) {{\n",
       "    x.observe(notebookContainer, {childList: true});\n",
       "}}\n",
       "\n",
       "// Listen for the clearing of the current output cell\n",
       "var outputEl = gd.closest('.output');\n",
       "if (outputEl) {{\n",
       "    x.observe(outputEl, {childList: true});\n",
       "}}\n",
       "\n",
       "                        })                };                });            </script>        </div>"
      ]
     },
     "metadata": {},
     "output_type": "display_data"
    }
   ],
   "source": [
    "df_plot = df_ticker\n",
    "\n",
    "fig = go.Figure()\n",
    "\n",
    "fig.add_trace(go.Scatter(x=df_plot.index,\n",
    "                         y=df_plot['Close'],\n",
    "                         name=\"Preço fechamento\",\n",
    "                         line_color='orange'\n",
    "                         ))\n",
    "\n",
    "fig.add_trace(go.Scatter(x=df_plot.index,\n",
    "                         y=df_plot['preco_compra'],\n",
    "                         name=\"Compra\",\n",
    "                         mode='markers',\n",
    "                         marker=  dict(\n",
    "                            color='green',\n",
    "                            size=10,\n",
    "                            )\n",
    "                         ))\n",
    "\n",
    "fig.add_trace(go.Scatter(x=df_plot.index,\n",
    "                         y=df_plot['preco_venda'],\n",
    "                         name=\"Venda\",\n",
    "                         mode='markers',\n",
    "                         marker=  dict(\n",
    "                            color='red',\n",
    "                            size=10,\n",
    "                            )\n",
    "                         ))\n",
    "\n",
    "fig.show()"
   ]
  },
  {
   "cell_type": "code",
   "execution_count": null,
   "metadata": {
    "id": "bdqws_FoOR9S"
   },
   "outputs": [],
   "source": []
  }
 ],
 "metadata": {
  "colab": {
   "include_colab_link": true,
   "private_outputs": true,
   "provenance": []
  },
  "hide_input": false,
  "kernelspec": {
   "display_name": "Python 3 (ipykernel)",
   "language": "python",
   "name": "python3"
  },
  "language_info": {
   "codemirror_mode": {
    "name": "ipython",
    "version": 3
   },
   "file_extension": ".py",
   "mimetype": "text/x-python",
   "name": "python",
   "nbconvert_exporter": "python",
   "pygments_lexer": "ipython3",
   "version": "3.9.10"
  }
 },
 "nbformat": 4,
 "nbformat_minor": 1
}
