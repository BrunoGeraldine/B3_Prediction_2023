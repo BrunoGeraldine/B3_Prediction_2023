{
  "nbformat": 4,
  "nbformat_minor": 0,
  "metadata": {
    "colab": {
      "private_outputs": true,
      "provenance": [],
      "authorship_tag": "ABX9TyNoFuf/zObGKymk49ZHUb7u",
      "include_colab_link": true
    },
    "kernelspec": {
      "name": "python3",
      "display_name": "Python 3"
    },
    "language_info": {
      "name": "python"
    }
  },
  "cells": [
    {
      "cell_type": "markdown",
      "metadata": {
        "id": "view-in-github",
        "colab_type": "text"
      },
      "source": [
        "<a href=\"https://colab.research.google.com/github/BrunoGeraldine/B3_Prediction_2023/blob/main/B3_ETL_Files.ipynb\" target=\"_parent\"><img src=\"https://colab.research.google.com/assets/colab-badge.svg\" alt=\"Open In Colab\"/></a>"
      ]
    },
    {
      "cell_type": "markdown",
      "source": [
        "# B3_Prediction_2023 → ETL"
      ],
      "metadata": {
        "id": "8vAZVsZuOLq2"
      }
    },
    {
      "cell_type": "code",
      "execution_count": null,
      "metadata": {
        "id": "R390JulVOCXb"
      },
      "outputs": [],
      "source": [
        "# Importando as bibliotecas\n",
        "\n",
        "import pandas as pd\n"
      ]
    },
    {
      "cell_type": "code",
      "source": [
        "#Utilizando metodo read_fwf para ler arquivos do tipo posicionais\n",
        "\n",
        "#Criando lista para asc olunas com a posição de cada coluna\n",
        "colspecs = [(2,10), (10,12), (12,24), (27,39),\n",
        "            (56,69), (69,82), (82,95), (108,121),\n",
        "            (152,170), (170,188)\n",
        "]\n",
        "\n",
        "names = ['data_pregao', 'cod_bdi', 'sigla_acao', 'nome_acao',\n",
        "         'preco_abert', 'preco_max', 'preco_min', 'preco_fech',\n",
        "         'qtd_negocios', 'vol_negocios']\n",
        "\n",
        "df = pd.read_fwf('/content/COTAHIST_A2019.TXT', colspecs=colspecs, names=names, skiprows=1)\n",
        "\n",
        "df"
      ],
      "metadata": {
        "id": "iaYMJl44OH1_"
      },
      "execution_count": null,
      "outputs": []
    },
    {
      "cell_type": "code",
      "source": [
        "# Filtrar pelo lote padrão que é o 2\n",
        "df = df[df['cod_bdi'] == 2] \n",
        "\n",
        "# Filtragem feita, vou excluir o campo bdi, pois já não é mais necessario\n",
        "df = df.drop(['cod_bdi'], 1)\n",
        "\n",
        "df"
      ],
      "metadata": {
        "id": "f-UG7HyJOH4a"
      },
      "execution_count": null,
      "outputs": []
    },
    {
      "cell_type": "code",
      "source": [
        "# Ajuste campo de datas\n",
        "df['data_pregao'] = pd.to_datetime(df['data_pregao'], format ='%Y%m%d')\n"
      ],
      "metadata": {
        "id": "tXLQV1J7OH6q"
      },
      "execution_count": null,
      "outputs": []
    },
    {
      "cell_type": "code",
      "source": [
        "# Ajuste valores numéricos\n",
        "\n",
        "df['preco_abert'] = (df['preco_abert']  /100).astype(float)\n",
        "df['preco_max'] = (df['preco_max']  /100).astype(float)\n",
        "df['preco_min'] = (df['preco_min']  /100).astype(float)\n",
        "df['preco_fech'] = (df['preco_fech']  /100).astype(float) \n",
        "#divido por 100 para termos os preços com duas casas decimais e transformo em float"
      ],
      "metadata": {
        "id": "r3Fm8shgOH8x"
      },
      "execution_count": null,
      "outputs": []
    },
    {
      "cell_type": "code",
      "source": [
        "df.dtypes"
      ],
      "metadata": {
        "id": "Z_tWCfpzOIBc"
      },
      "execution_count": null,
      "outputs": []
    },
    {
      "cell_type": "code",
      "source": [],
      "metadata": {
        "id": "rGD3jecvXOw9"
      },
      "execution_count": null,
      "outputs": []
    }
  ]
}